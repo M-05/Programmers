{
  "nbformat": 4,
  "nbformat_minor": 0,
  "metadata": {
    "colab": {
      "provenance": []
    },
    "kernelspec": {
      "name": "python3",
      "display_name": "Python 3"
    },
    "language_info": {
      "name": "python"
    }
  },
  "cells": [
    {
      "cell_type": "markdown",
      "source": [
        "# [1924 2007년](https://www.acmicpc.net/problem/1924)\n",
        "\n",
        "오늘은 2007년 1월 1일 월요일이다.\n",
        "그렇다면 2007년 x월 y일은 무슨 요일일까? 이를 알아내는 프로그램을 작성하시오.\n",
        "\n",
        "첫째 줄에 빈 칸을 사이에 두고\n",
        "x(1 ≤ x ≤ 12)와 y(1 ≤ y ≤ 31)이 주어진다.  \n",
        "참고로 2007년에는 1, 3, 5, 7, 8, 10, 12월은 31일까지,  \n",
        "4, 6, 9, 11월은 30일까지,  \n",
        "2월은 28일까지 있다."
      ],
      "metadata": {
        "id": "q_pOPkOzMV2R"
      }
    },
    {
      "cell_type": "code",
      "source": [
        "from time import time\n",
        "import sys"
      ],
      "metadata": {
        "id": "k7-iNVMqLyKY"
      },
      "execution_count": 1,
      "outputs": []
    },
    {
      "cell_type": "code",
      "source": [
        "with open('bj.txt', 'w') as f:\n",
        "    print()"
      ],
      "metadata": {
        "colab": {
          "base_uri": "https://localhost:8080/"
        },
        "id": "fcYj7YCDMEiN",
        "outputId": "d76d2ae5-3bcc-4f78-845a-0f63189714f4"
      },
      "execution_count": 12,
      "outputs": [
        {
          "output_type": "stream",
          "name": "stdout",
          "text": [
            "\n"
          ]
        }
      ]
    },
    {
      "cell_type": "code",
      "source": [
        "sys.stdin = open('bj.txt', 'r')\n",
        "inputs = sys.stdin.readlines()\n",
        "data = inputs[0].split()\n",
        "\n",
        "x = data[0].strip()\n",
        "y = data[1].strip()\n",
        "\n",
        "x, y"
      ],
      "metadata": {
        "colab": {
          "base_uri": "https://localhost:8080/"
        },
        "id": "I2OhGKxqMkjW",
        "outputId": "2475cb3f-30c7-4fc9-ac2a-75987a1a309d"
      },
      "execution_count": 21,
      "outputs": [
        {
          "output_type": "execute_result",
          "data": {
            "text/plain": [
              "('3', '14')"
            ]
          },
          "metadata": {},
          "execution_count": 21
        }
      ]
    },
    {
      "cell_type": "code",
      "source": [
        "today = ['MON', 'TUE', 'WED', 'THU', 'FRI', 'SAT', 'SUN']\n",
        "\n",
        "odd = ['1', '3', '5', '7', '8', '10', '12']\n",
        "even = ['4', '6', '9', '11']\n",
        "extra = ['2']"
      ],
      "metadata": {
        "id": "5hCzyCF1NqZi"
      },
      "execution_count": 23,
      "outputs": []
    },
    {
      "cell_type": "code",
      "source": [
        "len(odd) + len(even) + len(extra)"
      ],
      "metadata": {
        "colab": {
          "base_uri": "https://localhost:8080/"
        },
        "id": "1rY9gzH2N8Z2",
        "outputId": "974d23e8-e6d1-46b0-9af7-02af92b41450"
      },
      "execution_count": 24,
      "outputs": [
        {
          "output_type": "execute_result",
          "data": {
            "text/plain": [
              "12"
            ]
          },
          "metadata": {},
          "execution_count": 24
        }
      ]
    },
    {
      "cell_type": "code",
      "source": [
        "31 + 28 + 14 # 73\n",
        "73 % 7 # 3\n",
        "today[3 -1]"
      ],
      "metadata": {
        "colab": {
          "base_uri": "https://localhost:8080/",
          "height": 35
        },
        "id": "5zQ8zbVkOedX",
        "outputId": "3adf3bb2-4d9a-46bd-c9ed-b5ff49fdc92b"
      },
      "execution_count": 31,
      "outputs": [
        {
          "output_type": "execute_result",
          "data": {
            "text/plain": [
              "'WED'"
            ],
            "application/vnd.google.colaboratory.intrinsic+json": {
              "type": "string"
            }
          },
          "metadata": {},
          "execution_count": 31
        }
      ]
    },
    {
      "cell_type": "code",
      "source": [
        "days = 0\n",
        "for i in range(1, 3):\n",
        "    if str(i) in odd:\n",
        "        days += 31\n",
        "    elif str(i) in even:\n",
        "        days += 30\n",
        "    else:\n",
        "        days += 28"
      ],
      "metadata": {
        "id": "ZF55y7RTOjhC"
      },
      "execution_count": 43,
      "outputs": []
    },
    {
      "cell_type": "code",
      "source": [
        "days # 59\n",
        "days + 14 # 73\n",
        "(days + 14) % 7 # 3\n",
        "today[(days + 14)%7 -1]"
      ],
      "metadata": {
        "colab": {
          "base_uri": "https://localhost:8080/",
          "height": 35
        },
        "id": "Vaas7Um9P2NW",
        "outputId": "95e377f3-fb00-4878-aa75-c4ba82cd39f9"
      },
      "execution_count": 44,
      "outputs": [
        {
          "output_type": "execute_result",
          "data": {
            "text/plain": [
              "'WED'"
            ],
            "application/vnd.google.colaboratory.intrinsic+json": {
              "type": "string"
            }
          },
          "metadata": {},
          "execution_count": 44
        }
      ]
    },
    {
      "cell_type": "code",
      "source": [
        "days = 0\n",
        "for i in range(1, 1):\n",
        "    if str(i) in odd:\n",
        "        days += 31\n",
        "    elif str(i) in even:\n",
        "        days += 30\n",
        "    else:\n",
        "        days += 28"
      ],
      "metadata": {
        "id": "3NX2mC84PhEq"
      },
      "execution_count": 38,
      "outputs": []
    },
    {
      "cell_type": "code",
      "source": [
        "# (days + 1) % 7 # 1\n",
        "today[0-1]"
      ],
      "metadata": {
        "colab": {
          "base_uri": "https://localhost:8080/",
          "height": 35
        },
        "id": "wYrNBn74Pnnm",
        "outputId": "6e5a0610-9ec6-491b-c566-de7f0d67f94f"
      },
      "execution_count": 41,
      "outputs": [
        {
          "output_type": "execute_result",
          "data": {
            "text/plain": [
              "'SUN'"
            ],
            "application/vnd.google.colaboratory.intrinsic+json": {
              "type": "string"
            }
          },
          "metadata": {},
          "execution_count": 41
        }
      ]
    },
    {
      "cell_type": "code",
      "source": [
        "################\n",
        "# 31,120kb, 44ms\n",
        "################\n",
        "\n",
        "import sys\n",
        "# sys.stdin = open('bj.txt', 'r')\n",
        "inputs = sys.stdin.readlines()\n",
        "data = inputs[0].split()\n",
        "\n",
        "x = data[0].strip()\n",
        "y = data[1].strip()\n",
        "\n",
        "today = ['MON', 'TUE', 'WED', 'THU', 'FRI', 'SAT', 'SUN']\n",
        "odd = ['1', '3', '5', '7', '8', '10', '12']\n",
        "even = ['4', '6', '9', '11']\n",
        "\n",
        "days = 0\n",
        "for i in range(1, int(x)):\n",
        "    if str(i) in odd:\n",
        "        days += 31\n",
        "    elif str(i) in even:\n",
        "        days += 30\n",
        "    else:\n",
        "        days += 28\n",
        "\n",
        "print(today[(days + int(y))%7 -1])"
      ],
      "metadata": {
        "colab": {
          "base_uri": "https://localhost:8080/"
        },
        "id": "iG-VkZOqRJE5",
        "outputId": "e655d509-854f-4ad1-89e4-083f1c8f7063"
      },
      "execution_count": 48,
      "outputs": [
        {
          "output_type": "stream",
          "name": "stdout",
          "text": [
            "WED\n"
          ]
        }
      ]
    },
    {
      "cell_type": "code",
      "source": [
        "################\n",
        "# 31,120kb, 40ms\n",
        "################\n",
        "\n",
        "import sys\n",
        "\n",
        "data = sys.stdin.readlines()[0].split()\n",
        "\n",
        "x = data[0].strip()\n",
        "y = data[1].strip()\n",
        "\n",
        "today = ['MON', 'TUE', 'WED', 'THU', 'FRI', 'SAT', 'SUN']\n",
        "odd = ['1', '3', '5', '7', '8', '10', '12']\n",
        "even = ['2']\n",
        "\n",
        "days = 0\n",
        "for i in range(1, int(x)):\n",
        "    if str(i) in odd:\n",
        "        days += 31\n",
        "    elif str(i) in even:\n",
        "        days += 28\n",
        "    else:\n",
        "        days += 30\n",
        "\n",
        "print(today[(days + int(y))%7 -1])"
      ],
      "metadata": {
        "id": "tbPx91KGSQQr"
      },
      "execution_count": null,
      "outputs": []
    },
    {
      "cell_type": "markdown",
      "source": [
        "---\n",
        "---\n",
        "---"
      ],
      "metadata": {
        "id": "82rz9XTTVWwr"
      }
    },
    {
      "cell_type": "code",
      "source": [
        "month, day = map(int, input().split())\n",
        "\n",
        "month_list = [0, 31, 28, 31, 30, 31, 30, 31, 31, 30, 31, 30, 31]\n",
        "day_list = [\"SUN\", \"MON\", \"TUE\", \"WED\", \"THU\", \"FRI\", \"SAT\"]\n",
        "\n",
        "sum = 0\n",
        "\n",
        "for i in range(month):\n",
        "    sum = sum + month_list[i]\n",
        "sum = sum + day\n",
        "\n",
        "print(day_list[sum % 7])"
      ],
      "metadata": {
        "id": "fMUtUxfqVX5u"
      },
      "execution_count": null,
      "outputs": []
    }
  ]
}