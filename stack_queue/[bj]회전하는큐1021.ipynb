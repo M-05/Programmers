{
  "nbformat": 4,
  "nbformat_minor": 0,
  "metadata": {
    "colab": {
      "provenance": []
    },
    "kernelspec": {
      "name": "python3",
      "display_name": "Python 3"
    },
    "language_info": {
      "name": "python"
    }
  },
  "cells": [
    {
      "cell_type": "markdown",
      "source": [
        "# [회전하는 큐 1021](https://www.acmicpc.net/problem/1021)\n",
        "\n",
        "queue 크기 N\n",
        "뽑을 수 N\n",
        "\n",
        "> M <= N <= 50 자연수\n",
        "\n",
        "- 자료 구조\n",
        "- 덱"
      ],
      "metadata": {
        "id": "VARTb-8HzKkM"
      }
    },
    {
      "cell_type": "code",
      "source": [
        "import sys\n",
        "with open('./bj.txt', 'w') as f:\n",
        "#     f.write('''32 6\n",
        "# 27 16 30 11 6 23''') # 59\n",
        "#     f.write('''10 3\n",
        "# 2 9 5''') # 8\n",
        "    f.write('''10 10\n",
        "1 6 3 2 7 9 8 4 10 5''') # 14\n",
        "\n",
        "sys.stdin = open('./bj.txt', 'r')\n",
        "\n",
        "input = sys.stdin.readline"
      ],
      "metadata": {
        "id": "2GTjH8FPzR4V"
      },
      "execution_count": 35,
      "outputs": []
    },
    {
      "cell_type": "code",
      "source": [
        "from collections import deque\n",
        "\n",
        "n, m = map(int, input().split())\n",
        "result_q = deque(map(int, input().split()))\n",
        "queue = deque(range(1,n+1))"
      ],
      "metadata": {
        "id": "1iB3JrNRzvR2"
      },
      "execution_count": 36,
      "outputs": []
    },
    {
      "cell_type": "code",
      "source": [
        "queue, result_q"
      ],
      "metadata": {
        "colab": {
          "base_uri": "https://localhost:8080/"
        },
        "id": "QnJud3I38uDx",
        "outputId": "6aae3753-ceb7-438b-d95c-b40a5dbad90e"
      },
      "execution_count": 17,
      "outputs": [
        {
          "output_type": "execute_result",
          "data": {
            "text/plain": [
              "(deque([1, 2, 3, 4, 5, 6, 7, 8, 9, 10]), deque([2, 9, 5]))"
            ]
          },
          "metadata": {},
          "execution_count": 17
        }
      ]
    },
    {
      "cell_type": "code",
      "source": [
        "queue.index(9)"
      ],
      "metadata": {
        "colab": {
          "base_uri": "https://localhost:8080/"
        },
        "id": "5oqrp5JZAA-f",
        "outputId": "101b4325-9500-442d-ec98-33d1c44817cb"
      },
      "execution_count": 21,
      "outputs": [
        {
          "output_type": "execute_result",
          "data": {
            "text/plain": [
              "8"
            ]
          },
          "metadata": {},
          "execution_count": 21
        }
      ]
    },
    {
      "cell_type": "code",
      "source": [
        "cnt = 0\n",
        "for target in result_q:\n",
        "    while True:\n",
        "        half_len = len(queue) // 2\n",
        "        loc = queue.index(target) # target 위치 찾기\n",
        "\n",
        "        if target == queue[0]:\n",
        "            queue.popleft()\n",
        "            break\n",
        "\n",
        "        elif loc > half_len: # target 위치 > queue의 중앙\n",
        "            queue.rotate(1) # clockwise\n",
        "\n",
        "        elif loc <= half_len:\n",
        "            queue.rotate(-1) # counter clockwise\n",
        "\n",
        "        cnt +=1\n",
        "\n",
        "print(cnt)"
      ],
      "metadata": {
        "colab": {
          "base_uri": "https://localhost:8080/"
        },
        "id": "mepPtfLuDU0E",
        "outputId": "38cbe67c-738a-428b-b706-218480e108e6"
      },
      "execution_count": 37,
      "outputs": [
        {
          "output_type": "stream",
          "name": "stdout",
          "text": [
            "14\n"
          ]
        }
      ]
    },
    {
      "cell_type": "markdown",
      "source": [
        "---\n",
        "---"
      ],
      "metadata": {
        "id": "7MnZDLhbC6UQ"
      }
    },
    {
      "cell_type": "code",
      "source": [
        "import sys\n",
        "with open('./bj.txt', 'w') as f:\n",
        "    f.write('''10 3\n",
        "1 2 3''') # 0\n",
        "sys.stdin = open('./bj.txt', 'r')"
      ],
      "metadata": {
        "id": "198qbFIPFadQ"
      },
      "execution_count": 41,
      "outputs": []
    },
    {
      "cell_type": "code",
      "source": [
        "import sys\n",
        "input = sys.stdin.readline\n",
        "from collections import deque\n",
        "\n",
        "n, m = map(int, input().split()) # 10, 3\n",
        "d = deque([i for i in range(1, n+1)]) # 1 ~ 10\n",
        "targets = list(map(int, input().split())) # 1, 2, 3\n",
        "cnt = 0\n",
        "\n",
        "for target in targets:\n",
        "    index = d.index(target) # 0\n",
        "    if index <= len(d) // 2: # 왼쪽 회전이 빠른 경우\n",
        "        for i in range(index):\n",
        "            x = d.popleft()\n",
        "            d.append(x)\n",
        "            cnt +=1\n",
        "    else: # 오른쪽으로 회전이 빠른 경우\n",
        "        for i in range(len(d) -index):\n",
        "            x = d.pop()\n",
        "            d.appendleft(x)\n",
        "            cnt += 1\n",
        "    d.popleft()\n",
        "print(cnt)"
      ],
      "metadata": {
        "colab": {
          "base_uri": "https://localhost:8080/"
        },
        "id": "ghxji4cyEftr",
        "outputId": "e7406194-9ca1-4f7a-a7fd-23601597b7cc"
      },
      "execution_count": 42,
      "outputs": [
        {
          "output_type": "stream",
          "name": "stdout",
          "text": [
            "0\n"
          ]
        }
      ]
    },
    {
      "cell_type": "code",
      "source": [
        "range(0)"
      ],
      "metadata": {
        "colab": {
          "base_uri": "https://localhost:8080/"
        },
        "id": "BQMbvmRdGSch",
        "outputId": "16ce3f34-60c9-472c-d31e-3e704e3d362c"
      },
      "execution_count": 45,
      "outputs": [
        {
          "output_type": "execute_result",
          "data": {
            "text/plain": [
              "range(0, 0)"
            ]
          },
          "metadata": {},
          "execution_count": 45
        }
      ]
    },
    {
      "cell_type": "code",
      "source": [
        "for i in range(0):\n",
        "    print(i)"
      ],
      "metadata": {
        "id": "f6CinABBFi4a"
      },
      "execution_count": 44,
      "outputs": []
    },
    {
      "cell_type": "code",
      "source": [
        "[*range(1,11)]"
      ],
      "metadata": {
        "colab": {
          "base_uri": "https://localhost:8080/"
        },
        "id": "xugTcrmpGPfx",
        "outputId": "abd59784-4800-4cbc-daf9-c861acd842bb"
      },
      "execution_count": 46,
      "outputs": [
        {
          "output_type": "execute_result",
          "data": {
            "text/plain": [
              "[1, 2, 3, 4, 5, 6, 7, 8, 9, 10]"
            ]
          },
          "metadata": {},
          "execution_count": 46
        }
      ]
    },
    {
      "cell_type": "code",
      "source": [
        "N, M = map(int, input().split())\n",
        "loc = list(map(int, input().split()))\n",
        "q = []\n",
        "cnt = 0\n",
        "\n",
        "for k in range(N):\n",
        "    q.append(k+1)\n",
        "\n",
        "for i in range(M):\n",
        "    l = loc[i]\n",
        "    while(True):\n",
        "        if q[0] == l:\n",
        "            q.pop(0)\n",
        "            break\n",
        "        else:\n",
        "            L = q.index(l)\n",
        "            if L > (len(q)/2):\n",
        "                n = q.pop()\n",
        "                q.insert(0, n)\n",
        "            elif L <= (len(q)/2):\n",
        "                n = q.pop(0)\n",
        "                q.append(n)\n",
        "            cnt+=1\n",
        "\n",
        "print(cnt)"
      ],
      "metadata": {
        "id": "_HnZ_vJAG33d"
      },
      "execution_count": null,
      "outputs": []
    }
  ]
}