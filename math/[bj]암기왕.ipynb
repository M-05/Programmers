{
  "nbformat": 4,
  "nbformat_minor": 0,
  "metadata": {
    "colab": {
      "provenance": []
    },
    "kernelspec": {
      "name": "python3",
      "display_name": "Python 3"
    },
    "language_info": {
      "name": "python"
    }
  },
  "cells": [
    {
      "cell_type": "markdown",
      "source": [
        "# [암기왕 2776](https://www.acmicpc.net/problem/2776)\n",
        "\n",
        "- 자료 구조\n",
        "- 정렬\n",
        "- 이분 탐색\n",
        "- 해시를 사용한 집합과 맵\n",
        "\n",
        "> N(1 ≤ N ≤ 1,000,000)  \n",
        "> M(1 ≤ M ≤ 1,000,000)  "
      ],
      "metadata": {
        "id": "WIbnt8TejSws"
      }
    },
    {
      "cell_type": "code",
      "execution_count": null,
      "metadata": {
        "id": "P0vRbQ7Ai8y4"
      },
      "outputs": [],
      "source": [
        "import sys\n",
        "\n",
        "with open('./bj.txt', 'w') as f:\n",
        "    f.write('''1\n",
        "5\n",
        "4 1 5 2 3\n",
        "5\n",
        "1 3 7 9 5''')\n",
        "# 1\n",
        "# 1\n",
        "# 0\n",
        "# 0\n",
        "# 1\n",
        "\n",
        "sys.stdin = open('./bj.txt', 'r')\n",
        "input = sys.stdin.readline"
      ]
    },
    {
      "cell_type": "code",
      "source": [
        "test_case = int(input())\n",
        "n = int(input())\n",
        "ns = set(map(int, input().split()))\n",
        "m = int(input())\n",
        "ms = list(map(int, input().split()))"
      ],
      "metadata": {
        "id": "iAqlu4Cqjc9c"
      },
      "execution_count": null,
      "outputs": []
    },
    {
      "cell_type": "code",
      "source": [
        "for i in ms:\n",
        "    if i in ns:\n",
        "        print(1)\n",
        "    else:\n",
        "        print(0)"
      ],
      "metadata": {
        "colab": {
          "base_uri": "https://localhost:8080/"
        },
        "id": "__f0_k2djG3V",
        "outputId": "cd325c32-5bd6-4b20-f0aa-2ed9ab76a412"
      },
      "execution_count": null,
      "outputs": [
        {
          "output_type": "stream",
          "name": "stdout",
          "text": [
            "1\n",
            "1\n",
            "0\n",
            "0\n",
            "1\n"
          ]
        }
      ]
    },
    {
      "cell_type": "code",
      "source": [
        "######\n",
        "# Pass\n",
        "######\n",
        "import sys\n",
        "input = sys.stdin.readline\n",
        "\n",
        "test_case = int(input())\n",
        "\n",
        "for _ in range(test_case):\n",
        "    n = int(input())\n",
        "    ns = set(map(int, input().split()))\n",
        "    m = int(input())\n",
        "    ms = list(map(int, input().split()))\n",
        "\n",
        "    for i in ms:\n",
        "        if i in ns:\n",
        "            print(1)\n",
        "        else:\n",
        "            print(0)"
      ],
      "metadata": {
        "id": "j2DBM7IMjG6M"
      },
      "execution_count": null,
      "outputs": []
    }
  ]
}