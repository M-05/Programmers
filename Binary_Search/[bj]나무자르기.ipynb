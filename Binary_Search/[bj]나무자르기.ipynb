{
  "nbformat": 4,
  "nbformat_minor": 0,
  "metadata": {
    "colab": {
      "provenance": []
    },
    "kernelspec": {
      "name": "python3",
      "display_name": "Python 3"
    },
    "language_info": {
      "name": "python"
    }
  },
  "cells": [
    {
      "cell_type": "markdown",
      "source": [
        "# [나무 자르기 2805](https://www.acmicpc.net/problem/2805)\n",
        "\n",
        "- 이분 탐색\n",
        "- 매개 변수 탐색\n",
        "\n",
        "> 1 ≤ N ≤ 1,000,000  \n",
        "> 1 ≤ M ≤ 2,000,000,000\n",
        "\n",
        "높이는 1,000,000,000보다 작거나 같은 양의 정수 또는 0\n",
        "\n",
        "return  절단기에 설정할 수 있는 높이의 최댓값"
      ],
      "metadata": {
        "id": "imQhry59GvWu"
      }
    },
    {
      "cell_type": "code",
      "source": [
        "import sys\n",
        "\n",
        "with open('./bj.txt', 'w') as f:\n",
        "#     f.write('''4 7\n",
        "# 20 15 10 17''') # 15\n",
        "#     f.write('''5 20\n",
        "# 4 42 40 26 46''') # 36\n",
        "    f.write('''4 10\n",
        "4 5 6 7''') # 3\n",
        "sys.stdin = open('./bj.txt', 'r')\n",
        "\n",
        "input = sys.stdin.readline\n",
        "\n",
        "n, height = map(int, input().split())\n",
        "tree = sorted(list(map(int, input().split())))"
      ],
      "metadata": {
        "id": "3E7ulrwkNMaZ"
      },
      "execution_count": 43,
      "outputs": []
    },
    {
      "cell_type": "code",
      "source": [
        "tree"
      ],
      "metadata": {
        "colab": {
          "base_uri": "https://localhost:8080/"
        },
        "id": "X3H30NajOO6z",
        "outputId": "0fbe41f9-ed40-40ca-88ec-bc66aecd4aa7"
      },
      "execution_count": 4,
      "outputs": [
        {
          "output_type": "execute_result",
          "data": {
            "text/plain": [
              "[10, 15, 17, 20]"
            ]
          },
          "metadata": {},
          "execution_count": 4
        }
      ]
    },
    {
      "cell_type": "code",
      "source": [
        "start, end = 0, tree[-1]\n",
        "\n",
        "while start <= end:\n",
        "    middle = (start + end) // 2 # 10\n",
        "    answer = 0\n",
        "    for t in tree:\n",
        "        if t >= middle: # 15 > 10\n",
        "            answer += t - middle # 5\n",
        "            start = middle +1\n",
        "        else: # 10 < 15\n",
        "            end = middle -1\n",
        "\n",
        "    if height == answer:\n",
        "        print(middle)\n",
        "    # else:"
      ],
      "metadata": {
        "colab": {
          "base_uri": "https://localhost:8080/"
        },
        "id": "rffTUuLqPR6s",
        "outputId": "1547a432-b75c-4c19-b0ba-d0ac80c7ed10"
      },
      "execution_count": 12,
      "outputs": [
        {
          "output_type": "stream",
          "name": "stdout",
          "text": [
            "15\n"
          ]
        }
      ]
    },
    {
      "cell_type": "code",
      "source": [
        "tree.sort()"
      ],
      "metadata": {
        "id": "C_GKXwdITY75"
      },
      "execution_count": 37,
      "outputs": []
    },
    {
      "cell_type": "code",
      "source": [
        "start, end = 1, tree[-1]\n",
        "\n",
        "while start <= end:\n",
        "    middle = (start + end) // 2\n",
        "    take = 0\n",
        "    for t in tree:\n",
        "        if t > middle:\n",
        "            take += t - middle\n",
        "\n",
        "    # if height == take:\n",
        "    #     print(middle)\n",
        "    #     break\n",
        "    if height > take:\n",
        "        end = middle -1\n",
        "    else:\n",
        "        start = middle +1\n",
        "print(middle)\n",
        "print(end)"
      ],
      "metadata": {
        "colab": {
          "base_uri": "https://localhost:8080/"
        },
        "id": "xE4aevKNSlgf",
        "outputId": "69260816-70f6-4fca-e9cc-56bcb5271201"
      },
      "execution_count": 44,
      "outputs": [
        {
          "output_type": "stream",
          "name": "stdout",
          "text": [
            "3\n",
            "3\n"
          ]
        }
      ]
    },
    {
      "cell_type": "code",
      "source": [
        "# 성공\n",
        "\n",
        "import sys\n",
        "input = sys.stdin.readline\n",
        "\n",
        "n, height = map(int, input().split())\n",
        "tree = sorted(list(map(int, input().split())))\n",
        "\n",
        "start, end = 1, tree[-1]\n",
        "\n",
        "while start <= end:\n",
        "    middle = (start + end) // 2\n",
        "    take = 0\n",
        "    for t in tree:\n",
        "        if t > middle:\n",
        "            take += t - middle\n",
        "\n",
        "    if height > take: # 필요한 길이 > 가져온 길이\n",
        "        end = middle -1 # 가져온 중간 값 줄이기.\n",
        "    else:\n",
        "        start = middle +1\n",
        "\n",
        "print(end)"
      ],
      "metadata": {
        "id": "_KhvGOrtbNON"
      },
      "execution_count": null,
      "outputs": []
    },
    {
      "cell_type": "code",
      "source": [],
      "metadata": {
        "id": "ugNtQbizb-bA"
      },
      "execution_count": null,
      "outputs": []
    },
    {
      "cell_type": "markdown",
      "source": [
        "---\n",
        "---"
      ],
      "metadata": {
        "id": "6FRAJ69fb-cx"
      }
    },
    {
      "cell_type": "code",
      "source": [
        "import sys\n",
        "from collections import Counter\n",
        "\n",
        "# 입력\n",
        "n, m = map(int, sys.stdin.readline().split())\n",
        "trees = Counter(map(int, sys.stdin.read().split()))\n",
        "\n",
        "# 초기 설정\n",
        "s = 1\n",
        "e = 1000000000\n",
        "\n",
        "while s <= e:\n",
        "    mid = (s + e) // 2  # 중간값 설정\n",
        "    # 중간값을 기준으로 잘랐을 때 가져갈 수 있는 나무 길이 합 계산\n",
        "    tot = sum((h - mid) * i for h, i in trees.items() if h > mid)\n",
        "\n",
        "    # for h, i in trees.items():\n",
        "    #     if h > mid:\n",
        "    #         (h - mid) * i\n",
        "\n",
        "    if tot >= m:  # 가져갈 수 있는 나무 길이 합이 목표보다 크거나 같은 경우\n",
        "        s = mid + 1  # 높이를 높여야 함\n",
        "    elif tot < m:  # 가져갈 수 있는 나무 길이 합이 목표보다 작은 경우\n",
        "        e = mid - 1  # 높이를 낮춰야 함\n",
        "\n",
        "print(e)  # 결과 출력"
      ],
      "metadata": {
        "id": "_tlmpOvYb-e3"
      },
      "execution_count": null,
      "outputs": []
    }
  ]
}