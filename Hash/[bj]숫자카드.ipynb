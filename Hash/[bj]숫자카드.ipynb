{
  "nbformat": 4,
  "nbformat_minor": 0,
  "metadata": {
    "colab": {
      "provenance": []
    },
    "kernelspec": {
      "name": "python3",
      "display_name": "Python 3"
    },
    "language_info": {
      "name": "python"
    }
  },
  "cells": [
    {
      "cell_type": "markdown",
      "source": [
        "# [숫자 카드 10815](https://www.acmicpc.net/problem/10815)\n",
        "\n",
        "- 자료 구조\n",
        "- 정렬\n",
        "- 이분 탐색\n",
        "- 해시를 사용한 집합과 맵"
      ],
      "metadata": {
        "id": "moo9QkoVCZkD"
      }
    },
    {
      "cell_type": "code",
      "source": [
        "# 동일한 수는 없다.\n",
        "import sys\n",
        "with open('./bj.txt', 'w') as f:\n",
        "    f.write('''5\n",
        "6 3 2 10 -10\n",
        "8\n",
        "10 9 -5 2 3 4 5 -10''')\n",
        "sys.stdin = open('./bj.txt', 'r')\n",
        "input = sys.stdin.readline\n",
        "\n",
        "n = int(input())\n",
        "n_list = list(map(int, input().split()))\n",
        "m = int(input())\n",
        "m_list = list(map(int, input().split()))\n",
        "\n",
        "m_dict = {num:0 for num in m_list}\n",
        "\n",
        "for n in n_list:\n",
        "    if n in m_dict:\n",
        "        m_dict[n] += 1\n",
        "\n",
        "print(*m_dict.values())"
      ],
      "metadata": {
        "colab": {
          "base_uri": "https://localhost:8080/"
        },
        "id": "1orOGm4tCkJV",
        "outputId": "6555778b-46f2-4c9b-ccec-d033c71603fc"
      },
      "execution_count": 22,
      "outputs": [
        {
          "output_type": "stream",
          "name": "stdout",
          "text": [
            "1 0 0 1 1 0 0 1\n"
          ]
        }
      ]
    },
    {
      "cell_type": "markdown",
      "source": [
        "# [숫자 카드 2 10816](https://www.acmicpc.net/problem/10816)\n",
        "\n",
        "- 자료 구조\n",
        "- 정렬\n",
        "- 이분 탐색\n",
        "- 해시를 사용한 집합과 맵"
      ],
      "metadata": {
        "id": "PJBn20B57EnG"
      }
    },
    {
      "cell_type": "code",
      "source": [
        "import sys\n",
        "\n",
        "with open('./bj.txt', 'w') as f:\n",
        "    f.write('''10\n",
        "6 3 2 10 10 10 -10 -10 7 3\n",
        "8\n",
        "10 9 -5 2 3 4 5 -10''')\n",
        "\n",
        "sys.stdin = open('./bj.txt', 'r')\n",
        "\n",
        "input = sys.stdin.readline\n",
        "\n",
        "\n",
        "n = int(input())\n",
        "n_list = list(map(int, input().split()))\n",
        "m = int(input())\n",
        "m_list = list(map(int, input().split()))"
      ],
      "metadata": {
        "id": "npawIdz57bl2"
      },
      "execution_count": 17,
      "outputs": []
    },
    {
      "cell_type": "code",
      "source": [
        "# 실패.\n",
        "# 동일한 수가 있다.\n",
        "m_dict = {num:0 for num in m_list}\n",
        "\n",
        "for n in n_list:\n",
        "    if n in m_dict:\n",
        "        m_dict[n] += 1\n",
        "\n",
        "print(*m_dict.values())\n",
        "# 3 0 0 1 2 0 0 2\n",
        "# print(m_dict.values())\n",
        "# dict_values([3, 0, 0, 1, 2, 0, 0, 2])"
      ],
      "metadata": {
        "colab": {
          "base_uri": "https://localhost:8080/"
        },
        "id": "BpI5udnK79R6",
        "outputId": "b17dcc75-f5ab-49e7-aab9-7386f81f885f"
      },
      "execution_count": 16,
      "outputs": [
        {
          "output_type": "stream",
          "name": "stdout",
          "text": [
            "1 1 1\n"
          ]
        }
      ]
    },
    {
      "cell_type": "code",
      "source": [
        "print(m_list)\n",
        "# [10, 9, -5, 2, 3, 4, 5, -10]\n",
        "print(*m_list)"
      ],
      "metadata": {
        "colab": {
          "base_uri": "https://localhost:8080/"
        },
        "id": "Y0PbRGVj9l4V",
        "outputId": "b20d25be-72b9-4cc0-e08e-1b2a87f6ee8d"
      },
      "execution_count": 12,
      "outputs": [
        {
          "output_type": "stream",
          "name": "stdout",
          "text": [
            "10 9 -5 2 3 4 5 -10\n"
          ]
        }
      ]
    },
    {
      "cell_type": "code",
      "source": [
        "#####\n",
        "# 성공\n",
        "# 반례\n",
        "# https://www.acmicpc.net/board/view/124728\n",
        "#####\n",
        "import sys\n",
        "with open('./bj.txt', 'w') as f:\n",
        "    f.write('''2\n",
        "1 2\n",
        "5\n",
        "1 1 1 1 1''')\n",
        "\n",
        "sys.stdin = open('./bj.txt', 'r')\n",
        "\n",
        "input = sys.stdin.readline\n",
        "\n",
        "\n",
        "n = int(input())\n",
        "n_list = list(map(int, input().split()))\n",
        "m = int(input())\n",
        "m_list = list(map(int, input().split()))"
      ],
      "metadata": {
        "id": "Pdkacnui-3qP"
      },
      "execution_count": 19,
      "outputs": []
    },
    {
      "cell_type": "code",
      "source": [
        "m_dict = {num:0 for num in m_list}\n",
        "\n",
        "for n in n_list:\n",
        "    if n in m_dict:\n",
        "        m_dict[n] += 1\n",
        "\n",
        "# print(*m_dict.values()) # 1\n",
        "answer = [m_dict[m] for m in m_list]\n",
        "print(*answer)"
      ],
      "metadata": {
        "colab": {
          "base_uri": "https://localhost:8080/"
        },
        "id": "DGADFr5CA_Xs",
        "outputId": "d2e3b3c0-f2d6-4339-9657-efe16c176ab8"
      },
      "execution_count": 21,
      "outputs": [
        {
          "output_type": "stream",
          "name": "stdout",
          "text": [
            "1 1 1 1 1\n"
          ]
        }
      ]
    },
    {
      "cell_type": "code",
      "source": [],
      "metadata": {
        "id": "pT6CRrIrBE5d"
      },
      "execution_count": null,
      "outputs": []
    }
  ]
}