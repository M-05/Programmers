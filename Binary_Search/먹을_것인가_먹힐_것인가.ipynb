{
  "nbformat": 4,
  "nbformat_minor": 0,
  "metadata": {
    "colab": {
      "provenance": []
    },
    "kernelspec": {
      "name": "python3",
      "display_name": "Python 3"
    },
    "language_info": {
      "name": "python"
    }
  },
  "cells": [
    {
      "cell_type": "markdown",
      "source": [
        "# [먹을 것인가 먹힐 것인가 다국어 7795](https://www.acmicpc.net/problem/7795)\n",
        "\n",
        "- 정렬\n",
        "- 이분 탐색\n",
        "- 두 포인터\n"
      ],
      "metadata": {
        "id": "WhWW2DjUHGAG"
      }
    },
    {
      "cell_type": "code",
      "source": [
        "import sys\n",
        "with open('./bj.txt', 'w') as f:\n",
        "    f.write('''2\n",
        "5 3\n",
        "8 1 7 3 1\n",
        "3 6 1\n",
        "3 4\n",
        "2 13 7\n",
        "103 11 290 215''')\n",
        "\n",
        "sys.stdin = open('./bj.txt', 'r')\n",
        "input = sys.stdin.readline"
      ],
      "metadata": {
        "id": "BdZSyt1CJQ7O"
      },
      "execution_count": 66,
      "outputs": []
    },
    {
      "cell_type": "code",
      "source": [
        "# 1 ≤ N, M ≤ 20,000)\n",
        "# test_case * 2 * 2 * 10 ** 8\n",
        "# 시간 초과.\n",
        "test_case = int(input())\n",
        "\n",
        "for _ in range(test_case):\n",
        "    answer = 0\n",
        "    # inputs\n",
        "    a, b = map(int, input().split())\n",
        "    a_list = list(map(int, input().split()))\n",
        "    b_list = list(map(int, input().split()))\n",
        "    # sort\n",
        "    a_list.sort() # 1 1 3 7 8\n",
        "    b_list.sort() # 1 3 6\n",
        "    # for\n",
        "    for i in a_list:\n",
        "        for j in b_list:\n",
        "            if i > j:\n",
        "                answer +=1\n",
        "            else:\n",
        "                break\n",
        "    print(answer)"
      ],
      "metadata": {
        "colab": {
          "base_uri": "https://localhost:8080/"
        },
        "id": "3MniNERhJQ9J",
        "outputId": "4bb45b04-619e-4f9b-8c82-438532b3daa3"
      },
      "execution_count": 19,
      "outputs": [
        {
          "output_type": "stream",
          "name": "stdout",
          "text": [
            "7\n",
            "1\n",
            "0.0018420219421386719\n"
          ]
        }
      ]
    },
    {
      "cell_type": "code",
      "source": [
        "from collections import Counter"
      ],
      "metadata": {
        "id": "-3bstB3EQ74w"
      },
      "execution_count": 13,
      "outputs": []
    },
    {
      "cell_type": "code",
      "source": [
        "#########\n",
        "# 시간 초과\n",
        "# Counter + hashing\n",
        "#########\n",
        "import sys\n",
        "from collections import Counter\n",
        "input = sys.stdin.readline\n",
        "\n",
        "test_case = int(input())\n",
        "\n",
        "for _ in range(test_case):\n",
        "    answer = 0\n",
        "    # inputs\n",
        "    a, b = map(int, input().split())\n",
        "    a_list = list(map(int, input().split()))\n",
        "    b_list = list(map(int, input().split()))\n",
        "    # sort\n",
        "    a_counter = Counter(sorted(a_list))\n",
        "    # Counter({1: 2, 3: 1, 7: 1, 8: 1})\n",
        "    b_counter = Counter(sorted(b_list))\n",
        "    # Counter({1: 1, 3: 1, 6: 1})\n",
        "    # for\n",
        "    for a_key, a_value in a_counter.items():\n",
        "        for b_key, b_value in b_counter.items():\n",
        "            if a_key > b_key:\n",
        "                answer += a_value * b_value\n",
        "    print(answer)"
      ],
      "metadata": {
        "id": "lyulXX-tJRDH"
      },
      "execution_count": null,
      "outputs": []
    },
    {
      "cell_type": "code",
      "source": [],
      "metadata": {
        "id": "e6snMk6wQ0IS"
      },
      "execution_count": null,
      "outputs": []
    },
    {
      "cell_type": "code",
      "source": [
        "#########\n",
        "# 시간 초과\n",
        "# hashing\n",
        "#########\n",
        "\n",
        "test_case = int(input())\n",
        "\n",
        "for _ in range(test_case):\n",
        "    answer = 0\n",
        "    # inputs\n",
        "    a, b = map(int, input().split())\n",
        "    a_list = sorted(list(map(int, input().split())))\n",
        "    b_list = sorted(list(map(int, input().split())))\n",
        "\n",
        "    a_dict = {i:0 for i in a_list}\n",
        "    # for\n",
        "    for i in a_list:\n",
        "        if a_dict[i] > 0:\n",
        "            answer += a_dict[i]\n",
        "        else:\n",
        "            for j in b_list:\n",
        "                if i > j:\n",
        "                    a_dict[i] += 1\n",
        "            answer += a_dict[i]\n",
        "\n",
        "    print(answer)"
      ],
      "metadata": {
        "colab": {
          "base_uri": "https://localhost:8080/"
        },
        "id": "7oOJVWNLQ0LT",
        "outputId": "5030385d-bd83-407a-e439-e24cbf458ef9"
      },
      "execution_count": 2,
      "outputs": [
        {
          "output_type": "stream",
          "name": "stdout",
          "text": [
            "7\n",
            "1\n"
          ]
        }
      ]
    },
    {
      "cell_type": "code",
      "source": [],
      "metadata": {
        "id": "zc1jr0O06D84"
      },
      "execution_count": null,
      "outputs": []
    },
    {
      "cell_type": "code",
      "source": [
        "#####\n",
        "# 성공\n",
        "# https://docs.python.org/3/library/bisect.html\n",
        "# bisect O(logX)\n",
        "# 2 * 10**6 * log10**6\n",
        "#####\n",
        "\n",
        "import sys\n",
        "import bisect\n",
        "# input = sys.stdin.readline\n",
        "\n",
        "test_case = int(input())\n",
        "\n",
        "for _ in range(test_case):\n",
        "    answer = 0\n",
        "    # inputs\n",
        "    a, b = map(int, input().split())\n",
        "    a_list = sorted(list(map(int, input().split())))\n",
        "    b_list = sorted(list(map(int, input().split())))\n",
        "\n",
        "    for i in b_list:\n",
        "        idx = bisect.bisect_right(a=a_list, x=i)\n",
        "        answer += a - idx\n",
        "\n",
        "    print(answer)"
      ],
      "metadata": {
        "colab": {
          "base_uri": "https://localhost:8080/"
        },
        "id": "xDj3R51Wx5JT",
        "outputId": "04556353-f3f5-41fb-99f0-f1ecbfb58212"
      },
      "execution_count": 62,
      "outputs": [
        {
          "output_type": "stream",
          "name": "stdout",
          "text": [
            "7\n",
            "1\n"
          ]
        }
      ]
    },
    {
      "cell_type": "code",
      "source": [
        "al=[1, 1, 3, 7, 8]\n",
        "bl=[1, 3, 6]"
      ],
      "metadata": {
        "id": "GzykGpzU4Gzz"
      },
      "execution_count": 63,
      "outputs": []
    },
    {
      "cell_type": "code",
      "source": [
        "bisect.bisect_right(a=al, x=3)\n",
        "# 3보다 큰 숫자 인덱스를 출력해줘."
      ],
      "metadata": {
        "colab": {
          "base_uri": "https://localhost:8080/"
        },
        "id": "SJe1KPnB77J0",
        "outputId": "4e6adbcd-e683-4547-902a-8c1694bba356"
      },
      "execution_count": null,
      "outputs": [
        {
          "output_type": "execute_result",
          "data": {
            "text/plain": [
              "3"
            ]
          },
          "metadata": {},
          "execution_count": 58
        }
      ]
    },
    {
      "cell_type": "code",
      "source": [
        "bisect.bisect_left(a=al, x=3)\n",
        "# 3보다 작은 숫자의 인덱스를 출력해줘."
      ],
      "metadata": {
        "colab": {
          "base_uri": "https://localhost:8080/"
        },
        "id": "E8iTseab84BV",
        "outputId": "5be4d4fb-8e5d-49f5-dc05-3cea2f9f58fa"
      },
      "execution_count": 64,
      "outputs": [
        {
          "output_type": "execute_result",
          "data": {
            "text/plain": [
              "2"
            ]
          },
          "metadata": {},
          "execution_count": 64
        }
      ]
    },
    {
      "cell_type": "markdown",
      "source": [
        "---\n",
        "---\n",
        "---"
      ],
      "metadata": {
        "id": "cYyDDr8b9Dng"
      }
    },
    {
      "cell_type": "code",
      "source": [
        "import sys\n",
        "\n",
        "input = sys.stdin.readline\n",
        "\n",
        "def solution():\n",
        "    T = int(input())\n",
        "    for t in range(T):\n",
        "        N, M = map(int, input().split())\n",
        "        A = sorted(map(int, input().split()))\n",
        "        # [1, 1, 3, 7, 8]\n",
        "        B = sorted(map(int, input().split()))\n",
        "        # [1, 3, 6]\n",
        "        res = idx = 0\n",
        "\n",
        "        for i in range(N):# 4\n",
        "            while idx < M and A[i] > B[idx]:\n",
        "                # 0 < 3     A[0] > B[0] # False\n",
        "                # 0 < 3     A[1] > B[0] # False\n",
        "                # 0 < 3     A[2] > B[0] # + 1\n",
        "                # 1 < 3     A[2] > B[1] # False\n",
        "                # 1 < 3     A[3] > B[1] #\n",
        "                idx += 1\n",
        "            res += idx\n",
        "        print(res)\n",
        "\n",
        "solution()"
      ],
      "metadata": {
        "id": "6LBMt2ZdR__w"
      },
      "execution_count": null,
      "outputs": []
    },
    {
      "cell_type": "code",
      "source": [
        "sorted()"
      ],
      "metadata": {
        "id": "23Q2F0faSzVj"
      },
      "execution_count": null,
      "outputs": []
    },
    {
      "cell_type": "code",
      "source": [
        "N, M = 5, 3\n",
        "A = [1, 1, 3, 7, 8]\n",
        "B = [1, 3, 6]\n",
        "res = idx = 0\n",
        "\n",
        "for i in range(N):# 4\n",
        "    print(idx, i, res)\n",
        "    print(f'idx : {idx}')\n",
        "    print(f'i : {i}')\n",
        "    print(f'res : {res}')\n",
        "    while idx < M and A[i] > B[idx]:\n",
        "        idx +=1\n",
        "        continue\n",
        "    res += idx\n",
        "    print()"
      ],
      "metadata": {
        "colab": {
          "base_uri": "https://localhost:8080/"
        },
        "id": "GuZMRRnTas1t",
        "outputId": "98f3d20d-4c57-4a9e-c8fb-3095c642526d"
      },
      "execution_count": 76,
      "outputs": [
        {
          "output_type": "stream",
          "name": "stdout",
          "text": [
            "0 0 0\n",
            "idx : 0\n",
            "i : 0\n",
            "res : 0\n",
            "\n",
            "0 1 0\n",
            "idx : 0\n",
            "i : 1\n",
            "res : 0\n",
            "\n",
            "0 2 0\n",
            "idx : 0\n",
            "i : 2\n",
            "res : 0\n",
            "\n",
            "1 3 1\n",
            "idx : 1\n",
            "i : 3\n",
            "res : 1\n",
            "\n",
            "3 4 4\n",
            "idx : 3\n",
            "i : 4\n",
            "res : 4\n",
            "\n"
          ]
        }
      ]
    },
    {
      "cell_type": "code",
      "source": [],
      "metadata": {
        "id": "RvQAK6z8a6Pn"
      },
      "execution_count": null,
      "outputs": []
    }
  ]
}