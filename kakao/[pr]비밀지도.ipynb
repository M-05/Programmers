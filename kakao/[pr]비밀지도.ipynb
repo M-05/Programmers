{
  "nbformat": 4,
  "nbformat_minor": 0,
  "metadata": {
    "colab": {
      "provenance": []
    },
    "kernelspec": {
      "name": "python3",
      "display_name": "Python 3"
    },
    "language_info": {
      "name": "python"
    }
  },
  "cells": [
    {
      "cell_type": "markdown",
      "source": [
        "# [비밀지도](https://school.programmers.co.kr/learn/courses/30/lessons/17681)\n",
        "\n",
        "### 2018 KAKAO BLIND RECRUITMENT\n"
      ],
      "metadata": {
        "id": "rOO_jaRngStV"
      }
    },
    {
      "cell_type": "markdown",
      "source": [
        "비밀지도.\n",
        "한 변의 길이 n  \n",
        "정사각형  \n",
        "공백 ' ' or 벽 '#'  \n",
        "2장의 지도를 겹쳐서 얻을 수 있다.  \n",
        "어느 1개라도 '#'이면 전체 지도에서도 벽이다  \n",
        "모두 ' '이라면 전체지도에서 공백  \n",
        "\n",
        "지도 1  \n",
        "지도 2  \n",
        "각각 정수 배열로 암호화.\n",
        "\n",
        "벽은 1  \n",
        "공백은 0  \n",
        "-> 2진수  \n",
        "\n",
        "output은  \n",
        "2개의 지도를 겹친 모양을 문자열 배열 변환  "
      ],
      "metadata": {
        "id": "r7TCp9jFgXOn"
      }
    },
    {
      "cell_type": "code",
      "source": [
        "def solution(n, arr1, arr2):\n",
        "    answer = []\n",
        "    return answer"
      ],
      "metadata": {
        "id": "INEgIVgqhlQW"
      },
      "execution_count": 1,
      "outputs": []
    },
    {
      "cell_type": "code",
      "source": [
        "n = 5\n",
        "arr1 = [9, 20, 28, 18, 11]\n",
        "arr2 = [30, 1, 21, 17,28]"
      ],
      "metadata": {
        "id": "ielN_sfLhncC"
      },
      "execution_count": 2,
      "outputs": []
    },
    {
      "cell_type": "code",
      "source": [
        "if len(bin(9)[2:]) != n:\n",
        "    temp = (n - len(bin(9)[2:])) * '0' + bin(9)[2:] # '01001'\n",
        "    temp = temp.replace('0', ' ')\n",
        "    temp = temp.replace('1', '#')\n",
        "    print(temp)"
      ],
      "metadata": {
        "colab": {
          "base_uri": "https://localhost:8080/"
        },
        "id": "4aiMfk-1h-Lo",
        "outputId": "9b28ba6c-77a5-4e37-dc54-898d77844781"
      },
      "execution_count": 8,
      "outputs": [
        {
          "output_type": "stream",
          "name": "stdout",
          "text": [
            " #  #\n"
          ]
        }
      ]
    },
    {
      "cell_type": "code",
      "source": [
        "for idx, num in enumerate(arr1):\n",
        "    if len(bin(num)[2:]) != n:\n",
        "        arr1[idx] = (n - len(bin(num)[2:])) * '0' + bin(num)[2:]\n",
        "    else:\n",
        "        arr1[idx] = bin(num)[2:]\n"
      ],
      "metadata": {
        "id": "tVqM_obvjZOU"
      },
      "execution_count": 9,
      "outputs": []
    },
    {
      "cell_type": "code",
      "source": [
        "arr1"
      ],
      "metadata": {
        "colab": {
          "base_uri": "https://localhost:8080/"
        },
        "id": "R06VD9HXkHYp",
        "outputId": "c9ae0200-76b3-410b-fcc9-9e9f01a54043"
      },
      "execution_count": 10,
      "outputs": [
        {
          "output_type": "execute_result",
          "data": {
            "text/plain": [
              "['01001', '10100', '11100', '10010', '01011']"
            ]
          },
          "metadata": {},
          "execution_count": 10
        }
      ]
    },
    {
      "cell_type": "code",
      "source": [
        "for idx, num in enumerate(arr2):\n",
        "    if len(bin(num)[2:]) != n:\n",
        "        arr2[idx] = (n - len(bin(num)[2:])) * '0' + bin(num)[2:]\n",
        "    else:\n",
        "        arr2[idx] = bin(num)[2:]"
      ],
      "metadata": {
        "id": "g8wDpNxDiWGq"
      },
      "execution_count": 11,
      "outputs": []
    },
    {
      "cell_type": "code",
      "source": [
        "arr2"
      ],
      "metadata": {
        "colab": {
          "base_uri": "https://localhost:8080/"
        },
        "id": "q59xVrQ_iYe5",
        "outputId": "fba5c92c-732a-4df2-e343-b690a44f156a"
      },
      "execution_count": 12,
      "outputs": [
        {
          "output_type": "execute_result",
          "data": {
            "text/plain": [
              "['11110', '00001', '10101', '10001', '11100']"
            ]
          },
          "metadata": {},
          "execution_count": 12
        }
      ]
    },
    {
      "cell_type": "code",
      "source": [
        "int('11110') + int('01001')"
      ],
      "metadata": {
        "colab": {
          "base_uri": "https://localhost:8080/"
        },
        "id": "W3igawhfkZeY",
        "outputId": "d90ab33f-a828-4ee2-d706-0c0017165754"
      },
      "execution_count": 15,
      "outputs": [
        {
          "output_type": "execute_result",
          "data": {
            "text/plain": [
              "12111"
            ]
          },
          "metadata": {},
          "execution_count": 15
        }
      ]
    },
    {
      "cell_type": "code",
      "source": [
        "map = []\n",
        "for i, j in zip(arr1, arr2):\n",
        "    map.append(str(int(i) + int(j)))"
      ],
      "metadata": {
        "id": "O_HkNxuYiedw"
      },
      "execution_count": 18,
      "outputs": []
    },
    {
      "cell_type": "code",
      "source": [
        "map"
      ],
      "metadata": {
        "colab": {
          "base_uri": "https://localhost:8080/"
        },
        "id": "S-iXNksdk5kn",
        "outputId": "12a8c623-6a2c-48fb-a6cd-96facbde56d0"
      },
      "execution_count": 19,
      "outputs": [
        {
          "output_type": "execute_result",
          "data": {
            "text/plain": [
              "['12111', '10101', '21201', '20011', '12111']"
            ]
          },
          "metadata": {},
          "execution_count": 19
        }
      ]
    },
    {
      "cell_type": "code",
      "source": [
        "for idx, num in enumerate(map):\n",
        "    num = num.replace('1', '#')\n",
        "    num = num.replace('2', '#')\n",
        "    map[idx] = num.replace('0', ' ')"
      ],
      "metadata": {
        "id": "zDPN-qHgk6Qr"
      },
      "execution_count": 20,
      "outputs": []
    },
    {
      "cell_type": "code",
      "source": [
        "map"
      ],
      "metadata": {
        "colab": {
          "base_uri": "https://localhost:8080/"
        },
        "id": "21G4rmkJlfGm",
        "outputId": "f22ebde1-8104-4a1b-96bb-2a0d32894367"
      },
      "execution_count": 21,
      "outputs": [
        {
          "output_type": "execute_result",
          "data": {
            "text/plain": [
              "['#####', '# # #', '### #', '#  ##', '#####']"
            ]
          },
          "metadata": {},
          "execution_count": 21
        }
      ]
    },
    {
      "cell_type": "code",
      "source": [
        "def solution(n, arr1, arr2):\n",
        "    for idx, num in enumerate(arr1):\n",
        "        if len(bin(num)[2:]) != n:\n",
        "            arr1[idx] = (n - len(bin(num)[2:])) * '0' + bin(num)[2:]\n",
        "        else:\n",
        "            arr1[idx] = bin(num)[2:]\n",
        "\n",
        "    for idx, num in enumerate(arr2):\n",
        "        if len(bin(num)[2:]) != n:\n",
        "            arr2[idx] = (n - len(bin(num)[2:])) * '0' + bin(num)[2:]\n",
        "        else:\n",
        "            arr2[idx] = bin(num)[2:]\n",
        "\n",
        "    map = []\n",
        "    for i, j in zip(arr1, arr2):\n",
        "        map.append(str(int(i) + int(j)))\n",
        "\n",
        "    for idx, num in enumerate(map):\n",
        "        num = num.replace('0', ' ')\n",
        "        num = num.replace('1', '#')\n",
        "        map[idx] = num.replace('2', '#')\n",
        "\n",
        "    return map"
      ],
      "metadata": {
        "id": "lzizu0hnlfo2"
      },
      "execution_count": 27,
      "outputs": []
    },
    {
      "cell_type": "code",
      "source": [
        "n = 5\n",
        "arr1 = [9, 20, 28, 18, 11]\n",
        "arr2 = [30, 1, 21, 17,28]\n",
        "\n",
        "solution(n, arr1, arr2)"
      ],
      "metadata": {
        "colab": {
          "base_uri": "https://localhost:8080/"
        },
        "id": "3zEX7fWmlzhQ",
        "outputId": "1949a384-7d8c-40e0-ebe3-0412df3189da"
      },
      "execution_count": 25,
      "outputs": [
        {
          "output_type": "execute_result",
          "data": {
            "text/plain": [
              "['#####', '# # #', '### #', '#  ##', '#####']"
            ]
          },
          "metadata": {},
          "execution_count": 25
        }
      ]
    },
    {
      "cell_type": "code",
      "source": [
        "print(arr1)\n",
        "print(arr2)"
      ],
      "metadata": {
        "colab": {
          "base_uri": "https://localhost:8080/"
        },
        "id": "4B8Lb4RbnDE3",
        "outputId": "17029cbc-a719-45ed-fefa-02616c69403d"
      },
      "execution_count": 32,
      "outputs": [
        {
          "output_type": "stream",
          "name": "stdout",
          "text": [
            "['101110', '100001', '100001', '010110', '011111', '110010']\n",
            "['011011', '111000', '010011', '001110', '001110', '001010']\n"
          ]
        }
      ]
    },
    {
      "cell_type": "code",
      "source": [
        "map\n",
        "# [\"######\", \"### #\", \"## ##\", \" #### \", \" #####\", \"### # \"]"
      ],
      "metadata": {
        "colab": {
          "base_uri": "https://localhost:8080/"
        },
        "id": "tY7PRicjmwFU",
        "outputId": "9e3a61a8-9e6e-4470-92b9-66102a6a4eb7"
      },
      "execution_count": 31,
      "outputs": [
        {
          "output_type": "execute_result",
          "data": {
            "text/plain": [
              "['112121', '211001', '110012', '11220', '12221', '111020']"
            ]
          },
          "metadata": {},
          "execution_count": 31
        }
      ]
    },
    {
      "cell_type": "code",
      "source": [
        "n = 6\n",
        "arr1 = [46, 33, 33 ,22, 31, 50]\n",
        "arr2 = [27 ,56, 19, 14, 14, 10]"
      ],
      "metadata": {
        "id": "Wq2es0N9oH6J"
      },
      "execution_count": 38,
      "outputs": []
    },
    {
      "cell_type": "code",
      "source": [
        "######\n",
        "# 성공\n",
        "######\n",
        "for idx, num in enumerate(arr1):\n",
        "    if len(bin(num)[2:]) != n:\n",
        "        arr1[idx] = (n - len(bin(num)[2:])) * '0' + bin(num)[2:]\n",
        "    else:\n",
        "        arr1[idx] = bin(num)[2:]\n",
        "# ['101110', '100001', '100001', '010110', '011111', '110010']\n",
        "for idx, num in enumerate(arr2):\n",
        "    if len(bin(num)[2:]) != n:\n",
        "        arr2[idx] = (n - len(bin(num)[2:])) * '0' + bin(num)[2:]\n",
        "    else:\n",
        "        arr2[idx] = bin(num)[2:]\n",
        "# ['011011', '111000', '010011', '001110', '001110', '001010']\n",
        "\n",
        "\n",
        "map = []\n",
        "for i, j in zip(arr1, arr2):\n",
        "    map.append(str(int(i) + int(j)))\n",
        "\n",
        "for idx, num in enumerate(map):\n",
        "    if len(num) == n:\n",
        "        num = num.replace('0', ' ')\n",
        "        num = num.replace('1', '#')\n",
        "        map[idx] = num.replace('2', '#')\n",
        "    else:\n",
        "        num = (n - len(num)) * '0' + num\n",
        "        num = num.replace('0', ' ')\n",
        "        num = num.replace('1', '#')\n",
        "        map[idx] = num.replace('2', '#')"
      ],
      "metadata": {
        "id": "r7_2l63lmsCV"
      },
      "execution_count": 39,
      "outputs": []
    },
    {
      "cell_type": "code",
      "source": [
        "map"
      ],
      "metadata": {
        "colab": {
          "base_uri": "https://localhost:8080/"
        },
        "id": "RQcU4DN5oIVl",
        "outputId": "082c0612-54c1-40e3-85db-16e9291a1555"
      },
      "execution_count": 40,
      "outputs": [
        {
          "output_type": "execute_result",
          "data": {
            "text/plain": [
              "['######', '###  #', '##  ##', ' #### ', ' #####', '### # ']"
            ]
          },
          "metadata": {},
          "execution_count": 40
        }
      ]
    },
    {
      "cell_type": "code",
      "source": [
        "['######', '###  #', '##  ##', ' #### ', ' #####', '### # ']\n",
        "[\"######\", \"### #\", \"## ##\", \" #### \", \" #####\", \"### # \"]"
      ],
      "metadata": {
        "id": "O5NPcZthoJFH"
      },
      "execution_count": null,
      "outputs": []
    },
    {
      "cell_type": "code",
      "source": [
        "######\n",
        "# 성공\n",
        "######\n",
        "\n",
        "def arr2bin(arr, n):\n",
        "    for idx, num in enumerate(arr):\n",
        "        if len(bin(num)[2:]) != n:\n",
        "            arr[idx] = (n - len(bin(num)[2:])) * '0' + bin(num)[2:]\n",
        "        else:\n",
        "            arr[idx] = bin(num)[2:]\n",
        "    return arr\n",
        "\n",
        "def solution(n, arr1, arr2):\n",
        "    arr1 = arr2bin(arr1, n)\n",
        "    arr2 = arr2bin(arr2, n)\n",
        "# ['101110', '100001', '100001', '010110', '011111', '110010']\n",
        "# ['011011', '111000', '010011', '001110', '001110', '001010']\n",
        "    map = []\n",
        "    for i, j in zip(arr1, arr2):\n",
        "        map.append(str(int(i) + int(j)))\n",
        "\n",
        "    for idx, num in enumerate(map):\n",
        "        if len(num) == n:\n",
        "            map[idx] = num.replace('0', ' ').replace('1', '#').replace('2', '#')\n",
        "\n",
        "        else:\n",
        "            num = (n - len(num)) * '0' + num\n",
        "            map[idx] = num.replace('0', ' ').replace('1', '#').replace('2', '#')\n",
        "\n",
        "    return map"
      ],
      "metadata": {
        "id": "Li8O2MqkrPe3"
      },
      "execution_count": null,
      "outputs": []
    },
    {
      "cell_type": "markdown",
      "source": [
        "---\n",
        "---\n",
        "---"
      ],
      "metadata": {
        "id": "GOwvhWk0rkpH"
      }
    },
    {
      "cell_type": "code",
      "source": [
        "def solution(n, arr1, arr2):\n",
        "    answer = []\n",
        "    for i,j in zip(arr1,arr2):\n",
        "        a12 = str(bin(i|j)[2:])\n",
        "        a12=a12.rjust(n,'0')\n",
        "        a12=a12.replace('1','#')\n",
        "        a12=a12.replace('0',' ')\n",
        "        answer.append(a12)\n",
        "    return answer"
      ],
      "metadata": {
        "id": "AXPsWUVdrlfn"
      },
      "execution_count": null,
      "outputs": []
    },
    {
      "cell_type": "code",
      "source": [
        "n = 6\n",
        "arr1 = [46, 33, 33 ,22, 31, 50]\n",
        "arr2 = [27 ,56, 19, 14, 14, 10]"
      ],
      "metadata": {
        "id": "gBjzsV6BrmTA"
      },
      "execution_count": 43,
      "outputs": []
    },
    {
      "cell_type": "code",
      "source": [
        "# https://www.crocus.co.kr/1660\n",
        "\n",
        "# rjust 오른쪽 정렬\n",
        "# ljust 왼쪽 정령\n",
        "# zjust 길이에 맞게 왼쪽에 0 채우기"
      ],
      "metadata": {
        "id": "INHMiRwxtm0S"
      },
      "execution_count": null,
      "outputs": []
    },
    {
      "cell_type": "code",
      "source": [
        "\"123\".zfill(5)"
      ],
      "metadata": {
        "id": "4OqF2gV0t40h",
        "outputId": "ea79f047-9e71-44f3-8fd1-83ad6f310a0b",
        "colab": {
          "base_uri": "https://localhost:8080/",
          "height": 35
        }
      },
      "execution_count": 56,
      "outputs": [
        {
          "output_type": "execute_result",
          "data": {
            "text/plain": [
              "'00123'"
            ],
            "application/vnd.google.colaboratory.intrinsic+json": {
              "type": "string"
            }
          },
          "metadata": {},
          "execution_count": 56
        }
      ]
    },
    {
      "cell_type": "code",
      "source": [
        "answer01 = []\n",
        "answer05 = []\n",
        "for i,j in zip(arr1,arr2):\n",
        "    a01 = str(bin(i|j)[2:]) # bin(i|j) i + j 더해준다\n",
        "    print(a01)\n",
        "    a05 = a01.rjust(n,'0')\n",
        "    # '11110'.rjust(n, '0') -> '011110' fill char\n",
        "    answer01.append(a01)\n",
        "    answer05.append(a05)"
      ],
      "metadata": {
        "colab": {
          "base_uri": "https://localhost:8080/"
        },
        "id": "XFo6M54brmXW",
        "outputId": "46059b56-6dd8-46c8-a41f-b1ac2e128fd9"
      },
      "execution_count": 57,
      "outputs": [
        {
          "output_type": "stream",
          "name": "stdout",
          "text": [
            "111111\n",
            "111001\n",
            "110011\n",
            "11110\n",
            "11111\n",
            "111010\n"
          ]
        }
      ]
    },
    {
      "cell_type": "code",
      "source": [
        "answer01"
      ],
      "metadata": {
        "colab": {
          "base_uri": "https://localhost:8080/"
        },
        "id": "9MhNOpL7sU1I",
        "outputId": "0fc91e03-d639-4f0b-8d50-2249e1fe47c5"
      },
      "execution_count": 48,
      "outputs": [
        {
          "output_type": "execute_result",
          "data": {
            "text/plain": [
              "['111111', '111001', '110011', '11110', '11111', '111010']"
            ]
          },
          "metadata": {},
          "execution_count": 48
        }
      ]
    },
    {
      "cell_type": "code",
      "source": [
        "answer05"
      ],
      "metadata": {
        "colab": {
          "base_uri": "https://localhost:8080/"
        },
        "id": "dSEo3n9ZsYHK",
        "outputId": "8ff987b9-c95a-4662-fc9a-86d967d0d29f"
      },
      "execution_count": 49,
      "outputs": [
        {
          "output_type": "execute_result",
          "data": {
            "text/plain": [
              "['111111', '111001', '110011', '011110', '011111', '111010']"
            ]
          },
          "metadata": {},
          "execution_count": 49
        }
      ]
    },
    {
      "cell_type": "code",
      "source": [
        "bin(33)"
      ],
      "metadata": {
        "colab": {
          "base_uri": "https://localhost:8080/",
          "height": 35
        },
        "id": "4oaP4Wkds92T",
        "outputId": "beca6318-4905-423a-b348-cb03b8f1db97"
      },
      "execution_count": 52,
      "outputs": [
        {
          "output_type": "execute_result",
          "data": {
            "text/plain": [
              "'0b100001'"
            ],
            "application/vnd.google.colaboratory.intrinsic+json": {
              "type": "string"
            }
          },
          "metadata": {},
          "execution_count": 52
        }
      ]
    },
    {
      "cell_type": "code",
      "source": [
        "bin(19)"
      ],
      "metadata": {
        "colab": {
          "base_uri": "https://localhost:8080/",
          "height": 35
        },
        "id": "O1xrD9b1s-r7",
        "outputId": "a5f85d78-b231-4d38-993f-14420e938db1"
      },
      "execution_count": 53,
      "outputs": [
        {
          "output_type": "execute_result",
          "data": {
            "text/plain": [
              "'0b10011'"
            ],
            "application/vnd.google.colaboratory.intrinsic+json": {
              "type": "string"
            }
          },
          "metadata": {},
          "execution_count": 53
        }
      ]
    },
    {
      "cell_type": "code",
      "source": [
        "bin(33|19)"
      ],
      "metadata": {
        "colab": {
          "base_uri": "https://localhost:8080/",
          "height": 35
        },
        "id": "_L2JSOU6sYqx",
        "outputId": "6b816357-9d3b-4a6f-db67-c97c3dce6019"
      },
      "execution_count": 51,
      "outputs": [
        {
          "output_type": "execute_result",
          "data": {
            "text/plain": [
              "'0b110011'"
            ],
            "application/vnd.google.colaboratory.intrinsic+json": {
              "type": "string"
            }
          },
          "metadata": {},
          "execution_count": 51
        }
      ]
    },
    {
      "cell_type": "code",
      "source": [
        "'11110'.rjust(n, '0')"
      ],
      "metadata": {
        "colab": {
          "base_uri": "https://localhost:8080/",
          "height": 35
        },
        "id": "Ic45-KH2s4FF",
        "outputId": "5904f9e4-dcfd-4bbb-a31d-50b02c27f062"
      },
      "execution_count": 54,
      "outputs": [
        {
          "output_type": "execute_result",
          "data": {
            "text/plain": [
              "'011110'"
            ],
            "application/vnd.google.colaboratory.intrinsic+json": {
              "type": "string"
            }
          },
          "metadata": {},
          "execution_count": 54
        }
      ]
    },
    {
      "cell_type": "code",
      "source": [],
      "metadata": {
        "id": "jqcgSKCCtPpQ"
      },
      "execution_count": null,
      "outputs": []
    }
  ]
}