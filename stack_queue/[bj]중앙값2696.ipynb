{
  "nbformat": 4,
  "nbformat_minor": 0,
  "metadata": {
    "colab": {
      "provenance": []
    },
    "kernelspec": {
      "name": "python3",
      "display_name": "Python 3"
    },
    "language_info": {
      "name": "python"
    }
  },
  "cells": [
    {
      "cell_type": "markdown",
      "source": [
        "# [중앙값 2696](https://www.acmicpc.net/problem/2696)\n",
        "\n",
        "- 자료 구조\n",
        "- 우선순위 큐"
      ],
      "metadata": {
        "id": "LN1bl1353hj6"
      }
    },
    {
      "cell_type": "code",
      "source": [
        "9999 / 2 * 1000"
      ],
      "metadata": {
        "colab": {
          "base_uri": "https://localhost:8080/"
        },
        "id": "r4v_NvGm5bwy",
        "outputId": "1889e008-6f05-4213-f17c-8a25271783d0"
      },
      "execution_count": 2,
      "outputs": [
        {
          "output_type": "execute_result",
          "data": {
            "text/plain": [
              "4999500.0"
            ]
          },
          "metadata": {},
          "execution_count": 2
        }
      ]
    },
    {
      "cell_type": "code",
      "source": [
        "# T(1 ≤ T ≤ 1,000)\n",
        "# M(1 ≤ M ≤ 9999, M은 홀수)\n",
        "\n",
        "# return\n",
        "# 첫째 줄에 출력하는 중앙값의 개수를 출력\n",
        "# 홀수 번째 수를 읽을 때 마다 구한 중앙값을 차례대로 공백으로 구분하여 출력"
      ],
      "metadata": {
        "id": "01TqCNtB4Fnd"
      },
      "execution_count": null,
      "outputs": []
    },
    {
      "cell_type": "code",
      "execution_count": 81,
      "metadata": {
        "id": "_ep_8VHt3hGL"
      },
      "outputs": [],
      "source": [
        "import sys\n",
        "\n",
        "with open(\"./bj.txt\", 'w') as f:\n",
        "    f.write('''3\n",
        "9\n",
        "1 2 3 4 5 6 7 8 9\n",
        "9\n",
        "9 8 7 6 5 4 3 2 1\n",
        "23\n",
        "23 41 13 22 -3 24 -31 -11 -8 -7\n",
        "3 5 103 211 -311 -45 -67 -73 -81 -99\n",
        "-33 24 56''')\n",
        "## 5\n",
        "# 1 2 3 4 5\n",
        "# 5\n",
        "# 9 8 7 6 5\n",
        "# 12\n",
        "# 23 23 22 22 13 3 5 5 3 -3\n",
        "# -7 -3\n",
        "sys.stdin = open('./bj.txt', 'r')\n",
        "\n",
        "input = sys.stdin.readline"
      ]
    },
    {
      "cell_type": "code",
      "source": [
        "for _ in range(int(input())):\n",
        "    m = int(input())\n",
        "    arr = []\n",
        "    for _ in range(m//10 +1):\n",
        "        arr.extend(list(map(int, input().split())))\n",
        "    answer = []\n",
        "    heap = []\n",
        "    heapq.heappush(heap, arr[0])\n",
        "    answer.append(arr[0])\n",
        "\n",
        "    if m >= 3:\n",
        "        for i in list(range(1, m+1, 2))[1:]: # [3, 5, 7, 9, 11, 13, 15, 17, 19, 21, 23]\n",
        "            heapq.heappush(heap, arr[i-2])\n",
        "            heapq.heappush(heap, arr[i-1])\n",
        "            heap.sort()\n",
        "            answer.append(heap[i // 2])\n",
        "    cnt = m //2 +1\n",
        "    print(cnt)\n",
        "    start = 0\n",
        "    for i in range(1, cnt //10 +1 +1):\n",
        "        print(*answer[start:10*i])\n",
        "        start += 10"
      ],
      "metadata": {
        "colab": {
          "base_uri": "https://localhost:8080/"
        },
        "id": "PRmamlrS48NB",
        "outputId": "cda7fbb1-0283-407f-d926-8420f87597b1"
      },
      "execution_count": 82,
      "outputs": [
        {
          "output_type": "stream",
          "name": "stdout",
          "text": [
            "5\n",
            "1 2 3 4 5\n",
            "5\n",
            "9 8 7 6 5\n",
            "12\n",
            "23 23 22 22 13 3 5 5 3 -3\n",
            "-7 -3\n"
          ]
        }
      ]
    },
    {
      "cell_type": "code",
      "source": [
        "import heapq\n",
        "\n",
        "m = 23\n",
        "arr = [23, 41, 13, 22, -3, 24, -31, -11, -8, -7, 3, 5, 103, 211, -311, -45, -67, -73, -81, -99, -33, 24, 56]\n",
        "answer = []\n",
        "heap = []"
      ],
      "metadata": {
        "id": "uk3MMJmC5o9Z"
      },
      "execution_count": 50,
      "outputs": []
    },
    {
      "cell_type": "code",
      "source": [
        "heapq.heappush(heap, arr[0])\n",
        "answer.append(arr[0])\n",
        "\n",
        "for i in list(range(3, m+1, 2)): # [3, 5, 7, 9, 11, 13, 15, 17, 19, 21, 23]\n",
        "    heapq.heappush(heap, arr[i-2])\n",
        "    heapq.heappush(heap, arr[i-1])\n",
        "    heap.sort()\n",
        "    answer.append(heap[i // 2])\n",
        "\n",
        "print(*answer)"
      ],
      "metadata": {
        "colab": {
          "base_uri": "https://localhost:8080/"
        },
        "id": "FzSGMFOn51J5",
        "outputId": "902e3c29-0a36-47f1-94d3-91ec7d633ffc"
      },
      "execution_count": 51,
      "outputs": [
        {
          "output_type": "stream",
          "name": "stdout",
          "text": [
            "23 23 22 22 13 3 5 5 3 -3 -7 -3\n"
          ]
        }
      ]
    },
    {
      "cell_type": "code",
      "source": [
        "# run type error --> 성공.\n",
        "###################\n",
        "import sys\n",
        "import heapq\n",
        "input = sys.stdin.readline\n",
        "\n",
        "for _ in range(int(input())):\n",
        "    m = int(input())\n",
        "    arr = []\n",
        "    for _ in range(m//10 +1): # 10개 단위로 데이터 받기\n",
        "        arr.extend(list(map(int, input().split())))\n",
        "    answer = []\n",
        "    heap = []\n",
        "    heapq.heappush(heap, arr[0])\n",
        "    answer.append(arr[0])\n",
        "\n",
        "    if m >= 3: # 3 이상일 때만 이렇게 실행.\n",
        "        for i in list(range(1, m+1, 2))[1:]: # [3, 5, 7, 9, 11, 13, 15, 17, 19, 21, 23]\n",
        "            heapq.heappush(heap, arr[i-2])\n",
        "            heapq.heappush(heap, arr[i-1])\n",
        "            heap.sort() # 완벽한 정렬을 위해.\n",
        "            answer.append(heap[i // 2])\n",
        "    cnt = m //2 +1\n",
        "    print(cnt) # 아웃풋 갯수\n",
        "    start = 0\n",
        "    for i in range(1, cnt //10 +1 +1): # 몇 번을 반복문 돌릴까?\n",
        "        print(*answer[start:10*i]) # 0:10 -> 10:20 -> 20:30\n",
        "        start += 10"
      ],
      "metadata": {
        "id": "8dem1AGN_35r"
      },
      "execution_count": null,
      "outputs": []
    },
    {
      "cell_type": "markdown",
      "source": [
        "---\n",
        "---"
      ],
      "metadata": {
        "id": "xtrheDdOGZF7"
      }
    },
    {
      "cell_type": "code",
      "source": [
        "import sys\n",
        "# 빠른 입력 함수 사용\n",
        "input = sys.stdin.readline\n",
        "import heapq\n",
        "def show_result():\n",
        "# 출력할 총 원소의 개수\n",
        "    print(len(result))\n",
        "    for i in range(len(result)):\n",
        "        print(result[i], end=' ')\n",
        "    # 10개 단위로 줄바꿈\n",
        "    if (i + 1) % 10 == 0:\n",
        "        print()\n",
        "    print()\n",
        "\n",
        "for _ in range(int(input())):\n",
        "    m = int(input())\n",
        "    data = []\n",
        "    for i in range(m //10 +1)\n",
        "        data.extend(list(map(int, input().split())))\n",
        "    left = []\n",
        "    right = []\n",
        "    median = data[0]\n",
        "    result = [median]\n",
        "\n",
        "    for i in range(1, m):\n",
        "        if data[i] <= median:\n",
        "            heapq.heappush(left, -data[i])\n",
        "        else:\n",
        "            heapq.heappush(right, data[i])\n",
        "        if i % 2 == 0:\n",
        "            if len(left) > len(right):\n",
        "                heapq.heappush(right, median)\n",
        "                median = -heapq.heappop(left)\n",
        "            elif len(left) < len(right):\n",
        "                heapq.heappush(left, -median)\n",
        "                median = heapq.heappop(right)\n",
        "            result.append(median)\n",
        "    show_result()"
      ],
      "metadata": {
        "id": "edfs6eMrGaEl"
      },
      "execution_count": null,
      "outputs": []
    }
  ]
}