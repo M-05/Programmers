{
  "nbformat": 4,
  "nbformat_minor": 0,
  "metadata": {
    "colab": {
      "provenance": []
    },
    "kernelspec": {
      "name": "python3",
      "display_name": "Python 3"
    },
    "language_info": {
      "name": "python"
    }
  },
  "cells": [
    {
      "cell_type": "markdown",
      "source": [
        "# [정수 제곱근 2417](https://www.acmicpc.net/problem/2417)\n",
        "\n",
        "- 수학\n",
        "- 이분 탐색"
      ],
      "metadata": {
        "id": "XeCckjcmWKkJ"
      }
    },
    {
      "cell_type": "code",
      "execution_count": 10,
      "metadata": {
        "colab": {
          "base_uri": "https://localhost:8080/"
        },
        "id": "7PDS6GZTV-By",
        "outputId": "cd1efa59-5edc-4cf8-c264-715f334704bd"
      },
      "outputs": [
        {
          "output_type": "stream",
          "name": "stdout",
          "text": [
            "11060446\n"
          ]
        }
      ],
      "source": [
        "# Fail ?!\n",
        "\n",
        "import math\n",
        "import sys\n",
        "\n",
        "with open('./bj.txt', 'w') as f:\n",
        "    f.write('''122333444455555''')\n",
        "\n",
        "sys.stdin = open('./bj.txt', 'r')\n",
        "\n",
        "input = sys.stdin.readline\n",
        "\n",
        "print(math.ceil(math.sqrt(int(input()))))"
      ]
    },
    {
      "cell_type": "code",
      "source": [
        "# 틀렸데 ?!\n",
        "\n",
        "import math\n",
        "import sys\n",
        "\n",
        "with open('./bj.txt', 'w') as f:\n",
        "    f.write('''1000000000000000001''')\n",
        "\n",
        "sys.stdin = open('./bj.txt', 'r')\n",
        "\n",
        "input = sys.stdin.readline\n",
        "\n",
        "num1 = math.sqrt(int(input()))\n",
        "num2 = int(num1)\n",
        "\n",
        "if num1*num1 == num2*num2:\n",
        "    print(num2)\n",
        "else:\n",
        "    print(num2 +1)"
      ],
      "metadata": {
        "colab": {
          "base_uri": "https://localhost:8080/"
        },
        "id": "F83N2OKqZvC9",
        "outputId": "cf6b068a-956e-4c88-a48a-c0ffa084e45e"
      },
      "execution_count": 28,
      "outputs": [
        {
          "output_type": "stream",
          "name": "stdout",
          "text": [
            "1000000001\n"
          ]
        }
      ]
    },
    {
      "cell_type": "code",
      "source": [
        "# 틀렸데 ?!\n",
        "\n",
        "import math\n",
        "import sys\n",
        "\n",
        "with open('./bj.txt', 'w') as f:\n",
        "    f.write('''9223372030926249000''')\n",
        "\n",
        "sys.stdin = open('./bj.txt', 'r')\n",
        "\n",
        "input = sys.stdin.readline\n",
        "\n",
        "num1 = int(input())\n",
        "num2 = int(math.sqrt(num1))\n",
        "\n",
        "if num1 == num2*num2:\n",
        "    print(num2)\n",
        "else:\n",
        "    print(num2 +1)"
      ],
      "metadata": {
        "colab": {
          "base_uri": "https://localhost:8080/"
        },
        "id": "8M12vitqaXRC",
        "outputId": "c96b8902-fa7e-488c-9b9e-2a184fc41f58"
      },
      "execution_count": 29,
      "outputs": [
        {
          "output_type": "stream",
          "name": "stdout",
          "text": [
            "3037000500\n"
          ]
        }
      ]
    },
    {
      "cell_type": "code",
      "source": [
        "##########\n",
        "# 맞았데!!!\n",
        "##########\n",
        "\n",
        "import math\n",
        "import sys\n",
        "from decimal import Decimal, getcontext\n",
        "\n",
        "# Decimal 연산 정밀도 설정\n",
        "getcontext().prec = 50\n",
        "\n",
        "with open('./bj.txt', 'w') as f:\n",
        "    f.write('''9223372030926249000''')\n",
        "\n",
        "sys.stdin = open('./bj.txt', 'r')\n",
        "\n",
        "input = sys.stdin.readline\n",
        "\n",
        "num1 = Decimal(input())\n",
        "num2 = num1.sqrt()\n",
        "\n",
        "if num2 == int(num2):\n",
        "    print(int(num2))\n",
        "else:\n",
        "    print(int(num2) +1)"
      ],
      "metadata": {
        "colab": {
          "base_uri": "https://localhost:8080/"
        },
        "id": "UjMC7uUsbrqf",
        "outputId": "63164857-680b-4386-f7af-20626e7f1640"
      },
      "execution_count": 38,
      "outputs": [
        {
          "output_type": "stream",
          "name": "stdout",
          "text": [
            "1000000001\n"
          ]
        }
      ]
    },
    {
      "cell_type": "code",
      "source": [
        "##########\n",
        "# 시간 초과!\n",
        "##########\n",
        "\n",
        "n = 9223372030926249000\n",
        "\n",
        "start = 0\n",
        "end = n\n",
        "\n",
        "while start <= end:\n",
        "    middle = (start + end) // 2\n",
        "    if middle ** 2 < n:\n",
        "        s = middle + 1\n",
        "    else:\n",
        "        e = middle - 1\n",
        "\n",
        "print(start)"
      ],
      "metadata": {
        "colab": {
          "base_uri": "https://localhost:8080/"
        },
        "id": "Kt6ei_kTd54S",
        "outputId": "19187222-0a15-4cf7-f18d-53e23e059feb"
      },
      "execution_count": 37,
      "outputs": [
        {
          "output_type": "stream",
          "name": "stdout",
          "text": [
            "3037000499\n"
          ]
        }
      ]
    },
    {
      "cell_type": "code",
      "source": [
        "###\n",
        "# 오..\n",
        "###\n",
        "n = int(input())\n",
        "ns = int(n**0.5)\n",
        "print(ns + int(ns * ns < n))"
      ],
      "metadata": {
        "colab": {
          "base_uri": "https://localhost:8080/"
        },
        "id": "wpC84V6bebSp",
        "outputId": "b4ffbdfe-6815-4066-f89f-5d5d545517b5"
      },
      "execution_count": 40,
      "outputs": [
        {
          "output_type": "stream",
          "name": "stdout",
          "text": [
            "3037000499\n"
          ]
        }
      ]
    },
    {
      "cell_type": "code",
      "source": [],
      "metadata": {
        "id": "1B6O0teBf__M"
      },
      "execution_count": null,
      "outputs": []
    }
  ]
}