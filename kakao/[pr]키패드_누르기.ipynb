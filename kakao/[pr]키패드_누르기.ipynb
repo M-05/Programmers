{
  "nbformat": 4,
  "nbformat_minor": 0,
  "metadata": {
    "colab": {
      "provenance": []
    },
    "kernelspec": {
      "name": "python3",
      "display_name": "Python 3"
    },
    "language_info": {
      "name": "python"
    }
  },
  "cells": [
    {
      "cell_type": "markdown",
      "source": [
        "# [키패드 누르기](https://school.programmers.co.kr/learn/courses/30/lessons/67256)"
      ],
      "metadata": {
        "id": "Dvz1m1ZAWBps"
      }
    },
    {
      "cell_type": "markdown",
      "source": [
        "왼손 오른손 엄지 숫자만.  \n",
        "\n",
        " '*' \\# 에서 스타트\n",
        "\n",
        "상하좌우 4가지 방향  \n",
        "왼쪽은 1,4,7\n",
        "오른쪽 3,6,9\n",
        "\n",
        "가운데 2580  \n",
        "가까운 손가락"
      ],
      "metadata": {
        "id": "fZam8QIF306x"
      }
    },
    {
      "cell_type": "code",
      "source": [
        "numbers=[1,3,4,5,8,2,1,4,5,9,5]\n",
        "hand = 'right'\n",
        "#'LRLLLRLLRRL"
      ],
      "metadata": {
        "id": "nzDSaJTz4YVp"
      },
      "execution_count": null,
      "outputs": []
    },
    {
      "cell_type": "code",
      "source": [
        "L = [1, 4, 7]\n",
        "R = [3, 6, 9]\n",
        "C = [2, 5, 8, 0]"
      ],
      "metadata": {
        "id": "-htAZUZGWLMG"
      },
      "execution_count": null,
      "outputs": []
    },
    {
      "cell_type": "code",
      "source": [
        "str_num = ''\n",
        "for num in numbers:\n",
        "    str_num += str(num)\n",
        "\n",
        "write_num = str_num"
      ],
      "metadata": {
        "id": "OjYTzYUd-3me"
      },
      "execution_count": null,
      "outputs": []
    },
    {
      "cell_type": "code",
      "source": [
        "for i, j in zip(L, R):\n",
        "    write_num = write_num.replace(str(i), \"L\").replace(str(j), \"R\")"
      ],
      "metadata": {
        "id": "PHc91yc8-9qG"
      },
      "execution_count": null,
      "outputs": []
    },
    {
      "cell_type": "code",
      "source": [
        "str_num, write_num"
      ],
      "metadata": {
        "colab": {
          "base_uri": "https://localhost:8080/"
        },
        "id": "g2KyFuOb_MhR",
        "outputId": "ff386ce0-6fc9-4f7c-c1a5-01d0b4e9b0a9"
      },
      "execution_count": null,
      "outputs": [
        {
          "output_type": "execute_result",
          "data": {
            "text/plain": [
              "('13458214595', 'LRL582LL5R5')"
            ]
          },
          "metadata": {},
          "execution_count": 76
        }
      ]
    },
    {
      "cell_type": "code",
      "source": [
        "hand_dict = {'L': \"0\", 'R':\"0\"}\n",
        "temp = ''\n",
        "for i, j in zip(str_num, write_num):\n",
        "    print(hand_dict)\n",
        "    if j.isdigit():\n",
        "        if hand == 'right':\n",
        "            if abs(int(hand_dict[\"L\"]) - int(j)) >= abs(int(hand_dict[\"R\"]) - int(j)):\n",
        "                temp += \"R\"\n",
        "                hand_dict['R'] = j\n",
        "            else:\n",
        "                temp += \"L\"\n",
        "                hand_dict['L'] = j\n",
        "        else:\n",
        "            if abs(int(hand_dict[\"L\"]) - int(j)) <= abs(int(hand_dict[\"R\"]) - int(j)):\n",
        "                temp += \"L\"\n",
        "                hand_dict['L'] = j\n",
        "            else:\n",
        "                temp += \"R\"\n",
        "                hand_dict['R'] = j\n",
        "    else:\n",
        "        hand_dict[j] = i\n"
      ],
      "metadata": {
        "colab": {
          "base_uri": "https://localhost:8080/"
        },
        "id": "uPOcxsTU74Pr",
        "outputId": "aaf245c4-5456-445d-9e42-d7a05bf0d0bc"
      },
      "execution_count": null,
      "outputs": [
        {
          "output_type": "stream",
          "name": "stdout",
          "text": [
            "{'L': '0', 'R': '0'}\n",
            "{'L': '1', 'R': '0'}\n",
            "{'L': '1', 'R': '3'}\n",
            "{'L': '4', 'R': '3'}\n",
            "{'L': '5', 'R': '3'}\n",
            "{'L': '8', 'R': '3'}\n",
            "{'L': '8', 'R': '2'}\n",
            "{'L': '1', 'R': '2'}\n",
            "{'L': '4', 'R': '2'}\n",
            "{'L': '5', 'R': '2'}\n",
            "{'L': '5', 'R': '9'}\n"
          ]
        }
      ]
    },
    {
      "cell_type": "code",
      "source": [
        "temp"
      ],
      "metadata": {
        "colab": {
          "base_uri": "https://localhost:8080/",
          "height": 35
        },
        "id": "tFilYmQ7EQeD",
        "outputId": "3e7d663e-3ebb-49d5-81fb-08f568501126"
      },
      "execution_count": null,
      "outputs": [
        {
          "output_type": "execute_result",
          "data": {
            "text/plain": [
              "'LLRLL'"
            ],
            "application/vnd.google.colaboratory.intrinsic+json": {
              "type": "string"
            }
          },
          "metadata": {},
          "execution_count": 78
        }
      ]
    },
    {
      "cell_type": "code",
      "source": [
        "answer = ''\n",
        "cnt = 0\n",
        "for s in write_num:\n",
        "    if s.isdigit():\n",
        "        cnt += 1\n",
        "        answer += temp[cnt -1]\n",
        "    else:\n",
        "        answer += s\n"
      ],
      "metadata": {
        "id": "dv0-g-ssEUdf"
      },
      "execution_count": null,
      "outputs": []
    },
    {
      "cell_type": "code",
      "source": [
        "answer"
      ],
      "metadata": {
        "colab": {
          "base_uri": "https://localhost:8080/",
          "height": 35
        },
        "id": "Wk0AYDRpEQbf",
        "outputId": "35410f4c-bf6f-4ae1-c16c-9a480b3bfcb8"
      },
      "execution_count": null,
      "outputs": [
        {
          "output_type": "execute_result",
          "data": {
            "text/plain": [
              "'LRLLLRLLLRL'"
            ],
            "application/vnd.google.colaboratory.intrinsic+json": {
              "type": "string"
            }
          },
          "metadata": {},
          "execution_count": 48
        }
      ]
    },
    {
      "cell_type": "code",
      "source": [],
      "metadata": {
        "id": "d-RBbQuNPN02"
      },
      "execution_count": null,
      "outputs": []
    },
    {
      "cell_type": "code",
      "source": [
        "#########################\n",
        "# 0 을 잘 못걸러내서 실패\n",
        "#########################\n",
        "L = [1, 4, 7]\n",
        "R = [3, 6, 9]\n",
        "C = [2, 5, 8, 0]\n",
        "\n",
        "str_num = ''\n",
        "for num in numbers:\n",
        "    str_num += str(num)\n",
        "write_num = str_num\n",
        "\n",
        "for i, j in zip(L,R):\n",
        "    write_num = write_num.replace(str(i), \"L\").replace(str(j), \"R\")\n",
        "\n",
        "hand_dict = {'L' : \"0\", \"R\": \"0\"}\n",
        "temp = ''\n",
        "for i, j in zip(str_num, write_num):\n",
        "    if j.isdigit():\n",
        "        if hand == 'right':\n",
        "            if int(hand_dict['R']) in C:\n",
        "                if int(hand_dict['R']) + 3 == int(j) or int(hand_dict['R']) - 3 == int(j):\n",
        "                    temp += 'R'\n",
        "                    hand_dict['R'] = j\n",
        "\n",
        "            elif abs(int(hand_dict['L']) - int(j)) >= abs(int(hand_dict['R']) - int(j)):\n",
        "                temp += 'R'\n",
        "                hand_dict['R'] = j\n",
        "\n",
        "            else:\n",
        "                temp += \"L\"\n",
        "                hand_dict['L'] = j\n",
        "        else:\n",
        "            if int(hand_dict['L']) in C:\n",
        "                if int(hand_dict['L']) + 3 == int(j) or int(hand_dict['L']) - 3 == int(j):\n",
        "                    temp += \"L\"\n",
        "                    hand_dict['L'] = j\n",
        "            elif abs(int(hand_dict['R']) - int(j)) >= abs(int(hand_dict['L']) - int(j)):\n",
        "                temp += \"L\"\n",
        "                hand_dict['L'] = j\n",
        "            else:\n",
        "                temp += \"R\"\n",
        "                hand_dict['R'] = j\n",
        "    else:\n",
        "        hand_dict[j] = i\n",
        "\n",
        "answer = ''\n",
        "cnt = 0\n",
        "print(write_num)\n",
        "for s in write_num:\n",
        "    if s.isdigit():\n",
        "        cnt += 1\n",
        "\n",
        "        answer += temp[cnt -1]\n",
        "\n",
        "    else:\n",
        "        answer += s\n"
      ],
      "metadata": {
        "colab": {
          "base_uri": "https://localhost:8080/",
          "height": 273
        },
        "id": "xyl5sY34PGdo",
        "outputId": "b01d2ae8-192c-4928-ac9a-337d291df675"
      },
      "execution_count": null,
      "outputs": [
        {
          "output_type": "stream",
          "name": "stdout",
          "text": [
            "L2RL5RL8R0\n"
          ]
        },
        {
          "output_type": "error",
          "ename": "IndexError",
          "evalue": "ignored",
          "traceback": [
            "\u001b[0;31m---------------------------------------------------------------------------\u001b[0m",
            "\u001b[0;31mIndexError\u001b[0m                                Traceback (most recent call last)",
            "\u001b[0;32m<ipython-input-93-41496fecfe36>\u001b[0m in \u001b[0;36m<cell line: 47>\u001b[0;34m()\u001b[0m\n\u001b[1;32m     49\u001b[0m         \u001b[0mcnt\u001b[0m \u001b[0;34m+=\u001b[0m \u001b[0;36m1\u001b[0m\u001b[0;34m\u001b[0m\u001b[0;34m\u001b[0m\u001b[0m\n\u001b[1;32m     50\u001b[0m \u001b[0;34m\u001b[0m\u001b[0m\n\u001b[0;32m---> 51\u001b[0;31m         \u001b[0manswer\u001b[0m \u001b[0;34m+=\u001b[0m \u001b[0mtemp\u001b[0m\u001b[0;34m[\u001b[0m\u001b[0mcnt\u001b[0m \u001b[0;34m-\u001b[0m\u001b[0;36m1\u001b[0m\u001b[0;34m]\u001b[0m\u001b[0;34m\u001b[0m\u001b[0;34m\u001b[0m\u001b[0m\n\u001b[0m\u001b[1;32m     52\u001b[0m \u001b[0;34m\u001b[0m\u001b[0m\n\u001b[1;32m     53\u001b[0m     \u001b[0;32melse\u001b[0m\u001b[0;34m:\u001b[0m\u001b[0;34m\u001b[0m\u001b[0;34m\u001b[0m\u001b[0m\n",
            "\u001b[0;31mIndexError\u001b[0m: string index out of range"
          ]
        }
      ]
    },
    {
      "cell_type": "code",
      "source": [
        "answer"
      ],
      "metadata": {
        "colab": {
          "base_uri": "https://localhost:8080/",
          "height": 35
        },
        "id": "WX2xOMdtPJpr",
        "outputId": "be1744d0-02ee-4edd-d8e1-8f5418cf7ae1"
      },
      "execution_count": null,
      "outputs": [
        {
          "output_type": "execute_result",
          "data": {
            "text/plain": [
              "'LRLLLRLLRRL'"
            ],
            "application/vnd.google.colaboratory.intrinsic+json": {
              "type": "string"
            }
          },
          "metadata": {},
          "execution_count": 83
        }
      ]
    },
    {
      "cell_type": "code",
      "source": [],
      "metadata": {
        "id": "L7q15isNV1RK"
      },
      "execution_count": null,
      "outputs": []
    },
    {
      "cell_type": "code",
      "source": [
        "#########################\n",
        "# 0 을 잘 못걸러내서 실패\n",
        "#########################\n",
        "\n",
        "def solution(numbers, hand):\n",
        "    L = [1, 4, 7]\n",
        "    R = [3, 6, 9]\n",
        "    C = [2, 5, 8, 0]\n",
        "\n",
        "    str_num = ''\n",
        "    for num in numbers:\n",
        "        str_num += str(num)\n",
        "    write_num = str_num\n",
        "\n",
        "    for i, j in zip(L,R):\n",
        "        write_num = write_num.replace(str(i), \"L\").replace(str(j), \"R\")\n",
        "\n",
        "    hand_dict = {'L' : \"10\", \"R\": \"12\"}\n",
        "    temp = ''\n",
        "    for i, j in zip(str_num, write_num):\n",
        "        if j.isdigit(): # 2 5 8 0\n",
        "            if hand == 'right':\n",
        "                if j == 0:\n",
        "                    j = 11 # 둘이 같다면\n",
        "                    L = abs(j - int(hand_dict['L']))\n",
        "                    R = abs(j - int(hand_dict['R']))\n",
        "                    L = (L // 3) + (L % 3)\n",
        "                    R = (R // 3) + (R % 3)\n",
        "                    if L == R:\n",
        "                        temp +='R'\n",
        "                        hand_dict['R'] = j\n",
        "                    elif L > R:\n",
        "                        temp +='R'\n",
        "                        hand_dict['R'] = j\n",
        "                    else:\n",
        "                        temp +='L'\n",
        "                        hand_dict['L'] = j\n",
        "                else:\n",
        "                    L = abs(int(j) - int(hand_dict['L']))\n",
        "                    R = abs(int(j) - int(hand_dict['R']))\n",
        "                    L = (L // 3) + (L % 3)\n",
        "                    R = (R // 3) + (R % 3)\n",
        "                    if L > R:\n",
        "                        temp +='R'\n",
        "                        hand_dict['R'] = int(j)\n",
        "                    else:\n",
        "                        temp +='L'\n",
        "                        hand_dict['L'] = int(j)\n",
        "\n",
        "            else: # left\n",
        "                if j == 0:\n",
        "                    j = 11 # 둘이 같다면\n",
        "                    L = abs(j - int(hand_dict['L']))\n",
        "                    R = abs(j - int(hand_dict['R']))\n",
        "                    L = (L // 3) + (L % 3)\n",
        "                    R = (R // 3) + (R % 3)\n",
        "                    if L == R:\n",
        "                        temp +='L'\n",
        "                        hand_dict['L'] = j\n",
        "                    elif L > R:\n",
        "                        temp +='R'\n",
        "                        hand_dict['R'] = j\n",
        "                    else:\n",
        "                        temp +='L'\n",
        "                        hand_dict['L'] = j\n",
        "\n",
        "                else:\n",
        "                    L = abs(int(j) - int(hand_dict['L']))\n",
        "                    R = abs(int(j) - int(hand_dict['R']))\n",
        "                    L = (L // 3) + (L % 3)\n",
        "                    R = (R // 3) + (R % 3)\n",
        "                    if L > R:\n",
        "                        temp +='R'\n",
        "                        hand_dict['R'] = int(j)\n",
        "                    else:\n",
        "                        temp +='L'\n",
        "                        hand_dict['L'] = int(j)\n",
        "\n",
        "        else:\n",
        "            hand_dict[j] = i\n",
        "    print(str_num, write_num)\n",
        "    print(temp)\n",
        "    answer = ''\n",
        "    cnt = 0\n",
        "    for s in write_num:\n",
        "        if s.isdigit():\n",
        "            cnt += 1\n",
        "            answer += temp[cnt -1]\n",
        "        else:\n",
        "            answer += s\n",
        "    return answer"
      ],
      "metadata": {
        "id": "JpUxaXeqPFAu"
      },
      "execution_count": null,
      "outputs": []
    },
    {
      "cell_type": "code",
      "source": [
        "numbers=[7, 0, 8, 2, 8, 3, 1, 5, 7, 6, 2]\n",
        "hand=\"left\"\t#\"LRLLRRLLLRR\"\n",
        "\n",
        "solution(numbers, hand)"
      ],
      "metadata": {
        "colab": {
          "base_uri": "https://localhost:8080/",
          "height": 72
        },
        "id": "KQvlm-IPV7GI",
        "outputId": "bafbe72e-8028-43bd-ccf4-06d07bf13d73"
      },
      "execution_count": null,
      "outputs": [
        {
          "output_type": "stream",
          "name": "stdout",
          "text": [
            "70828315762 L0828RL5LR2\n",
            "LRLRLR\n"
          ]
        },
        {
          "output_type": "execute_result",
          "data": {
            "text/plain": [
              "'LLRLRRLLLRR'"
            ],
            "application/vnd.google.colaboratory.intrinsic+json": {
              "type": "string"
            }
          },
          "metadata": {},
          "execution_count": 122
        }
      ]
    },
    {
      "cell_type": "code",
      "source": [],
      "metadata": {
        "id": "3b-SyJHJnGL2"
      },
      "execution_count": null,
      "outputs": []
    },
    {
      "cell_type": "code",
      "source": [
        "numbers=[7, 0, 8, 2, 8, 3, 1, 5, 7, 6, 2]\n",
        "hand=\"left\"\t#\"LRLLRRLLLRR\""
      ],
      "metadata": {
        "id": "tUIHkrISiyv-"
      },
      "execution_count": null,
      "outputs": []
    },
    {
      "cell_type": "code",
      "source": [
        "def solution(numbers, hand):\n",
        "    answer = ''\n",
        "    L = 10\n",
        "    R = 12\n",
        "\n",
        "    for num in numbers:\n",
        "        if num == 0:  # 0 % 3 ==> 0\n",
        "            num = 11\n",
        "\n",
        "        if num % 3 == 1: # 147\n",
        "            answer += \"L\"\n",
        "            L = num\n",
        "\n",
        "        elif num % 3 == 0: # 369\n",
        "            answer += \"R\"\n",
        "            R = num\n",
        "\n",
        "        else: # 2580 # 변수 안바꾸면 삑사리 나네.\n",
        "            L1 = abs(num - L)\n",
        "            R1 = abs(num - R)\n",
        "            # 키패드 위치 L 2 R 6  target 5\n",
        "            # 미세 조정.\n",
        "            L1 = (L1 //3) + (L1 %3)\n",
        "            R1 = (R1 //3) + (R1 %3)\n",
        "\n",
        "            if L1 > R1:\n",
        "                answer += \"R\"\n",
        "                R = num\n",
        "            elif R1 > L1:\n",
        "                answer += 'L'\n",
        "                L = num\n",
        "            else:\n",
        "                if hand == \"right\":\n",
        "                    answer += \"R\"\n",
        "                    R = num\n",
        "                else:\n",
        "                    answer += \"L\"\n",
        "                    L = num\n",
        "        return answer\n",
        "print(answer)\n",
        "# LRLLRRLRLRR\n",
        "# LRLLRRLLLRR  include  // 3 +  % 3"
      ],
      "metadata": {
        "colab": {
          "base_uri": "https://localhost:8080/"
        },
        "id": "6sFBDOTIiyqb",
        "outputId": "cad320ae-efc5-47f2-94af-48e8058a572f"
      },
      "execution_count": null,
      "outputs": [
        {
          "output_type": "stream",
          "name": "stdout",
          "text": [
            "LRLLRRLLLRR\n"
          ]
        }
      ]
    },
    {
      "cell_type": "code",
      "source": [
        "target = 5\n",
        "l = 2\n",
        "r = 6\n",
        "\n",
        "l1 = abs(target - l)\n",
        "r1 = abs(target - r)\n",
        "print(l1, r1)\n",
        "\n",
        "l2 = l1 // 3 + l1%3\n",
        "r2 = r1//3 + r1%3\n",
        "print(l2, r2)"
      ],
      "metadata": {
        "colab": {
          "base_uri": "https://localhost:8080/"
        },
        "id": "v5lCaqUxoIUU",
        "outputId": "a32f4a92-7703-4446-a39c-880692675ed6"
      },
      "execution_count": null,
      "outputs": [
        {
          "output_type": "stream",
          "name": "stdout",
          "text": [
            "3 1\n",
            "1 1\n"
          ]
        }
      ]
    },
    {
      "cell_type": "code",
      "source": [],
      "metadata": {
        "id": "jook3-GroIKE"
      },
      "execution_count": null,
      "outputs": []
    },
    {
      "cell_type": "markdown",
      "source": [
        "---\n",
        "---\n",
        "---"
      ],
      "metadata": {
        "id": "59mydfGncuhJ"
      }
    },
    {
      "cell_type": "code",
      "source": [
        "def solution(numbers, hand):\n",
        "    answer = ''\n",
        "    # 왼손 * 오른손 # 시작\n",
        "    left = 10\n",
        "    right = 12\n",
        "    for n in numbers:\n",
        "        if n == 0:\n",
        "            n = 11\n",
        "        if n % 3 == 1:\n",
        "            answer += 'L'\n",
        "            left = n\n",
        "        elif n % 3 == 0:\n",
        "            answer += 'R'\n",
        "            right = n\n",
        "        else:\n",
        "            mL = abs(n - left)\n",
        "            mR = abs(n - right)\n",
        "            dL = (mL // 3) + (mL % 3)\n",
        "            dR = (mR // 3) + (mR % 3)\n",
        "            if dL > dR:\n",
        "                answer += 'R'\n",
        "                right = n\n",
        "            elif dL < dR:\n",
        "                answer += 'L'\n",
        "                left = n\n",
        "            else:\n",
        "                if hand == 'left':\n",
        "                    answer += 'L'\n",
        "                    left = n\n",
        "                else:\n",
        "                    answer += 'R'\n",
        "                    right = n\n",
        "    print(answer)\n",
        "    return answer"
      ],
      "metadata": {
        "id": "aZ9z-r4ncuei"
      },
      "execution_count": null,
      "outputs": []
    },
    {
      "cell_type": "code",
      "source": [
        "def solution(numbers, hand):\n",
        "    answer = ''\n",
        "    key_dict = {1:(0,0),2:(0,1),3:(0,2),\n",
        "                4:(1,0),5:(1,1),6:(1,2),\n",
        "                7:(2,0),8:(2,1),9:(2,2),\n",
        "                '*':(3,0),0:(3,1),'#':(3,2)}\n",
        "\n",
        "    left = [1,4,7]\n",
        "    right = [3,6,9]\n",
        "    lhand = '*'\n",
        "    rhand = '#'\n",
        "    for i in numbers:\n",
        "        if i in left:\n",
        "            answer += 'L'\n",
        "            lhand = i\n",
        "        elif i in right:\n",
        "            answer += 'R'\n",
        "            rhand = i\n",
        "        else:\n",
        "            curPos = key_dict[i] # key_dict[5] = (1,1)\n",
        "            lPos = key_dict[lhand]\n",
        "            rPos = key_dict[rhand]\n",
        "            # 각각 x,y 축끼리\n",
        "            ldist = abs(curPos[0]-lPos[0]) + abs(curPos[1]-lPos[1])\n",
        "            rdist = abs(curPos[0]-rPos[0]) + abs(curPos[1]-rPos[1])\n",
        "\n",
        "            if ldist < rdist:\n",
        "                answer += 'L'\n",
        "                lhand = i\n",
        "            elif ldist > rdist:\n",
        "                answer += 'R'\n",
        "                rhand = i\n",
        "            else:\n",
        "                if hand == 'left':\n",
        "                    answer += 'L'\n",
        "                    lhand = i\n",
        "                else:\n",
        "                    answer += 'R'\n",
        "                    rhand = i\n",
        "\n",
        "    return answer"
      ],
      "metadata": {
        "id": "W9j6tUiKqBvX"
      },
      "execution_count": null,
      "outputs": []
    }
  ]
}