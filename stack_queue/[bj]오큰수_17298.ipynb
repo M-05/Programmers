{
  "nbformat": 4,
  "nbformat_minor": 0,
  "metadata": {
    "colab": {
      "provenance": []
    },
    "kernelspec": {
      "name": "python3",
      "display_name": "Python 3"
    },
    "language_info": {
      "name": "python"
    }
  },
  "cells": [
    {
      "cell_type": "markdown",
      "source": [
        "# [오큰수 17298](https://www.acmicpc.net/problem/17298)\n",
        "\n",
        "오큰수는 오른쪽에 있으면서 A_i보다 큰 수 중에서 가장 왼쪽에 있는 수\n",
        "\n",
        "- 자료 구조\n",
        "- 스택\n",
        "\n",
        "> 수열 A의 크기 N (1 ≤ N ≤ 1,000,000)"
      ],
      "metadata": {
        "id": "UuhI4DePp_bF"
      }
    },
    {
      "cell_type": "code",
      "source": [
        "import sys\n",
        "\n",
        "with open('./bj.txt', 'w') as f:\n",
        "    f.write('''4\n",
        "3 5 2 7''')\n",
        "#     f.write('''4\n",
        "# 9 5 4 8''')\n",
        "\n",
        "sys.stdin = open('./bj.txt', 'r')\n",
        "input = sys.stdin.readline\n",
        "n = int(input())\n",
        "arr = list(map(int, input().split()))\n",
        "nge = [-1 for _ in range(n)]"
      ],
      "metadata": {
        "id": "H-0FoBlIp_ej"
      },
      "execution_count": 40,
      "outputs": []
    },
    {
      "cell_type": "code",
      "source": [
        "#####\n",
        "# 재 공부.\n",
        "#####\n",
        "import sys\n",
        "input = sys.stdin.readline\n",
        "n = int(input())\n",
        "arr = list(map(int, input().split()))\n",
        "nge = [-1 for _ in range(n)]\n",
        "# nge = [-1] * n\n",
        "\n",
        "stack = []\n",
        "\n",
        "for i in range(n):\n",
        "    x = arr[i]\n",
        "    if len(stack) == 0 or stack[-1][0] >= x:\n",
        "        # 비어있던가 or stack의 맨 뒤의 값이 클경우.\n",
        "        stack.append((x, i)) # 값, 인덱스\n",
        "    else:\n",
        "        while len(stack) > 0:\n",
        "            previous, index = stack.pop()\n",
        "            if previous >= x: # 이전 값이 클 경우.\n",
        "                stack.append((previous, index))\n",
        "                break\n",
        "            else: # 현재 값이 클경우.\n",
        "                nge[index] = x\n",
        "        stack.append((x, i)) # 다음값과 비교할 현재값 넣기.\n",
        "\n",
        "print(*nge)"
      ],
      "metadata": {
        "colab": {
          "base_uri": "https://localhost:8080/"
        },
        "id": "2JO1izw1JPTv",
        "outputId": "080756b7-c07d-4fbc-ccc9-12657c56f319"
      },
      "execution_count": 41,
      "outputs": [
        {
          "output_type": "stream",
          "name": "stdout",
          "text": [
            "5 7 7 -1\n"
          ]
        }
      ]
    },
    {
      "cell_type": "code",
      "source": [
        "nge"
      ],
      "metadata": {
        "colab": {
          "base_uri": "https://localhost:8080/"
        },
        "id": "Q2J0a7CsvINi",
        "outputId": "6001e8e2-b54c-4577-b9af-8fa3b48302d5"
      },
      "execution_count": 26,
      "outputs": [
        {
          "output_type": "execute_result",
          "data": {
            "text/plain": [
              "[-1, -1, -1, -1]"
            ]
          },
          "metadata": {},
          "execution_count": 26
        }
      ]
    },
    {
      "cell_type": "code",
      "source": [
        "arr"
      ],
      "metadata": {
        "colab": {
          "base_uri": "https://localhost:8080/"
        },
        "id": "2K8PnQprGbAU",
        "outputId": "46d1583c-28e5-4f8e-cf8f-27f67f6d0702"
      },
      "execution_count": 21,
      "outputs": [
        {
          "output_type": "execute_result",
          "data": {
            "text/plain": [
              "[3, 5, 2, 7]"
            ]
          },
          "metadata": {},
          "execution_count": 21
        }
      ]
    },
    {
      "cell_type": "code",
      "source": [],
      "metadata": {
        "id": "Gye7n4v6Ga4G"
      },
      "execution_count": null,
      "outputs": []
    },
    {
      "cell_type": "markdown",
      "source": [
        "# import bisect\n",
        "\n",
        "실패"
      ],
      "metadata": {
        "id": "kRfOVQdCGTLv"
      }
    },
    {
      "cell_type": "code",
      "source": [
        "import bisect\n",
        "\n",
        "answer = []\n",
        "for i in range(n):\n",
        "    x = bisect.bisect_right(nge, nge[i])\n",
        "    if x == n:\n",
        "        answer.append(-1)\n",
        "    else:\n",
        "        answer.append(nge[x])\n",
        "answer"
      ],
      "metadata": {
        "colab": {
          "base_uri": "https://localhost:8080/"
        },
        "id": "sDVfnqL8Ar1g",
        "outputId": "8d112050-62c3-407e-ad21-2e019d7d5076"
      },
      "execution_count": 12,
      "outputs": [
        {
          "output_type": "execute_result",
          "data": {
            "text/plain": [
              "[-1, 8, 8, -1]"
            ]
          },
          "metadata": {},
          "execution_count": 12
        }
      ]
    },
    {
      "cell_type": "code",
      "source": [
        "# 큰수 중에서 최댓값을 출력하네.\n",
        "\n",
        "import bisect\n",
        "\n",
        "answer = []\n",
        "for i in range(n):\n",
        "    x = bisect.bisect_right(nge, nge[i])\n",
        "    if x == n:\n",
        "        answer.append(-1)\n",
        "    else:\n",
        "        answer.append(nge[x])\n",
        "answer"
      ],
      "metadata": {
        "colab": {
          "base_uri": "https://localhost:8080/"
        },
        "id": "tH527rDZAryj",
        "outputId": "3fc34dfa-ae14-4552-d24d-e05b83dcb126"
      },
      "execution_count": 14,
      "outputs": [
        {
          "output_type": "execute_result",
          "data": {
            "text/plain": [
              "[7, 7, 7, -1]"
            ]
          },
          "metadata": {},
          "execution_count": 14
        }
      ]
    },
    {
      "cell_type": "markdown",
      "source": [
        "# 시간 초과\n",
        "실패"
      ],
      "metadata": {
        "id": "c2jT1NAMAXcB"
      }
    },
    {
      "cell_type": "code",
      "source": [
        "# 10^6 * 10^5\n",
        "\n",
        "answer = []\n",
        "\n",
        "for now in range(n-1):\n",
        "    for next in nge[now+1:]:\n",
        "        if nge[now] < next:\n",
        "            answer.append(next)\n",
        "            break\n",
        "    if len(answer) != now+1:\n",
        "        answer.append(-1)\n",
        "answer.append(-1)\n",
        "\n",
        "print(*answer)"
      ],
      "metadata": {
        "colab": {
          "base_uri": "https://localhost:8080/"
        },
        "id": "OX8Yw9bUt06d",
        "outputId": "809988b1-bba6-403c-c26c-3fa54cb81ed5"
      },
      "execution_count": null,
      "outputs": [
        {
          "output_type": "stream",
          "name": "stdout",
          "text": [
            "-1 8 8 -1\n"
          ]
        }
      ]
    },
    {
      "cell_type": "markdown",
      "source": [
        "---\n",
        "---"
      ],
      "metadata": {
        "id": "ijlwKFfit0fi"
      }
    },
    {
      "cell_type": "code",
      "source": [
        "import sys\n",
        "input = sys.stdin.readline\n",
        "\n",
        "#오큰수를 구하지 못한 인덱스는 stack에 담고, 구했다면 stack에서 제거해준다.\n",
        "def find_NGE(arr, n):\n",
        "  result = [-1] * n\n",
        "  stack = []\n",
        "\n",
        "  for i in range(n):\n",
        "      while stack and arr[i] > arr[stack[-1]]:\n",
        "          top = stack.pop()\n",
        "          result[top] = arr[i]\n",
        "      stack.append(i)\n",
        "\n",
        "  return result\n",
        "\n",
        "n = int(input())\n",
        "arr = list(map(int, input().split()))\n",
        "\n",
        "result = find_NGE(arr, n)\n",
        "\n",
        "print(' '.join(map(str, result)))"
      ],
      "metadata": {
        "id": "d8dIjUCip_ob"
      },
      "execution_count": null,
      "outputs": []
    },
    {
      "cell_type": "code",
      "source": [
        "def print_NGE(sequence):\n",
        "    N = len(sequence)\n",
        "    stack = []\n",
        "    result = [-1] * N\n",
        "\n",
        "    for i in range(N):\n",
        "        while stack and sequence[stack[-1]] < sequence[i]:\n",
        "            index = stack.pop()\n",
        "            result[index] = sequence[i]\n",
        "        stack.append(i)\n",
        "\n",
        "    return result\n",
        "\n",
        "\n",
        "if __name__ == \"__main__\":\n",
        "    N = int(input())\n",
        "    sequence = list(map(int, input().split()))\n",
        "    result = print_NGE(sequence)\n",
        "    print(' '.join(map(str, result)))"
      ],
      "metadata": {
        "id": "COk900jsSlRz"
      },
      "execution_count": null,
      "outputs": []
    }
  ]
}