{
  "nbformat": 4,
  "nbformat_minor": 0,
  "metadata": {
    "colab": {
      "provenance": []
    },
    "kernelspec": {
      "name": "python3",
      "display_name": "Python 3"
    },
    "language_info": {
      "name": "python"
    }
  },
  "cells": [
    {
      "cell_type": "markdown",
      "source": [
        "# [택배 배달과 수거하기](https://school.programmers.co.kr/learn/courses/30/lessons/150369)"
      ],
      "metadata": {
        "id": "2_XPKD7OR9VT"
      }
    },
    {
      "cell_type": "markdown",
      "source": [
        "> 배달과 픽업은 독립적으로 보는게 문제 풀기에 쉽다.\n",
        "언뜻 보면 매우 연관이 있지만 사실 둘 사이에는 큰 연관이 없습니다.\n",
        "\n",
        "> 한번의 이동으로 가야하는 최대 지점을 구하는 방식은 뒤에서 부터 보는것 입니다."
      ],
      "metadata": {
        "id": "9ZbabBYgVN0J"
      }
    },
    {
      "cell_type": "code",
      "source": [
        "def solution(cap, n, deliveries, pickups):\n",
        "    truck = []\n",
        "    answer=0\n",
        "    deliver =0\n",
        "    pick = 0\n",
        "\n",
        "    for i in range(n):\n",
        "        truck.append((i +1, deliveries[i], pickups[i]))\n",
        "# \t[(1, 1, 0), (2, 0, 3), (3, 3, 0), (4, 1, 4), (5, 2, 0)]\n",
        "    # print(truck)\n",
        "\n",
        "    while truck:\n",
        "        i, d, p = truck.pop() # (5, 2, 0) (4, 1, 4) (3, 3, 0)\n",
        "        deliver += d # 2 -> -2 + 1 -> -1 + 3\n",
        "        pick += p # 0 -> -4 + 4 -> 0\n",
        "\n",
        "        while deliver>0 or pick>0:\n",
        "            deliver -= cap # 2 - 4 -> 2 -4\n",
        "            pick -= cap # 0 - 4 -> 0 - 4\n",
        "            answer += 2 * i # 2 * 5 -> 2 * 3\n",
        "\n",
        "    return answer"
      ],
      "metadata": {
        "id": "TKG6sNJ-DYYX"
      },
      "execution_count": null,
      "outputs": []
    },
    {
      "cell_type": "code",
      "source": [],
      "metadata": {
        "id": "Pd-v1iWFSn7e"
      },
      "execution_count": null,
      "outputs": []
    },
    {
      "cell_type": "code",
      "source": [
        "for i in range(5-1, -1, -1):\n",
        "    print(i)"
      ],
      "metadata": {
        "colab": {
          "base_uri": "https://localhost:8080/"
        },
        "id": "PL_6QwPdSoEg",
        "outputId": "40afe862-ebdc-4011-cf6d-5c7e252bc9e8"
      },
      "execution_count": null,
      "outputs": [
        {
          "output_type": "stream",
          "name": "stdout",
          "text": [
            "4\n",
            "3\n",
            "2\n",
            "1\n",
            "0\n"
          ]
        }
      ]
    },
    {
      "cell_type": "code",
      "source": [
        "def solution(cap, n, deliveries, pickups):\n",
        "    answer = 0\n",
        "    truck = []\n",
        "    deliver = 0\n",
        "    pick = 0\n",
        "\n",
        "    for idx, (d, p) in enumerate(zip(deliveries, pickups), start=1):\n",
        "        truck.append((idx, d, p))\n",
        "\n",
        "    while truck:\n",
        "        idx, d, p = truck.pop()\n",
        "        deliver += d\n",
        "        pick += p\n",
        "        while deliver > 0 or pick > 0:\n",
        "            deliver -= cap\n",
        "            pick -= cap\n",
        "            answer += 2 * idx\n",
        "\n",
        "    return answer"
      ],
      "metadata": {
        "id": "9xT8UkQ3W056"
      },
      "execution_count": null,
      "outputs": []
    },
    {
      "cell_type": "code",
      "source": [],
      "metadata": {
        "id": "SlkKuX07GW98"
      },
      "execution_count": null,
      "outputs": []
    },
    {
      "cell_type": "code",
      "source": [
        "def solution(cap, n, deliveries, pickups):\n",
        "    deliveries = deliveries[::-1]\n",
        "    pickups = pickups[::-1]\n",
        "    answer = 0\n",
        "\n",
        "    have_to_deli = 0\n",
        "    have_to_pick = 0\n",
        "\n",
        "    for i in range(n):\n",
        "        have_to_deli += deliveries[i]\n",
        "        have_to_pick += pickups[i]\n",
        "\n",
        "        while have_to_deli > 0 or have_to_pick > 0:\n",
        "            have_to_deli -= cap\n",
        "            have_to_pick -= cap\n",
        "            answer += (n - i) * 2\n",
        "\n",
        "    return answer"
      ],
      "metadata": {
        "id": "vhHnUjhEGXA4"
      },
      "execution_count": null,
      "outputs": []
    }
  ]
}