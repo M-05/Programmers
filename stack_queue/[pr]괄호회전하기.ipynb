{
  "nbformat": 4,
  "nbformat_minor": 0,
  "metadata": {
    "colab": {
      "provenance": []
    },
    "kernelspec": {
      "name": "python3",
      "display_name": "Python 3"
    },
    "language_info": {
      "name": "python"
    }
  },
  "cells": [
    {
      "cell_type": "markdown",
      "source": [
        "# [괄호회전하기](https://school.programmers.co.kr/learn/courses/30/lessons/76502)"
      ],
      "metadata": {
        "id": "rhwCoim7Rvp2"
      }
    },
    {
      "cell_type": "code",
      "source": [
        "# s = \"[](){}\" # 3\n",
        "s = \"}]()[{\" # 2\n",
        "# s = \"[)(]\"   # 0\n",
        "# s = \"}}}\"    # 0\n",
        "# s = \"[(){{}}]\" # 1\n",
        "# s = '[(])'\n",
        "# s = '([{)}]' # 0\n",
        "# s =\"{{{{{{{\" # 0\n",
        "# s = \"({[]})}{\" #1\n",
        "# s = \"(){[()]}][\"# 1\n",
        "# s = '(){{))'\n",
        "# s = '(){{]]'"
      ],
      "metadata": {
        "id": "y9Sc_0b9Y3bf"
      },
      "execution_count": 50,
      "outputs": []
    },
    {
      "cell_type": "code",
      "source": [],
      "metadata": {
        "id": "EG5tw_0qZPMc"
      },
      "execution_count": null,
      "outputs": []
    },
    {
      "cell_type": "code",
      "source": [],
      "metadata": {
        "id": "2kuSAbg6Y3QQ"
      },
      "execution_count": null,
      "outputs": []
    },
    {
      "cell_type": "code",
      "source": [
        "from collections import deque, Counter\n",
        "\n",
        "def solution(s):\n",
        "    cnt = 0\n",
        "    counter = Counter(s)\n",
        "    length = len(s)\n",
        "    # rotCnt = length +1\n",
        "\n",
        "    queue = deque(s)\n",
        "    pairDict = {']':'[' , '}':'{', ')':'('}\n",
        "\n",
        "    if bin(length)[-1] == '1':\n",
        "        return cnt\n",
        "\n",
        "    for a, b in zip('[{(',']})'):\n",
        "        if counter[a] != counter[b]:\n",
        "            return cnt\n",
        "\n",
        "    for _ in range(len(queue)):\n",
        "        # rotCnt -= 1\n",
        "        queue.rotate(-1)\n",
        "\n",
        "        left = []\n",
        "\n",
        "        if queue[0] in ']})' or queue[-1] in '[{(':\n",
        "            continue\n",
        "\n",
        "        temp = 0\n",
        "\n",
        "        for q in queue:\n",
        "            if q in '[{(':\n",
        "                left.append(q)\n",
        "\n",
        "            else: # q in ']})'\n",
        "                if len(left) == 0:\n",
        "                    break\n",
        "\n",
        "                if pairDict[q] == left[-1]:\n",
        "                    left.pop()\n",
        "                    temp += 1\n",
        "\n",
        "        if len(left) == 0 and temp == (length // 2):\n",
        "            cnt += 1\n",
        "    return cnt"
      ],
      "metadata": {
        "id": "RHMILrNrYfTj"
      },
      "execution_count": null,
      "outputs": []
    },
    {
      "cell_type": "code",
      "source": [],
      "metadata": {
        "id": "IJs6gJ6acMR3"
      },
      "execution_count": null,
      "outputs": []
    },
    {
      "cell_type": "code",
      "source": [
        "from collections import deque, Counter\n",
        "\n",
        "def solution(s):\n",
        "    cnt = 0\n",
        "    counter = Counter(s)\n",
        "    length = len(s)\n",
        "    rotCnt = length\n",
        "\n",
        "    queue = deque(s)\n",
        "    pairDict = {']': '[', '}': '{', ')': '('}\n",
        "\n",
        "    # 문자열 길이가 홀수이면 올바른 괄호 문자열이 될 수 없음\n",
        "    if length % 2 == 1:\n",
        "        return cnt\n",
        "\n",
        "    # 각 괄호의 개수가 동일한지 확인\n",
        "    for a, b in zip('[{(', ']})'):\n",
        "        if counter[a] != counter[b]:\n",
        "            return cnt\n",
        "\n",
        "    # 문자열을 회전시키면서 올바른 괄호 문자열인지 확인\n",
        "    for _ in range(rotCnt):\n",
        "        queue.rotate(-1)\n",
        "\n",
        "        left = []\n",
        "        temp = 0\n",
        "\n",
        "        for q in queue:\n",
        "            if q in '[{(':\n",
        "                left.append(q)\n",
        "            else:  # q in ']})'\n",
        "                if not left or pairDict[q] != left.pop():\n",
        "                    break\n",
        "                temp += 1\n",
        "\n",
        "        # 올바른 괄호 문자열인 경우 cnt 증가\n",
        "        if len(left) == 0 and temp == (length // 2):\n",
        "            cnt += 1\n",
        "\n",
        "    return cnt"
      ],
      "metadata": {
        "id": "9CfbMFs0cMVo"
      },
      "execution_count": null,
      "outputs": []
    }
  ]
}