{
  "nbformat": 4,
  "nbformat_minor": 0,
  "metadata": {
    "colab": {
      "provenance": []
    },
    "kernelspec": {
      "name": "python3",
      "display_name": "Python 3"
    },
    "language_info": {
      "name": "python"
    }
  },
  "cells": [
    {
      "cell_type": "markdown",
      "source": [
        "# [SHA-256 10930](https://www.acmicpc.net/problem/10930)\n",
        "\n",
        "- 구현\n",
        "- 문자열\n",
        "\n",
        "> S는 알파벳 대문자와 소문자, 그리고 숫자로만\n",
        "\n",
        "> 길이 최대 50"
      ],
      "metadata": {
        "id": "BHSCuwj9Z4LG"
      }
    },
    {
      "cell_type": "code",
      "source": [
        "from hashlib import sha256\n",
        "# https://wikidocs.net/122201\n",
        "\n",
        "from uuid import uuid1, uuid4\n",
        "# https://wikidocs.net/131351"
      ],
      "metadata": {
        "id": "BVuhgerBiGY3"
      },
      "execution_count": 35,
      "outputs": []
    },
    {
      "cell_type": "code",
      "execution_count": 31,
      "metadata": {
        "id": "TT71cufEZANw"
      },
      "outputs": [],
      "source": [
        "import sys\n",
        "\n",
        "with open('./bj.txt', 'w') as f:\n",
        "    f.write('''Baekjoon''')\n",
        "# 9944e1862efbb2a4e2486392dc6701896416b251eccdecb8332deb7f4cf2a857\n",
        "\n",
        "sys.stdin = open('./bj.txt', 'r')\n",
        "input = sys.stdin.readline"
      ]
    },
    {
      "cell_type": "code",
      "source": [
        "# Pass 왜??\n",
        "from hashlib import sha256\n",
        "\n",
        "data = input().encode()\n",
        "print(sha256(data).hexdigest())"
      ],
      "metadata": {
        "colab": {
          "base_uri": "https://localhost:8080/"
        },
        "id": "ZSFK7ZpVgN2K",
        "outputId": "1729709c-355d-44c8-f4f8-8ce8ea200a12"
      },
      "execution_count": 26,
      "outputs": [
        {
          "output_type": "stream",
          "name": "stdout",
          "text": [
            "9944e1862efbb2a4e2486392dc6701896416b251eccdecb8332deb7f4cf2a857\n"
          ]
        }
      ]
    },
    {
      "cell_type": "code",
      "source": [
        "# pass\n",
        "from hashlib import sha256\n",
        "# import sys\n",
        "\n",
        "# input = sys.stdin.readline\n",
        "data = input().encode()\n",
        "\n",
        "sha = sha256(data)\n",
        "result = sha.hexdigest()\n",
        "\n",
        "print(result)"
      ],
      "metadata": {
        "colab": {
          "base_uri": "https://localhost:8080/"
        },
        "id": "_uQZqRe8govV",
        "outputId": "74f6f550-5ff3-47ed-d94a-a023b13de05c"
      },
      "execution_count": 28,
      "outputs": [
        {
          "output_type": "stream",
          "name": "stdout",
          "text": [
            "9944e1862efbb2a4e2486392dc6701896416b251eccdecb8332deb7f4cf2a857\n"
          ]
        }
      ]
    },
    {
      "cell_type": "code",
      "source": [
        "# pass 왜??\n",
        "from hashlib import sha256\n",
        "# import sys\n",
        "\n",
        "# input = sys.stdin.readline\n",
        "data = input().encode()\n",
        "\n",
        "print(sha256(data).hexdigest())"
      ],
      "metadata": {
        "colab": {
          "base_uri": "https://localhost:8080/"
        },
        "id": "ejjmdtGjhEN6",
        "outputId": "74887014-a4be-4380-e0b8-34dca675a6e9"
      },
      "execution_count": 32,
      "outputs": [
        {
          "output_type": "stream",
          "name": "stdout",
          "text": [
            "9944e1862efbb2a4e2486392dc6701896416b251eccdecb8332deb7f4cf2a857\n"
          ]
        }
      ]
    },
    {
      "cell_type": "code",
      "source": [],
      "metadata": {
        "id": "L6Rva2u5hELN"
      },
      "execution_count": null,
      "outputs": []
    },
    {
      "cell_type": "code",
      "source": [
        "# Fail\n",
        "from hashlib import sha256\n",
        "# https://wikidocs.net/122201\n",
        "\n",
        "sha = sha256()\n",
        "sha.update(input().encode('utf-8')) # 해싱할 문자열을 추가\n",
        "# digest() 또는 hexdigest() 함수를 사용하여 해싱한 문자열을 얻을 수 있다\n",
        "print(sha.hexdigest())"
      ],
      "metadata": {
        "colab": {
          "base_uri": "https://localhost:8080/"
        },
        "id": "zuHYScsLavTj",
        "outputId": "c496910a-29e1-4b5c-b052-747f0d009d68"
      },
      "execution_count": 8,
      "outputs": [
        {
          "output_type": "stream",
          "name": "stdout",
          "text": [
            "9944e1862efbb2a4e2486392dc6701896416b251eccdecb8332deb7f4cf2a857\n"
          ]
        }
      ]
    },
    {
      "cell_type": "code",
      "source": [
        "'9944e1862efbb2a4e2486392dc6701896416b251eccdecb8332deb7f4cf2a857' == '9944e1862efbb2a4e2486392dc6701896416b251eccdecb8332deb7f4cf2a857'"
      ],
      "metadata": {
        "colab": {
          "base_uri": "https://localhost:8080/"
        },
        "id": "2ha7SgMQcb9V",
        "outputId": "f6d18ea2-7ffe-43c0-a590-d13a2e5f34f6"
      },
      "execution_count": 6,
      "outputs": [
        {
          "output_type": "execute_result",
          "data": {
            "text/plain": [
              "True"
            ]
          },
          "metadata": {},
          "execution_count": 6
        }
      ]
    },
    {
      "cell_type": "code",
      "source": [
        "# Fail\n",
        "from hashlib import sha256\n",
        "\n",
        "sha = sha256(input().encode())\n",
        "print(sha.hexdigest())"
      ],
      "metadata": {
        "colab": {
          "base_uri": "https://localhost:8080/"
        },
        "id": "3BP3wbT6cvK0",
        "outputId": "363c7b3e-c883-4582-9831-b665bca6ffa9"
      },
      "execution_count": 16,
      "outputs": [
        {
          "output_type": "stream",
          "name": "stdout",
          "text": [
            "9944e1862efbb2a4e2486392dc6701896416b251eccdecb8332deb7f4cf2a857\n"
          ]
        }
      ]
    },
    {
      "cell_type": "code",
      "source": [
        "# Fail\n",
        "\n",
        "from hashlib import sha256\n",
        "\n",
        "print(sha256(input().encode()).hexdigest())"
      ],
      "metadata": {
        "colab": {
          "base_uri": "https://localhost:8080/"
        },
        "id": "W1M_ohT0e7Ra",
        "outputId": "950912ca-7072-48a5-b836-c6cc8bf8f74f"
      },
      "execution_count": 24,
      "outputs": [
        {
          "output_type": "stream",
          "name": "stdout",
          "text": [
            "9944e1862efbb2a4e2486392dc6701896416b251eccdecb8332deb7f4cf2a857\n"
          ]
        }
      ]
    },
    {
      "cell_type": "code",
      "source": [],
      "metadata": {
        "id": "ZKXfW_Orf19t"
      },
      "execution_count": null,
      "outputs": []
    }
  ]
}