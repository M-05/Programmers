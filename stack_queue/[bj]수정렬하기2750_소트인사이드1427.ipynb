{
  "nbformat": 4,
  "nbformat_minor": 0,
  "metadata": {
    "colab": {
      "provenance": []
    },
    "kernelspec": {
      "name": "python3",
      "display_name": "Python 3"
    },
    "language_info": {
      "name": "python"
    }
  },
  "cells": [
    {
      "cell_type": "markdown",
      "source": [
        "# [수 정렬하기 2750](https://www.acmicpc.net/problem/2750)\n",
        "\n",
        "- 구현\n",
        "- 정렬"
      ],
      "metadata": {
        "id": "Y0w6jhLAXoNM"
      }
    },
    {
      "cell_type": "code",
      "execution_count": 19,
      "metadata": {
        "id": "nO_MQ2ppUTHl"
      },
      "outputs": [],
      "source": [
        "import sys\n",
        "\n",
        "with open('./bj.txt', 'w') as f:\n",
        "    f.write('''5\n",
        "5\n",
        "2\n",
        "3\n",
        "4\n",
        "1''')\n",
        "\n",
        "sys.stdin = open('./bj.txt', 'r')\n",
        "input = sys.stdin.readline\n",
        "\n",
        "answer = [int(input()) for _ in range(int(input()))]"
      ]
    },
    {
      "cell_type": "code",
      "source": [
        "print(*sorted(answer), sep='\\n')"
      ],
      "metadata": {
        "colab": {
          "base_uri": "https://localhost:8080/"
        },
        "id": "gi0lHXikUaaP",
        "outputId": "2bf1e53a-1559-4df0-b2a6-e23a7b1167c2"
      },
      "execution_count": 10,
      "outputs": [
        {
          "output_type": "stream",
          "name": "stdout",
          "text": [
            "1\n",
            "2\n",
            "3\n",
            "4\n",
            "5\n"
          ]
        }
      ]
    },
    {
      "cell_type": "code",
      "source": [
        "for i in range(len(answer)):\n",
        "    for j in range(i +1, len(answer)):\n",
        "        if answer[i] > answer[j]: # 이전이 크다면 swap\n",
        "            answer[i], answer[j] = answer[j], answer[i]\n",
        "print(*answer, sep='\\n')"
      ],
      "metadata": {
        "colab": {
          "base_uri": "https://localhost:8080/"
        },
        "id": "Hv-1VZ2iUvNC",
        "outputId": "9af0fed0-7683-4549-a833-a8764d21928d"
      },
      "execution_count": 20,
      "outputs": [
        {
          "output_type": "stream",
          "name": "stdout",
          "text": [
            "1\n",
            "2\n",
            "3\n",
            "4\n",
            "5\n"
          ]
        }
      ]
    },
    {
      "cell_type": "code",
      "source": [],
      "metadata": {
        "id": "f6ZeqXnnWNdR"
      },
      "execution_count": null,
      "outputs": []
    },
    {
      "cell_type": "markdown",
      "source": [
        "# [소드 인사이드 1427](https://www.acmicpc.net/problem/1427)\n",
        "\n",
        "- 문자열\n",
        "- 정렬"
      ],
      "metadata": {
        "id": "Bog9YNo0WNfe"
      }
    },
    {
      "cell_type": "code",
      "source": [
        "data = list(map(int, ' '.join(input()).split()))\n",
        "print(*sorted(data, reverse=True), sep='')"
      ],
      "metadata": {
        "colab": {
          "base_uri": "https://localhost:8080/"
        },
        "id": "5JL5OTjeWUS_",
        "outputId": "9ded2a26-bcfe-4827-ba0e-b12a93bbdd1f"
      },
      "execution_count": 15,
      "outputs": [
        {
          "output_type": "stream",
          "name": "stdout",
          "text": [
            "500613009\n",
            "965310000\n"
          ]
        }
      ]
    },
    {
      "cell_type": "code",
      "source": [
        "print(*sorted(data, reverse=True), sep='')"
      ],
      "metadata": {
        "colab": {
          "base_uri": "https://localhost:8080/"
        },
        "id": "pq6Hn4wuW5v8",
        "outputId": "375d5d86-a15e-47a1-bd35-e1ac9006ac7f"
      },
      "execution_count": 13,
      "outputs": [
        {
          "output_type": "stream",
          "name": "stdout",
          "text": [
            "965310000\n"
          ]
        }
      ]
    },
    {
      "cell_type": "markdown",
      "source": [
        "---"
      ],
      "metadata": {
        "id": "97rVvL_WXZsH"
      }
    },
    {
      "cell_type": "code",
      "source": [
        "array = input()\n",
        "for i in range(9, -1, -1):\n",
        "    for j in array:\n",
        "        if int(j) == i:\n",
        "            print(i, end='')"
      ],
      "metadata": {
        "id": "8NedUTyYYYqu"
      },
      "execution_count": null,
      "outputs": []
    }
  ]
}