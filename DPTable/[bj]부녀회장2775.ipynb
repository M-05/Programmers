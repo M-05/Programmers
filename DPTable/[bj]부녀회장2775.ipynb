{
  "nbformat": 4,
  "nbformat_minor": 0,
  "metadata": {
    "colab": {
      "provenance": []
    },
    "kernelspec": {
      "name": "python3",
      "display_name": "Python 3"
    },
    "language_info": {
      "name": "python"
    }
  },
  "cells": [
    {
      "cell_type": "markdown",
      "source": [
        "# [부녀회장이 될테야 2775](https://www.acmicpc.net/problem/2775)"
      ],
      "metadata": {
        "id": "3DdQ9S7ilHHE"
      }
    },
    {
      "cell_type": "code",
      "source": [
        "# 아이디어\n",
        "##\n",
        "# Dynamic Programing\n",
        "# for loop로 각 층의 호실의 인원 넣기\n",
        "# 저장된 dp에서 불러오기.\n",
        "\n",
        "# 시간 복잡도\n",
        "##\n",
        "# O(K층 * N호)\n",
        "14 * 14 # < 5천 만 -> 0.5초 실행 가능\n",
        "\n",
        "# 변수\n",
        "##\n",
        "# 최대값 x층, y층 int"
      ],
      "metadata": {
        "colab": {
          "base_uri": "https://localhost:8080/"
        },
        "id": "5IgZCRcPlZkh",
        "outputId": "e8dbbcaf-869d-44b6-f130-c87c93d64555"
      },
      "execution_count": 30,
      "outputs": [
        {
          "output_type": "execute_result",
          "data": {
            "text/plain": [
              "196"
            ]
          },
          "metadata": {},
          "execution_count": 30
        }
      ]
    },
    {
      "cell_type": "code",
      "source": [
        "# 성공\n",
        "\n",
        "import sys\n",
        "input = sys.stdin.readline\n",
        "\n",
        "case_num = int(input())\n",
        "data = []\n",
        "for _ in (range(case_num *2)):\n",
        "    data.append(int(input()))\n",
        "\n",
        "max_x = max(data[::2]) # 1, 2\n",
        "max_y =max(data[1::2]) # 3, 3\n",
        "\n",
        "dp = [[0] * (max_y+1) for _ in range(max_x+1)]\n",
        "\n",
        "# 0층 입주민 셋팅\n",
        "for i in range(1, max_y+1):\n",
        "    dp[0][i] = i\n",
        "# x층 y호 입주민 셋팅\n",
        "for x in range(1, max_x+1): # 층\n",
        "    for y in range(1, max_y+1): # 호\n",
        "        dp[x][y] = sum(dp[x-1][:y+1])\n",
        "# 출력\n",
        "for i in range(2, (case_num *2)+1, 2): # 2 -> 4\n",
        "    k, n = data[i-2:i] # 1, 3 -> 2, 3\n",
        "    print(dp[k][n])"
      ],
      "metadata": {
        "id": "a3Z197tDlGmJ"
      },
      "execution_count": null,
      "outputs": []
    },
    {
      "cell_type": "code",
      "execution_count": 4,
      "metadata": {
        "id": "iH8t6U2kbwmU"
      },
      "outputs": [],
      "source": [
        "import sys\n",
        "\n",
        "with open('./bj.txt', 'w') as f:\n",
        "    f.write('''2\n",
        "1\n",
        "3\n",
        "2\n",
        "3''')\n",
        "\n",
        "sys.stdin = open('./bj.txt', 'r')\n",
        "\n",
        "input = sys.stdin.readline"
      ]
    },
    {
      "cell_type": "code",
      "source": [
        "case_num = int(input())\n",
        "data = []\n",
        "for _ in (range(case_num *2)):\n",
        "    data.append(int(input()))\n",
        "data"
      ],
      "metadata": {
        "colab": {
          "base_uri": "https://localhost:8080/"
        },
        "id": "6j9gY9mvgLkW",
        "outputId": "0b831825-71b8-4bda-a069-3cc10f0477fa"
      },
      "execution_count": 5,
      "outputs": [
        {
          "output_type": "execute_result",
          "data": {
            "text/plain": [
              "[1, 3, 2, 3]"
            ]
          },
          "metadata": {},
          "execution_count": 5
        }
      ]
    },
    {
      "cell_type": "code",
      "source": [
        "max_x = max(data[::2]) # 1, 2\n",
        "max_y =max(data[1::2]) # 3, 3\n",
        "\n",
        "dp = [[0] * (max_y+1) for _ in range(max_x+1)]\n",
        "dp"
      ],
      "metadata": {
        "colab": {
          "base_uri": "https://localhost:8080/"
        },
        "id": "_4A5p1Kahk7Y",
        "outputId": "3867eaf6-bdaa-4b03-b9a4-a0e2d840a9d0"
      },
      "execution_count": 20,
      "outputs": [
        {
          "output_type": "execute_result",
          "data": {
            "text/plain": [
              "[[0, 0, 0, 0], [0, 0, 0, 0], [0, 0, 0, 0]]"
            ]
          },
          "metadata": {},
          "execution_count": 20
        }
      ]
    },
    {
      "cell_type": "code",
      "source": [
        "# 0층 입주민 셋팅\n",
        "for i in range(1, max_y+1):\n",
        "    dp[0][i] = i"
      ],
      "metadata": {
        "id": "jJBGeR_ZijII"
      },
      "execution_count": 22,
      "outputs": []
    },
    {
      "cell_type": "code",
      "source": [
        "dp"
      ],
      "metadata": {
        "colab": {
          "base_uri": "https://localhost:8080/"
        },
        "id": "70DQpa18i1V-",
        "outputId": "f15986e2-7296-4e59-ab24-b4bd0b743d1b"
      },
      "execution_count": 23,
      "outputs": [
        {
          "output_type": "execute_result",
          "data": {
            "text/plain": [
              "[[0, 1, 2, 3], [0, 0, 0, 0], [0, 0, 0, 0]]"
            ]
          },
          "metadata": {},
          "execution_count": 23
        }
      ]
    },
    {
      "cell_type": "code",
      "source": [
        "for x in range(1, max_x+1): # 층\n",
        "    for y in range(1, max_y+1): # 호\n",
        "        dp[x][y] = sum(dp[x-1][:y+1])"
      ],
      "metadata": {
        "id": "G2gH-G78jk-H"
      },
      "execution_count": 27,
      "outputs": []
    },
    {
      "cell_type": "code",
      "source": [
        "dp"
      ],
      "metadata": {
        "colab": {
          "base_uri": "https://localhost:8080/"
        },
        "id": "CvQq-ZEpkLO3",
        "outputId": "0a65133c-d830-4a82-9efc-c4e06b56805b"
      },
      "execution_count": 28,
      "outputs": [
        {
          "output_type": "execute_result",
          "data": {
            "text/plain": [
              "[[0, 1, 2, 3], [0, 1, 3, 6], [0, 1, 4, 10]]"
            ]
          },
          "metadata": {},
          "execution_count": 28
        }
      ]
    },
    {
      "cell_type": "code",
      "source": [
        "for i in range(2, (case_num *2)+1, 2): # 2 -> 4\n",
        "    k, n = data[i-2:i] # 1, 3 -> 2, 3\n",
        "    print(dp[k][n])"
      ],
      "metadata": {
        "colab": {
          "base_uri": "https://localhost:8080/"
        },
        "id": "IqqchqzngyYJ",
        "outputId": "e583a68b-ad89-4294-bd6f-119876a1a877"
      },
      "execution_count": 29,
      "outputs": [
        {
          "output_type": "stream",
          "name": "stdout",
          "text": [
            "6\n",
            "10\n"
          ]
        }
      ]
    },
    {
      "cell_type": "code",
      "source": [
        "첫째 줄 case 수.\n",
        "k n * 2\n",
        "\n",
        "1 <= k,\n",
        "n <= 14\n",
        "\n",
        "k층의 n호에 살려면\n",
        "자신의 아래 k-1 층 1호부터 b호까지 사람 수 합\n",
        "\n",
        "k층 n호 몇명 살까?\n",
        "\n",
        "0층 1호 부터\n",
        "\n",
        "0층 i호는 i"
      ],
      "metadata": {
        "id": "ol1mZUkSc6o-"
      },
      "execution_count": null,
      "outputs": []
    },
    {
      "cell_type": "code",
      "source": [
        "1층 3호 살려면 -> 6명\n",
        "\n",
        "0층 1호 ~ 0층 3호까지 사람 수 합 = 6\n",
        "1 + 2 + 3\n",
        "\n",
        "\n",
        "----\n",
        "2층 3호를 살려면\n",
        "1층 1호 ~ 1층 3호까지 사람 수 합 = 10\n",
        "1 + 2 +\n",
        "\n",
        "\n",
        "\n",
        "0 1 2 3\n",
        "0 1 3 6\n",
        "0 1 4 10\n",
        "0 1 5 15"
      ],
      "metadata": {
        "id": "wT3t_JGZerZw"
      },
      "execution_count": null,
      "outputs": []
    },
    {
      "cell_type": "markdown",
      "source": [
        "---\n",
        "---\n",
        "---"
      ],
      "metadata": {
        "id": "M6dz8YF9gHAj"
      }
    },
    {
      "cell_type": "code",
      "source": [
        "from sys import stdin\n",
        "t = int(stdin.readline())\n",
        "cnt = 0\n",
        "\n",
        "while cnt < t: # t만큼 반복\n",
        "    k = int(stdin.readline())\n",
        "    n = int(stdin.readline())\n",
        "    array = [t for t in range(1, n+1)]\n",
        "\n",
        "    for i in range(k):\n",
        "        for j in range(1, n):\n",
        "            array[j] += array[j-1]\n",
        "    print(array[-1])\n",
        "    cnt += 1"
      ],
      "metadata": {
        "id": "OCwUm54hnQUI"
      },
      "execution_count": null,
      "outputs": []
    },
    {
      "cell_type": "code",
      "source": [
        "import sys\n",
        "input = sys.stdin.readline\n",
        "\n",
        "array = [[0 for _ in range(15)] for _ in range(15)]\n",
        "\n",
        "for i in range(1, 15):\n",
        "    array[0][i] = i\n",
        "    array[i][1] = 1\n",
        "\n",
        "for i in range(1, 15):\n",
        "    for j in range(1, 15):\n",
        "        array[i][j] = array[i - 1][j] + array[i][j - 1]\n",
        "\n",
        "t = int(input())\n",
        "\n",
        "for i in range(t):\n",
        "    k = int(input())\n",
        "    n = int(input())\n",
        "    print(array[k][n])"
      ],
      "metadata": {
        "id": "vSf4S7Xcn8Et"
      },
      "execution_count": null,
      "outputs": []
    }
  ]
}