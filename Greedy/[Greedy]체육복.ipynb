{
  "nbformat": 4,
  "nbformat_minor": 0,
  "metadata": {
    "colab": {
      "provenance": []
    },
    "kernelspec": {
      "name": "python3",
      "display_name": "Python 3"
    },
    "language_info": {
      "name": "python"
    }
  },
  "cells": [
    {
      "cell_type": "code",
      "source": [
        "import time"
      ],
      "metadata": {
        "id": "KvECX-JUZOiS"
      },
      "execution_count": 1,
      "outputs": []
    },
    {
      "cell_type": "markdown",
      "source": [
        "점심시간에 도둑이 들어, 일부 학생이 체육복을 도난당했습니다.  \n",
        "다행히 여벌 체육복이 있는 학생이 이들에게 체육복을 빌려주려 합니다.\n",
        "\n",
        "학생들의 번호는 체격 순으로 매겨져 있어, __바로 앞번호의 학생이나 바로 뒷번호의 학생__에게만 체육복을 빌려줄 수 있습니다. 예를 들어, 4번 학생은 3번 학생이나 5번 학생에게만 체육복을 빌려줄 수 있습니다.  \n",
        "체육복이 없으면 수업을 들을 수 없기 때문에 체육복을 적절히 빌려 최대한 많은 학생이 체육수업을 들어야 합니다.\n",
        "\n",
        "`전체 학생의 수 n`,  \n",
        "`체육복을 도난당한 학생들의 번호가 담긴 배열 lost`,  \n",
        "`여벌의 체육복을 가져온 학생들의 번호가 담긴 배열 reserve`가 매개변수로 주어질 때,  \n",
        "체육수업을 들을 수 있는 학생의 최댓값을 return 하도록 solution 함수를 작성해주세요."
      ],
      "metadata": {
        "id": "eClZv1BjKYpx"
      }
    },
    {
      "cell_type": "code",
      "execution_count": null,
      "metadata": {
        "id": "cn-NCxclKJSN"
      },
      "outputs": [],
      "source": [
        "def solution(n, lost, reserve):\n",
        "    answer = 0\n",
        "    return answer"
      ]
    },
    {
      "cell_type": "code",
      "source": [
        "n = 5\n",
        "lost = [2, 4]\n",
        "reserve = [1, 3, 5]\n",
        "# 5"
      ],
      "metadata": {
        "id": "oCoRa_CmLz9g"
      },
      "execution_count": 14,
      "outputs": []
    },
    {
      "cell_type": "code",
      "source": [
        "n = 5\n",
        "lost = [1, 2, 3]\n",
        "reserve = [2, 3, 4]\n",
        "# 4"
      ],
      "metadata": {
        "id": "6cOWG_bKwEaa"
      },
      "execution_count": 99,
      "outputs": []
    },
    {
      "cell_type": "code",
      "source": [
        "#######\n",
        "# 70.0\n",
        "#######\n",
        "\n",
        "start = time.time()\n",
        "\n",
        "students = list(range(1, n +1))\n",
        "num = []\n",
        "for i in students:\n",
        "    if i not in lost:\n",
        "        num.append(i)\n",
        "\n",
        "for i in reserve:\n",
        "    for j in lost:\n",
        "        if (i + 1 == j) or (i - 1 == j):\n",
        "            num.append(j)\n",
        "            lost.remove(j)\n",
        "\n",
        "end = time.time() - start\n",
        "print(end)\n",
        "print(len(num))"
      ],
      "metadata": {
        "colab": {
          "base_uri": "https://localhost:8080/"
        },
        "id": "kYf9Cd2YaiZc",
        "outputId": "e0dac9a1-e9a3-4df0-cb6d-b468db753c47"
      },
      "execution_count": 95,
      "outputs": [
        {
          "output_type": "stream",
          "name": "stdout",
          "text": [
            "0.000347137451171875\n",
            "5\n"
          ]
        }
      ]
    },
    {
      "cell_type": "code",
      "source": [
        "#######\n",
        "# 76.7\n",
        "#######\n",
        "def solution(n, lost, reserve):\n",
        "\n",
        "    reserve.sort()\n",
        "    lost.sort()\n",
        "\n",
        "    for i in reserve: # 2 3 4\n",
        "        if i in lost: #  2 in 1 2 3\n",
        "            lost.remove(i)\n",
        "        else:\n",
        "            if i + 1 in lost:\n",
        "                lost.remove(i +1) # 빌렸으니까 삭제\n",
        "            elif i - 1 in lost:\n",
        "                lost.remove(i -1) # 빌렸으니까 삭제\n",
        "\n",
        "    return n - len(lost)"
      ],
      "metadata": {
        "id": "1RKAD5WcvMvb"
      },
      "execution_count": 101,
      "outputs": []
    },
    {
      "cell_type": "code",
      "source": [
        "n = 5\n",
        "lost = [3, 4]\n",
        "reserve = [4, 3]\n",
        "# 5\n",
        "\n",
        "solution(n, lost, reserve)"
      ],
      "metadata": {
        "colab": {
          "base_uri": "https://localhost:8080/"
        },
        "id": "qMn_x4PvwQKz",
        "outputId": "bf4a4327-9d5f-4cf8-f515-f60501eeaa92"
      },
      "execution_count": 102,
      "outputs": [
        {
          "output_type": "execute_result",
          "data": {
            "text/plain": [
              "5"
            ]
          },
          "metadata": {},
          "execution_count": 102
        }
      ]
    },
    {
      "cell_type": "code",
      "source": [
        "#######\n",
        "# 100.0\n",
        "#######\n",
        "\n",
        "def solution(n, lost, reserve):\n",
        "    # 3 =   3 4 - 4 5\n",
        "    reserve_set = set(reserve) - set(lost)\n",
        "    # 5 = 4 5 - 3 4\n",
        "    lost_set = set(lost) - set(reserve)\n",
        "\n",
        "    for i in reserve_set: # 3\n",
        "        if i - 1 in lost_set: # - 부터\n",
        "            lost_set.remove(i -1) # 빌렸으니까 삭제\n",
        "        elif i + 1 in lost_set:\n",
        "            lost_set.remove(i +1) # 빌렸으니까 삭제\n",
        "\n",
        "    return n - len(lost_set)"
      ],
      "metadata": {
        "id": "Xpyfrfl-vufb"
      },
      "execution_count": 106,
      "outputs": []
    },
    {
      "cell_type": "code",
      "source": [
        "lost = [4, 5]\n",
        "reserve = [3, 4]\n",
        "\n",
        "reserve_set = set(reserve) - set(lost)\n",
        "lost_set = set(lost) - set(reserve)\n",
        "\n",
        "print(reserve_set, lost_set)"
      ],
      "metadata": {
        "colab": {
          "base_uri": "https://localhost:8080/"
        },
        "id": "7klbnWwCzFUG",
        "outputId": "98598054-3432-47ec-c151-9f27199b765e"
      },
      "execution_count": 109,
      "outputs": [
        {
          "output_type": "stream",
          "name": "stdout",
          "text": [
            "{3} {5}\n"
          ]
        }
      ]
    },
    {
      "cell_type": "code",
      "source": [
        "n = 5\n",
        "lost = [4, 5]\n",
        "reserve = [3, 4]\n",
        "# 4\n",
        "solution(n, lost, reserve)"
      ],
      "metadata": {
        "colab": {
          "base_uri": "https://localhost:8080/"
        },
        "id": "szj04Wr3vuh5",
        "outputId": "5462968d-b9e3-49e6-bfc1-04f3136ebc29"
      },
      "execution_count": 107,
      "outputs": [
        {
          "output_type": "execute_result",
          "data": {
            "text/plain": [
              "4"
            ]
          },
          "metadata": {},
          "execution_count": 107
        }
      ]
    },
    {
      "cell_type": "code",
      "source": [
        "n = 5\n",
        "lost = [4, 2]\n",
        "reserve = [3, 5]\n",
        "# 5\n",
        "solution(n, lost, reserve)"
      ],
      "metadata": {
        "colab": {
          "base_uri": "https://localhost:8080/"
        },
        "id": "wd2b3qm6wZNT",
        "outputId": "42a0eb25-f6aa-4944-83a9-b1bc25e5dc37"
      },
      "execution_count": 108,
      "outputs": [
        {
          "output_type": "execute_result",
          "data": {
            "text/plain": [
              "5"
            ]
          },
          "metadata": {},
          "execution_count": 108
        }
      ]
    },
    {
      "cell_type": "code",
      "source": [],
      "metadata": {
        "id": "aUz4SWcRxMkC"
      },
      "execution_count": null,
      "outputs": []
    }
  ]
}