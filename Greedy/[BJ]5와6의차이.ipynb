{
  "nbformat": 4,
  "nbformat_minor": 0,
  "metadata": {
    "colab": {
      "provenance": []
    },
    "kernelspec": {
      "name": "python3",
      "display_name": "Python 3"
    },
    "language_info": {
      "name": "python"
    }
  },
  "cells": [
    {
      "cell_type": "markdown",
      "source": [
        "상근이는 2863번에서 표를 너무 열심히 돌린 나머지 5와 6을 헷갈리기 시작했다.\n",
        "\n",
        "상근이가 숫자 5를 볼 때,\n",
        "5로 볼 때도 있지만,  \n",
        "6으로 잘못 볼 수도 있고,  \n",
        "\n",
        "6을 볼 때는,  \n",
        "6으로 볼 때도 있지만,  \n",
        "5로 잘못 볼 수도 있다.\n",
        "\n",
        "두 수 A와 B가 주어졌을 때, 상근이는 이 두 수를 더하려고 한다.  \n",
        "이때, 상근이가 구할 수 있는 두 수의 가능한 합 중,  \n",
        "최솟값과 최댓값을 구해 출력하는 프로그램을 작성하시오."
      ],
      "metadata": {
        "id": "e-aZrOrF85m4"
      }
    },
    {
      "cell_type": "markdown",
      "source": [
        "### input\n",
        "첫째 줄에 두 정수 A와 B가 주어진다. (1 <= A,B <= 1,000,000)\n",
        "\n",
        "### output\n",
        "첫째 줄에 상근이가 구할 수 있는 두 수의 합 중 최솟값과 최댓값을 출력한다."
      ],
      "metadata": {
        "id": "BeZq5oSP9gZw"
      }
    },
    {
      "cell_type": "code",
      "execution_count": 1,
      "metadata": {
        "id": "ZEfTq1lm8vSZ"
      },
      "outputs": [],
      "source": [
        "from time import time"
      ]
    },
    {
      "cell_type": "code",
      "source": [
        "# 16796 58786\n",
        "# -> 74580 85582"
      ],
      "metadata": {
        "id": "g-tFQrtP92ab"
      },
      "execution_count": null,
      "outputs": []
    },
    {
      "cell_type": "code",
      "source": [
        "data = input()"
      ],
      "metadata": {
        "colab": {
          "base_uri": "https://localhost:8080/"
        },
        "id": "OfOfKVvy92i7",
        "outputId": "e82e41ba-dd70-4d43-ec4c-66642a4a2ab0"
      },
      "execution_count": 3,
      "outputs": [
        {
          "name": "stdout",
          "output_type": "stream",
          "text": [
            "16796 58786\n"
          ]
        }
      ]
    },
    {
      "cell_type": "code",
      "source": [
        "type(data), data"
      ],
      "metadata": {
        "colab": {
          "base_uri": "https://localhost:8080/"
        },
        "id": "aVXghCDs--nV",
        "outputId": "3ecf2521-199c-44f1-e2b7-2bb467f182b7"
      },
      "execution_count": 6,
      "outputs": [
        {
          "output_type": "execute_result",
          "data": {
            "text/plain": [
              "(str, '16796 58786')"
            ]
          },
          "metadata": {},
          "execution_count": 6
        }
      ]
    },
    {
      "cell_type": "code",
      "source": [
        "# 16796 58786\n",
        "15795 + 58785, 16796 + 68786"
      ],
      "metadata": {
        "colab": {
          "base_uri": "https://localhost:8080/"
        },
        "id": "pUlNwdAX_EYC",
        "outputId": "72e310a0-516e-4822-8481-2e9ffafdf947"
      },
      "execution_count": 11,
      "outputs": [
        {
          "output_type": "execute_result",
          "data": {
            "text/plain": [
              "(74580, 85582)"
            ]
          },
          "metadata": {},
          "execution_count": 11
        }
      ]
    },
    {
      "cell_type": "code",
      "source": [
        "data = input().split()\n",
        "start = time()\n",
        "\n",
        "minimum = 0\n",
        "maximun = 0\n",
        "for i in data:\n",
        "    if '6' in i: # 최솟값 만들기\n",
        "        minimum += int(i.replace('6', '5'))\n",
        "    else:\n",
        "        minimum += int(i)\n",
        "for i in data:\n",
        "    if '5' in i: # 최댓값 만들기\n",
        "        maximun += int(i.replace('5', '6'))\n",
        "    else:\n",
        "        maximun += int(i)\n",
        "\n",
        "print(minimum, maximun)\n",
        "print(time() - start, '초')"
      ],
      "metadata": {
        "colab": {
          "base_uri": "https://localhost:8080/"
        },
        "id": "_4DUdmECAc19",
        "outputId": "7cd71e8c-5638-4477-b298-c5e30462b491"
      },
      "execution_count": 43,
      "outputs": [
        {
          "output_type": "stream",
          "name": "stdout",
          "text": [
            "16796 58786\n",
            "74580 85582\n",
            "0.002198934555053711 초\n"
          ]
        }
      ]
    },
    {
      "cell_type": "code",
      "source": [
        "################\n",
        "# 31.120kb / 40ms\n",
        "################\n",
        "\n",
        "data = input().split()\n",
        "start = time()\n",
        "\n",
        "minimum = 0\n",
        "maximum = 0\n",
        "\n",
        "for i in data:\n",
        "    minimum += int(i.replace('6', '5'))\n",
        "    maximum += int(i.replace('5', '6'))\n",
        "\n",
        "print(minimum, maximum)\n",
        "print(time() - start)"
      ],
      "metadata": {
        "colab": {
          "base_uri": "https://localhost:8080/"
        },
        "id": "TpH09zpzCQ-N",
        "outputId": "4465e9c6-137f-4a71-c5e8-2dc0dddff094"
      },
      "execution_count": 42,
      "outputs": [
        {
          "output_type": "stream",
          "name": "stdout",
          "text": [
            "16796 58786\n",
            "74580 85582\n",
            "0.0020377635955810547\n"
          ]
        }
      ]
    },
    {
      "cell_type": "markdown",
      "source": [
        "---\n",
        "---\n",
        "---"
      ],
      "metadata": {
        "id": "hriux8b__3ci"
      }
    },
    {
      "cell_type": "code",
      "source": [
        "################\n",
        "# 30.616kb / 32ms\n",
        "################\n",
        "\n",
        "a=input().replace(' ','+').replace('6','5')\n",
        "# '15795+58785'\n",
        "print(eval(a),eval(a.replace('5','6')))\n",
        "# eval(a) = 74580\n",
        "# expression (=식)을 문자열로 받아서, 실행하는 함수"
      ],
      "metadata": {
        "id": "AhH6mSyPEyWC"
      },
      "execution_count": null,
      "outputs": []
    },
    {
      "cell_type": "code",
      "source": [
        "################\n",
        "# 30.616kb / 32ms\n",
        "################\n",
        "\n",
        "a, b = input().split()\n",
        "min = int(a.replace('6', '5')) + int(b.replace('6', '5'))\n",
        "max = int(a.replace('5', '6')) + int(b.replace('5', '6'))\n",
        "print(min, max)"
      ],
      "metadata": {
        "id": "dR-W-k84FSUA"
      },
      "execution_count": null,
      "outputs": []
    },
    {
      "cell_type": "markdown",
      "source": [
        "https://velog.io/@yeseolee/Python-%ED%8C%8C%EC%9D%B4%EC%8D%AC-%EC%9E%85%EB%A0%A5-%EC%A0%95%EB%A6%ACsys.stdin.readline\n",
        "\n",
        "반복문으로 여러줄 입력받는 상황에서는 반드시  \n",
        "sys.stdin.readline()을 사용해야 시간초과가 발생하지 않습니다"
      ],
      "metadata": {
        "id": "cp-9mCC9HPkQ"
      }
    },
    {
      "cell_type": "code",
      "source": [
        "################\n",
        "# 30.616kb / 32ms\n",
        "################\n",
        "\n",
        "from sys import stdin\n",
        "\n",
        "a,b = stdin.readline().rstrip().split()\n",
        "\n",
        "a_min = a.replace('6','5')\n",
        "b_min = b.replace('6','5')\n",
        "\n",
        "a_max = a.replace('5','6')\n",
        "b_max = b.replace('5','6')\n",
        "\n",
        "print(int(a_min)+int(b_min), int(a_max)+int(b_max))"
      ],
      "metadata": {
        "id": "gk4BNlkgIB1e"
      },
      "execution_count": null,
      "outputs": []
    },
    {
      "cell_type": "code",
      "source": [
        "from sys import stdin\n",
        "a,b = stdin.readline().rstrip().split()"
      ],
      "metadata": {
        "colab": {
          "base_uri": "https://localhost:8080/",
          "height": 200
        },
        "id": "z5chyUa_G0Y8",
        "outputId": "23df610e-5dd8-4eba-b6cd-803739415d70"
      },
      "execution_count": 68,
      "outputs": [
        {
          "output_type": "error",
          "ename": "ValueError",
          "evalue": "ignored",
          "traceback": [
            "\u001b[0;31m---------------------------------------------------------------------------\u001b[0m",
            "\u001b[0;31mValueError\u001b[0m                                Traceback (most recent call last)",
            "\u001b[0;32m<ipython-input-68-c3e819bc3581>\u001b[0m in \u001b[0;36m<cell line: 2>\u001b[0;34m()\u001b[0m\n\u001b[1;32m      1\u001b[0m \u001b[0;32mfrom\u001b[0m \u001b[0msys\u001b[0m \u001b[0;32mimport\u001b[0m \u001b[0mstdin\u001b[0m\u001b[0;34m\u001b[0m\u001b[0;34m\u001b[0m\u001b[0m\n\u001b[0;32m----> 2\u001b[0;31m \u001b[0ma\u001b[0m\u001b[0;34m,\u001b[0m\u001b[0mb\u001b[0m \u001b[0;34m=\u001b[0m \u001b[0mstdin\u001b[0m\u001b[0;34m.\u001b[0m\u001b[0mreadline\u001b[0m\u001b[0;34m(\u001b[0m\u001b[0;34m)\u001b[0m\u001b[0;34m.\u001b[0m\u001b[0mrstrip\u001b[0m\u001b[0;34m(\u001b[0m\u001b[0;34m)\u001b[0m\u001b[0;34m.\u001b[0m\u001b[0msplit\u001b[0m\u001b[0;34m(\u001b[0m\u001b[0;34m)\u001b[0m\u001b[0;34m\u001b[0m\u001b[0;34m\u001b[0m\u001b[0m\n\u001b[0m",
            "\u001b[0;31mValueError\u001b[0m: not enough values to unpack (expected 2, got 0)"
          ]
        }
      ]
    },
    {
      "cell_type": "code",
      "source": [
        "from sys import stdin\n",
        "user_input = stdin.readline().rstrip().split()\n",
        "user_input"
      ],
      "metadata": {
        "colab": {
          "base_uri": "https://localhost:8080/"
        },
        "id": "Ek7wJ_TgHL_Z",
        "outputId": "cc10029b-28ff-41ce-df4a-a52d6b06d6d4"
      },
      "execution_count": 70,
      "outputs": [
        {
          "output_type": "execute_result",
          "data": {
            "text/plain": [
              "[]"
            ]
          },
          "metadata": {},
          "execution_count": 70
        }
      ]
    }
  ]
}