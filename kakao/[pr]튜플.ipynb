{
  "nbformat": 4,
  "nbformat_minor": 0,
  "metadata": {
    "colab": {
      "provenance": []
    },
    "kernelspec": {
      "name": "python3",
      "display_name": "Python 3"
    },
    "language_info": {
      "name": "python"
    }
  },
  "cells": [
    {
      "cell_type": "markdown",
      "source": [
        "# [튜플](https://school.programmers.co.kr/learn/courses/30/lessons/64065)"
      ],
      "metadata": {
        "id": "2s3oFo_h5jST"
      }
    },
    {
      "cell_type": "code",
      "source": [
        "temp =  [[1,2,3], [2,1],[1,2,4,3,],[2]]\n",
        "sorted(temp, key=(lambda x: len(x)))"
      ],
      "metadata": {
        "colab": {
          "base_uri": "https://localhost:8080/"
        },
        "id": "L5iaw48oAFY6",
        "outputId": "92bcade5-0b8a-4271-a78a-1dab71479922"
      },
      "execution_count": 57,
      "outputs": [
        {
          "output_type": "execute_result",
          "data": {
            "text/plain": [
              "[[2], [2, 1], [1, 2, 3], [1, 2, 4, 3]]"
            ]
          },
          "metadata": {},
          "execution_count": 57
        }
      ]
    },
    {
      "cell_type": "code",
      "source": [
        "def solution(s):\n",
        "    s2 = s[2:-2].split('},{') # ['2', '2,1', '2,1,3', '2,1,3,4']\n",
        "\n",
        "    s1 = []\n",
        "    for i in range(len(s2)):\n",
        "        s1.append(list(map(lambda x: int(x), s2[i].split(','))))\n",
        "    # [[1,2,3], [2,1],[1,2,4,3,],[2]]\n",
        "    s1 = sorted(s1, key=(lambda x: len(x)))\n",
        "    # [[2], [2, 1], [1, 2, 3], [1, 2, 4, 3]]\n",
        "\n",
        "    answer = s1[0]\n",
        "\n",
        "    if s1[1:]:\n",
        "        for s0 in s1[1:]:\n",
        "            for i in s0: # [2, 1] -> [1, 2, 3]\n",
        "                if i not in answer: # 2 in answer\n",
        "                    answer.append(i)\n",
        "        return answer\n",
        "\n",
        "    else:\n",
        "        return answer"
      ],
      "metadata": {
        "id": "2ILCPptiALZP"
      },
      "execution_count": 58,
      "outputs": []
    },
    {
      "cell_type": "code",
      "source": [
        "s=\"{{2},{2,1},{2,1,3},{2,1,3,4}}\"\t#[2, 1, 3, 4]\n",
        "s=\"{{1,2,3},{2,1},{1,2,4,3},{2}}\"\t#[2, 1, 3, 4]\n",
        "s=\"{{20,111},{111}}\"\t#[111, 20]\n",
        "s=\"{{123}}\"\t#[123]\n",
        "s=\"{{4,2,3},{3},{2,3,4,1},{2,3}}\"\t#[3, 2, 4, 1]\n",
        "\n",
        "solution(s)"
      ],
      "metadata": {
        "colab": {
          "base_uri": "https://localhost:8080/"
        },
        "id": "zGNG3b4zFu8M",
        "outputId": "08832973-8d34-4498-82c1-81ddcbeb90f2"
      },
      "execution_count": 60,
      "outputs": [
        {
          "output_type": "execute_result",
          "data": {
            "text/plain": [
              "[3, 2, 4, 1]"
            ]
          },
          "metadata": {},
          "execution_count": 60
        }
      ]
    },
    {
      "cell_type": "markdown",
      "source": [
        "---\n",
        "---\n",
        "---"
      ],
      "metadata": {
        "id": "LV9jBGcHKFkM"
      }
    },
    {
      "cell_type": "code",
      "source": [
        "def solution(s):\n",
        "\n",
        "    s = Counter(re.findall('\\d+', s))\n",
        "    print(s) # Counter({'3': 4, '2': 3, '4': 2, '1': 1})\n",
        "    return list(map(int, [k for k, v in sorted(s.items(), key=lambda x: x[1], reverse=True)]))\n",
        "\n",
        "import re\n",
        "from collections import Counter"
      ],
      "metadata": {
        "id": "aY3Jx6GKFu-r"
      },
      "execution_count": 63,
      "outputs": []
    },
    {
      "cell_type": "code",
      "source": [
        "solution(s)"
      ],
      "metadata": {
        "colab": {
          "base_uri": "https://localhost:8080/"
        },
        "id": "z-85Xf92F94u",
        "outputId": "3e971ae3-6ff4-4a14-d4a2-6c929f707987"
      },
      "execution_count": 64,
      "outputs": [
        {
          "output_type": "stream",
          "name": "stdout",
          "text": [
            "Counter({'3': 4, '2': 3, '4': 2, '1': 1})\n"
          ]
        },
        {
          "output_type": "execute_result",
          "data": {
            "text/plain": [
              "[3, 2, 4, 1]"
            ]
          },
          "metadata": {},
          "execution_count": 64
        }
      ]
    },
    {
      "cell_type": "code",
      "source": [
        "sorted(s.items(), key=lambda x: x[1], reverse=True)\n",
        "# 1 1 , 4 2, 2 3, 3 4\n",
        "# 3 4, 2 3, 4 2, 1 1\n",
        "# 3 , 2, 4, 1\n",
        "\n",
        "\n",
        "list(map(int, [k for k, v in sorted(s.items(), key=lambda x: x[1], reverse=True)]))"
      ],
      "metadata": {
        "id": "EngXpe6eF-u1"
      },
      "execution_count": null,
      "outputs": []
    },
    {
      "cell_type": "markdown",
      "source": [
        "---\n",
        "---\n",
        "---\n"
      ],
      "metadata": {
        "id": "auI-HAhiKG1N"
      }
    },
    {
      "cell_type": "code",
      "source": [
        "def solution(s):\n",
        "    s = eval(s.replace(\"{\", \"[\").replace(\"}\", \"]\"))\n",
        "    answer = list({num:0 for k in sorted(s, key=lambda x: len(x)) for num in k}.keys())\n",
        "    return answer"
      ],
      "metadata": {
        "id": "tr4j-C-VKH8k"
      },
      "execution_count": null,
      "outputs": []
    },
    {
      "cell_type": "code",
      "source": [
        "s=\"{{4,2,3},{3},{2,3,4,1},{2,3}}\"\n",
        "s = eval(s.replace(\"{\", \"[\").replace(\"}\", \"]\"))\n",
        "s"
      ],
      "metadata": {
        "colab": {
          "base_uri": "https://localhost:8080/"
        },
        "id": "iAg3nv0AKNm-",
        "outputId": "fb9983bb-310e-401e-957e-71b5794678c2"
      },
      "execution_count": 65,
      "outputs": [
        {
          "output_type": "execute_result",
          "data": {
            "text/plain": [
              "[[4, 2, 3], [3], [2, 3, 4, 1], [2, 3]]"
            ]
          },
          "metadata": {},
          "execution_count": 65
        }
      ]
    },
    {
      "cell_type": "code",
      "source": [
        "s=\"{{4,2,3},{3},{2,3,4,1},{2,3}}\"\n",
        "s.replace(\"{\", \"[\").replace(\"}\", \"]\")"
      ],
      "metadata": {
        "colab": {
          "base_uri": "https://localhost:8080/",
          "height": 35
        },
        "id": "dh4p85kuKQCl",
        "outputId": "3523edeb-c0fa-4b19-c0a7-f1b39da7fa4c"
      },
      "execution_count": 66,
      "outputs": [
        {
          "output_type": "execute_result",
          "data": {
            "text/plain": [
              "'[[4,2,3],[3],[2,3,4,1],[2,3]]'"
            ],
            "application/vnd.google.colaboratory.intrinsic+json": {
              "type": "string"
            }
          },
          "metadata": {},
          "execution_count": 66
        }
      ]
    }
  ]
}