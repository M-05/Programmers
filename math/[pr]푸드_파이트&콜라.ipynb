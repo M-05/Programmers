{
  "nbformat": 4,
  "nbformat_minor": 0,
  "metadata": {
    "colab": {
      "provenance": []
    },
    "kernelspec": {
      "name": "python3",
      "display_name": "Python 3"
    },
    "language_info": {
      "name": "python"
    }
  },
  "cells": [
    {
      "cell_type": "markdown",
      "source": [
        "# [푸드 파이트 대회](https://school.programmers.co.kr/learn/courses/30/lessons/134240)\n",
        "\n",
        "한 선수는 제일 왼쪽 -> 오른쪽  \n",
        "다른 선수는 제일 오른쪽 -> 왼쪽  \n",
        "중앙에는 물  \n",
        "물 먼저 마신느 선수 승리  \n",
        "\n",
        "두 선수 음식 종류, 양, 순서 같다.  \n",
        "\n",
        "칼로리 낮은 음식부터 배치.\n",
        "\n",
        "3가지 음식 준비,  \n",
        "칼로리 적은 순서대로  \n",
        "\n",
        "1번음식 3개  \n",
        "2번음식 4개  \n",
        "3번음식 6개  \n",
        "물은 0번  \n",
        "두 선수는  \n",
        "1번 음식 1개\n",
        "2번 음식 2개\n",
        "3번 음식 3개\n",
        "\n",
        "123330333221  \n",
        "\n",
        "1번음식 1개는 대회에서 사용 못한다.\n",
        "\n",
        "음식을 배치를 나타내는 문자열 출력."
      ],
      "metadata": {
        "id": "NSqJiZIxN08C"
      }
    },
    {
      "cell_type": "code",
      "source": [
        "food = [1, 3, 4, 6]\n",
        "# '1223330333221'\n",
        "food = [1, 7, 1, 2]\n",
        "# '111303111'"
      ],
      "metadata": {
        "id": "FQNjM1EyO6GH"
      },
      "execution_count": null,
      "outputs": []
    },
    {
      "cell_type": "code",
      "source": [
        "food = [1, 3, 4, 6]"
      ],
      "metadata": {
        "id": "2impb-T-Pu7C"
      },
      "execution_count": 15,
      "outputs": []
    },
    {
      "cell_type": "code",
      "source": [
        "cnt = 0\n",
        "eat = ''\n",
        "\n",
        "for i in food[1:]:\n",
        "    if i // 2 == 0:\n",
        "        cnt += 1\n",
        "    else:\n",
        "        cnt += 1\n",
        "        eat += str(cnt) * (i // 2)\n",
        "\n"
      ],
      "metadata": {
        "id": "Gc6RNwAfPvGV"
      },
      "execution_count": 16,
      "outputs": []
    },
    {
      "cell_type": "code",
      "source": [
        "eat"
      ],
      "metadata": {
        "colab": {
          "base_uri": "https://localhost:8080/",
          "height": 35
        },
        "id": "fyqzji78Q90H",
        "outputId": "596bcb1d-9678-4951-d2fb-3d647465faac"
      },
      "execution_count": 17,
      "outputs": [
        {
          "output_type": "execute_result",
          "data": {
            "text/plain": [
              "'122333'"
            ],
            "application/vnd.google.colaboratory.intrinsic+json": {
              "type": "string"
            }
          },
          "metadata": {},
          "execution_count": 17
        }
      ]
    },
    {
      "cell_type": "code",
      "source": [
        "eat + '0' + eat[::-1]"
      ],
      "metadata": {
        "colab": {
          "base_uri": "https://localhost:8080/",
          "height": 35
        },
        "id": "4kBf-JG7REhT",
        "outputId": "f673d761-61fc-4cd1-cc73-cc7c7a773c8f"
      },
      "execution_count": 18,
      "outputs": [
        {
          "output_type": "execute_result",
          "data": {
            "text/plain": [
              "'1223330333221'"
            ],
            "application/vnd.google.colaboratory.intrinsic+json": {
              "type": "string"
            }
          },
          "metadata": {},
          "execution_count": 18
        }
      ]
    },
    {
      "cell_type": "code",
      "source": [
        "def solution(food):\n",
        "    answer = ''\n",
        "    for i,n in enumerate(food[1:]):\n",
        "        answer += str(i+1) * (n//2)\n",
        "    return answer + \"0\" + answer[::-1]"
      ],
      "metadata": {
        "id": "k5eoUcZCReOl"
      },
      "execution_count": null,
      "outputs": []
    },
    {
      "cell_type": "code",
      "source": [],
      "metadata": {
        "id": "Qck8xWFrUelF"
      },
      "execution_count": null,
      "outputs": []
    },
    {
      "cell_type": "markdown",
      "source": [
        "# [콜라 문제](https://school.programmers.co.kr/learn/courses/30/lessons/132267)\n",
        "\n",
        "빈 병 2개 주면 콜라 1병 준다.  \n",
        "빈 병 20개 주면 몇병 받을까?\n",
        "\n",
        "보유중인 빈 병이 2개 미만이면 콜라 못 받음  (1개이하)  \n",
        "\n",
        "콜라\n",
        "20병 가져가서 10병 받았다.  \n",
        "10병 마신 뒤 5병 받고\n",
        "(5 - 1)   \n",
        "4병 마신 뒤 2병 받고  \n",
        "2병 마신 뒤 1병 받았다.  \n",
        "1병 + 1병 으로 1병 받았다.  \n",
        "\n",
        "10 + 5 + 2 + 1 + 1 = 19병  \n"
      ],
      "metadata": {
        "id": "e5z8h9RzUen1"
      }
    },
    {
      "cell_type": "markdown",
      "source": [
        "빈 병 a 개\n",
        "받을 병 b\n",
        "\n",
        "가진 콜라 n"
      ],
      "metadata": {
        "id": "Cl6wS_DLV8Ky"
      }
    },
    {
      "cell_type": "code",
      "source": [
        "def solution(a, b, n):\n",
        "    answer = 0\n",
        "    while n >= a:\n",
        "        answer += (n // a) * b\n",
        "        n = n - ((n // a) * a) + ((n // a) * b)\n",
        "    return answer\n",
        "\n",
        "a, b, n = 2, 1, 20\n",
        "result = solution(a, b, n)\n",
        "print(result)"
      ],
      "metadata": {
        "colab": {
          "base_uri": "https://localhost:8080/"
        },
        "id": "GXnkf-iIjuoV",
        "outputId": "ddbf4364-9b0e-4427-c1b8-95b04182c15d"
      },
      "execution_count": 72,
      "outputs": [
        {
          "output_type": "stream",
          "name": "stdout",
          "text": [
            "19\n"
          ]
        }
      ]
    },
    {
      "cell_type": "code",
      "source": [
        "def solution(a, b, n):\n",
        "    answer = 0\n",
        "    while n >= a:\n",
        "        # 가진 병 - 제출할 병 + 받을 병\n",
        "        to_get = (n // a) * b\n",
        "        n = n - (n // a) * a + to_get\n",
        "        answer += to_get\n",
        "    return answer\n",
        "\n",
        "a, b, n = 2, 1, 20\n",
        "result = solution(a, b, n)\n",
        "print(result)"
      ],
      "metadata": {
        "colab": {
          "base_uri": "https://localhost:8080/"
        },
        "id": "hHxZzslIjZNl",
        "outputId": "899f4ee4-628a-4868-b32a-3c315f939123"
      },
      "execution_count": 69,
      "outputs": [
        {
          "output_type": "stream",
          "name": "stdout",
          "text": [
            "19\n"
          ]
        }
      ]
    },
    {
      "cell_type": "markdown",
      "source": [
        "---\n",
        "---\n",
        "---"
      ],
      "metadata": {
        "id": "l5Kx8tqVrToB"
      }
    },
    {
      "cell_type": "code",
      "source": [
        "# a, b, n = 2, 1, 20\n",
        "\n",
        "def solution(a, b, n):\n",
        "    answer = 0\n",
        "\n",
        "    while n >= a:\n",
        "        n -= a\n",
        "        answer += b\n",
        "        n += b\n",
        "\n",
        "    return answer"
      ],
      "metadata": {
        "id": "GLDrkby8pBFv"
      },
      "execution_count": null,
      "outputs": []
    }
  ]
}