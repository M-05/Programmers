{
  "nbformat": 4,
  "nbformat_minor": 0,
  "metadata": {
    "colab": {
      "provenance": []
    },
    "kernelspec": {
      "name": "python3",
      "display_name": "Python 3"
    },
    "language_info": {
      "name": "python"
    }
  },
  "cells": [
    {
      "cell_type": "markdown",
      "source": [
        "# [음계 2920](https://www.acmicpc.net/problem/2920)\n",
        "\n",
        "- 구현\n",
        "\n",
        "ascending, descending, mixed 중 하나를 출력"
      ],
      "metadata": {
        "id": "hhSOSXGPMxqK"
      }
    },
    {
      "cell_type": "code",
      "source": [
        "import sys\n",
        "\n",
        "with open('./bj.txt', 'w') as f:\n",
        "    f.write('''8 7 6 5 4 3 2 1''') # descending\n",
        "    # f.write('''8 1 7 2 6 3 5 4''') # mixed\n",
        "    # f.write('''1 2 3 4 5 6 7 8''') # ascending\n",
        "\n",
        "sys.stdin = open('./bj.txt', 'r')\n",
        "input = sys.stdin.readline\n",
        "\n",
        "data = list(map(int, input().split()))"
      ],
      "metadata": {
        "id": "jZULpAYrNKqd"
      },
      "execution_count": 10,
      "outputs": []
    },
    {
      "cell_type": "code",
      "source": [
        "data"
      ],
      "metadata": {
        "colab": {
          "base_uri": "https://localhost:8080/"
        },
        "id": "BCM3bwrqN1MU",
        "outputId": "1f485aea-da67-402f-d8f4-fedf521fafe6"
      },
      "execution_count": 5,
      "outputs": [
        {
          "output_type": "execute_result",
          "data": {
            "text/plain": [
              "[1, 2, 3, 4, 5, 6, 7, 8]"
            ]
          },
          "metadata": {},
          "execution_count": 5
        }
      ]
    },
    {
      "cell_type": "code",
      "source": [
        "# 꼼수 실패\n",
        "import sys\n",
        "input = sys.stdin.readline\n",
        "\n",
        "data = list(map(int, input().split()))\n",
        "\n",
        "if data[0] + data[-2] == data[-1]:\n",
        "    print('ascending')\n",
        "elif data[-1] + data[1] == data[0]:\n",
        "    print('descending')\n",
        "else:\n",
        "    print('mixed')"
      ],
      "metadata": {
        "id": "hZbYa6mCPjmj"
      },
      "execution_count": null,
      "outputs": []
    },
    {
      "cell_type": "code",
      "source": [
        "# 성공!\n",
        "import sys\n",
        "input = sys.stdin.readline\n",
        "data = input()\n",
        "# '8 7 6 5 4 3 2 1'\n",
        "\n",
        "if eval('>'.join(data.split())):\n",
        "    print('descending') # '8>7>6>5>4>3>2>1'\n",
        "elif eval('<'.join(data.split())): # '1<2<3<4<5<6<7<8'\n",
        "    print('ascending')\n",
        "else:\n",
        "    print('mixed')"
      ],
      "metadata": {
        "id": "ftO8ALY7QSq_"
      },
      "execution_count": null,
      "outputs": []
    },
    {
      "cell_type": "code",
      "source": [
        "import sys\n",
        "\n",
        "with open('./bj.txt', 'w') as f:\n",
        "    # f.write('''8 7 6 5 4 3 2 1''') # descending\n",
        "    # f.write('''8 1 7 2 6 3 5 4''') # mixed\n",
        "    f.write('''1 2 3 4 5 6 7 8''') # ascending\n",
        "\n",
        "sys.stdin = open('./bj.txt', 'r')\n",
        "input = sys.stdin.readline\n",
        "\n",
        "data = list(map(int, input().split()))"
      ],
      "metadata": {
        "id": "rlhlZwc6SEah"
      },
      "execution_count": 37,
      "outputs": []
    },
    {
      "cell_type": "code",
      "source": [
        "import sys\n",
        "input = sys.stdin.readline\n",
        "\n",
        "data = list(map(int, input().split()))\n",
        "\n",
        "ascending = True\n",
        "descending = True\n",
        "\n",
        "for i in range(1, len(data)):\n",
        "    if data[i] > data[i -1]:\n",
        "        descending = False\n",
        "    elif data[i -1] > data[i]:\n",
        "        ascending = False\n",
        "\n",
        "if ascending:\n",
        "    print('ascending')\n",
        "elif descending:\n",
        "    print('descending')\n",
        "else:\n",
        "    print('mixed')"
      ],
      "metadata": {
        "colab": {
          "base_uri": "https://localhost:8080/"
        },
        "id": "V7qyj0zUSOjC",
        "outputId": "26d8a72a-20b3-4d22-f41b-99ecf81390a1"
      },
      "execution_count": 38,
      "outputs": [
        {
          "output_type": "stream",
          "name": "stdout",
          "text": [
            "ascending\n"
          ]
        }
      ]
    },
    {
      "cell_type": "code",
      "source": [],
      "metadata": {
        "id": "J27oaQqDTIuK"
      },
      "execution_count": null,
      "outputs": []
    }
  ]
}