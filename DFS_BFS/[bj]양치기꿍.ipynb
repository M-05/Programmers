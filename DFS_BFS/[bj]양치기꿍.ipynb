{
  "nbformat": 4,
  "nbformat_minor": 0,
  "metadata": {
    "colab": {
      "provenance": []
    },
    "kernelspec": {
      "name": "python3",
      "display_name": "Python 3"
    },
    "language_info": {
      "name": "python"
    }
  },
  "cells": [
    {
      "cell_type": "markdown",
      "source": [
        "# [양치기 꿍 3187](https://www.acmicpc.net/problem/3187)"
      ],
      "metadata": {
        "id": "1sFJsficCaGL"
      }
    },
    {
      "cell_type": "code",
      "source": [
        "with open('bj.txt', 'w') as f:\n",
        "    f.write('''9 12\n",
        ".###.#####..\n",
        "#.kk#...#v#.\n",
        "#..k#.#.#.#.\n",
        "#..##k#...#.\n",
        "#.#v#k###.#.\n",
        "#..#v#....#.\n",
        "#...v#v####.\n",
        ".####.#vv.k#\n",
        ".......####.''')"
      ],
      "metadata": {
        "id": "RoeA58xOK7Ac"
      },
      "execution_count": 97,
      "outputs": []
    },
    {
      "cell_type": "code",
      "source": [
        "sys.stdin = open('./bj.txt', 'r')\n",
        "\n",
        "input = sys.stdin.readline"
      ],
      "metadata": {
        "id": "Dvf8VKAEpOBK"
      },
      "execution_count": 102,
      "outputs": []
    },
    {
      "cell_type": "code",
      "source": [
        "# 34096KB\t112ms\n",
        "\n",
        "from collections import deque\n",
        "import sys\n",
        "# input = sys.stdin.readline\n",
        "\n",
        "\n",
        "R, C = map(int, input().split())\n",
        "dp = [list(map(str, input().strip())) for _ in range(R)]\n",
        "\n",
        "dx = [0, -1, 0, 1]\n",
        "dy = [1, 0, -1, 0]\n",
        "\n",
        "visit = [[False] * C for _ in range(R)]\n",
        "\n",
        "queue = deque()\n",
        "\n",
        "\n",
        "def bfs(x, y):\n",
        "    sheep, wolf = 0, 0\n",
        "    queue.append([x,y])\n",
        "    visit[x][y] = True\n",
        "\n",
        "    while queue:\n",
        "        r, c = queue.popleft()\n",
        "        if dp[r][c] == 'v':\n",
        "            wolf += 1\n",
        "        elif dp[r][c] == 'k':\n",
        "            sheep += 1\n",
        "        for i in range(len(dx)):\n",
        "            rx = r + dx[i]\n",
        "            cy = c + dy[i]\n",
        "\n",
        "            if R > rx >= 0 and C > cy >= 0 and visit[rx][cy] is False and dp[rx][cy] != '#':\n",
        "                visit[rx][cy] = True\n",
        "                queue.append([rx, cy])\n",
        "    if wolf >= sheep:\n",
        "        sheep = 0\n",
        "    else:\n",
        "        wolf = 0\n",
        "    return sheep, wolf\n",
        "\n",
        "\n",
        "total_sheep, total_wolf = 0, 0\n",
        "\n",
        "for r in range(R):\n",
        "    for c in range(C):\n",
        "        if dp[r][c] in ('v', 'k') and visit[r][c] is False :\n",
        "            sheep, wolf = bfs(r, c)\n",
        "            total_sheep += sheep\n",
        "            total_wolf += wolf\n",
        "\n",
        "\n",
        "print(total_sheep, total_wolf)"
      ],
      "metadata": {
        "colab": {
          "base_uri": "https://localhost:8080/"
        },
        "id": "htvXSrangJOy",
        "outputId": "541054a5-1283-4955-cee2-a2ee79f4214a"
      },
      "execution_count": 103,
      "outputs": [
        {
          "output_type": "stream",
          "name": "stdout",
          "text": [
            "3 5\n"
          ]
        }
      ]
    },
    {
      "cell_type": "code",
      "source": [
        "import sys\n",
        "\n",
        "sys.stdin = open('./bj.txt', 'r')\n",
        "\n",
        "input = sys.stdin.readline"
      ],
      "metadata": {
        "id": "f4vHp_T4LtgO"
      },
      "execution_count": 90,
      "outputs": []
    },
    {
      "cell_type": "code",
      "source": [
        "R, C = map(int, input().split())"
      ],
      "metadata": {
        "id": "D0DlRmdPc0h7"
      },
      "execution_count": 81,
      "outputs": []
    },
    {
      "cell_type": "code",
      "source": [
        "dp = [list(map(str, input().strip())) for _ in range(R)]"
      ],
      "metadata": {
        "id": "rD2hC8UidSAU"
      },
      "execution_count": 82,
      "outputs": []
    },
    {
      "cell_type": "code",
      "source": [
        "dp"
      ],
      "metadata": {
        "colab": {
          "base_uri": "https://localhost:8080/"
        },
        "id": "yCi_vL2EdU02",
        "outputId": "33223ca7-101e-406b-83d1-62a651ea2124"
      },
      "execution_count": 83,
      "outputs": [
        {
          "output_type": "execute_result",
          "data": {
            "text/plain": [
              "[['.', '.', '.', '#', '.', '.'],\n",
              " ['.', '#', '#', 'v', '#', '.'],\n",
              " ['#', 'v', '.', '#', '.', '#'],\n",
              " ['#', '.', 'k', '#', '.', '#'],\n",
              " ['.', '#', '#', '#', '.', '#'],\n",
              " ['.', '.', '.', '#', '#', '#']]"
            ]
          },
          "metadata": {},
          "execution_count": 83
        }
      ]
    },
    {
      "cell_type": "code",
      "source": [],
      "metadata": {
        "id": "Xea2VCK1bFLo"
      },
      "execution_count": null,
      "outputs": []
    },
    {
      "cell_type": "code",
      "source": [
        "R, C = map(int, input().split())"
      ],
      "metadata": {
        "id": "v3svGti0PdqQ"
      },
      "execution_count": 51,
      "outputs": []
    },
    {
      "cell_type": "code",
      "source": [
        "dp = [input().strip() for _ in range(R)]"
      ],
      "metadata": {
        "id": "IwenEsnQTuv6"
      },
      "execution_count": 52,
      "outputs": []
    },
    {
      "cell_type": "code",
      "source": [
        "dp"
      ],
      "metadata": {
        "colab": {
          "base_uri": "https://localhost:8080/"
        },
        "id": "W8ShxTYMUXhI",
        "outputId": "10e54735-7c99-43d8-9f8f-8af1b3a58a7a"
      },
      "execution_count": 53,
      "outputs": [
        {
          "output_type": "execute_result",
          "data": {
            "text/plain": [
              "['...#..', '.##v#.', '#v.#.#', '#.k#.#', '.###.#', '...###']"
            ]
          },
          "metadata": {},
          "execution_count": 53
        }
      ]
    },
    {
      "cell_type": "code",
      "source": [
        "dx = [0, -1, 0, 1]\n",
        "dy = [1, 0, -1, 0]"
      ],
      "metadata": {
        "id": "o6YlCzHlTNrj"
      },
      "execution_count": 54,
      "outputs": []
    },
    {
      "cell_type": "code",
      "source": [
        "visit = [[False] * R for _ in range(C)]"
      ],
      "metadata": {
        "id": "5jcFpxU-SNSw"
      },
      "execution_count": 55,
      "outputs": []
    },
    {
      "cell_type": "code",
      "source": [
        "visit"
      ],
      "metadata": {
        "colab": {
          "base_uri": "https://localhost:8080/"
        },
        "id": "GApOEOikVItX",
        "outputId": "b3e23c4f-584b-45bf-f20c-f16c3e7f5a82"
      },
      "execution_count": 49,
      "outputs": [
        {
          "output_type": "execute_result",
          "data": {
            "text/plain": [
              "[[False, False, False, False, False, False],\n",
              " [False, False, False, False, False, False],\n",
              " [False, False, False, False, False, False],\n",
              " [False, False, False, False, False, False],\n",
              " [False, False, False, False, False, False],\n",
              " [False, False, False, False, False, False]]"
            ]
          },
          "metadata": {},
          "execution_count": 49
        }
      ]
    },
    {
      "cell_type": "code",
      "source": [
        "from collections import deque\n",
        "\n",
        "queue = deque()"
      ],
      "metadata": {
        "id": "_4Itl2DAYFJg"
      },
      "execution_count": 62,
      "outputs": []
    },
    {
      "cell_type": "code",
      "source": [
        "def bfs(R, C):\n",
        "    sheep, wolf = 0, 0\n",
        "    queue.append([R,C])\n",
        "    visit[R][C] == True\n",
        "\n",
        "    while queue:\n",
        "        r, c = queue.popleft()\n",
        "        if dp[r][c] == 'v':\n",
        "            wolf += 1\n",
        "        elif dp[r][c] == 'k':\n",
        "            sheep += 1\n",
        "        for i in range(len(dx)):\n",
        "            rx = r + dx[i]\n",
        "            cy = c + dy[i]\n",
        "\n",
        "            if R > rx >= 0 and C > cy >= 0 and visit[rx][cy] is False and dp[rx][cy] != '#':\n",
        "                visit[rx][cy] = True\n",
        "                queue.append([rx, cy])\n",
        "    if wolf >= sheep:\n",
        "        sheep = 0\n",
        "    else:\n",
        "        wolf = 0\n",
        "    return sheep, wolf"
      ],
      "metadata": {
        "id": "3IIFt79zXuDh"
      },
      "execution_count": 63,
      "outputs": []
    },
    {
      "cell_type": "code",
      "source": [
        "total_sheep, total_wolf = 0, 0\n",
        "\n",
        "for r in range(R):\n",
        "    for c in range(C):\n",
        "        if visit[r][c] is False and dp[r][c] in ('v', 'k'):\n",
        "            sheep, wolf = bfs(r, c)\n",
        "            total_sheep += sheep\n",
        "            total_wolf += wolf\n",
        "print(total_sheep, total_wolf)"
      ],
      "metadata": {
        "colab": {
          "base_uri": "https://localhost:8080/"
        },
        "id": "o1SXtmutakZu",
        "outputId": "93a5d8fb-2cda-460c-fab5-e6df9341a2b1"
      },
      "execution_count": 65,
      "outputs": [
        {
          "output_type": "stream",
          "name": "stdout",
          "text": [
            "1 2\n"
          ]
        }
      ]
    },
    {
      "cell_type": "code",
      "source": [],
      "metadata": {
        "id": "Lr1W61_dsePZ"
      },
      "execution_count": null,
      "outputs": []
    },
    {
      "cell_type": "code",
      "source": [
        "for _ in range(R):\n",
        "    graph[_] = list(map(str, input().rstrip()))"
      ],
      "metadata": {
        "id": "d9dyR7cycVJT"
      },
      "execution_count": 76,
      "outputs": []
    },
    {
      "cell_type": "code",
      "source": [
        "graph"
      ],
      "metadata": {
        "colab": {
          "base_uri": "https://localhost:8080/"
        },
        "id": "2KzhlHxKc6kt",
        "outputId": "b2120d17-4475-4746-fa58-21ac3552e7e9"
      },
      "execution_count": 77,
      "outputs": [
        {
          "output_type": "execute_result",
          "data": {
            "text/plain": [
              "[['.', '.', '.', '#', '.', '.'],\n",
              " ['.', '#', '#', 'v', '#', '.'],\n",
              " ['#', 'v', '.', '#', '.', '#'],\n",
              " ['#', '.', 'k', '#', '.', '#'],\n",
              " ['.', '#', '#', '#', '.', '#'],\n",
              " ['.', '.', '.', '#', '#', '#']]"
            ]
          },
          "metadata": {},
          "execution_count": 77
        }
      ]
    },
    {
      "cell_type": "code",
      "source": [],
      "metadata": {
        "id": "K8YHgwZKc7X8"
      },
      "execution_count": null,
      "outputs": []
    }
  ]
}