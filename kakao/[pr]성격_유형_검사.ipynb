{
  "nbformat": 4,
  "nbformat_minor": 0,
  "metadata": {
    "colab": {
      "provenance": []
    },
    "kernelspec": {
      "name": "python3",
      "display_name": "Python 3"
    },
    "language_info": {
      "name": "python"
    }
  },
  "cells": [
    {
      "cell_type": "markdown",
      "source": [
        "# [성격 유형 검사하기](https://school.programmers.co.kr/learn/courses/30/lessons/118666)"
      ],
      "metadata": {
        "id": "8XE35bGEWLeu"
      }
    },
    {
      "cell_type": "code",
      "source": [
        "survey = ['AN', 'CF', 'MJ', 'RT', 'NA']\n",
        "choives = [5,3,2,7,5]\n",
        "# neo  1, corn 1, muzi 2, tube 3, apeach 1\n",
        "# 'TCMA"
      ],
      "metadata": {
        "id": "_r4tRRmLk6lc"
      },
      "execution_count": null,
      "outputs": []
    },
    {
      "cell_type": "code",
      "source": [
        "score = [3, 2, 1, 0, 1, 2, 3]"
      ],
      "metadata": {
        "id": "NTkvWgQrk6Ta"
      },
      "execution_count": null,
      "outputs": []
    },
    {
      "cell_type": "code",
      "source": [
        "r 0 t 3\n",
        "c 1 f 0\n",
        "j 0 m 2\n",
        "a 1 n 1\n",
        "-> TCMA"
      ],
      "metadata": {
        "id": "k-3SGZawWWei"
      },
      "execution_count": null,
      "outputs": []
    },
    {
      "cell_type": "code",
      "source": [
        "sorted(['r','t'])"
      ],
      "metadata": {
        "id": "VJdq9K3nWXsB",
        "colab": {
          "base_uri": "https://localhost:8080/"
        },
        "outputId": "552a07cb-51be-40ce-8e5c-e6b6c2ca3f4a"
      },
      "execution_count": null,
      "outputs": [
        {
          "output_type": "execute_result",
          "data": {
            "text/plain": [
              "['r', 't']"
            ]
          },
          "metadata": {},
          "execution_count": 3
        }
      ]
    },
    {
      "cell_type": "code",
      "source": [],
      "metadata": {
        "id": "XQBEgTWpWX4u"
      },
      "execution_count": null,
      "outputs": []
    },
    {
      "cell_type": "code",
      "source": [
        "######\n",
        "# 성공\n",
        "######\n",
        "def solution(survey, choices):\n",
        "    answer = ''\n",
        "    score_dict = {'R':0, 'T':0, 'C':0, 'F':0, 'J':0, 'M':0, 'A':0, 'N':0}\n",
        "    schemas = [['R','T'], ['C', 'F'], ['J', 'M'], ['A', 'N']]\n",
        "\n",
        "    for string, cho in zip(survey, choices): # AN CF, 5 3\n",
        "        if cho == 4: #\n",
        "            score_dict[string[0]] += 0\n",
        "            score_dict[string[1]] += 0\n",
        "\n",
        "        elif cho > 4: # 5 > 4\n",
        "            score_dict[string[1]] += cho -4  # score_dict['A'] =1\n",
        "        else:\n",
        "            if cho == 1:\n",
        "                score_dict[string[0]] += cho +2\n",
        "            elif cho == 3:\n",
        "                score_dict[string[0]] += cho -2\n",
        "            else:\n",
        "                score_dict[string[0]] += cho\n",
        "            # 1 -> 3 2== 2 3 -> 1\n",
        "\n",
        "    for schema in schemas:\n",
        "        if score_dict[schema[0]] >= score_dict[schema[1]]:\n",
        "            answer += schema[0]\n",
        "        else:\n",
        "            answer += schema[1]\n",
        "\n",
        "    return answer"
      ],
      "metadata": {
        "id": "KP-zLMCpXp89"
      },
      "execution_count": null,
      "outputs": []
    },
    {
      "cell_type": "code",
      "source": [
        "######\n",
        "# 성공\n",
        "######\n",
        "def solution(survey, choices):\n",
        "    answer = ''\n",
        "    score_dict = {'R':0, 'T':0, 'C':0, 'F':0, 'J':0, 'M':0, 'A':0, 'N':0}\n",
        "    schemas = [['R','T'], ['C', 'F'], ['J', 'M'], ['A', 'N']]\n",
        "\n",
        "    for string, cho in zip(survey, choices): # AN CF, 5 3\n",
        "        if cho == 4: #\n",
        "            score_dict[string[0]] += 0\n",
        "            score_dict[string[1]] += 0\n",
        "\n",
        "        elif cho > 4: # 5 > 4\n",
        "            score_dict[string[1]] += cho -4  # score_dict['A'] =1\n",
        "        else:###############################\n",
        "            score_dict[string[0]] += 4 - cho\n",
        "            # 1 -> 3 2== 2 3 -> 1\n",
        "\n",
        "    for schema in schemas:\n",
        "        if score_dict[schema[0]] >= score_dict[schema[1]]:\n",
        "            answer += schema[0]\n",
        "        else:\n",
        "            answer += schema[1]\n",
        "\n",
        "    return answer"
      ],
      "metadata": {
        "id": "iEoJY7Z3qVWs"
      },
      "execution_count": null,
      "outputs": []
    },
    {
      "cell_type": "code",
      "source": [],
      "metadata": {
        "id": "ivIF7MnRyAhi"
      },
      "execution_count": null,
      "outputs": []
    },
    {
      "cell_type": "code",
      "source": [
        "################\n",
        "# 1123 다시 성공\n",
        "################\n",
        "\n",
        "def solution(survey, choices):\n",
        "    answer_dict = {'R':0, 'T':0,'C':0, 'F':0,'J':0, 'M':0,'A':0, 'N':0}\n",
        "    answer_list = [i for i in answer_dict]\n",
        "    # ['R', 'T', 'C', 'F', 'J', 'M', 'A', 'N']\n",
        "    answer = ''\n",
        "    score_list = [0, 3, 2, 1, 0, 1, 2, 3]\n",
        "\n",
        "    for test, num in zip(survey, choices):\n",
        "        if num == 4:\n",
        "            pass\n",
        "        elif num > 4: # 5번째 부터는 뒤 문자 선택지\n",
        "            answer_dict[test[1]] += score_list[num]\n",
        "        else:\n",
        "            answer_dict[test[0]] += score_list[num]\n",
        "    # {'R': 0, 'T': 3, 'C': 1, 'F': 0, 'J': 0, 'M': 2, 'A': 1, 'N': 1}\n",
        "\n",
        "    for front, back in zip(answer_list[::2], answer_list[1::2]):\n",
        "        # (['R', 'C', 'J', 'A'], ['T', 'F', 'M', 'N'])\n",
        "        if answer_dict[front] >= answer_dict[back]:\n",
        "            answer += front\n",
        "        else:\n",
        "            answer += back\n",
        "    return answer"
      ],
      "metadata": {
        "id": "M_Yekn2nyAkD"
      },
      "execution_count": null,
      "outputs": []
    },
    {
      "cell_type": "code",
      "source": [],
      "metadata": {
        "id": "9eUjphRsycuS"
      },
      "execution_count": null,
      "outputs": []
    },
    {
      "cell_type": "code",
      "source": [
        "################\n",
        "# 1123 또 성공\n",
        "################\n",
        "\n",
        "def solution(survey, choices):\n",
        "    answer_list = ['R', 'T', 'C', 'F', 'J', 'M', 'A', 'N']\n",
        "    answer_dict = { i:0 for i in answer_list}\n",
        "    answer = ''\n",
        "\n",
        "    score_list = [0, 3, 2, 1, 0, 1, 2, 3]\n",
        "\n",
        "    for test, num in zip(survey, choices):\n",
        "        if num > 4: # 5번째 부터는 뒤 문자 선택지\n",
        "            answer_dict[test[1]] += score_list[num]\n",
        "        elif num < 4:\n",
        "            answer_dict[test[0]] += score_list[num]\n",
        "    # {'R': 0, 'T': 3, 'C': 1, 'F': 0, 'J': 0, 'M': 2, 'A': 1, 'N': 1}\n",
        "\n",
        "    for front, back in zip(answer_list[::2], answer_list[1::2]):\n",
        "        # (['R', 'C', 'J', 'A'], ['T', 'F', 'M', 'N'])\n",
        "        if answer_dict[front] >= answer_dict[back]:\n",
        "            answer += front\n",
        "        else:\n",
        "            answer += back\n",
        "    return answer"
      ],
      "metadata": {
        "id": "uvWQN_doycwI"
      },
      "execution_count": null,
      "outputs": []
    }
  ]
}