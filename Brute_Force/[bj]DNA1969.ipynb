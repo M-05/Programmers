{
  "nbformat": 4,
  "nbformat_minor": 0,
  "metadata": {
    "colab": {
      "provenance": []
    },
    "kernelspec": {
      "name": "python3",
      "display_name": "Python 3"
    },
    "language_info": {
      "name": "python"
    }
  },
  "cells": [
    {
      "cell_type": "markdown",
      "source": [
        "# [DNA 1969](https://www.acmicpc.net/problem/1969)\n",
        "\n",
        "- 구현\n",
        "- 그리디 알고리즘\n",
        "- 문자열\n",
        "- 브루트포스 알고리즘"
      ],
      "metadata": {
        "id": "iK1r-6-Cyyrn"
      }
    },
    {
      "cell_type": "code",
      "source": [
        " DNA는 서로 다른 4가지의 뉴클레오티드로 이루어져 있다(Adenine, Thymine, Guanine, Cytosine)\n",
        " Hamming Distance란 길이가 같은 두 DNA가 있을 때, 각 위치의 뉴클오티드 문자가 다른 것의 개수이다."
      ],
      "metadata": {
        "id": "5OXZa4uL0k5P"
      },
      "execution_count": null,
      "outputs": []
    },
    {
      "cell_type": "code",
      "source": [
        "# return\n",
        "첫째 줄에 Hamming Distance의 합이 가장 작은 DNA 를 출력하고,\n",
        "둘째 줄에는 그 Hamming Distance의 합을 출력하시오.\n",
        "그러한 DNA가 여러 개 있을 때에는 사전순으로 가장 앞서는 것을 출력한다."
      ],
      "metadata": {
        "id": "m0ObNqlO1oiZ"
      },
      "execution_count": null,
      "outputs": []
    },
    {
      "cell_type": "code",
      "source": [
        " N개의 길이 M인 DNA s1, s2, ..., sn가 주어져 있을 때\n",
        "  Hamming Distance의 합이 가장 작은 DNA s를 구하는 것이다.\n",
        "즉, s와 s1의 Hamming Distance + s와\n",
        " s2의 Hamming Distance + s와\n",
        " s3의 Hamming Distance ... 의 합이 최소가 된다는 의미이다."
      ],
      "metadata": {
        "id": "FhRWR0nt19B0"
      },
      "execution_count": null,
      "outputs": []
    },
    {
      "cell_type": "code",
      "source": [
        "import sys\n",
        "with open('./bj.txt', 'w') as f:\n",
        "    f.write('''6 10\n",
        "ATGTTACCAT\n",
        "AAGTTACGAT\n",
        "AACAAAGCAA\n",
        "AAGTTACCTT\n",
        "AAGTTACCAA\n",
        "TACTTACCAA''')\n",
        "# AAGTTACCAA\n",
        "# 12\n",
        "\n",
        "sys.stdin = open('./bj.txt', 'r')\n",
        "\n",
        "input = sys.stdin.readline\n",
        "n, m = map(int, input().split())"
      ],
      "metadata": {
        "id": "qyKoad1Dy4B4"
      },
      "execution_count": null,
      "outputs": []
    },
    {
      "cell_type": "code",
      "source": [
        "n, m"
      ],
      "metadata": {
        "colab": {
          "base_uri": "https://localhost:8080/"
        },
        "id": "MFIRtIbZ0MCJ",
        "outputId": "8897b0c5-afe1-44fb-8e5c-b86c97aa80b9"
      },
      "execution_count": null,
      "outputs": [
        {
          "output_type": "execute_result",
          "data": {
            "text/plain": [
              "(6, 10)"
            ]
          },
          "metadata": {},
          "execution_count": 70
        }
      ]
    },
    {
      "cell_type": "code",
      "source": [
        "arr = [input().strip() for _ in range(n)]\n",
        "arr"
      ],
      "metadata": {
        "colab": {
          "base_uri": "https://localhost:8080/"
        },
        "id": "323DZaCPz_QC",
        "outputId": "725ee32a-1acb-4cb8-fc70-0ae9ac2a261a"
      },
      "execution_count": null,
      "outputs": [
        {
          "output_type": "execute_result",
          "data": {
            "text/plain": [
              "['ATGTTACCAT',\n",
              " 'AAGTTACGAT',\n",
              " 'AACAAAGCAA',\n",
              " 'AAGTTACCTT',\n",
              " 'AAGTTACCAA',\n",
              " 'TACTTACCAA']"
            ]
          },
          "metadata": {},
          "execution_count": 69
        }
      ]
    },
    {
      "cell_type": "code",
      "source": [
        "answer = \"\"\n",
        "\n",
        "for i in range(m):\n",
        "    temp = {}\n",
        "    for a in arr:\n",
        "        if a[i] not in temp:\n",
        "            temp[a[i]] = 1\n",
        "        else:\n",
        "            temp[a[i]] += 1\n",
        "    print(temp)\n",
        "        # print(sorted(temp, key=lambda x:( -temp[x], x))[0])\n",
        "    answer += sorted(temp, key=lambda x:( -temp[x], x))[0]"
      ],
      "metadata": {
        "colab": {
          "base_uri": "https://localhost:8080/"
        },
        "id": "Y7Pwn3D85w97",
        "outputId": "59ecc67b-80ac-44f7-9238-5060be74889c"
      },
      "execution_count": null,
      "outputs": [
        {
          "output_type": "stream",
          "name": "stdout",
          "text": [
            "{'A': 5, 'T': 1}\n",
            "{'T': 1, 'A': 5}\n",
            "{'G': 4, 'C': 2}\n",
            "{'T': 5, 'A': 1}\n",
            "{'T': 5, 'A': 1}\n",
            "{'A': 6}\n",
            "{'C': 5, 'G': 1}\n",
            "{'C': 5, 'G': 1}\n",
            "{'A': 5, 'T': 1}\n",
            "{'T': 3, 'A': 3}\n"
          ]
        }
      ]
    },
    {
      "cell_type": "code",
      "source": [
        "answer"
      ],
      "metadata": {
        "colab": {
          "base_uri": "https://localhost:8080/",
          "height": 35
        },
        "id": "DpjNElHD5yNp",
        "outputId": "c1ff748b-60b1-49a1-ab2b-51b8ea8c42eb"
      },
      "execution_count": null,
      "outputs": [
        {
          "output_type": "execute_result",
          "data": {
            "text/plain": [
              "'AAGTTACCAA'"
            ],
            "application/vnd.google.colaboratory.intrinsic+json": {
              "type": "string"
            }
          },
          "metadata": {},
          "execution_count": 85
        }
      ]
    },
    {
      "cell_type": "code",
      "source": [
        "AAGTTACCAA"
      ],
      "metadata": {
        "id": "FhSmlMUj7Udw"
      },
      "execution_count": null,
      "outputs": []
    },
    {
      "cell_type": "code",
      "source": [
        "cnt = 0\n",
        "for i in range(m):\n",
        "    for a in arr:\n",
        "        if a[i] != answer[i]:\n",
        "            cnt += 1\n",
        "cnt"
      ],
      "metadata": {
        "colab": {
          "base_uri": "https://localhost:8080/"
        },
        "id": "s9csRd4J-A6b",
        "outputId": "3dce6c33-e60c-4635-b56f-30d20f4a3b7f"
      },
      "execution_count": null,
      "outputs": [
        {
          "output_type": "execute_result",
          "data": {
            "text/plain": [
              "12"
            ]
          },
          "metadata": {},
          "execution_count": 87
        }
      ]
    },
    {
      "cell_type": "code",
      "source": [
        "import sys\n",
        "\n",
        "input = sys.stdin.readline\n",
        "n, m = map(int, input().split())\n",
        "arr = [input().strip() for _ in range(n)]\n",
        "\n",
        "answer = \"\"\n",
        "\n",
        "for i in range(m):\n",
        "    temp = {}\n",
        "    for a in arr:\n",
        "        if a[i] not in temp:\n",
        "            temp[a[i]] = 1\n",
        "        else:\n",
        "            temp[a[i]] += 1\n",
        "    # print(temp)\n",
        "    # print(sorted(temp, key=lambda x:( -temp[x], x))[0])\n",
        "    answer += sorted(temp, key=lambda x:( -temp[x], x))[0]\n",
        "\n",
        "cnt = 0\n",
        "for i in range(m):\n",
        "    for a in arr:\n",
        "        if a[i] != answer[i]:\n",
        "            cnt += 1\n",
        "print(answer)\n",
        "print(cnt)"
      ],
      "metadata": {
        "colab": {
          "base_uri": "https://localhost:8080/"
        },
        "id": "C6AkhLaf-LIh",
        "outputId": "6f4c2e9a-ab3f-42db-dc66-f9d5dece5aef"
      },
      "execution_count": null,
      "outputs": [
        {
          "output_type": "stream",
          "name": "stdout",
          "text": [
            "ACGTACGTAA\n",
            "6\n"
          ]
        }
      ]
    },
    {
      "cell_type": "code",
      "source": [
        "ACGTACGTAA"
      ],
      "metadata": {
        "id": "J0RQJc0Q-gsx"
      },
      "execution_count": null,
      "outputs": []
    }
  ]
}