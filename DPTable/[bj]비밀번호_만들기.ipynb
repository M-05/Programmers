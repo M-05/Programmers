{
  "nbformat": 4,
  "nbformat_minor": 0,
  "metadata": {
    "colab": {
      "provenance": []
    },
    "kernelspec": {
      "name": "python3",
      "display_name": "Python 3"
    },
    "language_info": {
      "name": "python"
    }
  },
  "cells": [
    {
      "cell_type": "markdown",
      "source": [
        "# [17218 비밀번호 만들기](https://www.acmicpc.net/problem/17218)\n",
        "\n",
        "최근 들어 개인정보 유출에 대한 뉴스를 많이 본 수형이는 한 사이트의 비밀번호가 유출 되더라도 다른 사이트에서 똑같은 비밀번호로 접속할 수 없도록 사이트마다 비밀번호를 다르게 설정하기로 다짐했다. 많이 고민한 결과 수형이는 눈을 감고 키보드를 막 쳐서 나온   \n",
        "두 문자열에서 공통으로 존재하는 가장 긴 부분 문자열을 비밀번호로 하기로 하였다.   \n",
        "수형이가 눈을 감고 만든 두 문자열이 주어졌을 때 비밀번호를 만드는 프로그램을 만들어보자.\n",
        "\n",
        "---\n",
        "\n",
        "첫째 줄과 둘째 줄에 수형이가 눈을 감고 만든 두 문자열이 주어진다.  \n",
        "문자열은 알파벳 대문자로만 이루어져 있으며,  \n",
        "길이는 최대 40자이다.  \n",
        "빈 문자열은 주어지지 않는다.  \n",
        "가장 긴 부분 문자열은 반드시 하나만 존재한다."
      ],
      "metadata": {
        "id": "IWntKvJRdyMS"
      }
    },
    {
      "cell_type": "code",
      "source": [
        "import sys\n",
        "from time import time"
      ],
      "metadata": {
        "id": "d1z5oC5d0UTM"
      },
      "execution_count": 1,
      "outputs": []
    },
    {
      "cell_type": "code",
      "source": [
        "sys.stdin = open('./bj.txt', 'r')\n",
        "inputs = sys.stdin.readlines()\n",
        "inputs"
      ],
      "metadata": {
        "colab": {
          "base_uri": "https://localhost:8080/"
        },
        "id": "ygMr7fp4zqRO",
        "outputId": "80519d5d-0829-4855-aca0-1a61c754c9ac"
      },
      "execution_count": 4,
      "outputs": [
        {
          "output_type": "execute_result",
          "data": {
            "text/plain": [
              "['AUTABBEHNSA\\n', 'BCUAMEFKAJNA']"
            ]
          },
          "metadata": {},
          "execution_count": 4
        }
      ]
    },
    {
      "cell_type": "code",
      "source": [
        "input_1 = inputs[0].strip()\n",
        "input_2 = inputs[1].strip()\n",
        "\n",
        "input_1, input_2"
      ],
      "metadata": {
        "colab": {
          "base_uri": "https://localhost:8080/"
        },
        "id": "imZ-1TcxOPWb",
        "outputId": "ec7f956e-9abf-439b-b18e-04afdf6695d4"
      },
      "execution_count": 13,
      "outputs": [
        {
          "output_type": "execute_result",
          "data": {
            "text/plain": [
              "('AUTABBEHNSA', 'BCUAMEFKAJNA')"
            ]
          },
          "metadata": {},
          "execution_count": 13
        }
      ]
    },
    {
      "cell_type": "code",
      "source": [
        "char_1 = [char for char in input_1]\n",
        "char_2 = [char for char in input_2]\n",
        "\n",
        "char_1, char_2"
      ],
      "metadata": {
        "colab": {
          "base_uri": "https://localhost:8080/"
        },
        "id": "p2keFDeVPdxh",
        "outputId": "8a6fb0e6-93d9-405b-cb47-4cc0c3e55d1d"
      },
      "execution_count": 28,
      "outputs": [
        {
          "output_type": "execute_result",
          "data": {
            "text/plain": [
              "(['A', 'U', 'T', 'A', 'B', 'B', 'E', 'H', 'N', 'S', 'A'],\n",
              " ['B', 'C', 'U', 'A', 'M', 'E', 'F', 'K', 'A', 'J', 'N', 'A'])"
            ]
          },
          "metadata": {},
          "execution_count": 28
        }
      ]
    },
    {
      "cell_type": "code",
      "source": [
        "characters_1 = []\n",
        "characters_2 = []\n",
        "\n",
        "for char in char_1:\n",
        "    if char in char_2:\n",
        "        characters_1.append(char)\n",
        "\n",
        "for char in char_2:\n",
        "    if char in char_1:\n",
        "        characters_2.append(char)\n",
        "\n",
        "print(characters_1)\n",
        "print(characters_2)"
      ],
      "metadata": {
        "colab": {
          "base_uri": "https://localhost:8080/"
        },
        "id": "lnDekd2jwNDH",
        "outputId": "ade9117d-dcc6-40e0-b743-a106c710504a"
      },
      "execution_count": 46,
      "outputs": [
        {
          "output_type": "stream",
          "name": "stdout",
          "text": [
            "['A', 'U', 'A', 'B', 'B', 'E', 'N', 'A']\n",
            "['B', 'U', 'A', 'E', 'A', 'N', 'A']\n"
          ]
        }
      ]
    },
    {
      "cell_type": "markdown",
      "source": [
        "# LCS\n",
        "## Longest Common Subsequence\n",
        "### 최장 공통 부분수열"
      ],
      "metadata": {
        "id": "vwbLCTvoA4Jf"
      }
    },
    {
      "cell_type": "code",
      "source": [
        "# A Naive recursive Python implementation of LCS problem\n",
        "\n",
        "def lcs(X, Y, m, n):\n",
        "\tif m == 0 or n == 0:\n",
        "\t    return 0\n",
        "\telif X[m-1] == Y[n-1]:\n",
        "\t    return 1 + lcs(X, Y, m-1, n-1)\n",
        "\telse:\n",
        "\t    return max(lcs(X, Y, m, n-1), lcs(X, Y, m-1, n))\n",
        "\n",
        "\n",
        "# Driver program to test the above function\n",
        "X = \"AUTABBEHNSA\"\n",
        "Y = \"BCUAMEFKAJNA\"\n",
        "print (\"Length of LCS is \", lcs(X, Y, len(X), len(Y)))"
      ],
      "metadata": {
        "colab": {
          "base_uri": "https://localhost:8080/"
        },
        "id": "QcNyR8zRRy3Y",
        "outputId": "a5780685-2da1-43ef-8bda-db219778b740"
      },
      "execution_count": 52,
      "outputs": [
        {
          "output_type": "stream",
          "name": "stdout",
          "text": [
            "Length of LCS is  5\n"
          ]
        }
      ]
    },
    {
      "cell_type": "code",
      "source": [
        "x = \"AUTABBEHNSA\"\n",
        "y = \"BCUAMEFKAJNA\"\n",
        "\n",
        "dp = [[0] * (len(y) +1) for _ in range(len(x) +1)]\n",
        "dp"
      ],
      "metadata": {
        "colab": {
          "base_uri": "https://localhost:8080/"
        },
        "id": "gvlx6eodvMPU",
        "outputId": "e884c8ea-04d7-40ad-f1a8-ab61bbe6533b"
      },
      "execution_count": 94,
      "outputs": [
        {
          "output_type": "execute_result",
          "data": {
            "text/plain": [
              "[[0, 0, 0, 0, 0, 0, 0, 0, 0, 0, 0, 0, 0],\n",
              " [0, 0, 0, 0, 0, 0, 0, 0, 0, 0, 0, 0, 0],\n",
              " [0, 0, 0, 0, 0, 0, 0, 0, 0, 0, 0, 0, 0],\n",
              " [0, 0, 0, 0, 0, 0, 0, 0, 0, 0, 0, 0, 0],\n",
              " [0, 0, 0, 0, 0, 0, 0, 0, 0, 0, 0, 0, 0],\n",
              " [0, 0, 0, 0, 0, 0, 0, 0, 0, 0, 0, 0, 0],\n",
              " [0, 0, 0, 0, 0, 0, 0, 0, 0, 0, 0, 0, 0],\n",
              " [0, 0, 0, 0, 0, 0, 0, 0, 0, 0, 0, 0, 0],\n",
              " [0, 0, 0, 0, 0, 0, 0, 0, 0, 0, 0, 0, 0],\n",
              " [0, 0, 0, 0, 0, 0, 0, 0, 0, 0, 0, 0, 0],\n",
              " [0, 0, 0, 0, 0, 0, 0, 0, 0, 0, 0, 0, 0],\n",
              " [0, 0, 0, 0, 0, 0, 0, 0, 0, 0, 0, 0, 0]]"
            ]
          },
          "metadata": {},
          "execution_count": 94
        }
      ]
    },
    {
      "cell_type": "code",
      "source": [
        "len(x), len(y)"
      ],
      "metadata": {
        "colab": {
          "base_uri": "https://localhost:8080/"
        },
        "id": "a3d5l5Wv2wHH",
        "outputId": "a526bc2a-a09c-4dd8-96c8-94bd210b6e9f"
      },
      "execution_count": 84,
      "outputs": [
        {
          "output_type": "execute_result",
          "data": {
            "text/plain": [
              "(11, 12)"
            ]
          },
          "metadata": {},
          "execution_count": 84
        }
      ]
    },
    {
      "cell_type": "code",
      "source": [
        "for i in range(1, len(x) +1):\n",
        "    for j in range(1, len(y) +1):\n",
        "        if x[i-1] == y[j-1]:\n",
        "            dp[i][j] = dp[i-1][j-1] +1\n",
        "        else:\n",
        "            dp[i][j] = max(dp[i-1][j], dp[i][j-1])"
      ],
      "metadata": {
        "id": "T-0FwQy125b5"
      },
      "execution_count": 95,
      "outputs": []
    },
    {
      "cell_type": "code",
      "source": [
        "dp"
      ],
      "metadata": {
        "colab": {
          "base_uri": "https://localhost:8080/"
        },
        "id": "TfBBJnk13rgo",
        "outputId": "048cdf57-f3c1-47cf-8271-eb23442b159d"
      },
      "execution_count": 96,
      "outputs": [
        {
          "output_type": "execute_result",
          "data": {
            "text/plain": [
              "[[0, 0, 0, 0, 0, 0, 0, 0, 0, 0, 0, 0, 0],\n",
              " [0, 0, 0, 0, 1, 1, 1, 1, 1, 1, 1, 1, 1],\n",
              " [0, 0, 0, 1, 1, 1, 1, 1, 1, 1, 1, 1, 1],\n",
              " [0, 0, 0, 1, 1, 1, 1, 1, 1, 1, 1, 1, 1],\n",
              " [0, 0, 0, 1, 2, 2, 2, 2, 2, 2, 2, 2, 2],\n",
              " [0, 1, 1, 1, 2, 2, 2, 2, 2, 2, 2, 2, 2],\n",
              " [0, 1, 1, 1, 2, 2, 2, 2, 2, 2, 2, 2, 2],\n",
              " [0, 1, 1, 1, 2, 2, 3, 3, 3, 3, 3, 3, 3],\n",
              " [0, 1, 1, 1, 2, 2, 3, 3, 3, 3, 3, 3, 3],\n",
              " [0, 1, 1, 1, 2, 2, 3, 3, 3, 3, 3, 4, 4],\n",
              " [0, 1, 1, 1, 2, 2, 3, 3, 3, 3, 3, 4, 4],\n",
              " [0, 1, 1, 1, 2, 2, 3, 3, 3, 4, 4, 4, 5]]"
            ]
          },
          "metadata": {},
          "execution_count": 96
        }
      ]
    },
    {
      "cell_type": "code",
      "source": [
        "x, y"
      ],
      "metadata": {
        "colab": {
          "base_uri": "https://localhost:8080/"
        },
        "id": "UmyZuAlu25ZW",
        "outputId": "60cdf0e1-1b40-4390-d2f9-0cdcee364d77"
      },
      "execution_count": 93,
      "outputs": [
        {
          "output_type": "execute_result",
          "data": {
            "text/plain": [
              "('AUTABBEHNSA', 'BCUAMEFKAJNA')"
            ]
          },
          "metadata": {},
          "execution_count": 93
        }
      ]
    },
    {
      "cell_type": "code",
      "source": [
        "x_len, y_len = len(x), len(y)"
      ],
      "metadata": {
        "id": "XowbGICa8Xt2"
      },
      "execution_count": 108,
      "outputs": []
    },
    {
      "cell_type": "code",
      "source": [
        "answer = ''\n",
        "while dp[x_len][y_len] != 0:\n",
        "    if dp[x_len -1][y_len -1] +1 == dp[x_len][y_len]:\n",
        "        answer += x[x_len -1]\n",
        "        x_len -= 1\n",
        "        y_len -= 1\n",
        "    elif dp[x_len -1][y_len] == dp[x_len][y_len]:\n",
        "        x_len -= 1\n",
        "    else:\n",
        "        y_len -= 1"
      ],
      "metadata": {
        "id": "f9BxPQVX6ajc"
      },
      "execution_count": 110,
      "outputs": []
    },
    {
      "cell_type": "code",
      "source": [
        "answer"
      ],
      "metadata": {
        "colab": {
          "base_uri": "https://localhost:8080/",
          "height": 35
        },
        "id": "PN5S3HKD94oY",
        "outputId": "ba25bb1f-fb9d-49fa-c9fa-8dfdd81f442f"
      },
      "execution_count": 111,
      "outputs": [
        {
          "output_type": "execute_result",
          "data": {
            "text/plain": [
              "'ASEAA'"
            ],
            "application/vnd.google.colaboratory.intrinsic+json": {
              "type": "string"
            }
          },
          "metadata": {},
          "execution_count": 111
        }
      ]
    },
    {
      "cell_type": "code",
      "source": [
        "x_len, y_len = len(x), len(y)\n",
        "answer = ''\n",
        "while dp[x_len][y_len] != 0:\n",
        "    if dp[x_len -1][y_len] == dp[x_len][y_len]:\n",
        "        x_len -= 1\n",
        "    elif dp[x_len][y_len -1] == dp[x_len][y_len]:\n",
        "        y_len -= 1\n",
        "    else:\n",
        "        answer += x[x_len -1]\n",
        "        x_len -= 1\n",
        "        y_len -= 1"
      ],
      "metadata": {
        "id": "ZOa9V5xL-BGq"
      },
      "execution_count": 112,
      "outputs": []
    },
    {
      "cell_type": "code",
      "source": [
        "answer[::-1]"
      ],
      "metadata": {
        "colab": {
          "base_uri": "https://localhost:8080/",
          "height": 35
        },
        "id": "YRnSaXdH-PQO",
        "outputId": "b2cac7c0-05e6-4316-b22f-04993018871d"
      },
      "execution_count": 114,
      "outputs": [
        {
          "output_type": "execute_result",
          "data": {
            "text/plain": [
              "'UAENA'"
            ],
            "application/vnd.google.colaboratory.intrinsic+json": {
              "type": "string"
            }
          },
          "metadata": {},
          "execution_count": 114
        }
      ]
    },
    {
      "cell_type": "markdown",
      "source": [
        "# 참조 자료\n",
        "1. [LCS 이론 영상](https://www.youtube.com/watch?v=EAXDUxVYquY&list=PLsMufJgu5932XYejsOwcUDJ2F75f56nrl&index=27)  \n",
        "2. [LCS 코드](https://www.geeksforgeeks.org/python-program-for-longest-common-subsequence/)  \n",
        "3. [LCS 이론 글](https://velog.io/@emplam27/%EC%95%8C%EA%B3%A0%EB%A6%AC%EC%A6%98-%EA%B7%B8%EB%A6%BC%EC%9C%BC%EB%A1%9C-%EC%95%8C%EC%95%84%EB%B3%B4%EB%8A%94-LCS-%EC%95%8C%EA%B3%A0%EB%A6%AC%EC%A6%98-Longest-Common-Substring%EC%99%80-Longest-Common-Subsequence)"
      ],
      "metadata": {
        "id": "ERSXRYt2CB3I"
      }
    },
    {
      "cell_type": "code",
      "source": [
        "###############\n",
        "# 31120kb, 44ms\n",
        "###############\n",
        "\n",
        "x = input()\n",
        "y = input()\n",
        "\n",
        "x_len, y_len = len(x), len(y)\n",
        "\n",
        "# Dynamic Programming Table\n",
        "# Table 만들기\n",
        "dp = [[0] * (y_len +1) for _ in range(x_len +1)]\n",
        "\n",
        "# 가장 긴 부분 문자열의 길이를 테이블에 채우기\n",
        "for i in range(1, x_len +1):\n",
        "    for j in range(1, y_len +1):\n",
        "        # 문자가 같다면 +1\n",
        "        if x[i-1] == y[j-1]:\n",
        "            dp[i][j] = dp[i-1][j-1] +1\n",
        "        # 문자가 같지 않다면\n",
        "        # 왼쪽, 위 랑 비교하여 max 값으로\n",
        "        else:\n",
        "            dp[i][j] = max(dp[i-1][j], dp[i][j-1])\n",
        "\n",
        "# 가장 긴 부분 문자열 만들기\n",
        "answer = ''\n",
        "\n",
        "# 끝 부분이 0이 아니면\n",
        "while dp[x_len][y_len] != 0:\n",
        "    # 왼쪽과 끝이 같다면\n",
        "    if dp[x_len -1][y_len] == dp[x_len][y_len]:\n",
        "        x_len -= 1\n",
        "    # 위와 끝이 같다면\n",
        "    elif dp[x_len][y_len -1] == dp[x_len][y_len]:\n",
        "        y_len -= 1\n",
        "    # dp[x_len -1][y_len -1]랑 끝이 같다면\n",
        "    else:\n",
        "        answer += x[x_len -1]\n",
        "        x_len -= 1\n",
        "        y_len -= 1\n",
        "\n",
        "# answer = 'ANEAU'\n",
        "print(answer[::-1])"
      ],
      "metadata": {
        "id": "_tOLYbK65fir"
      },
      "execution_count": null,
      "outputs": []
    },
    {
      "cell_type": "code",
      "source": [
        "###############\n",
        "# 31120kb, 40ms\n",
        "###############\n",
        "\n",
        "import sys\n",
        "\n",
        "inputs = sys.stdin.readlines()\n",
        "x = inputs[0].strip()\n",
        "y = inputs[1].strip()\n",
        "\n",
        "x_len, y_len = len(x), len(y)\n",
        "# Dynamic Programming Table\n",
        "dp = [[0] * (y_len +1) for _ in range(x_len +1)]\n",
        "\n",
        "for i in range(1, x_len +1):\n",
        "    for j in range(1, y_len +1):\n",
        "        if x[i-1] == y[j-1]:\n",
        "            dp[i][j] = dp[i-1][j-1] +1\n",
        "        else:\n",
        "            dp[i][j] = max(dp[i-1][j], dp[i][j-1])\n",
        "\n",
        "answer = ''\n",
        "\n",
        "while dp[x_len][y_len] != 0:\n",
        "    if dp[x_len -1][y_len] == dp[x_len][y_len]:\n",
        "        x_len -= 1\n",
        "    elif dp[x_len][y_len -1] == dp[x_len][y_len]:\n",
        "        y_len -= 1\n",
        "    else:\n",
        "        answer += x[x_len -1]\n",
        "        x_len -= 1\n",
        "        y_len -= 1\n",
        "\n",
        "print(answer[::-1])"
      ],
      "metadata": {
        "id": "Ka9fk_wLAlDa"
      },
      "execution_count": null,
      "outputs": []
    },
    {
      "cell_type": "code",
      "source": [],
      "metadata": {
        "id": "LqdFlRBwAlFs"
      },
      "execution_count": null,
      "outputs": []
    }
  ]
}