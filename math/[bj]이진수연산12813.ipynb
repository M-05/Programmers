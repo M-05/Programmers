{
  "nbformat": 4,
  "nbformat_minor": 0,
  "metadata": {
    "colab": {
      "provenance": []
    },
    "kernelspec": {
      "name": "python3",
      "display_name": "Python 3"
    },
    "language_info": {
      "name": "python"
    }
  },
  "cells": [
    {
      "cell_type": "markdown",
      "source": [
        "# [이진수 연산 12813](https://www.acmicpc.net/problem/12813)"
      ],
      "metadata": {
        "id": "L2dXUTqRHM3s"
      }
    },
    {
      "cell_type": "code",
      "source": [
        "# 두 이진수의 길이는 모두 100,000\n",
        "\n",
        "A & B,\n",
        "A | B,\n",
        "A ^ B,\n",
        "~A,\n",
        "~B"
      ],
      "metadata": {
        "id": "wyjPi9m7HM51"
      },
      "execution_count": null,
      "outputs": []
    },
    {
      "cell_type": "code",
      "source": [
        "# https://wikidocs.net/95998"
      ],
      "metadata": {
        "id": "Ey3fFiKeP5Y-"
      },
      "execution_count": null,
      "outputs": []
    },
    {
      "cell_type": "code",
      "source": [
        "a = '0001011000'\n",
        "result = bin(~int(a, 2) & 0b1111111111)[2:]\n",
        "print(result)"
      ],
      "metadata": {
        "id": "Wh017ouFNmhp"
      },
      "execution_count": null,
      "outputs": []
    },
    {
      "cell_type": "code",
      "source": [
        "a = '0001011000'\n",
        "b = '0000101111'"
      ],
      "metadata": {
        "id": "aSEvVm5SHN8J"
      },
      "execution_count": null,
      "outputs": []
    },
    {
      "cell_type": "code",
      "source": [
        "andOperator = bin(int(a, 2) & int(b, 2))[2:]\n",
        "orOperator = bin(int(a, 2) | int(b, 2))[2:]\n",
        "xorOperator = bin(int(a, 2) ^ int(b, 2))[2:]\n",
        "\n",
        "print((len(a) - len(andOperator)) * \"0\" + andOperator)\n",
        "print((len(a) - len(orOperator)) * \"0\" + orOperator)\n",
        "print((len(a) - len(xorOperator)) * \"0\" + xorOperator)\n",
        "# int(len(a) * \"1\", 2) = 0b1111111111\n",
        "mask = int(len(a) * \"1\", 2)\n",
        "# print(bin(int(a, 2) ^ mask)[2:])\n",
        "# print(bin(int(b, 2) ^ mask)[2:])\n",
        "print(~bin(int(a, 2) & mask)[2:])\n",
        "print(~bin(int(b, 2) & mask)[2:])"
      ],
      "metadata": {
        "colab": {
          "base_uri": "https://localhost:8080/"
        },
        "id": "eBMip9eXNvA8",
        "outputId": "59d7e88d-6baf-476b-b97d-703d7602f9c1"
      },
      "execution_count": null,
      "outputs": [
        {
          "output_type": "stream",
          "name": "stdout",
          "text": [
            "0000001000\n",
            "0001111111\n",
            "0001110111\n",
            "1110100111\n",
            "1111010000\n"
          ]
        }
      ]
    },
    {
      "cell_type": "code",
      "source": [
        "andOperator.zfill(len(a))"
      ],
      "metadata": {
        "colab": {
          "base_uri": "https://localhost:8080/",
          "height": 35
        },
        "id": "ENoDqwbJS4oZ",
        "outputId": "1f8f22ab-2d23-4f24-fe6f-131523802af0"
      },
      "execution_count": null,
      "outputs": [
        {
          "output_type": "execute_result",
          "data": {
            "text/plain": [
              "'0000001000'"
            ],
            "application/vnd.google.colaboratory.intrinsic+json": {
              "type": "string"
            }
          },
          "metadata": {},
          "execution_count": 112
        }
      ]
    },
    {
      "cell_type": "code",
      "source": [
        "######\n",
        "# 정답\n",
        "######\n",
        "A = '0001011000'\n",
        "B = '0000101111'\n",
        "\n",
        "# 비트 연산 결과 계산\n",
        "andOperator = bin(int(A, 2) & int(B, 2))[2:]\n",
        "orOperator = bin(int(A, 2) | int(B, 2))[2:]\n",
        "xorOperator = bin(int(A, 2) ^ int(B, 2))[2:]\n",
        "notA = bin(~int(A, 2) & int(\"1\" * len(A), 2))[2:]\n",
        "notB = bin(~int(B, 2) & int(\"1\" * len(B), 2))[2:]\n",
        "\n",
        "# 결과 출력\n",
        "print(andOperator.zfill(len(A)))\n",
        "print(orOperator.zfill(len(A)))\n",
        "print(xorOperator.zfill(len(A)))\n",
        "print(notA.zfill(len(A)))\n",
        "print(notB.zfill(len(B)))"
      ],
      "metadata": {
        "colab": {
          "base_uri": "https://localhost:8080/"
        },
        "id": "TG6p9NJ0SmKW",
        "outputId": "4b7ccad1-61d8-4e62-dd57-8aaee846046f"
      },
      "execution_count": null,
      "outputs": [
        {
          "output_type": "stream",
          "name": "stdout",
          "text": [
            "0000001000\n",
            "0001111111\n",
            "0001110111\n",
            "1110100111\n",
            "1111010000\n"
          ]
        }
      ]
    },
    {
      "cell_type": "markdown",
      "source": [
        "---"
      ],
      "metadata": {
        "id": "VHIxxBcUSpmT"
      }
    },
    {
      "cell_type": "code",
      "source": [
        "a,b = int(input(),2),int(input(),2)\n",
        "n = 10**5; mask = 2**n-1\n",
        "print(bin(a&b)[2:].zfill(n))\n",
        "print(bin(a|b)[2:].zfill(n))\n",
        "print(bin(a^b)[2:].zfill(n))\n",
        "print(bin(a^mask)[2:].zfill(n))\n",
        "print(bin(b^mask)[2:].zfill(n))"
      ],
      "metadata": {
        "id": "P3bcZX2CUmZS"
      },
      "execution_count": null,
      "outputs": []
    }
  ]
}