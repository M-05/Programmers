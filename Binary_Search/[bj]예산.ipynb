{
  "nbformat": 4,
  "nbformat_minor": 0,
  "metadata": {
    "colab": {
      "provenance": []
    },
    "kernelspec": {
      "name": "python3",
      "display_name": "Python 3"
    },
    "language_info": {
      "name": "python"
    }
  },
  "cells": [
    {
      "cell_type": "markdown",
      "source": [
        "# [예산 2512](https://www.acmicpc.net/problem/2512)\n",
        "\n",
        "- 이분 탐색\n",
        "- 매개 변수 탐색\n",
        "\n",
        "> 정해진 총액 이하에서 가능한 한 최대의 총 예산을 다음과 같은 방법으로 배정\n",
        "\n",
        "> 모든 요청이 배정될 수 없는 경우에는 특정한 정수 상한액을 계산하여 그 이상인 예산요청에는 모두 상한액을 배정한다.  \n",
        "상한액 이하의 예산요청에 대해서는 요청한 금액을 그대로 배정한다"
      ],
      "metadata": {
        "id": "h0pYsi7xDgnn"
      }
    },
    {
      "cell_type": "code",
      "source": [
        "import sys\n",
        "\n",
        "with open('./bj.txt', 'w') as f:\n",
        "#     f.write('''5\n",
        "# 70 80 30 40 100\n",
        "# 450''')\n",
        "    f.write('''4\n",
        "120 110 140 150\n",
        "485''')\n",
        "# 100\n",
        "sys.stdin = open('./bj.txt', 'r')\n",
        "input = sys.stdin.readline"
      ],
      "metadata": {
        "id": "EM0kCRBfDtd6"
      },
      "execution_count": 22,
      "outputs": []
    },
    {
      "cell_type": "code",
      "source": [
        "# 지방의 수를 의미하는 정수 N\n",
        "# N은 3 이상 10,000 이하\n",
        "# 각 지방의 예산요청을 표현하는 N개의 정수가 빈칸을 사이에 두고 주어진다\n",
        "# 모두 1 이상 100,000 이하\n",
        "# 총 예산을 나타내는 정수 M\n",
        "# M은 N 이상 1,000,000,000 이하\n",
        "# return 배정된 예산들 중 최댓값인 정수를 출력"
      ],
      "metadata": {
        "id": "vgSfQ-nzWfCp"
      },
      "execution_count": null,
      "outputs": []
    },
    {
      "cell_type": "code",
      "source": [
        "N = int(input())\n",
        "ns = sorted(list(map(int, input().split())))\n",
        "money = int(input())"
      ],
      "metadata": {
        "id": "_DIJw3aQXYcs"
      },
      "execution_count": 23,
      "outputs": []
    },
    {
      "cell_type": "code",
      "source": [
        "ns"
      ],
      "metadata": {
        "colab": {
          "base_uri": "https://localhost:8080/"
        },
        "id": "eRJeIbZpXYf7",
        "outputId": "d9de59f9-46eb-406a-8cb3-b45752b3bc52"
      },
      "execution_count": 24,
      "outputs": [
        {
          "output_type": "execute_result",
          "data": {
            "text/plain": [
              "[110, 120, 140, 150]"
            ]
          },
          "metadata": {},
          "execution_count": 24
        }
      ]
    },
    {
      "cell_type": "code",
      "source": [
        "if money > sum(ns):\n",
        "    print(max(ns))"
      ],
      "metadata": {
        "id": "abUUYRwYYmZj"
      },
      "execution_count": null,
      "outputs": []
    },
    {
      "cell_type": "code",
      "source": [
        "import numpy as np"
      ],
      "metadata": {
        "id": "RA_k8THTZoFf"
      },
      "execution_count": 30,
      "outputs": []
    },
    {
      "cell_type": "code",
      "source": [
        "money"
      ],
      "metadata": {
        "colab": {
          "base_uri": "https://localhost:8080/"
        },
        "id": "-XzqbKQjcBwT",
        "outputId": "31e194d1-7e35-46aa-9ff2-698717d3753f"
      },
      "execution_count": 38,
      "outputs": [
        {
          "output_type": "execute_result",
          "data": {
            "text/plain": [
              "485"
            ]
          },
          "metadata": {},
          "execution_count": 38
        }
      ]
    },
    {
      "cell_type": "code",
      "source": [
        "ns"
      ],
      "metadata": {
        "colab": {
          "base_uri": "https://localhost:8080/"
        },
        "id": "sGQ7XHFJbdua",
        "outputId": "a8950852-6508-4084-a7ae-98363b2a7185"
      },
      "execution_count": 35,
      "outputs": [
        {
          "output_type": "execute_result",
          "data": {
            "text/plain": [
              "[110, 120, 140, 150]"
            ]
          },
          "metadata": {},
          "execution_count": 35
        }
      ]
    },
    {
      "cell_type": "code",
      "source": [
        "110 * 4"
      ],
      "metadata": {
        "colab": {
          "base_uri": "https://localhost:8080/"
        },
        "id": "G_fzEGMUbeyP",
        "outputId": "0b94a14a-c141-4fdf-af0d-c93bf961df23"
      },
      "execution_count": 36,
      "outputs": [
        {
          "output_type": "execute_result",
          "data": {
            "text/plain": [
              "440"
            ]
          },
          "metadata": {},
          "execution_count": 36
        }
      ]
    },
    {
      "cell_type": "code",
      "source": [
        "money / N"
      ],
      "metadata": {
        "colab": {
          "base_uri": "https://localhost:8080/"
        },
        "id": "sPqEy0QafTmC",
        "outputId": "410cc291-8dce-4e5b-d0b2-c1c52f1c22ca"
      },
      "execution_count": 47,
      "outputs": [
        {
          "output_type": "execute_result",
          "data": {
            "text/plain": [
              "121.25"
            ]
          },
          "metadata": {},
          "execution_count": 47
        }
      ]
    },
    {
      "cell_type": "code",
      "source": [
        "start, end = 0, N-1\n",
        "\n",
        "temp = []\n",
        "while start <= end:\n",
        "    middle = (start-end) // 2\n",
        "    if ns[middle] *N > money:\n",
        "        end = middle -1\n",
        "    elif ns[middle] *N < money:\n",
        "        start = middle +1\n",
        "        temp.append(ns[middle])"
      ],
      "metadata": {
        "id": "jh0a3XNkb_Pa"
      },
      "execution_count": 50,
      "outputs": []
    },
    {
      "cell_type": "code",
      "source": [],
      "metadata": {
        "id": "D0tAXrShhPxh"
      },
      "execution_count": null,
      "outputs": []
    },
    {
      "cell_type": "code",
      "source": [
        "start, end = 1, max(ns) #150\n",
        "\n",
        "ans=0\n",
        "while start <= end: # 76 <= 150 # 113 <= 150\n",
        "    mid=(start + end) //2 # 151 // 2 # 113 # 131\n",
        "\n",
        "    total = 0\n",
        "    for i in ns: # 110, 120, 140, 150\n",
        "        if i>=mid: # 110 >= 75\n",
        "            total+=mid # 75, 75, 75, 75\n",
        "        else:\n",
        "            total+=i #\n",
        "\n",
        "    if total > money: # 492 > 450\n",
        "        end= mid-1 # 130 # 121\n",
        "        ans= min(ans,end) # 113, 130 -> 113, 120\n",
        "    else: # 300 < 450 # 449 < 450\n",
        "        start= mid+1 # 75 +1 # 113 + 1\n",
        "        ans= max(ans,start) # max(0, 76) # max(76, 113)"
      ],
      "metadata": {
        "id": "ADhA9mKqhPzR"
      },
      "execution_count": 57,
      "outputs": []
    },
    {
      "cell_type": "code",
      "source": [
        "ans"
      ],
      "metadata": {
        "colab": {
          "base_uri": "https://localhost:8080/"
        },
        "id": "qBDB1Fp3hP1F",
        "outputId": "532e2499-e5bd-4873-f2f2-0b9d6c3ac482"
      },
      "execution_count": 58,
      "outputs": [
        {
          "output_type": "execute_result",
          "data": {
            "text/plain": [
              "127"
            ]
          },
          "metadata": {},
          "execution_count": 58
        }
      ]
    },
    {
      "cell_type": "code",
      "source": [
        "75 * 4"
      ],
      "metadata": {
        "colab": {
          "base_uri": "https://localhost:8080/"
        },
        "id": "04gEre0ahYhA",
        "outputId": "27b7e5b7-5e5b-41a7-b1a3-ce639dc3e65e"
      },
      "execution_count": 60,
      "outputs": [
        {
          "output_type": "execute_result",
          "data": {
            "text/plain": [
              "300"
            ]
          },
          "metadata": {},
          "execution_count": 60
        }
      ]
    },
    {
      "cell_type": "code",
      "source": [
        "(76 + 150) / 2"
      ],
      "metadata": {
        "colab": {
          "base_uri": "https://localhost:8080/"
        },
        "id": "SjjeFotVigmc",
        "outputId": "52057acc-2cbe-4ea2-b9c3-42ab6870c4e1"
      },
      "execution_count": 61,
      "outputs": [
        {
          "output_type": "execute_result",
          "data": {
            "text/plain": [
              "113.0"
            ]
          },
          "metadata": {},
          "execution_count": 61
        }
      ]
    },
    {
      "cell_type": "code",
      "source": [
        "110 + 113 + 113 + 113"
      ],
      "metadata": {
        "colab": {
          "base_uri": "https://localhost:8080/"
        },
        "id": "fpBk_mIdjQmK",
        "outputId": "8359c676-91fd-442a-c57c-70e36b3dedc8"
      },
      "execution_count": 62,
      "outputs": [
        {
          "output_type": "execute_result",
          "data": {
            "text/plain": [
              "449"
            ]
          },
          "metadata": {},
          "execution_count": 62
        }
      ]
    },
    {
      "cell_type": "code",
      "source": [
        "(113 + 150) / 2"
      ],
      "metadata": {
        "colab": {
          "base_uri": "https://localhost:8080/"
        },
        "id": "lgXkAd0ujZ7B",
        "outputId": "97830ce4-cbf1-4d43-a465-8d6a3689ca15"
      },
      "execution_count": 63,
      "outputs": [
        {
          "output_type": "execute_result",
          "data": {
            "text/plain": [
              "131.5"
            ]
          },
          "metadata": {},
          "execution_count": 63
        }
      ]
    },
    {
      "cell_type": "code",
      "source": [
        "131 + 131 + 110 + 120"
      ],
      "metadata": {
        "colab": {
          "base_uri": "https://localhost:8080/"
        },
        "id": "C9WuONQ_j6kx",
        "outputId": "94b617fb-b015-41be-8f4a-c937630e3546"
      },
      "execution_count": 64,
      "outputs": [
        {
          "output_type": "execute_result",
          "data": {
            "text/plain": [
              "492"
            ]
          },
          "metadata": {},
          "execution_count": 64
        }
      ]
    },
    {
      "cell_type": "code",
      "source": [
        "(130 + 113) / 2"
      ],
      "metadata": {
        "colab": {
          "base_uri": "https://localhost:8080/"
        },
        "id": "cTeaZo97kGIv",
        "outputId": "642b1fd4-923f-458c-e16b-283b444ee30e"
      },
      "execution_count": 65,
      "outputs": [
        {
          "output_type": "execute_result",
          "data": {
            "text/plain": [
              "121.5"
            ]
          },
          "metadata": {},
          "execution_count": 65
        }
      ]
    },
    {
      "cell_type": "code",
      "source": [
        "121 + 121 + 110 + 120"
      ],
      "metadata": {
        "colab": {
          "base_uri": "https://localhost:8080/"
        },
        "id": "Ey86Gcg-kX1-",
        "outputId": "b7dc1f35-34f2-40d5-d009-0c534b319720"
      },
      "execution_count": 66,
      "outputs": [
        {
          "output_type": "execute_result",
          "data": {
            "text/plain": [
              "472"
            ]
          },
          "metadata": {},
          "execution_count": 66
        }
      ]
    },
    {
      "cell_type": "code",
      "source": [
        "(120 + 113) / 2"
      ],
      "metadata": {
        "colab": {
          "base_uri": "https://localhost:8080/"
        },
        "id": "qtBq1pJ7kc-s",
        "outputId": "70c2c927-2f59-4eed-809f-3884450cb258"
      },
      "execution_count": 67,
      "outputs": [
        {
          "output_type": "execute_result",
          "data": {
            "text/plain": [
              "116.5"
            ]
          },
          "metadata": {},
          "execution_count": 67
        }
      ]
    },
    {
      "cell_type": "code",
      "source": [
        "116 + 120 + 140 + 150"
      ],
      "metadata": {
        "colab": {
          "base_uri": "https://localhost:8080/"
        },
        "id": "UHMUQVxAkqaS",
        "outputId": "b4d80b30-9eed-4ed1-df6b-de0479d470dc"
      },
      "execution_count": 68,
      "outputs": [
        {
          "output_type": "execute_result",
          "data": {
            "text/plain": [
              "526"
            ]
          },
          "metadata": {},
          "execution_count": 68
        }
      ]
    },
    {
      "cell_type": "code",
      "source": [
        "113"
      ],
      "metadata": {
        "id": "onxD4JI5kv_M"
      },
      "execution_count": null,
      "outputs": []
    },
    {
      "cell_type": "code",
      "source": [
        "#########\n",
        "# 시간 초과\n",
        "#########\n",
        "\n",
        "import sys\n",
        "\n",
        "input = sys.stdin.readline\n",
        "\n",
        "N = int(input())\n",
        "ns = sorted(list(map(int, input().split())))\n",
        "money = int(input())\n",
        "\n",
        "if money > sum(ns):\n",
        "    print(max(ns))\n",
        "else:\n",
        "    start, end = 1, max(ns)\n",
        "    answer = 0\n",
        "\n",
        "    while start <= end:\n",
        "        middle = (start+end)//2\n",
        "        total = 0\n",
        "        for num in ns:\n",
        "            if num >= middle:\n",
        "                total += middle\n",
        "            else:\n",
        "                total += num\n",
        "    if total > money:\n",
        "        end = middle -1\n",
        "        answer = min(answer, end)\n",
        "    else:\n",
        "        start = middle +1\n",
        "        answer = max(answer, start)\n",
        "    print(answer)"
      ],
      "metadata": {
        "id": "U_moXTQnnl0A"
      },
      "execution_count": null,
      "outputs": []
    },
    {
      "cell_type": "code",
      "source": [
        "# Pass\n",
        "\n",
        "import sys\n",
        "\n",
        "input = sys.stdin.readline\n",
        "\n",
        "N = int(input())\n",
        "ns = sorted(list(map(int, input().split())))\n",
        "money = int(input())\n",
        "\n",
        "start, end = 1, ns[-1]\n",
        "while start <= end:\n",
        "    middle = (start+end)//2\n",
        "    cost = 0  # 비용\n",
        "    for num in ns:\n",
        "        if num > middle:\n",
        "            cost += middle\n",
        "        else:\n",
        "            cost += num\n",
        "\n",
        "    if cost > money:\n",
        "        end = middle - 1\n",
        "\n",
        "    else:\n",
        "        start = middle + 1\n",
        "print(end)"
      ],
      "metadata": {
        "id": "f7SyKunCsCSW"
      },
      "execution_count": null,
      "outputs": []
    }
  ]
}