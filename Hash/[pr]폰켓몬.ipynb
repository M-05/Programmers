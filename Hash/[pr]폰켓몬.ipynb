{
  "nbformat": 4,
  "nbformat_minor": 0,
  "metadata": {
    "colab": {
      "provenance": []
    },
    "kernelspec": {
      "name": "python3",
      "display_name": "Python 3"
    },
    "language_info": {
      "name": "python"
    }
  },
  "cells": [
    {
      "cell_type": "markdown",
      "source": [
        "당신은 폰켓몬을 잡기 위한 오랜 여행 끝에, 홍 박사님의 연구실에 도착했습니다.  \n",
        "홍 박사님은 당신에게 자신의 연구실에 있는 총 N 마리의 폰켓몬 중에서 N/2마리를 가져가도 좋다고 했습니다.  \n",
        "\n",
        "홍 박사님 연구실의 폰켓몬은 종류에 따라 번호를 붙여 구분합니다. 따라서 같은 종류의 폰켓몬은 같은 번호를 가지고 있습니다.   \n",
        "예를 들어 연구실에 총 4마리의 폰켓몬이 있고,  \n",
        "각 폰켓몬의 종류 번호가 [3번, 1번, 2번, 3번]이라면 이는  \n",
        "3번 폰켓몬 두 마리,  \n",
        "1번 폰켓몬 한 마리,  \n",
        "2번 폰켓몬 한 마리가 있음을 나타냅니다.  \n",
        "이때, 4마리의 폰켓몬 중 2마리를 고르는 방법은 다음과 같이 6가지가 있습니다.\n",
        "\n",
        "\n",
        "이때, 첫 번째(3번) 폰켓몬과 네 번째(3번) 폰켓몬을 선택하는 방법은 한 종류(3번 폰켓몬 두 마리)의 폰켓몬만 가질 수 있지만, 다른 방법들은 모두 두 종류의 폰켓몬을 가질 수 있습니다.  \n",
        "따라서 위 예시에서 가질 수 있는 폰켓몬 종류 수의 최댓값은 2가 됩니다.  \n",
        "---\n",
        "당신은 최대한 다양한 종류의 폰켓몬을 가지길 원하기 때문에, 최대한 많은 종류의 폰켓몬을 포함해서 N/2마리를 선택하려 합니다.  \n",
        "\n",
        "N마리 폰켓몬의 종류 번호가 담긴 배열 nums가 매개변수로 주어질 때,  \n",
        " N/2마리의 폰켓몬을 선택하는 방법 중,  \n",
        "가장 많은 종류의 폰켓몬을 선택하는 방법을 찾아,  \n",
        "그때의 폰켓몬 종류 번호의 개수를 return 하도록 solution 함수를 완성해주세요.\n",
        "\n",
        "---\n",
        "\n",
        "nums는 폰켓몬의 종류 번호가 담긴 1차원 배열입니다.  \n",
        "\n",
        "nums의 길이(N)는 1 이상 10,000 이하의 자연수이며, 항상 짝수로 주어집니다.  \n",
        "\n",
        "폰켓몬의 종류 번호는 1 이상 200,000 이하의 자연수로 나타냅니다.\n",
        "가장 많은 종류의 폰켓몬을 선택하는 방법이 여러 가지인 경우에도, 선택할 수 있는 폰켓몬 종류 개수의 최댓값 하나만 return 하면 됩니다."
      ],
      "metadata": {
        "id": "a79s4XTBXK99"
      }
    },
    {
      "cell_type": "code",
      "source": [
        "nums, result = [3,1,2,3], 2\n",
        "nums, result = [3,3,3,2,2,4], 3\n",
        "nums, result = [3,3,3,2,2,2], 2"
      ],
      "metadata": {
        "id": "0akgs_d6Xbgc"
      },
      "execution_count": 1,
      "outputs": []
    },
    {
      "cell_type": "code",
      "source": [
        "def solution(nums):\n",
        "    return len(set(nums)) if int(len(nums) / 2) >= len(set(nums)) else int(len(nums) / 2)"
      ],
      "metadata": {
        "id": "LP5VnUg2XboK"
      },
      "execution_count": null,
      "outputs": []
    },
    {
      "cell_type": "code",
      "source": [
        "# 최댓값 구하기.\n",
        "# 3 >= 2\n",
        "if int(len(nums) / 2) >= len(set(nums)):\n",
        "    len(set(nums)) # 2\n",
        "else:\n",
        "    int(len(nums) / 2) # 3"
      ],
      "metadata": {
        "id": "dlikty46bUse"
      },
      "execution_count": null,
      "outputs": []
    },
    {
      "cell_type": "code",
      "source": [
        "from time import time\n",
        "from collections import Counter"
      ],
      "metadata": {
        "id": "JJnn1vbhXbpL"
      },
      "execution_count": 7,
      "outputs": []
    },
    {
      "cell_type": "code",
      "source": [
        "# Counter 함수\n",
        "start = time()\n",
        "\n",
        "print(Counter(nums))\n",
        "\n",
        "print(time() - start)"
      ],
      "metadata": {
        "colab": {
          "base_uri": "https://localhost:8080/"
        },
        "id": "txyWx8rBXbpn",
        "outputId": "c6d0c32d-4b55-44d4-ab53-5421fa13ecc6"
      },
      "execution_count": 10,
      "outputs": [
        {
          "output_type": "stream",
          "name": "stdout",
          "text": [
            "Counter({3: 3, 2: 3})\n",
            "0.0022308826446533203\n"
          ]
        }
      ]
    },
    {
      "cell_type": "code",
      "source": [
        "# set 함수\n",
        "start = time()\n",
        "\n",
        "print(set(nums))\n",
        "\n",
        "print(time() - start)"
      ],
      "metadata": {
        "colab": {
          "base_uri": "https://localhost:8080/"
        },
        "id": "DDZ7bCQVXbqD",
        "outputId": "2a0a81cd-ce2f-4078-a5dc-549748b1001f"
      },
      "execution_count": 11,
      "outputs": [
        {
          "output_type": "stream",
          "name": "stdout",
          "text": [
            "{2, 3}\n",
            "0.0002646446228027344\n"
          ]
        }
      ]
    },
    {
      "cell_type": "markdown",
      "source": [
        "---\n",
        "---\n",
        "---"
      ],
      "metadata": {
        "id": "IopW8yT0Xbrj"
      }
    },
    {
      "cell_type": "code",
      "source": [
        "def solution(nums):\n",
        "    return min(len(nums)/2, len(set(nums)))"
      ],
      "metadata": {
        "id": "HWNpex5-XbsA"
      },
      "execution_count": null,
      "outputs": []
    }
  ]
}