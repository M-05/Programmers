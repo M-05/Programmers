{
  "nbformat": 4,
  "nbformat_minor": 0,
  "metadata": {
    "colab": {
      "provenance": []
    },
    "kernelspec": {
      "name": "python3",
      "display_name": "Python 3"
    },
    "language_info": {
      "name": "python"
    }
  },
  "cells": [
    {
      "cell_type": "markdown",
      "source": [
        "# [Hunt The Rabbit 13777](https://www.acmicpc.net/problem/13777)\n",
        "\n",
        "- 구현\n",
        "- 이분 탐색"
      ],
      "metadata": {
        "id": "Z_upeB7W9j1c"
      }
    },
    {
      "cell_type": "code",
      "source": [
        "import sys\n",
        "\n",
        "with open('./bj.txt', 'w') as f:\n",
        "    f.write('''25\n",
        "17\n",
        "31\n",
        "0''')\n",
        "\n",
        "sys.stdin = open('./bj.txt', 'r')\n",
        "input = sys.stdin.readline"
      ],
      "metadata": {
        "id": "qtog-sFG9j46"
      },
      "execution_count": 137,
      "outputs": []
    },
    {
      "cell_type": "code",
      "source": [
        "temp=[]\n",
        "while True:\n",
        "    num = int(input())\n",
        "    if num ==0:\n",
        "        break\n",
        "    temp.append(num)"
      ],
      "metadata": {
        "id": "r-S7PBaY9kA0"
      },
      "execution_count": 47,
      "outputs": []
    },
    {
      "cell_type": "code",
      "source": [
        "# start, end 둘 다 지정 해두었다면...\n",
        "\n",
        "while True:\n",
        "    result = int(input())\n",
        "    if result ==0:\n",
        "        break\n",
        "\n",
        "    def binary_search(result, now_num ,num_list):\n",
        "        if result == num_list[now_num]:\n",
        "            return\n",
        "        # 타겟 값보다 작다면\n",
        "        elif result > num_list[now_num]: # 17 > 12\n",
        "            now_num += 1\n",
        "            num_list = num_list[now_num:]\n",
        "            if len(num_list) % 2 == 0: # 짝수면\n",
        "                now_num = len(num_list) // 2 -1 # 25 // 2 = 12\n",
        "            else: # 홀수면\n",
        "                now_num = len(num_list) // 2\n",
        "            if num_list[now_num] == result:\n",
        "                return result_list.append(num_list[now_num])\n",
        "            else:\n",
        "                result_list.append(num_list[now_num])\n",
        "                binary_search(result, now_num, num_list) # 31, 12\n",
        "        # 타겟 값보다 크다면\n",
        "        else: # 17 < 25\n",
        "            num_list = num_list[:now_num] # 1 ~ 24\n",
        "            if len(num_list) % 2 == 0: # 짝수면\n",
        "                now_num = (len(num_list) // 2) - 1\n",
        "            else: # 홀수면\n",
        "                now_num = (len(num_list) // 2)\n",
        "\n",
        "            if num_list[now_num] == result:\n",
        "                return result_list.append(num_list[now_num])\n",
        "            else:\n",
        "                result_list.append(num_list[now_num])\n",
        "                binary_search(result, now_num, num_list) # 17, 11\n",
        "\n",
        "\n",
        "    num_list = list(range(1, 51))\n",
        "\n",
        "\n",
        "    now_num = len(num_list)//2 -1\n",
        "    result_list = [num_list[now_num]] # 25\n",
        "\n",
        "    binary_search(result, now_num, num_list)\n",
        "\n",
        "    if len(result_list) > 1:\n",
        "        for i in result_list[:-1]:\n",
        "            print(i, end=' ')\n",
        "        print(result_list[-1])\n",
        "    else:\n",
        "        print(result_list[0])"
      ],
      "metadata": {
        "colab": {
          "base_uri": "https://localhost:8080/"
        },
        "id": "4rKpLRZ4EfOp",
        "outputId": "3778d61f-f305-4591-cd14-27e0ee649eb4"
      },
      "execution_count": 138,
      "outputs": [
        {
          "output_type": "stream",
          "name": "stdout",
          "text": [
            "25\n",
            "25 12 18 15 16 17\n",
            "25 38 31\n"
          ]
        }
      ]
    },
    {
      "cell_type": "markdown",
      "source": [
        "---"
      ],
      "metadata": {
        "id": "O01Qfz-3EfLv"
      }
    },
    {
      "cell_type": "code",
      "source": [
        "while 1:\n",
        "    num = int(input())\n",
        "    if num == 0:\n",
        "        break\n",
        "    start, end = 1, 50\n",
        "    while start <= end:\n",
        "        middle = (start+end)//2 # 25\n",
        "        print(middle, end=' ')\n",
        "        if middle == num: #\n",
        "            break\n",
        "        elif middle < num: # 25 < target\n",
        "            start = middle+1\n",
        "        else: # 25 > target\n",
        "            end = middle-1\n",
        "    print()"
      ],
      "metadata": {
        "id": "Z_gOKpkDGwO2"
      },
      "execution_count": null,
      "outputs": []
    },
    {
      "cell_type": "code",
      "source": [
        "import sys\n",
        "import math\n",
        "input = sys.stdin.readline\n",
        "\n",
        "\n",
        "arr = [i+1 for i in range(50)]\n",
        "\n",
        "while True:\n",
        "    num = int(input())\n",
        "    if num == 0:\n",
        "        break\n",
        "    start = 0\n",
        "    end = 49\n",
        "    mid = math.floor((start+end)/2)\n",
        "    while end-start >= 0:\n",
        "        if arr[mid] == num:\n",
        "            print(arr[mid], end=\" \")\n",
        "            break\n",
        "        elif arr[mid] > num: # middle > target\n",
        "            print(arr[mid], end=\" \")\n",
        "            start = start\n",
        "            end = mid-1\n",
        "            mid = math.floor((start+end)/2)\n",
        "        else: # middle < target\n",
        "            print(arr[mid], end=\" \")\n",
        "            start = mid+1\n",
        "            end = end\n",
        "            mid = math.floor((start+end)/2)\n",
        "    print()"
      ],
      "metadata": {
        "id": "m_TdnVMiFPkD"
      },
      "execution_count": null,
      "outputs": []
    }
  ]
}