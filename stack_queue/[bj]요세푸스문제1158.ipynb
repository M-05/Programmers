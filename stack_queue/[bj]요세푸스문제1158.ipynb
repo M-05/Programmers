{
  "nbformat": 4,
  "nbformat_minor": 0,
  "metadata": {
    "colab": {
      "provenance": []
    },
    "kernelspec": {
      "name": "python3",
      "display_name": "Python 3"
    },
    "language_info": {
      "name": "python"
    }
  },
  "cells": [
    {
      "cell_type": "markdown",
      "source": [
        "# [요세푸스 문제 1158](https://www.acmicpc.net/problem/1158)\n",
        "\n",
        "> 1 <= K <= N <= 5000\n",
        "\n",
        "- 구현\n",
        "- 자료 구조\n",
        "- 큐"
      ],
      "metadata": {
        "id": "e1kXRS2vJUR6"
      }
    },
    {
      "cell_type": "code",
      "execution_count": 33,
      "metadata": {
        "id": "cBoZ15JLItZb"
      },
      "outputs": [],
      "source": [
        "import sys\n",
        "with open('./bj.txt', 'w') as f:\n",
        "    f.write('''7 3''')\n",
        "# <3, 6, 2, 7, 5, 1, 4>\n",
        "sys.stdin = open('./bj.txt', 'r')\n",
        "input = sys.stdin.readline"
      ]
    },
    {
      "cell_type": "code",
      "source": [
        "from collections import deque\n",
        "n, k = map(int, input().split())\n",
        "\n",
        "queue = deque(range(1, n+1))\n",
        "queue"
      ],
      "metadata": {
        "colab": {
          "base_uri": "https://localhost:8080/"
        },
        "id": "kRYc1hgOM0JX",
        "outputId": "5f657d7f-248e-44b6-d1a9-07d0cc70c3c2"
      },
      "execution_count": 34,
      "outputs": [
        {
          "output_type": "execute_result",
          "data": {
            "text/plain": [
              "deque([1, 2, 3, 4, 5, 6, 7])"
            ]
          },
          "metadata": {},
          "execution_count": 34
        }
      ]
    },
    {
      "cell_type": "code",
      "source": [
        "answer = []\n",
        "\n",
        "while queue:\n",
        "    queue.rotate(-k +1)\n",
        "    answer.append(queue.popleft())\n",
        "answer"
      ],
      "metadata": {
        "colab": {
          "base_uri": "https://localhost:8080/"
        },
        "id": "ikQhsV9vNPYC",
        "outputId": "d296258f-b9e4-4d6a-cf13-e343116c91f2"
      },
      "execution_count": 35,
      "outputs": [
        {
          "output_type": "execute_result",
          "data": {
            "text/plain": [
              "[3, 6, 2, 7, 5, 1, 4]"
            ]
          },
          "metadata": {},
          "execution_count": 35
        }
      ]
    },
    {
      "cell_type": "code",
      "source": [
        "print('<', end='')\n",
        "for i in answer[:-1]:\n",
        "    print(i, end=', ')\n",
        "print(answer[-1], end='')\n",
        "print('>')"
      ],
      "metadata": {
        "colab": {
          "base_uri": "https://localhost:8080/"
        },
        "id": "iTRmPyL2NReJ",
        "outputId": "0b440804-d16f-479c-f8ed-777487fa7c75"
      },
      "execution_count": 36,
      "outputs": [
        {
          "output_type": "stream",
          "name": "stdout",
          "text": [
            "<3, 6, 2, 7, 5, 1, 4>\n"
          ]
        }
      ]
    },
    {
      "cell_type": "code",
      "source": [
        "from collections import deque\n",
        "import sys\n",
        "# input = sys.stdin.readline\n",
        "n, k = map(int, input().split())\n",
        "queue = deque(range(1, n+1))\n",
        "answer = []\n",
        "# rotating\n",
        "while queue:\n",
        "    queue.rotate(-k +1)\n",
        "    answer.append(queue.popleft())\n",
        "# output\n",
        "print('<', end='')\n",
        "for i in answer[:-1]:\n",
        "    print(i, end=', ')\n",
        "print(answer[-1], end='')\n",
        "print('>')"
      ],
      "metadata": {
        "colab": {
          "base_uri": "https://localhost:8080/"
        },
        "id": "hmDu1DEyMkOg",
        "outputId": "6640ff49-772e-4864-b3c5-8cd9c146f5fd"
      },
      "execution_count": 32,
      "outputs": [
        {
          "output_type": "stream",
          "name": "stdout",
          "text": [
            "<3, 6, 2, 7, 5, 1, 4>\n"
          ]
        }
      ]
    },
    {
      "cell_type": "code",
      "source": [
        "temp = list(range(1, n+1))\n",
        "temp"
      ],
      "metadata": {
        "colab": {
          "base_uri": "https://localhost:8080/"
        },
        "id": "zNzT0QD1JsA2",
        "outputId": "b0303c46-e818-4115-96b8-96dbbed8787a"
      },
      "execution_count": 7,
      "outputs": [
        {
          "output_type": "execute_result",
          "data": {
            "text/plain": [
              "[1, 2, 3, 4, 5, 6, 7]"
            ]
          },
          "metadata": {},
          "execution_count": 7
        }
      ]
    },
    {
      "cell_type": "code",
      "source": [
        "1 2 4 5 6 7\n",
        "1 2 4 5 7\n",
        "1 4 5 7\n",
        "1 4 5\n",
        "1 4\n",
        "4"
      ],
      "metadata": {
        "id": "65ggapDSKcx7"
      },
      "execution_count": null,
      "outputs": []
    },
    {
      "cell_type": "markdown",
      "source": [
        "---\n",
        "---"
      ],
      "metadata": {
        "id": "zG4PqL1JL2a_"
      }
    },
    {
      "cell_type": "code",
      "source": [
        "import sys\n",
        "input = sys.stdin.readline\n",
        "from collections import deque\n",
        "\n",
        "n,k = map(int, input().split())\n",
        "d= deque([i for i in range(1, n+1)])\n",
        "result = []\n",
        "\n",
        "for _ in range(n):\n",
        "    for _ in range(k -1):\n",
        "        x = d.popleft()\n",
        "        d.append(x)\n",
        "    x = d.popleft()\n",
        "    result.append(x)\n",
        "# 출력\n",
        "print('<', end='')\n",
        "for i in range(len(result)):\n",
        "    if i < len(result) -1:\n",
        "        print(result[i], end=', ')\n",
        "    else: # 마지막 원소\n",
        "        print(result[i], end='')\n",
        "print('>')"
      ],
      "metadata": {
        "id": "87yKi12WNY9r"
      },
      "execution_count": null,
      "outputs": []
    }
  ]
}