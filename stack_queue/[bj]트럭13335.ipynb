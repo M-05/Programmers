{
  "nbformat": 4,
  "nbformat_minor": 0,
  "metadata": {
    "colab": {
      "provenance": []
    },
    "kernelspec": {
      "name": "python3",
      "display_name": "Python 3"
    },
    "language_info": {
      "name": "python"
    }
  },
  "cells": [
    {
      "cell_type": "markdown",
      "source": [
        "# [트럭 13335](https://www.acmicpc.net/problem/13335)\n",
        "\n",
        "- 자료구조\n",
        "- 큐\n",
        "- 구현\n",
        "- 시뮬레이션\n",
        "\n",
        "> n (1 ≤ n ≤ 1,000)  다리를 건너는 트럭의 수  \n",
        "> w (1 ≤ w ≤ 100)  다리의 길이   \n",
        "> L (10 ≤ L ≤ 1,000) 다리의 최대하중  "
      ],
      "metadata": {
        "id": "qj-8VsgJcbHv"
      }
    },
    {
      "cell_type": "code",
      "source": [
        "import sys\n",
        "with open('./bj.txt', 'w') as f:\n",
        "#     f.write('''4 2 10\n",
        "# 7 4 5 6''')\n",
        "#     f.write('''1 100 100\n",
        "# 10''')\n",
        "    f.write('''10 100 100\n",
        "10 10 10 10 10 10 10 10 10 10''')\n",
        "sys.stdin = open('./bj.txt', 'r')\n",
        "\n",
        "input = sys.stdin.readline"
      ],
      "metadata": {
        "id": "dfnQ1OQFcmUU"
      },
      "execution_count": 47,
      "outputs": []
    },
    {
      "cell_type": "code",
      "source": [
        "from collections import deque\n",
        "\n",
        "n, length, weight = list(map(int, input().split()))\n",
        "trucks = list(map(int, input().split()))\n",
        "\n",
        "bridge = [0 for _ in range(length)]\n",
        "\n",
        "bridge = deque(bridge)\n",
        "truck = deque(trucks)"
      ],
      "metadata": {
        "id": "lf6P-VD1hrgk"
      },
      "execution_count": 40,
      "outputs": []
    },
    {
      "cell_type": "code",
      "source": [
        "truck"
      ],
      "metadata": {
        "colab": {
          "base_uri": "https://localhost:8080/"
        },
        "id": "3qJiyKLmh5TI",
        "outputId": "00f7fa4c-c410-44c1-c029-aee91d871f04"
      },
      "execution_count": 41,
      "outputs": [
        {
          "output_type": "execute_result",
          "data": {
            "text/plain": [
              "deque([10, 10, 10, 10, 10, 10, 10, 10, 10, 10])"
            ]
          },
          "metadata": {},
          "execution_count": 41
        }
      ]
    },
    {
      "cell_type": "code",
      "source": [
        "cnt = 0\n",
        "\n",
        "while truck:\n",
        "    # 다리 내의 총 무게 - 다리에서 나갈 트럭 + 들어올 트럭 > 최대 하중\n",
        "    if sum(bridge) - bridge[0] + truck[0] > weight:\n",
        "        bridge.popleft()\n",
        "        bridge.append(0)\n",
        "        cnt += 1\n",
        "    else:\n",
        "        tr = truck.popleft()\n",
        "        bridge.popleft()\n",
        "        bridge.append(tr)\n",
        "        cnt += 1\n",
        "\n",
        "cnt += length\n",
        "cnt"
      ],
      "metadata": {
        "colab": {
          "base_uri": "https://localhost:8080/"
        },
        "id": "7bRJENPwh5O6",
        "outputId": "96f1a163-0a08-49f3-a04e-90a93ef0d342"
      },
      "execution_count": 42,
      "outputs": [
        {
          "output_type": "execute_result",
          "data": {
            "text/plain": [
              "110"
            ]
          },
          "metadata": {},
          "execution_count": 42
        }
      ]
    },
    {
      "cell_type": "code",
      "source": [
        "# 성공\n",
        "\n",
        "import sys\n",
        "input = sys.stdin.readline\n",
        "\n",
        "from collections import deque\n",
        "\n",
        "n, length, weight = list(map(int, input().split()))\n",
        "trucks = list(map(int, input().split()))\n",
        "\n",
        "bridge = [0 for _ in range(length)]\n",
        "\n",
        "bridge = deque(bridge)\n",
        "truck = deque(trucks)\n",
        "\n",
        "cnt = 0\n",
        "\n",
        "while truck:\n",
        "     # 다리 내의 총 무게 - 다리에서 나갈 트럭 + 들어올 트럭 > 최대 하중\n",
        "    if sum(bridge) - bridge[0] + truck[0] > weight:\n",
        "        bridge.popleft()\n",
        "        bridge.append(0)\n",
        "        cnt += 1\n",
        "    else:\n",
        "        tr = truck.popleft()\n",
        "        bridge.popleft()\n",
        "        bridge.append(tr)\n",
        "        cnt += 1\n",
        "\n",
        "cnt += length # 마지막 트럭이 지나가야할 거리\n",
        "print(cnt)"
      ],
      "metadata": {
        "colab": {
          "base_uri": "https://localhost:8080/"
        },
        "id": "v-NWeFS0h5MB",
        "outputId": "65362e99-632f-4968-a9a1-e00f6ad56818"
      },
      "execution_count": 44,
      "outputs": [
        {
          "output_type": "stream",
          "name": "stdout",
          "text": [
            "110\n"
          ]
        }
      ]
    },
    {
      "cell_type": "code",
      "source": [
        "# 성공\n",
        "\n",
        "import sys\n",
        "input = sys.stdin.readline\n",
        "\n",
        "from collections import deque\n",
        "\n",
        "n, length, weight = list(map(int, input().split()))\n",
        "trucks = list(map(int, input().split()))\n",
        "\n",
        "bridge = [0 for _ in range(length)]\n",
        "\n",
        "bridge = deque(bridge)\n",
        "truck = deque(trucks)\n",
        "\n",
        "cnt = 0\n",
        "\n",
        "while truck:\n",
        "    bridge.popleft()\n",
        "     # 다리 내의 총 무게 + 들어올 트럭 > 최대 하중\n",
        "    if sum(bridge) + truck[0] > weight:\n",
        "        bridge.append(0)\n",
        "\n",
        "    else:\n",
        "        tr = truck.popleft()\n",
        "        bridge.append(tr)\n",
        "    cnt += 1\n",
        "\n",
        "cnt += length # 마지막 트럭이 지나가야할 거리\n",
        "print(cnt)"
      ],
      "metadata": {
        "colab": {
          "base_uri": "https://localhost:8080/"
        },
        "id": "1RR8H9DFomYb",
        "outputId": "65446d1f-3e53-47b7-802b-5279612c27ed"
      },
      "execution_count": 46,
      "outputs": [
        {
          "output_type": "stream",
          "name": "stdout",
          "text": [
            "110\n"
          ]
        }
      ]
    },
    {
      "cell_type": "markdown",
      "source": [
        "---\n",
        "---"
      ],
      "metadata": {
        "id": "5CaT-s_Uh5Ir"
      }
    },
    {
      "cell_type": "code",
      "source": [
        "import sys\n",
        "input = sys.stdin.readline\n",
        "from collections import deque\n",
        "\n",
        "n, w, l = map(int, input().split())\n",
        "trucks = list(map(int, input().split()))\n",
        "\n",
        "q = deque()\n",
        "total = 0 #  총 무게\n",
        "t = 0 # 소요시간\n",
        "\n",
        "while True:\n",
        "    if len(trucks) == 0 and total == 0:\n",
        "        break\n",
        "    if len(q) == w: # queue 가득 찬 경우\n",
        "        x = q.popleft()\n",
        "        total -= x\n",
        "\n",
        "        # 트럭이 들어갈 수 있을 때.\n",
        "    if len(trucks) > 0 and total + trucks[-1] <= l: # 무게보다 작을 때\n",
        "        q.append(trucks[-1]) # 다리에 추가\n",
        "        total += trucks[-1] # 무게 반영\n",
        "        trucks.pop()\n",
        "    else:\n",
        "        q.append(0)\n",
        "    t += 1\n",
        "print(t)"
      ],
      "metadata": {
        "colab": {
          "base_uri": "https://localhost:8080/"
        },
        "id": "adEFkqIlhz3I",
        "outputId": "5900c9b7-1cc4-4b50-ab36-ce922169e3d7"
      },
      "execution_count": 48,
      "outputs": [
        {
          "output_type": "stream",
          "name": "stdout",
          "text": [
            "110\n"
          ]
        }
      ]
    },
    {
      "cell_type": "code",
      "source": [],
      "metadata": {
        "id": "FksdL5FMv-mA"
      },
      "execution_count": null,
      "outputs": []
    }
  ]
}