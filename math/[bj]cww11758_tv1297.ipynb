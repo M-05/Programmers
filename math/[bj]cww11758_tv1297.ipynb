{
  "nbformat": 4,
  "nbformat_minor": 0,
  "metadata": {
    "colab": {
      "provenance": []
    },
    "kernelspec": {
      "name": "python3",
      "display_name": "Python 3"
    },
    "language_info": {
      "name": "python"
    }
  },
  "cells": [
    {
      "cell_type": "markdown",
      "source": [
        "# [TV 크기 1297](https://www.acmicpc.net/problem/1297)\n",
        "\n",
        "- 기하학\n",
        "- 피타고라스 정리\n",
        "\n"
      ],
      "metadata": {
        "id": "AqzNN7DNYWnl"
      }
    },
    {
      "cell_type": "code",
      "source": [
        "TV의 대각선 길이와, 높이 너비의 비율이 주어졌을 때\n",
        "\n",
        "실제 높이와 너비의 길이를 출력\n",
        "\n",
        "첫째 줄에 TV의 대각선 길이 D,\n",
        "TV의 높이 비율 H,\n",
        "TV의 너비 비율 W\n",
        "\n",
        "TV의 높이나 너비가 소수점이 나올 경우에는\n",
        "그 수보다 작으면서 가장 큰 정수"
      ],
      "metadata": {
        "id": "sTx6ZW6y1x6G"
      },
      "execution_count": null,
      "outputs": []
    },
    {
      "cell_type": "code",
      "source": [
        "d, h, w = 52, 9, 16\n",
        "# 25 45 hegiht width"
      ],
      "metadata": {
        "id": "UC1Dfh8m1_ZX"
      },
      "execution_count": null,
      "outputs": []
    },
    {
      "cell_type": "code",
      "source": [
        "(52 *52 / (16 * 16 + 9 * 9)) ** 0.5 * 16"
      ],
      "metadata": {
        "colab": {
          "base_uri": "https://localhost:8080/"
        },
        "id": "CVkZ0hUU8HIH",
        "outputId": "d14b962c-6241-4539-870d-634466a7dd60"
      },
      "execution_count": null,
      "outputs": [
        {
          "output_type": "execute_result",
          "data": {
            "text/plain": [
              "45.32192793047656"
            ]
          },
          "metadata": {},
          "execution_count": 36
        }
      ]
    },
    {
      "cell_type": "code",
      "source": [
        "(52 *52 / (16 * 16 + 9 * 9)) ** 0.5 * 9"
      ],
      "metadata": {
        "colab": {
          "base_uri": "https://localhost:8080/"
        },
        "id": "0M0LQTPi8hPN",
        "outputId": "40f05bed-4495-45eb-c433-56e8fbf99e70"
      },
      "execution_count": null,
      "outputs": [
        {
          "output_type": "execute_result",
          "data": {
            "text/plain": [
              "25.493584460893068"
            ]
          },
          "metadata": {},
          "execution_count": 37
        }
      ]
    },
    {
      "cell_type": "code",
      "source": [
        "d, h, w= map(int, input().split())\n",
        "\n",
        "def tv(d, h, w, h_w):\n",
        "    import math\n",
        "    return math.floor((d **2 / (h **2 + w **2)) ** 0.5 * h_w)\n",
        "\n",
        "print(tv(d, h, w, h), tv(d, h, w, w))"
      ],
      "metadata": {
        "colab": {
          "base_uri": "https://localhost:8080/"
        },
        "id": "RHc-4TVVDxJe",
        "outputId": "0fe8ca3c-ff6b-488a-8196-6610d5373720"
      },
      "execution_count": 1,
      "outputs": [
        {
          "output_type": "stream",
          "name": "stdout",
          "text": [
            "52 9 16\n",
            "25 45\n"
          ]
        }
      ]
    },
    {
      "cell_type": "code",
      "source": [
        "import math\n",
        "\n",
        "d, h, w= map(int, input().split())\n",
        "\n",
        "print(math.floor((d **2 / (h **2 + w **2)) ** 0.5 * h), math.floor((d **2 / (h **2 + w **2)) ** 0.5 * w))"
      ],
      "metadata": {
        "colab": {
          "base_uri": "https://localhost:8080/"
        },
        "id": "06QQkmOW9HgQ",
        "outputId": "b5de86bc-2660-4788-da2f-073a2a09da68"
      },
      "execution_count": null,
      "outputs": [
        {
          "output_type": "stream",
          "name": "stdout",
          "text": [
            "7 2 3\n",
            "3 5\n"
          ]
        }
      ]
    },
    {
      "cell_type": "markdown",
      "source": [
        "# [CCW 11758](https://www.acmicpc.net/problem/11758)\n",
        "\n",
        "- Counter Clock Wise\n",
        "\n",
        "- 기하학"
      ],
      "metadata": {
        "id": "RzhpNMP4WLZp"
      }
    },
    {
      "cell_type": "code",
      "source": [
        "# https://snowfleur.tistory.com/98"
      ],
      "metadata": {
        "id": "XiNVezQ3ZNzf"
      },
      "execution_count": null,
      "outputs": []
    },
    {
      "cell_type": "code",
      "source": [
        "import sys\n",
        "\n",
        "with open('./bj.txt', 'w') as f:\n",
        "    f.write('''1 1\n",
        "5 5\n",
        "7 3''')\n",
        "#     f.write('''1 1\n",
        "# 3 3\n",
        "# 5 5''')\n",
        "#     f.write('''1 1\n",
        "# 7 3\n",
        "# 5 5''')\n",
        "\n",
        "sys.stdin = open('./bj.txt', 'r')\n",
        "\n",
        "input = sys.stdin.readline"
      ],
      "metadata": {
        "id": "Pimru6VOTcma"
      },
      "execution_count": null,
      "outputs": []
    },
    {
      "cell_type": "code",
      "source": [
        "x1, y1 = map(int, input().split())\n",
        "x2, y2 = map(int, input().split())\n",
        "x3, y3 = map(int, input().split())"
      ],
      "metadata": {
        "id": "r60-iEl_TcWf"
      },
      "execution_count": null,
      "outputs": []
    },
    {
      "cell_type": "code",
      "source": [
        "((x2 - x1) * (y3 - y1)) - ((x3 - x1) * (y2 - y1))"
      ],
      "metadata": {
        "colab": {
          "base_uri": "https://localhost:8080/"
        },
        "id": "ftZFLIwGT8h2",
        "outputId": "6e19b033-e68c-4668-a02d-71fec5e1513a"
      },
      "execution_count": null,
      "outputs": [
        {
          "output_type": "execute_result",
          "data": {
            "text/plain": [
              "16"
            ]
          },
          "metadata": {},
          "execution_count": 63
        }
      ]
    },
    {
      "cell_type": "code",
      "source": [
        "abs(((x2 - x1) * (y2 - y1)) - ((x3 - x2) * (y3 - y2)))"
      ],
      "metadata": {
        "colab": {
          "base_uri": "https://localhost:8080/"
        },
        "id": "_77UXEg_UZb8",
        "outputId": "ad96963e-09d9-4855-bbd6-f0607e7d519d"
      },
      "execution_count": null,
      "outputs": [
        {
          "output_type": "execute_result",
          "data": {
            "text/plain": [
              "0"
            ]
          },
          "metadata": {},
          "execution_count": 55
        }
      ]
    },
    {
      "cell_type": "code",
      "source": [
        "((x2 - x1) * (y3 - y1)) - ((x3 - x1) * (y2 - y1))"
      ],
      "metadata": {
        "colab": {
          "base_uri": "https://localhost:8080/"
        },
        "id": "3rrjSRSsUYWn",
        "outputId": "99aff0dd-c9bc-489b-d8fe-4f8970f3105a"
      },
      "execution_count": null,
      "outputs": [
        {
          "output_type": "execute_result",
          "data": {
            "text/plain": [
              "-16"
            ]
          },
          "metadata": {},
          "execution_count": 66
        }
      ]
    },
    {
      "cell_type": "code",
      "source": [
        "import sys\n",
        "input = sys.stdin.readline\n",
        "\n",
        "x1, y1 = map(int, input().split())\n",
        "x2, y2 = map(int, input().split())\n",
        "x3, y3 = map(int, input().split())\n",
        "\n",
        "answer = ((x2 - x1) * (y3 - y1)) - ((x3 - x1) * (y2 - y1))\n",
        "\n",
        "if answer == 0: # 0이라면 직선\n",
        "    print(0)\n",
        "elif answer > 0: # 양수라면 시계방향\n",
        "    print(1)\n",
        "else: # 음수라면 반시계방향\n",
        "    print(-1)"
      ],
      "metadata": {
        "id": "wJCBc_gkUYYa"
      },
      "execution_count": null,
      "outputs": []
    }
  ]
}