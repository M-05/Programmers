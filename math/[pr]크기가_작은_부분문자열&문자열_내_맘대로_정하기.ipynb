{
  "nbformat": 4,
  "nbformat_minor": 0,
  "metadata": {
    "colab": {
      "provenance": []
    },
    "kernelspec": {
      "name": "python3",
      "display_name": "Python 3"
    },
    "language_info": {
      "name": "python"
    }
  },
  "cells": [
    {
      "cell_type": "markdown",
      "source": [
        "# [크기가 작은 부분 문자열](https://school.programmers.co.kr/learn/courses/30/lessons/147355)"
      ],
      "metadata": {
        "id": "lgFqH8UMC1b7"
      }
    },
    {
      "cell_type": "code",
      "execution_count": 29,
      "metadata": {
        "id": "-WZqGX8A-Aae"
      },
      "outputs": [],
      "source": [
        "t, p = '3141592', '271'"
      ]
    },
    {
      "cell_type": "code",
      "source": [
        "def solution(t, p):\n",
        "    len_t, len_p = len(t), len(p)\n",
        "    strings = []\n",
        "\n",
        "    for i in range(len_t):\n",
        "        if len(t[i:i+len_p]) == len_p:\n",
        "            strings.append(t[i:i+len_p]) # ['314', '141', '415', '159', '592']\n",
        "    # len(['141', '159'])    314 <= 271\n",
        "    return len(list(filter(lambda x: int(x) <= int(p), strings)))"
      ],
      "metadata": {
        "colab": {
          "base_uri": "https://localhost:8080/"
        },
        "id": "hSHkQrAWBuSc",
        "outputId": "8adb3873-0d74-4dbe-df4b-34cc1499f52c"
      },
      "execution_count": 35,
      "outputs": [
        {
          "output_type": "execute_result",
          "data": {
            "text/plain": [
              "2"
            ]
          },
          "metadata": {},
          "execution_count": 35
        }
      ]
    },
    {
      "cell_type": "markdown",
      "source": [
        "---\n",
        "---\n",
        "---"
      ],
      "metadata": {
        "id": "nW6yuGzgBuJX"
      }
    },
    {
      "cell_type": "code",
      "source": [
        "def solution(t, p):\n",
        "    answer = 0\n",
        "\n",
        "    for i in range(len(t) - len(p) + 1):\n",
        "        if int(p) >= int(t[i:i+len(p)]):\n",
        "            answer += 1\n",
        "\n",
        "    return answer"
      ],
      "metadata": {
        "id": "DbEr-8xbBdvI"
      },
      "execution_count": null,
      "outputs": []
    },
    {
      "cell_type": "code",
      "source": [],
      "metadata": {
        "id": "H9zEoPNoDBju"
      },
      "execution_count": null,
      "outputs": []
    },
    {
      "cell_type": "markdown",
      "source": [
        "# [문자열 내 맘대로 정하기](https://school.programmers.co.kr/learn/courses/30/lessons/12915)"
      ],
      "metadata": {
        "id": "zvyOk5MrDBmh"
      }
    },
    {
      "cell_type": "code",
      "source": [
        "strings = [\"sun\", \"bed\", \"car\"]\n",
        "n = 1\n",
        "\n",
        "sorted(strings, key=(lambda x: (x[n], x[n+1])))"
      ],
      "metadata": {
        "colab": {
          "base_uri": "https://localhost:8080/"
        },
        "id": "hpAz3P1PDFoK",
        "outputId": "364813a6-736e-43dc-ee07-bfcbbd6e52bf"
      },
      "execution_count": 38,
      "outputs": [
        {
          "output_type": "execute_result",
          "data": {
            "text/plain": [
              "['car', 'bed', 'sun']"
            ]
          },
          "metadata": {},
          "execution_count": 38
        }
      ]
    },
    {
      "cell_type": "code",
      "source": [
        "strings = [\"abce\", \"abcd\", \"cdx\"]\n",
        "n = 2\n",
        "\n",
        "sorted(sorted(strings), key=(lambda x: x[n]))"
      ],
      "metadata": {
        "colab": {
          "base_uri": "https://localhost:8080/"
        },
        "id": "7nj76Ji8EEc7",
        "outputId": "7d90464a-ed52-4eb4-c1e1-ca10390ac601"
      },
      "execution_count": 42,
      "outputs": [
        {
          "output_type": "execute_result",
          "data": {
            "text/plain": [
              "['abcd', 'abce', 'cdx']"
            ]
          },
          "metadata": {},
          "execution_count": 42
        }
      ]
    },
    {
      "cell_type": "code",
      "source": [],
      "metadata": {
        "id": "g80txmYxEJ_x"
      },
      "execution_count": null,
      "outputs": []
    }
  ]
}