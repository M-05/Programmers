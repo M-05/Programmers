{
  "nbformat": 4,
  "nbformat_minor": 0,
  "metadata": {
    "colab": {
      "provenance": []
    },
    "kernelspec": {
      "name": "python3",
      "display_name": "Python 3"
    },
    "language_info": {
      "name": "python"
    }
  },
  "cells": [
    {
      "cell_type": "markdown",
      "source": [
        "# [연결 요소의 개수 11724](https://www.acmicpc.net/problem/11724)\n",
        "\n",
        "> 1 ≤ N ≤ 1,000  \n",
        "> 0 ≤ M ≤ N×(N-1)/2\n",
        "\n",
        "> 1 ≤ u  \n",
        "> v ≤ N  \n",
        "> u ≠ v"
      ],
      "metadata": {
        "id": "UxNni9FnlM7d"
      }
    },
    {
      "cell_type": "markdown",
      "source": [
        "Union-Find 연산\n",
        "- make-set(x)\n",
        "1. 초기화\n",
        "2. x를 유일한 원소로 하는 새로운 집합\n",
        "\n",
        "- union(x, y)\n",
        "1. 합하기\n",
        "2. x가 속한 집합, y가 속한 집합 합치기\n",
        "\n",
        "- find(x)\n",
        "1. 찾기\n",
        "2. x가 속한 집합의 대표값을 반환."
      ],
      "metadata": {
        "id": "_5zbRvV_lTST"
      }
    },
    {
      "cell_type": "code",
      "source": [
        "# return\n",
        "# 연결 요소의 개수를 출력\n",
        "import sys\n",
        "\n",
        "with open('./bj.txt', 'w') as f:\n",
        "    f.write('''6 5\n",
        "1 2\n",
        "2 5\n",
        "5 1\n",
        "3 4\n",
        "4 6''')\n",
        "sys.stdin = open('./bj.txt', 'r')\n",
        "input = sys.stdin.readline\n",
        "n, m = map(int, input().split())"
      ],
      "metadata": {
        "id": "6zYonIMbnDq4"
      },
      "execution_count": null,
      "outputs": []
    },
    {
      "cell_type": "code",
      "source": [
        "graph = [list(map(int, input().split())) for _ in range(m)]\n",
        "\n",
        "graph"
      ],
      "metadata": {
        "colab": {
          "base_uri": "https://localhost:8080/"
        },
        "id": "0kQBGItanD1B",
        "outputId": "9720d6bb-c4c3-4856-fa07-6342e18e8a56"
      },
      "execution_count": null,
      "outputs": [
        {
          "output_type": "execute_result",
          "data": {
            "text/plain": [
              "[[1, 2], [2, 5], [5, 1], [3, 4], [4, 6]]"
            ]
          },
          "metadata": {},
          "execution_count": 42
        }
      ]
    },
    {
      "cell_type": "code",
      "source": [
        "parent = {i:i for i in range(1, n+1)}\n",
        "# for i in range(1, n+1):\n",
        "#     parent[i] = i\n",
        "# parent"
      ],
      "metadata": {
        "id": "o4NR1MdwsbiX"
      },
      "execution_count": null,
      "outputs": []
    },
    {
      "cell_type": "code",
      "source": [
        "def find(x):\n",
        "    if parent[x] == x:\n",
        "        return parent[x]\n",
        "    else:\n",
        "        return find(parent[x])\n",
        "\n",
        "def union(x, y):\n",
        "    x = find(x)\n",
        "    y = find(y)\n",
        "    # 작은 수가 child\n",
        "    if x < y:\n",
        "        parent[y] = x\n",
        "    else:\n",
        "        parent[x] = y"
      ],
      "metadata": {
        "id": "pTTrMzsoqmKe"
      },
      "execution_count": null,
      "outputs": []
    },
    {
      "cell_type": "code",
      "source": [
        "for u, v in graph:\n",
        "    union(u, v)"
      ],
      "metadata": {
        "id": "ailbcfrD3UfJ"
      },
      "execution_count": null,
      "outputs": []
    },
    {
      "cell_type": "code",
      "source": [
        "parent"
      ],
      "metadata": {
        "colab": {
          "base_uri": "https://localhost:8080/"
        },
        "id": "YfSEKr2YzNaL",
        "outputId": "ae75bc6f-cc1f-4fa6-e6d7-cbc833c35b85"
      },
      "execution_count": null,
      "outputs": [
        {
          "output_type": "execute_result",
          "data": {
            "text/plain": [
              "{1: 1, 2: 1, 3: 3, 4: 3, 5: 1, 6: 3}"
            ]
          },
          "metadata": {},
          "execution_count": 75
        }
      ]
    },
    {
      "cell_type": "code",
      "source": [
        "result = []\n",
        "\n",
        "for p in parent:\n",
        "    result.append(find(p))\n",
        "result"
      ],
      "metadata": {
        "colab": {
          "base_uri": "https://localhost:8080/"
        },
        "id": "Mxt7UDKTRv5D",
        "outputId": "a538e353-f380-45a3-c2af-e1b9cf72b9d3"
      },
      "execution_count": null,
      "outputs": [
        {
          "output_type": "execute_result",
          "data": {
            "text/plain": [
              "[1, 1, 3, 3, 1, 3]"
            ]
          },
          "metadata": {},
          "execution_count": 76
        }
      ]
    },
    {
      "cell_type": "code",
      "source": [
        "result = [find(p) for p in parent]"
      ],
      "metadata": {
        "id": "ANm-qtOdjidj"
      },
      "execution_count": null,
      "outputs": []
    },
    {
      "cell_type": "code",
      "source": [
        "print(len(set(result)))"
      ],
      "metadata": {
        "colab": {
          "base_uri": "https://localhost:8080/"
        },
        "id": "_Ja3Z125Rv70",
        "outputId": "593c1226-f18f-4eb1-8519-2e2c656e9d31"
      },
      "execution_count": null,
      "outputs": [
        {
          "output_type": "stream",
          "name": "stdout",
          "text": [
            "2\n"
          ]
        }
      ]
    },
    {
      "cell_type": "code",
      "source": [
        "import sys\n",
        "input = sys.stdin.readline\n",
        "n, m = map(int, input().split())\n",
        "\n",
        "graph = [list(map(int, input().split())) for _ in range(m)]\n",
        "parent = {i:i for i in range(1, n+1)}\n",
        "\n",
        "def find(x):\n",
        "    if parent[x] == x:\n",
        "        return parent[x]\n",
        "    else:\n",
        "        return find(parent[x])\n",
        "\n",
        "def union(x, y):\n",
        "    x = find(x)\n",
        "    y = find(y)\n",
        "    # 작은 수가 child\n",
        "    if x < y:\n",
        "        parent[y] = x\n",
        "    else:\n",
        "        parent[x] = y\n",
        "\n",
        "for u, v in graph:\n",
        "    union(u, v)\n",
        "\n",
        "result = [find(p) for p in parent]\n",
        "print(len(set(result)))"
      ],
      "metadata": {
        "id": "My5M3WqpjwlP"
      },
      "execution_count": null,
      "outputs": []
    },
    {
      "cell_type": "markdown",
      "source": [
        "---\n",
        "---"
      ],
      "metadata": {
        "id": "-u1wkmkVjt0X"
      }
    },
    {
      "cell_type": "code",
      "source": [
        "parent = [i for i in range(n+1)]\n",
        "\n",
        "\n",
        "def find(a):\n",
        "    if parent[a] != a:\n",
        "        parent[a] = find(parent[a])\n",
        "\n",
        "    return parent[a]\n",
        "\n",
        "def union(a, b):\n",
        "    p1 = find(a)\n",
        "    p2 = find(b)\n",
        "    if p1 != p2:\n",
        "        parent[p1] = p2\n",
        "\n",
        "for a, b in graph:\n",
        "    if find(a) != find(b):\n",
        "        union(a, b)\n",
        "\n",
        "for i in range(1, n+1):\n",
        "    find(i)"
      ],
      "metadata": {
        "id": "mEKay9jMRwvn"
      },
      "execution_count": null,
      "outputs": []
    },
    {
      "cell_type": "code",
      "source": [
        "parent"
      ],
      "metadata": {
        "colab": {
          "base_uri": "https://localhost:8080/"
        },
        "id": "OrSLL7hwi0oJ",
        "outputId": "a796e6ed-3a02-4213-c8ad-222e58eb04d3"
      },
      "execution_count": null,
      "outputs": [
        {
          "output_type": "execute_result",
          "data": {
            "text/plain": [
              "[0, 5, 5, 6, 6, 5, 6]"
            ]
          },
          "metadata": {},
          "execution_count": 79
        }
      ]
    },
    {
      "cell_type": "code",
      "source": [
        "s = set(filter(lambda x:x>0, parent))\n",
        "print(len(s))"
      ],
      "metadata": {
        "colab": {
          "base_uri": "https://localhost:8080/"
        },
        "id": "6n6E3mCFi16q",
        "outputId": "5943f684-2be3-4e3c-d1bf-304c9963a43d"
      },
      "execution_count": null,
      "outputs": [
        {
          "output_type": "stream",
          "name": "stdout",
          "text": [
            "2\n"
          ]
        }
      ]
    },
    {
      "cell_type": "code",
      "source": [],
      "metadata": {
        "id": "nkVjivg4i4d_"
      },
      "execution_count": null,
      "outputs": []
    }
  ]
}