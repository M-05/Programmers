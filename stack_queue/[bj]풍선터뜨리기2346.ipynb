{
  "nbformat": 4,
  "nbformat_minor": 0,
  "metadata": {
    "colab": {
      "provenance": []
    },
    "kernelspec": {
      "name": "python3",
      "display_name": "Python 3"
    },
    "language_info": {
      "name": "python"
    }
  },
  "cells": [
    {
      "cell_type": "markdown",
      "source": [
        "# [풍선 터뜨리기 2346](https://www.acmicpc.net/problem/2346)\n",
        "\n",
        "\n",
        "- 자료구조\n",
        "- 덱\n",
        "\n",
        "> N(1 ≤ N ≤ 1,000)"
      ],
      "metadata": {
        "id": "AwdNZdCbQu6A"
      }
    },
    {
      "cell_type": "code",
      "source": [
        "import sys\n",
        "\n",
        "with open('./bj.txt', 'w') as f:\n",
        "    f.write('''5\n",
        "3 2 1 -3 -1''')\n",
        "sys.stdin = open('./bj.txt', 'r')\n",
        "\n",
        "input = sys.stdin.readline\n",
        "\n",
        "n = input()\n",
        "arr = list(map(int, input().split()))"
      ],
      "metadata": {
        "id": "PHTdeyUoSQXU"
      },
      "execution_count": 12,
      "outputs": []
    },
    {
      "cell_type": "code",
      "source": [
        "from collections import deque\n",
        "queue = deque([(i, idx) for idx, i in enumerate(arr, start=1)])\n",
        "queue"
      ],
      "metadata": {
        "colab": {
          "base_uri": "https://localhost:8080/"
        },
        "id": "8-oSnwnVWdec",
        "outputId": "07d02b6c-a2ce-4cbc-b679-1a58af6de129"
      },
      "execution_count": 38,
      "outputs": [
        {
          "output_type": "execute_result",
          "data": {
            "text/plain": [
              "deque([(3, 1), (2, 2), (1, 3), (-3, 4), (-1, 5)])"
            ]
          },
          "metadata": {},
          "execution_count": 38
        }
      ]
    },
    {
      "cell_type": "code",
      "source": [
        "answer = []\n",
        "\n",
        "while queue:\n",
        "    num, idx = queue.popleft()\n",
        "    answer.append(idx)\n",
        "\n",
        "    if num > 0:\n",
        "        queue.rotate(-num +1)\n",
        "    else:\n",
        "        queue.rotate(-num)\n",
        "answer"
      ],
      "metadata": {
        "colab": {
          "base_uri": "https://localhost:8080/"
        },
        "id": "ebXZ5-xBWuZw",
        "outputId": "c080ee4f-67ed-4e98-abf6-f84b48bd83d5"
      },
      "execution_count": 41,
      "outputs": [
        {
          "output_type": "execute_result",
          "data": {
            "text/plain": [
              "[1, 4, 5, 3, 2]"
            ]
          },
          "metadata": {},
          "execution_count": 41
        }
      ]
    },
    {
      "cell_type": "code",
      "source": [
        "print(*answer)"
      ],
      "metadata": {
        "colab": {
          "base_uri": "https://localhost:8080/"
        },
        "id": "qjIXC-3aXmJH",
        "outputId": "d7090064-61d8-4811-f550-bce84b7e858a"
      },
      "execution_count": 42,
      "outputs": [
        {
          "output_type": "stream",
          "name": "stdout",
          "text": [
            "1 4 5 3 2\n"
          ]
        }
      ]
    },
    {
      "cell_type": "code",
      "source": [
        "for i in answer:\n",
        "    print(i, end=' ')"
      ],
      "metadata": {
        "colab": {
          "base_uri": "https://localhost:8080/"
        },
        "id": "ko-_Ij1RXnbj",
        "outputId": "6cdc997a-81e0-48f6-bb47-a755f71f9ef8"
      },
      "execution_count": 46,
      "outputs": [
        {
          "output_type": "stream",
          "name": "stdout",
          "text": [
            "1 4 5 3 2 "
          ]
        }
      ]
    },
    {
      "cell_type": "code",
      "source": [
        "#####\n",
        "# 성공\n",
        "#####\n",
        "from collections import deque\n",
        "import sys\n",
        "input = sys.stdin.readline\n",
        "\n",
        "n = input()\n",
        "arr = list(map(int, input().split()))\n",
        "\n",
        "queue = deque([(i, idx) for idx, i in enumerate(arr, start=1)])\n",
        "# deque([(3, 1), (2, 2), (1, 3), (-3, 4), (-1, 5)])\n",
        "\n",
        "answer = []\n",
        "\n",
        "while queue:\n",
        "    num, idx = queue.popleft()\n",
        "    answer.append(idx)\n",
        "\n",
        "    if num > 0:\n",
        "        queue.rotate(-num +1)\n",
        "    else:\n",
        "        queue.rotate(-num)\n",
        "\n",
        "print(*answer)"
      ],
      "metadata": {
        "id": "pHQKkBXlUu58"
      },
      "execution_count": null,
      "outputs": []
    },
    {
      "cell_type": "markdown",
      "source": [
        "---\n",
        "---"
      ],
      "metadata": {
        "id": "eJJN32DYZpAE"
      }
    },
    {
      "cell_type": "code",
      "source": [
        "import sys\n",
        "input = sys.stdin.readline\n",
        "\n",
        "from collections import deque\n",
        "\n",
        "n = int(input())\n",
        "arr = list(map(int, input().split()))\n",
        "d = deque()\n",
        "\n",
        "for i in range(n):\n",
        "    d.append(arr[i], i+1)\n",
        "\n",
        "result = []\n",
        "\n",
        "current, index = d.popleft()\n",
        "result.append(index)\n",
        "\n",
        "for _ in range(n-1):\n",
        "    if current > 0 # 양수라면\n",
        "        for _ in range(current -1): # 왼쪽 돌리기\n",
        "            x = d.popleft()\n",
        "            d.append(x)\n",
        "            # [(2, 2), (1, 3), (-3, 4), (-1, 5)]\n",
        "            # [(1, 3), (-3, 4), (-1, 5), (2, 2)]\n",
        "            # [(-3, 4), (-1, 5), (2, 2), (1, 3)]\n",
        "    else: # 음수라면\n",
        "        for _ in range(-current): # 오른쪽 돌리기 # -(-1) = 1\n",
        "            x = d.pop()\n",
        "            d.appendleft(x)\n",
        "            # (-3, 4),\n",
        "            # [(-1, 5), (2, 2), (1, 3)]\n",
        "            # [(1, 3), (-1, 5), (2, 2)]\n",
        "            # [(2, 2), (1, 3), (-1, 5)]\n",
        "            # [(-1, 5), (2, 2), (1, 3)]\n",
        "\n",
        "    current, index = d.popleft()\n",
        "    result.append(index)\n",
        "\n",
        "for x in result:\n",
        "    print(x, end=' ')"
      ],
      "metadata": {
        "id": "aN5NuwuzZpJF"
      },
      "execution_count": null,
      "outputs": []
    },
    {
      "cell_type": "code",
      "source": [],
      "metadata": {
        "id": "Wzu7MI_dbEZe"
      },
      "execution_count": null,
      "outputs": []
    }
  ]
}