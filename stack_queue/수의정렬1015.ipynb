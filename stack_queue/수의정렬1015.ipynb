{
  "nbformat": 4,
  "nbformat_minor": 0,
  "metadata": {
    "colab": {
      "provenance": []
    },
    "kernelspec": {
      "name": "python3",
      "display_name": "Python 3"
    },
    "language_info": {
      "name": "python"
    }
  },
  "cells": [
    {
      "cell_type": "markdown",
      "source": [
        "# [수의 정렬 1015](https://www.acmicpc.net/problem/1015)"
      ],
      "metadata": {
        "id": "U5K-kBsRyc50"
      }
    },
    {
      "cell_type": "code",
      "source": [
        "n = 8\n",
        "arr = [4, 1, 6, 1, 3, 6, 1, 4]\n",
        "# 4 0 6 1 3 7 2 5"
      ],
      "metadata": {
        "id": "akmRxPFdVezA"
      },
      "execution_count": null,
      "outputs": []
    },
    {
      "cell_type": "code",
      "source": [
        "from collections import Counter\n",
        "\n",
        "n = int(input())\n",
        "arr = list(map(int, input().split()))\n",
        "answer = [0] * n\n",
        "# [0, 0, 0, 0, 0, 0, 0, 0]\n",
        "cnt = 0\n",
        "\n",
        "for i in sorted(set(arr)):\n",
        "    n = Counter(arr)[i]\n",
        "    # Counter({4: 2, 1: 3, 6: 2, 3: 1})\n",
        "    now_idx = arr.index(i)\n",
        "    answer[now_idx] = cnt\n",
        "    for _ in range(n-1):\n",
        "        cnt += 1\n",
        "        now_idx = arr.index(i, now_idx+1) # index(value, start)\n",
        "        answer[now_idx] = cnt\n",
        "    cnt += 1\n",
        "print(*answer)"
      ],
      "metadata": {
        "colab": {
          "base_uri": "https://localhost:8080/"
        },
        "id": "xFZasAAxdq23",
        "outputId": "e0d7ecd3-45e7-4978-8269-75b2cf92b594"
      },
      "execution_count": null,
      "outputs": [
        {
          "output_type": "stream",
          "name": "stdout",
          "text": [
            "8\n",
            "4 1 6 1 3 6 1 4\n",
            "4 0 6 1 3 7 2 5\n"
          ]
        }
      ]
    },
    {
      "cell_type": "code",
      "source": [
        "4 0 6 1 3 7 2 5"
      ],
      "metadata": {
        "id": "_zw_qR0Bduzn"
      },
      "execution_count": null,
      "outputs": []
    },
    {
      "cell_type": "code",
      "source": [
        "n = 8\n",
        "arr = [4, 1, 6, 1, 3, 6, 1, 4]\n",
        "b = sorted(arr)\n",
        "b"
      ],
      "metadata": {
        "colab": {
          "base_uri": "https://localhost:8080/"
        },
        "id": "bs4FK_RrptXm",
        "outputId": "fd08de09-5793-4fc8-fac8-15948237b835"
      },
      "execution_count": null,
      "outputs": [
        {
          "output_type": "execute_result",
          "data": {
            "text/plain": [
              "[1, 1, 1, 3, 4, 4, 6, 6]"
            ]
          },
          "metadata": {},
          "execution_count": 59
        }
      ]
    },
    {
      "cell_type": "code",
      "source": [
        "answer = []\n",
        "\n",
        "for a in arr:\n",
        "    answer.append(b.index(a))\n",
        "    b[b.index(a)] = -1\n",
        "answer"
      ],
      "metadata": {
        "colab": {
          "base_uri": "https://localhost:8080/"
        },
        "id": "CV4AfJcgqjMq",
        "outputId": "ce2a58e0-c5d4-4c2d-e587-36a0b1187150"
      },
      "execution_count": null,
      "outputs": [
        {
          "output_type": "execute_result",
          "data": {
            "text/plain": [
              "[4, 0, 6, 1, 3, 7, 2, 5]"
            ]
          },
          "metadata": {},
          "execution_count": 64
        }
      ]
    },
    {
      "cell_type": "code",
      "source": [
        "b.index(1)"
      ],
      "metadata": {
        "colab": {
          "base_uri": "https://localhost:8080/"
        },
        "id": "cffC_3HLqjJo",
        "outputId": "ca6a9a2c-4ee0-427c-e9f3-a1e02b25f0c0"
      },
      "execution_count": null,
      "outputs": [
        {
          "output_type": "execute_result",
          "data": {
            "text/plain": [
              "0"
            ]
          },
          "metadata": {},
          "execution_count": 63
        }
      ]
    },
    {
      "cell_type": "code",
      "source": [
        "b.index(1)"
      ],
      "metadata": {
        "colab": {
          "base_uri": "https://localhost:8080/"
        },
        "id": "rcqLnwc0qHDr",
        "outputId": "8bec8d5b-ba76-4021-a57b-ce0419b596e9"
      },
      "execution_count": null,
      "outputs": [
        {
          "output_type": "execute_result",
          "data": {
            "text/plain": [
              "0"
            ]
          },
          "metadata": {},
          "execution_count": 61
        }
      ]
    },
    {
      "cell_type": "code",
      "source": [
        "arr[b.index(1)]"
      ],
      "metadata": {
        "colab": {
          "base_uri": "https://localhost:8080/"
        },
        "id": "ILPreNtMqVNg",
        "outputId": "d39c80af-430c-4dfa-e9bc-54c3a2740ac5"
      },
      "execution_count": null,
      "outputs": [
        {
          "output_type": "execute_result",
          "data": {
            "text/plain": [
              "4"
            ]
          },
          "metadata": {},
          "execution_count": 62
        }
      ]
    },
    {
      "cell_type": "code",
      "source": [],
      "metadata": {
        "id": "PR6YZZVXqW07"
      },
      "execution_count": null,
      "outputs": []
    }
  ]
}