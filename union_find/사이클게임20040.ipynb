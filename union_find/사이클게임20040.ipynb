{
  "nbformat": 4,
  "nbformat_minor": 0,
  "metadata": {
    "colab": {
      "provenance": []
    },
    "kernelspec": {
      "name": "python3",
      "display_name": "Python 3"
    },
    "language_info": {
      "name": "python"
    }
  },
  "cells": [
    {
      "cell_type": "markdown",
      "source": [
        "# [사이클 게임 20040](https://www.acmicpc.net/problem/20040)\n",
        "\n",
        "- 자료 구조\n",
        "- 분리 집합\n",
        "- union find\n",
        "\n",
        "> 선 플레이어가 홀수 번째 차례를,  \n",
        "후 플레이어가 짝수 번째 차례\n",
        "\n",
        "> 게임을 진행하다가 처음으로 사이클을 완성하는 순간 .게임이 종료\n",
        "\n",
        "> 3 ≤ n ≤ 500,000 점의 개수  \n",
        "> 3 ≤ m ≤ 1,000,000 진행된 차례의 수  \n",
        "> (1 ≤ i ≤ m)  \n",
        "\n",
        "`return`  \n",
        "m 번의 차례를 모두 처리한 이후에도 종료되지 않았다면 0을 출력  \n",
        "m 번째 차례까지 게임을 진행한 상황에서 이미 게임이 종료되었다면  \n",
        "사이클이 처음으로 만들어진 차례의 번호를 양의 정수로 출력"
      ],
      "metadata": {
        "id": "t-zQnXeUG7CB"
      }
    },
    {
      "cell_type": "code",
      "source": [
        "import sys\n",
        "\n",
        "with open('./bj.txt', 'w') as f:\n",
        "#     f.write('''6 5\n",
        "# 0 1\n",
        "# 1 2\n",
        "# 2 3\n",
        "# 5 4\n",
        "# 0 4''') # 0\n",
        "    f.write('''6 5\n",
        "0 1\n",
        "1 2\n",
        "1 3\n",
        "0 3\n",
        "4 5''') # 4\n",
        "\n",
        "sys.stdin = open('./bj.txt', 'r')\n",
        "\n",
        "input = sys.stdin.readline\n",
        "\n",
        "n, m = map(int, input().split())"
      ],
      "metadata": {
        "id": "gRwbDYbUHw2Y"
      },
      "execution_count": 45,
      "outputs": []
    },
    {
      "cell_type": "code",
      "source": [
        "# parent = {i:i for i in range(1, n+1)}\n",
        "parent = [i for i in range(n)]\n",
        "graph = [ list(map(int, input().split())) for _ in range(m)]"
      ],
      "metadata": {
        "id": "10UB1kuYkQ1F"
      },
      "execution_count": 46,
      "outputs": []
    },
    {
      "cell_type": "code",
      "source": [
        "def find(x):\n",
        "    if parent[x] == x:\n",
        "        return parent[x]\n",
        "    else:\n",
        "        return find(parent[x])\n",
        "\n",
        "def union(x, y):\n",
        "    x = find(x)\n",
        "    y = find(y)\n",
        "\n",
        "    if x > y:\n",
        "        parent[x] = y\n",
        "    else:\n",
        "        parent[y] = x"
      ],
      "metadata": {
        "id": "0XTXXuK8mMwu"
      },
      "execution_count": 47,
      "outputs": []
    },
    {
      "cell_type": "code",
      "source": [
        "answer = 0\n",
        "for idx, (x, y) in enumerate(graph, start=1):\n",
        "    if find(x) == find(y):\n",
        "        answer = idx\n",
        "        break\n",
        "    union(x, y)\n",
        "print(parent)"
      ],
      "metadata": {
        "colab": {
          "base_uri": "https://localhost:8080/"
        },
        "id": "JV7KHXMtmMyz",
        "outputId": "8d4591c3-3689-497f-de81-1cc06e25c7c0"
      },
      "execution_count": 48,
      "outputs": [
        {
          "output_type": "stream",
          "name": "stdout",
          "text": [
            "[0, 0, 0, 0, 4, 5]\n"
          ]
        }
      ]
    },
    {
      "cell_type": "code",
      "source": [
        "answer"
      ],
      "metadata": {
        "colab": {
          "base_uri": "https://localhost:8080/"
        },
        "id": "ykqtS6P2V1bh",
        "outputId": "cc891182-076e-42b5-cca3-fd1da4dd289e"
      },
      "execution_count": 49,
      "outputs": [
        {
          "output_type": "execute_result",
          "data": {
            "text/plain": [
              "4"
            ]
          },
          "metadata": {},
          "execution_count": 49
        }
      ]
    },
    {
      "cell_type": "code",
      "source": [
        "import sys\n",
        "input = sys.stdin.readline\n",
        "\n",
        "n, m = map(int, input().split())\n",
        "parent = [i for i in range(n)]\n",
        "graph = [ list(map(int, input().split())) for _ in range(m)]\n",
        "\n",
        "def find(x):\n",
        "    if parent[x] == x:\n",
        "        return parent[x]\n",
        "    else:\n",
        "        return find(parent[x])\n",
        "\n",
        "def union(x, y):\n",
        "    x = find(x)\n",
        "    y = find(y)\n",
        "\n",
        "    if x > y:\n",
        "        parent[x] = y\n",
        "    else:\n",
        "        parent[y] = x\n",
        "\n",
        "answer = 0\n",
        "for idx, (x, y) in enumerate(graph, start=1):\n",
        "    if find(x) == find(y):\n",
        "        answer = idx\n",
        "        break\n",
        "    union(x, y)\n",
        "# print(parent)\n",
        "print(answer)"
      ],
      "metadata": {
        "colab": {
          "base_uri": "https://localhost:8080/"
        },
        "id": "fyt72WuVmM1W",
        "outputId": "8eb2f10f-dab9-435f-d98e-3547f3a21e3f"
      },
      "execution_count": 50,
      "outputs": [
        {
          "output_type": "stream",
          "name": "stdout",
          "text": [
            "[0, 0, 0, 0, 0, 4]\n",
            "0\n"
          ]
        }
      ]
    },
    {
      "cell_type": "code",
      "source": [
        "graph"
      ],
      "metadata": {
        "colab": {
          "base_uri": "https://localhost:8080/"
        },
        "id": "HKcJPYZKVnhw",
        "outputId": "46ed1dd6-c330-44ee-e1a6-ad6a80fd8e54"
      },
      "execution_count": 51,
      "outputs": [
        {
          "output_type": "execute_result",
          "data": {
            "text/plain": [
              "[[0, 1], [1, 2], [2, 3], [5, 4], [0, 4]]"
            ]
          },
          "metadata": {},
          "execution_count": 51
        }
      ]
    },
    {
      "cell_type": "code",
      "source": [],
      "metadata": {
        "id": "P9XaBRWgWU3Z"
      },
      "execution_count": null,
      "outputs": []
    }
  ]
}