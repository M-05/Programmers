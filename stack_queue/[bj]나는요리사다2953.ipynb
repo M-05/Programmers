{
  "nbformat": 4,
  "nbformat_minor": 0,
  "metadata": {
    "colab": {
      "provenance": []
    },
    "kernelspec": {
      "name": "python3",
      "display_name": "Python 3"
    },
    "language_info": {
      "name": "python"
    }
  },
  "cells": [
    {
      "cell_type": "markdown",
      "source": [
        "# [나는 요리사다 2953](https://www.acmicpc.net/problem/2953)\n",
        "\n",
        "- 수학\n",
        "- 구현\n",
        "- 사칙연산\n",
        "\n",
        "> 점수는 1점부터 5점까지\n",
        "\n",
        ">  첫 번째 참가자부터 다섯 번째 참가자까지 순서대로 주어진다.\n",
        "\n",
        "> return 우승자의 번호와 그가 얻은 점수"
      ],
      "metadata": {
        "id": "qj-8VsgJcbHv"
      }
    },
    {
      "cell_type": "code",
      "source": [
        "import sys\n",
        "with open('./bj.txt', 'w') as f:\n",
        "    f.write('''4 4 3 3\n",
        "5 4 3 5\n",
        "5 5 2 4\n",
        "5 5 5 1\n",
        "4 4 4 4''') # 2 17\n",
        "#     f.write('''5 4 4 5\n",
        "# 5 4 4 4\n",
        "# 5 5 4 4\n",
        "# 5 5 5 4\n",
        "# 4 4 4 5''') # 4 19\n",
        "sys.stdin = open('./bj.txt', 'r')\n",
        "\n",
        "input = sys.stdin.readline"
      ],
      "metadata": {
        "id": "dfnQ1OQFcmUU"
      },
      "execution_count": 16,
      "outputs": []
    },
    {
      "cell_type": "code",
      "source": [
        "n = 5\n",
        "score = [(sum(list(map(int, input().split()))), idx) for idx, _ in enumerate(range(n), start=1)]\n",
        "score"
      ],
      "metadata": {
        "colab": {
          "base_uri": "https://localhost:8080/"
        },
        "id": "emE9ZuLbrb8s",
        "outputId": "f65b4185-e8b4-46b3-972d-188685d1904a"
      },
      "execution_count": 10,
      "outputs": [
        {
          "output_type": "execute_result",
          "data": {
            "text/plain": [
              "[(18, 1), (17, 2), (18, 3), (19, 4), (17, 5)]"
            ]
          },
          "metadata": {},
          "execution_count": 10
        }
      ]
    },
    {
      "cell_type": "code",
      "source": [
        "print(max(score)[1], max(score)[0])"
      ],
      "metadata": {
        "colab": {
          "base_uri": "https://localhost:8080/"
        },
        "id": "XdIZKxivsky3",
        "outputId": "25676b6a-3459-4294-c5a5-e6ca42fa239e"
      },
      "execution_count": 14,
      "outputs": [
        {
          "output_type": "stream",
          "name": "stdout",
          "text": [
            "4 19\n"
          ]
        }
      ]
    },
    {
      "cell_type": "code",
      "source": [
        "import sys\n",
        "input = sys.stdin.readline\n",
        "\n",
        "n = 5\n",
        "score = [(sum(list(map(int, input().split()))), idx) for idx, _ in enumerate(range(n), start=1)]\n",
        "print(max(score)[1], max(score)[0])"
      ],
      "metadata": {
        "colab": {
          "base_uri": "https://localhost:8080/"
        },
        "id": "DdAa4acTrwA4",
        "outputId": "b7a35e09-e9a3-481d-b1c4-1d034d19db73"
      },
      "execution_count": 17,
      "outputs": [
        {
          "output_type": "stream",
          "name": "stdout",
          "text": [
            "2 17\n"
          ]
        }
      ]
    },
    {
      "cell_type": "markdown",
      "source": [
        "---\n",
        "---"
      ],
      "metadata": {
        "id": "jrgXNFTns0ko"
      }
    },
    {
      "cell_type": "code",
      "source": [
        "result = 0\n",
        "max_value = 0\n",
        "\n",
        "for i in range(5):\n",
        "    row = list(map(int, input().split()))\n",
        "    summary = sum(row)\n",
        "\n",
        "    if max_value < summary:\n",
        "        max_value = summary\n",
        "        result = i +1\n",
        "print(result, max_value)"
      ],
      "metadata": {
        "id": "3yqNa1awtirZ"
      },
      "execution_count": null,
      "outputs": []
    }
  ]
}