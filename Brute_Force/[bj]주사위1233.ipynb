{
  "nbformat": 4,
  "nbformat_minor": 0,
  "metadata": {
    "colab": {
      "provenance": []
    },
    "kernelspec": {
      "name": "python3",
      "display_name": "Python 3"
    },
    "language_info": {
      "name": "python"
    }
  },
  "cells": [
    {
      "cell_type": "markdown",
      "source": [
        "# [주사위 1233](https://www.acmicpc.net/problem/1233)\n",
        "\n",
        "- 구현\n",
        "- 브루트포스 알고리즘"
      ],
      "metadata": {
        "id": "nSSeRv3PdPTa"
      }
    },
    {
      "cell_type": "code",
      "source": [
        "# S1(2 ≤ S1 ≤ 20), S2(2 ≤ S2 ≤ 20), S3(2 ≤ S3 ≤ 40)\n",
        "# return\n",
        "# 가장 높은 빈도로 나오는 세 주사위 합\n",
        "# 단 답이 여러개라면 가장 합이 작은 것"
      ],
      "metadata": {
        "id": "Bavlafwkf7BI"
      },
      "execution_count": null,
      "outputs": []
    },
    {
      "cell_type": "code",
      "source": [
        "s1, s2 ,s3 = map(int, input().split())"
      ],
      "metadata": {
        "colab": {
          "base_uri": "https://localhost:8080/"
        },
        "id": "XlDuCtFifHKB",
        "outputId": "12a96259-3fae-4721-dd02-be86dbf34475"
      },
      "execution_count": 3,
      "outputs": [
        {
          "name": "stdout",
          "output_type": "stream",
          "text": [
            "3 2 3\n"
          ]
        }
      ]
    },
    {
      "cell_type": "code",
      "source": [
        "from itertools import combinations, permutations, product"
      ],
      "metadata": {
        "id": "KhQxgHNXgq59"
      },
      "execution_count": 12,
      "outputs": []
    },
    {
      "cell_type": "code",
      "source": [
        "a1 = list(range(1, s1+1))\n",
        "a2 = list(range(1, s2+1))\n",
        "a3 = list(range(1, s3+1))"
      ],
      "metadata": {
        "id": "vVDNkTmpjMV9"
      },
      "execution_count": 23,
      "outputs": []
    },
    {
      "cell_type": "code",
      "source": [
        "for i in combinations((a1, a2, a3), 3):\n",
        "    print(i)"
      ],
      "metadata": {
        "colab": {
          "base_uri": "https://localhost:8080/"
        },
        "id": "Z1kpu87njcUg",
        "outputId": "c6e540cb-35e1-4ec9-f1e3-5b43bcaf7c04"
      },
      "execution_count": 24,
      "outputs": [
        {
          "output_type": "stream",
          "name": "stdout",
          "text": [
            "([1, 2, 3], [1, 2], [1, 2, 3])\n"
          ]
        }
      ]
    },
    {
      "cell_type": "code",
      "source": [
        "list(product(a1, a2, a3))"
      ],
      "metadata": {
        "colab": {
          "base_uri": "https://localhost:8080/"
        },
        "id": "wFgchHVykZn5",
        "outputId": "26962575-1ade-4498-f37f-a9d47f616a85"
      },
      "execution_count": 40,
      "outputs": [
        {
          "output_type": "execute_result",
          "data": {
            "text/plain": [
              "[(1, 1, 1),\n",
              " (1, 1, 2),\n",
              " (1, 1, 3),\n",
              " (1, 2, 1),\n",
              " (1, 2, 2),\n",
              " (1, 2, 3),\n",
              " (2, 1, 1),\n",
              " (2, 1, 2),\n",
              " (2, 1, 3),\n",
              " (2, 2, 1),\n",
              " (2, 2, 2),\n",
              " (2, 2, 3),\n",
              " (3, 1, 1),\n",
              " (3, 1, 2),\n",
              " (3, 1, 3),\n",
              " (3, 2, 1),\n",
              " (3, 2, 2),\n",
              " (3, 2, 3)]"
            ]
          },
          "metadata": {},
          "execution_count": 40
        }
      ]
    },
    {
      "cell_type": "code",
      "source": [
        "p_dict = {}\n",
        "for p in list(product(a1,a2,a3)):\n",
        "    p_sum = sum(p)\n",
        "    if p_sum not in p_dict:\n",
        "        p_dict[p_sum] = 1\n",
        "    else:\n",
        "        p_dict[p_sum] += 1"
      ],
      "metadata": {
        "id": "yEfnyAuom71e"
      },
      "execution_count": 41,
      "outputs": []
    },
    {
      "cell_type": "code",
      "source": [
        "p_dict"
      ],
      "metadata": {
        "colab": {
          "base_uri": "https://localhost:8080/"
        },
        "id": "GXv450S4n9Ee",
        "outputId": "e20d9066-8095-40b5-8235-34e65a6c2bf7"
      },
      "execution_count": 42,
      "outputs": [
        {
          "output_type": "execute_result",
          "data": {
            "text/plain": [
              "{3: 1, 4: 3, 5: 5, 6: 5, 7: 3, 8: 1}"
            ]
          },
          "metadata": {},
          "execution_count": 42
        }
      ]
    },
    {
      "cell_type": "code",
      "source": [
        "p_dict.values()"
      ],
      "metadata": {
        "colab": {
          "base_uri": "https://localhost:8080/"
        },
        "id": "sRgBMAuqoAr3",
        "outputId": "a10ad85e-ad0e-4474-8a3c-f3ea3dfa6f89"
      },
      "execution_count": 43,
      "outputs": [
        {
          "output_type": "execute_result",
          "data": {
            "text/plain": [
              "dict_values([1, 3, 5, 5, 3, 1])"
            ]
          },
          "metadata": {},
          "execution_count": 43
        }
      ]
    },
    {
      "cell_type": "code",
      "source": [
        "\n",
        "max_value = max(p_dict.values())\n",
        "\n",
        "for k, v in p_dict.items():\n",
        "    if v == max_value:\n",
        "        print(k)\n",
        "        break"
      ],
      "metadata": {
        "colab": {
          "base_uri": "https://localhost:8080/"
        },
        "id": "_V6eEEVkoDih",
        "outputId": "b96e244b-be00-4452-b891-d1cf98386ae1"
      },
      "execution_count": 47,
      "outputs": [
        {
          "output_type": "stream",
          "name": "stdout",
          "text": [
            "5\n"
          ]
        }
      ]
    },
    {
      "cell_type": "code",
      "source": [],
      "metadata": {
        "id": "NMUReM0Mo_vh"
      },
      "execution_count": null,
      "outputs": []
    },
    {
      "cell_type": "code",
      "source": [
        "from itertools import combinations, permutations, product\n",
        "\n",
        "s1, s2 ,s3 = map(int, input().split())\n",
        "\n",
        "s1 = list(range(1, s1+1))\n",
        "s2 = list(range(1, s2+1))\n",
        "s3 = list(range(1, s3+1))\n",
        "\n",
        "p_dict = {}\n",
        "for p in list(product(s1, s2, s3)): # 모든 경우 출력\n",
        "    p_sum = sum(p)\n",
        "    if p_sum not in p_dict:\n",
        "        p_dict[p_sum] = 1\n",
        "    else:\n",
        "        p_dict[p_sum] += 1\n",
        "\n",
        "max_value = max(p_dict.values())\n",
        "\n",
        "for k, v in p_dict.items(): # 순서대로 값을 확인하면 저절로 최솟값이 구해진다.\n",
        "    if v == max_value:\n",
        "        print(k)\n",
        "        break"
      ],
      "metadata": {
        "colab": {
          "base_uri": "https://localhost:8080/"
        },
        "id": "knAlToiIo_xw",
        "outputId": "9bcfe1ff-f05f-4243-f2e4-0713d44cf5da"
      },
      "execution_count": 48,
      "outputs": [
        {
          "output_type": "stream",
          "name": "stdout",
          "text": [
            "3 2 3\n",
            "5\n"
          ]
        }
      ]
    },
    {
      "cell_type": "markdown",
      "source": [
        "---\n",
        "---"
      ],
      "metadata": {
        "id": "ATJo-jC4pAK_"
      }
    },
    {
      "cell_type": "code",
      "source": [
        "import sys\n",
        "\n",
        "input = sys.stdin.readline\n",
        "\n",
        "s1, s2, s3 = map(int, input().split())\n",
        "counter = dict()\n",
        "\n",
        "for i in range(1, s1 +1):\n",
        "    for j in range(1, s2 +1):\n",
        "        for k in range(1, s3 +1):\n",
        "            summary = i + j + k\n",
        "            if summary not in counter:\n",
        "                counter[summary] = 1\n",
        "            else:\n",
        "                counter[summary] += 1\n",
        "max_count = -1\n",
        "answer = int(1e9)\n",
        "\n",
        "for (key, value) in counter.items():\n",
        "    if max_count < value:\n",
        "        max_count = value\n",
        "    elif max_count == value:\n",
        "        answer = min(answer, key) # 빈도수가 동일한 것 여러 개라면, 작은 수.\n",
        "print(answer)\n"
      ],
      "metadata": {
        "id": "ybDnMtPmqdgl"
      },
      "execution_count": null,
      "outputs": []
    },
    {
      "cell_type": "code",
      "source": [],
      "metadata": {
        "id": "-IRM1JHxqddC"
      },
      "execution_count": null,
      "outputs": []
    },
    {
      "cell_type": "code",
      "source": [
        "import sys\n",
        "input = sys.stdin.readline\n",
        "\n",
        "s1, s2, s3 = map(int, input().split())\n",
        "cnt = [0] * 81\n",
        "\n",
        "for i in range(1, s1 + 1):\n",
        "    for j in range(1, s2 + 1):\n",
        "        for k in range(1, s3 + 1):\n",
        "            cnt[i + j + k] += 1\n",
        "\n",
        "print(cnt.index(max(cnt)))"
      ],
      "metadata": {
        "id": "NfJn-Y1tpyos"
      },
      "execution_count": null,
      "outputs": []
    }
  ]
}