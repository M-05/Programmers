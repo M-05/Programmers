{
  "nbformat": 4,
  "nbformat_minor": 0,
  "metadata": {
    "colab": {
      "provenance": []
    },
    "kernelspec": {
      "name": "python3",
      "display_name": "Python 3"
    },
    "language_info": {
      "name": "python"
    }
  },
  "cells": [
    {
      "cell_type": "markdown",
      "source": [
        "# [완주하지 못한 선수](https://school.programmers.co.kr/learn/courses/30/lessons/42576)\n",
        "### hashing"
      ],
      "metadata": {
        "id": "gn3dPnutvZmZ"
      }
    },
    {
      "cell_type": "markdown",
      "source": [
        "단 한 명의 선수를 제외하고 모두 완주 했다.  \n",
        "\n",
        "선수 이름 participant  \n",
        "완주 completion  \n",
        "완주 못한 이 return 해줏요.  \n",
        "> 참가자 중에는 동명이인이 있을 수 있습니다."
      ],
      "metadata": {
        "id": "IiWcNJLjwuZt"
      }
    },
    {
      "cell_type": "code",
      "source": [
        "participant\t= [\"leo\", \"kiki\", \"eden\"]\n",
        "completion = [\"eden\", \"kiki\"]\n",
        "# \"leo\""
      ],
      "metadata": {
        "id": "qb4eEv4H09gW"
      },
      "execution_count": 9,
      "outputs": []
    },
    {
      "cell_type": "code",
      "source": [
        "for person in participant:\n",
        "    if completion.count(person) != 1:\n",
        "        print(person)"
      ],
      "metadata": {
        "colab": {
          "base_uri": "https://localhost:8080/"
        },
        "id": "UIoOFOSE2L1K",
        "outputId": "8739ce91-c22f-45fb-8dc5-b65f67108db5"
      },
      "execution_count": 7,
      "outputs": [
        {
          "output_type": "stream",
          "name": "stdout",
          "text": [
            "leo\n"
          ]
        }
      ]
    },
    {
      "cell_type": "code",
      "source": [
        "completion.count('leo')"
      ],
      "metadata": {
        "colab": {
          "base_uri": "https://localhost:8080/"
        },
        "id": "133btvna2X5Q",
        "outputId": "0397b7fc-07b4-43c2-d01c-e4f13b9962fe"
      },
      "execution_count": 5,
      "outputs": [
        {
          "output_type": "execute_result",
          "data": {
            "text/plain": [
              "0"
            ]
          },
          "metadata": {},
          "execution_count": 5
        }
      ]
    },
    {
      "cell_type": "code",
      "source": [
        "#############\n",
        "#정확성: 25.0\n",
        "#효율성: 0.0 # 48.25ms\n",
        "##############\n",
        "def solution(participant, completion):\n",
        "# people = {person: participant.count(person) for person in participant}\n",
        "    for person in participant:\n",
        "        if participant.count(person) > 1:\n",
        "            return person\n",
        "        elif completion.count(person) != 1:\n",
        "            return person"
      ],
      "metadata": {
        "id": "mlt4pYYu2cMY"
      },
      "execution_count": null,
      "outputs": []
    },
    {
      "cell_type": "code",
      "source": [
        "#############\n",
        "#정확성: 41.7\n",
        "#효율성: 0.0 # 16.33ms\n",
        "##############\n",
        "def solution(participant, completion):\n",
        "    people = {person : 0 for person in completion}\n",
        "\n",
        "    for person in participant:\n",
        "        if person in people:\n",
        "            people[person] += 1\n",
        "            if people[person] > 1:\n",
        "                return person\n",
        "        else:\n",
        "            return person"
      ],
      "metadata": {
        "id": "wrDD4Zse5fAn"
      },
      "execution_count": null,
      "outputs": []
    },
    {
      "cell_type": "code",
      "source": [
        "##############\n",
        "# 정확성: 58.3\n",
        "# 효율성: 41.7\n",
        "##############\n",
        "from collections import Counter\n",
        "\n",
        "def solution(participant, completion):\n",
        "    answer = Counter(participant) - Counter(completion)\n",
        "    return list(answer)[0]"
      ],
      "metadata": {
        "id": "bJ-dtZYT-WV0"
      },
      "execution_count": null,
      "outputs": []
    },
    {
      "cell_type": "code",
      "source": [
        "p_people = {p : participant.count(p) for p in participant}\n",
        "# {'leo': 1, 'kiki': 1, 'eden': 1}\n",
        "c_people = {c : 1 for c in completion}\n",
        "# {'eden': 1, 'kiki': 1}"
      ],
      "metadata": {
        "id": "FQIMDzBH_pmx"
      },
      "execution_count": 16,
      "outputs": []
    },
    {
      "cell_type": "code",
      "source": [
        "list(set(p_people) - set(c_people))[0]"
      ],
      "metadata": {
        "colab": {
          "base_uri": "https://localhost:8080/",
          "height": 35
        },
        "id": "-lMI2HuFB-J6",
        "outputId": "d1ef90f0-0d75-4dab-e943-9cccee240034"
      },
      "execution_count": 23,
      "outputs": [
        {
          "output_type": "execute_result",
          "data": {
            "text/plain": [
              "'leo'"
            ],
            "application/vnd.google.colaboratory.intrinsic+json": {
              "type": "string"
            }
          },
          "metadata": {},
          "execution_count": 23
        }
      ]
    },
    {
      "cell_type": "code",
      "source": [
        "#############\n",
        "#정확성: 58.3\n",
        "#효율성: 41.7\n",
        "#############\n",
        "def solution(participant, completion):\n",
        "    participant.sort() # ['eden', 'kiki', 'leo']\n",
        "    completion.sort() # ['eden', 'kiki']\n",
        "\n",
        "    for p, c in zip(participant[:-1], completion):\n",
        "        if p == c:\n",
        "            pass\n",
        "        elif p != c:\n",
        "            return p\n",
        "    return participant[-1]"
      ],
      "metadata": {
        "id": "I924aUBMEun5"
      },
      "execution_count": null,
      "outputs": []
    }
  ]
}