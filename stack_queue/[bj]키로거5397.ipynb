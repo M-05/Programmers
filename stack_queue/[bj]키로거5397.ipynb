{
  "nbformat": 4,
  "nbformat_minor": 0,
  "metadata": {
    "colab": {
      "provenance": []
    },
    "kernelspec": {
      "name": "python3",
      "display_name": "Python 3"
    },
    "language_info": {
      "name": "python"
    }
  },
  "cells": [
    {
      "cell_type": "markdown",
      "source": [
        "# [키로거 5397](https://www.acmicpc.net/problem/5397)\n",
        "\n",
        "- 자료 구조\n",
        "- 스택\n",
        "- 연결 리스트\n",
        "\n",
        "> 길이가 L인 문자열이 주어진다. (1 ≤ L ≤ 1,000,000)   \n",
        "> 백스페이스를 입력했다면, '-'  \n",
        ">  커서의 바로 앞에 글자가 존재한다면, 그 글자를 지운다.  \n",
        "> 화살표의 입력은 '<'와 '>'로 주어진다. 이때는 커서의 위치를 움직일 수 있다면, 왼쪽 또는 오른쪽으로 1만큼 움직인다.   \n",
        "> 커서의 위치가 줄의 마지막이 아니라면, 커서 및 커서 오른쪽에 있는 모든 문자는 오른쪽으로 한 칸 이동  \n",
        "\n",
        "> 알파벳 대문자, 소문자, 숫자, 백스페이스, 화살표\n",
        "\n",
        "return  \n",
        "강산이의 비밀번호를 출력한다. 비밀번호의 길이는 항상 0보다 크다."
      ],
      "metadata": {
        "id": "zazZqChlSVBz"
      }
    },
    {
      "cell_type": "code",
      "execution_count": null,
      "metadata": {
        "id": "sQWIJH43SKlQ"
      },
      "outputs": [],
      "source": [
        "import sys\n",
        "\n",
        "with open('./bj.txt', 'w') as f:\n",
        "    f.write('''2\n",
        "<<BP<A>>Cd-\n",
        "ThIsIsS3Cr3t''')\n",
        "# BAPC\n",
        "# ThIsIsS3Cr3t\n",
        "#     f.write('''1\n",
        "# a<b<c<d>>e''')\n",
        "    # dcbea\n",
        "\n",
        "sys.stdin = open('./bj.txt', 'r')\n",
        "input = sys.stdin.readline"
      ]
    },
    {
      "cell_type": "code",
      "source": [
        "# 성공!\n",
        "\n",
        "test_case = int(input())\n",
        "\n",
        "for _ in range(test_case):\n",
        "    password = input().strip()\n",
        "\n",
        "    left_word = []\n",
        "    right_word = []\n",
        "\n",
        "    for pw in password:\n",
        "        if pw == '-':\n",
        "            if left_word:\n",
        "                left_word.pop()\n",
        "        elif pw == '<':\n",
        "            if left_word:\n",
        "                right_word.append(left_word.pop())\n",
        "        elif pw == '>':\n",
        "            if right_word:\n",
        "                left_word.append(right_word.pop())\n",
        "        else:# 조건에 부합 안 할시.\n",
        "            left_word.append(pw)\n",
        "\n",
        "    left_word.extend(reversed(right_word))\n",
        "    print(''.join(left_word))"
      ],
      "metadata": {
        "colab": {
          "base_uri": "https://localhost:8080/"
        },
        "id": "wyMaWUFEdFOW",
        "outputId": "04880bbb-9131-4155-d65f-334f1ac7ad17"
      },
      "execution_count": null,
      "outputs": [
        {
          "output_type": "stream",
          "name": "stdout",
          "text": [
            "BAPC\n",
            "ThIsIsS3Cr3t\n"
          ]
        }
      ]
    },
    {
      "cell_type": "code",
      "source": [
        "left_word"
      ],
      "metadata": {
        "colab": {
          "base_uri": "https://localhost:8080/"
        },
        "id": "dPybEW3ghGpq",
        "outputId": "593f9497-4dfc-482a-e0f4-3e2672596ad3"
      },
      "execution_count": null,
      "outputs": [
        {
          "output_type": "execute_result",
          "data": {
            "text/plain": [
              "['B', 'A', 'P', 'C']"
            ]
          },
          "metadata": {},
          "execution_count": 71
        }
      ]
    },
    {
      "cell_type": "code",
      "source": [
        "# 성공!\n",
        "\n",
        "from collections import deque\n",
        "\n",
        "test_case = int(input())\n",
        "\n",
        "for _ in range(test_case):\n",
        "    password = input().strip()\n",
        "\n",
        "    left_word = deque()\n",
        "    right_word = deque()\n",
        "\n",
        "    for pw in password:\n",
        "        if pw == '-':\n",
        "            if left_word:\n",
        "                left_word.pop()\n",
        "        elif pw == '<':\n",
        "            if left_word:\n",
        "                right_word.append(left_word.pop())\n",
        "        elif pw == '>':\n",
        "            if right_word:\n",
        "                left_word.append(right_word.pop())\n",
        "        else:# 조건에 부합 안 할시.\n",
        "            left_word.append(pw)\n",
        "\n",
        "    left_word.extend(reversed(right_word))\n",
        "    print(''.join(left_word))"
      ],
      "metadata": {
        "colab": {
          "base_uri": "https://localhost:8080/"
        },
        "id": "tevKtfIOi1n9",
        "outputId": "2bb6e384-4515-4eff-e505-5e58b095b251"
      },
      "execution_count": null,
      "outputs": [
        {
          "output_type": "stream",
          "name": "stdout",
          "text": [
            "BAPC\n",
            "ThIsIsS3Cr3t\n"
          ]
        }
      ]
    },
    {
      "cell_type": "code",
      "source": [],
      "metadata": {
        "id": "ECiIHHZ5a2IV"
      },
      "execution_count": null,
      "outputs": []
    },
    {
      "cell_type": "code",
      "source": [
        "# 틀렸다.\n",
        "# 단어 사이에 - 가 존재할 경우 고민하였으나..\n",
        "# 커서 이동 신경 안씀.\n",
        "test_case = int(input())\n",
        "for _ in range(test_case):\n",
        "\n",
        "    password = input().strip()\n",
        "    password = password.replace('<', \"\").replace('>', \"\").replace('-', '- ')\n",
        "\n",
        "    answer = ''\n",
        "    for pw in password.split(' '): # ['BPACd-', '']\n",
        "        if pw != '':\n",
        "            if pw[-1] == '-':\n",
        "                answer += pw[:-2]\n",
        "            else:\n",
        "                answer += pw\n",
        "    print(''.join(answer))"
      ],
      "metadata": {
        "colab": {
          "base_uri": "https://localhost:8080/"
        },
        "id": "s-6pwwstXKdZ",
        "outputId": "16fed2e0-a8b8-432e-c0f8-a25187221034"
      },
      "execution_count": null,
      "outputs": [
        {
          "output_type": "stream",
          "name": "stdout",
          "text": [
            "BPAC\n",
            "ThIsIsS3Cr3t\n"
          ]
        }
      ]
    },
    {
      "cell_type": "code",
      "source": [],
      "metadata": {
        "id": "lClNA4_yZtx3"
      },
      "execution_count": null,
      "outputs": []
    },
    {
      "cell_type": "code",
      "source": [],
      "metadata": {
        "id": "k25JNK2iavmV"
      },
      "execution_count": null,
      "outputs": []
    },
    {
      "cell_type": "code",
      "source": [],
      "metadata": {
        "id": "Da4ohYj9avoc"
      },
      "execution_count": null,
      "outputs": []
    },
    {
      "cell_type": "code",
      "source": [],
      "metadata": {
        "id": "7jfmfOAfavq0"
      },
      "execution_count": null,
      "outputs": []
    },
    {
      "cell_type": "code",
      "source": [],
      "metadata": {
        "id": "4FPdv1i1avs2"
      },
      "execution_count": null,
      "outputs": []
    },
    {
      "cell_type": "code",
      "source": [],
      "metadata": {
        "id": "J71DOAcJavvA"
      },
      "execution_count": null,
      "outputs": []
    }
  ]
}