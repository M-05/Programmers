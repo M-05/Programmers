{
  "nbformat": 4,
  "nbformat_minor": 0,
  "metadata": {
    "colab": {
      "provenance": []
    },
    "kernelspec": {
      "name": "python3",
      "display_name": "Python 3"
    },
    "language_info": {
      "name": "python"
    }
  },
  "cells": [
    {
      "cell_type": "markdown",
      "source": [
        "# [핸드폰 번호 궁합 17202](https://www.acmicpc.net/problem/17202)"
      ],
      "metadata": {
        "id": "Kln8mdM8qhuj"
      }
    },
    {
      "cell_type": "code",
      "source": [
        "import sys\n",
        "input = sys.stdin.readline\n",
        "\n",
        "numbers = [input().strip() for _ in range(2)]\n",
        "num1 = [int(i) for i in numbers[0]]\n",
        "num2 = [int(i) for i in numbers[1]]\n",
        "\n",
        "while len(num2) != 1: # O(N**2)\n",
        "    if len(num1) != len(num2):\n",
        "        temp1 = [num1[i] + num2[i] for i in range(0, len(num1)-1)]\n",
        "        temp2 = [num1[i] + num2[i-1] for i in range(1, len(num1))]\n",
        "    else:\n",
        "        temp1 = [num1[i] + num2[i] for i in range(0, len(num1))]\n",
        "        temp2 = [num1[i] + num2[i-1] for i in range(1, len(num1))]\n",
        "\n",
        "    num1, num2 = temp1, temp2\n",
        "# 60ms\n",
        "print((num1[0] + num2[0]) % 10, end='')\n",
        "print((num1[1] + num2[0]) % 10)\n",
        "# 40ms\n",
        "# print(''.join([str((num1[0] + num2[0]) % 10), str((num1[1] + num2[0]) % 10)]))\n",
        "\n",
        "# print((num1[0] + num2[0]) % 10, (num1[1] + num2[0]) % 10, sep='')"
      ],
      "metadata": {
        "id": "sWqctdJ06GNV"
      },
      "execution_count": null,
      "outputs": []
    },
    {
      "cell_type": "code",
      "source": [
        "import sys\n",
        "\n",
        "with open('./bj.txt', 'w') as f:\n",
        "    f.write('''74759336\n",
        "36195974''')\n",
        "sys.stdin = open('./bj.txt', 'r')\n",
        "\n",
        "input = sys.stdin.readline"
      ],
      "metadata": {
        "id": "UhuzLvhYql5M"
      },
      "execution_count": 143,
      "outputs": []
    },
    {
      "cell_type": "code",
      "source": [
        "numbers = [input().strip() for _ in range(2)]\n",
        "num1 = [int(i) for i in numbers[0]]\n",
        "num2 = [int(i) for i in numbers[1]]"
      ],
      "metadata": {
        "id": "Ai9hV-XEq4LN"
      },
      "execution_count": 144,
      "outputs": []
    },
    {
      "cell_type": "code",
      "source": [
        "print(num1)\n",
        "print(num2)"
      ],
      "metadata": {
        "colab": {
          "base_uri": "https://localhost:8080/"
        },
        "id": "2lpS22UbsjR5",
        "outputId": "551ae8ee-d4ce-40a2-da20-47497892c611"
      },
      "execution_count": 117,
      "outputs": [
        {
          "output_type": "stream",
          "name": "stdout",
          "text": [
            "[7, 4, 7, 5, 9, 3, 3, 6]\n",
            "[3, 6, 1, 9, 5, 9, 7, 4]\n"
          ]
        }
      ]
    },
    {
      "cell_type": "code",
      "source": [
        "if len(num1) != len(num2):\n",
        "    temp1 = [num1[i] + num2[i] for i in range(0, len(num1)-1)]\n",
        "    temp2 = [num1[i] + num2[i-1] for i in range(1, len(num1))]\n",
        "\n",
        "elif len(num1) == len(num2):\n",
        "    temp1 = [num1[i] + num2[i] for i in range(0, len(num1))]\n",
        "    temp2 = [num1[i] + num2[i-1] for i in range(1, len(num1))]\n",
        "\n",
        "num1, num2 = temp1, temp2\n",
        "\n",
        "print(num1)\n",
        "print(num2)"
      ],
      "metadata": {
        "colab": {
          "base_uri": "https://localhost:8080/"
        },
        "id": "KJpBbVZQv-zb",
        "outputId": "164e372f-17ef-4caf-f1f3-1ba655b3fbe7"
      },
      "execution_count": 145,
      "outputs": [
        {
          "output_type": "stream",
          "name": "stdout",
          "text": [
            "[10, 10, 8, 14, 14, 12, 10, 10]\n",
            "[7, 13, 6, 18, 8, 12, 13]\n"
          ]
        }
      ]
    },
    {
      "cell_type": "code",
      "source": [
        "while len(num2) != 1:\n",
        "    if len(num1) != len(num2):\n",
        "        temp1 = [num1[i] + num2[i] for i in range(0, len(num1)-1)]\n",
        "        temp2 = [num1[i] + num2[i-1] for i in range(1, len(num1))]\n",
        "    else:\n",
        "        temp1 = [num1[i] + num2[i] for i in range(0, len(num1))]\n",
        "        temp2 = [num1[i] + num2[i-1] for i in range(1, len(num1))]\n",
        "\n",
        "    num1, num2 = temp1, temp2"
      ],
      "metadata": {
        "id": "zANxRQBuyUh0"
      },
      "execution_count": 147,
      "outputs": []
    },
    {
      "cell_type": "code",
      "source": [
        "print(num1)\n",
        "print(num2)"
      ],
      "metadata": {
        "colab": {
          "base_uri": "https://localhost:8080/"
        },
        "id": "DC69nmoc0KMG",
        "outputId": "84c1896a-4eb4-4991-b74b-faf97981f6a2"
      },
      "execution_count": 131,
      "outputs": [
        {
          "output_type": "stream",
          "name": "stdout",
          "text": [
            "[49154, 51878]\n",
            "[52048]\n"
          ]
        }
      ]
    },
    {
      "cell_type": "code",
      "source": [
        "(num1[0] + num2[0]), (num1[1] + num2[0])"
      ],
      "metadata": {
        "colab": {
          "base_uri": "https://localhost:8080/"
        },
        "id": "hz0IHvNs7CVM",
        "outputId": "24750fd1-0c92-4dde-8fa9-8392e8244d88"
      },
      "execution_count": 148,
      "outputs": [
        {
          "output_type": "execute_result",
          "data": {
            "text/plain": [
              "(101202, 103926)"
            ]
          },
          "metadata": {},
          "execution_count": 148
        }
      ]
    },
    {
      "cell_type": "code",
      "source": [
        "(num1[0] + num2[0]) % 10, (num1[1] + num2[0]) % 10"
      ],
      "metadata": {
        "colab": {
          "base_uri": "https://localhost:8080/"
        },
        "id": "z0uMq5uO0LSg",
        "outputId": "0ae69e00-25e2-44ca-8849-cf6c783cc638"
      },
      "execution_count": 133,
      "outputs": [
        {
          "output_type": "execute_result",
          "data": {
            "text/plain": [
              "(2, 6)"
            ]
          },
          "metadata": {},
          "execution_count": 133
        }
      ]
    },
    {
      "cell_type": "code",
      "source": [
        "print((num1[0] + num2[0]) % 10, end='')\n",
        "print((num1[1] + num2[0]) % 10)"
      ],
      "metadata": {
        "colab": {
          "base_uri": "https://localhost:8080/"
        },
        "id": "kZ1PZEJf1Zio",
        "outputId": "0364ca86-0468-4588-d243-0b51f9791610"
      },
      "execution_count": 134,
      "outputs": [
        {
          "output_type": "stream",
          "name": "stdout",
          "text": [
            "26\n"
          ]
        }
      ]
    },
    {
      "cell_type": "code",
      "source": [
        "print(''.join([str((num1[0] + num2[0]) % 10), str((num1[1] + num2[0]) % 10)]))"
      ],
      "metadata": {
        "colab": {
          "base_uri": "https://localhost:8080/"
        },
        "id": "zDauSzsg5TvH",
        "outputId": "cb15ea9a-73bc-46bc-f2d1-1b94ffa8a3d4"
      },
      "execution_count": 139,
      "outputs": [
        {
          "output_type": "stream",
          "name": "stdout",
          "text": [
            "26\n"
          ]
        }
      ]
    },
    {
      "cell_type": "markdown",
      "source": [
        "---\n",
        "---\n",
        "---"
      ],
      "metadata": {
        "id": "YcO8Ae2S6Wm8"
      }
    },
    {
      "cell_type": "code",
      "source": [
        "N = input()\n",
        "M = input()\n",
        "\n",
        "number = list()\n",
        "\n",
        "for i in range(8):\n",
        "    number.append(int(N[i]))\n",
        "    number.append(int(M[i]))\n",
        "\n",
        "for i in range(15,1,-1):\n",
        "    for j in range(i):\n",
        "        number[j] = (number[j]+number[j+1])%10\n",
        "print(number[0],number[1],sep='')"
      ],
      "metadata": {
        "id": "DM3AJKoiEATm"
      },
      "execution_count": null,
      "outputs": []
    }
  ]
}