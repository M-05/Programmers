{
  "nbformat": 4,
  "nbformat_minor": 0,
  "metadata": {
    "colab": {
      "provenance": []
    },
    "kernelspec": {
      "name": "python3",
      "display_name": "Python 3"
    },
    "language_info": {
      "name": "python"
    }
  },
  "cells": [
    {
      "cell_type": "markdown",
      "source": [
        "# [제로 10773](https://www.acmicpc.net/problem/10773)\n",
        "\n",
        "- 구현\n",
        "- 자료 구조\n",
        "- 스택\n",
        "\n",
        "> 첫 번째 줄에 정수 K가 주어진다. (1 ≤ K ≤ 100,000)  \n",
        "> 정수는 0에서 1,000,000 사이의 값  \n",
        "> 정수가 \"0\" 일 경우에는 가장 최근에 쓴 수를 지우고, 아닐 경우 해당 수를 쓴다.  \n",
        "> \"0\"일 경우에 지울 수 있는 수가 있음을 보장\n",
        "\n",
        "> 2^31-1보다 작거나 같은 정수\n",
        "\n",
        "`return`  \n",
        "최종적으로 적어 낸 수의 합을 출력"
      ],
      "metadata": {
        "id": "g1P4CDrE9wuH"
      }
    },
    {
      "cell_type": "code",
      "execution_count": 3,
      "metadata": {
        "id": "BUpXqxDK9umm"
      },
      "outputs": [],
      "source": [
        "import sys\n",
        "\n",
        "with open('./bj.txt', 'w') as f:\n",
        "#     f.write('''4\n",
        "# 3\n",
        "# 0\n",
        "# 4\n",
        "# 0''')\n",
        "# 0\n",
        "\n",
        "    f.write('''10\n",
        "1\n",
        "3\n",
        "5\n",
        "4\n",
        "0\n",
        "0\n",
        "7\n",
        "0\n",
        "0\n",
        "6''')\n",
        "# 7\n",
        "\n",
        "sys.stdin = open('./bj.txt', 'r')\n",
        "input = sys.stdin.readline"
      ]
    },
    {
      "cell_type": "code",
      "source": [
        "n = int(input())\n",
        "\n",
        "stack = []\n",
        "for _ in range(n):\n",
        "    num = int(input())\n",
        "    if num == 0:\n",
        "        stack.pop()\n",
        "    else:\n",
        "        stack.append(num)\n",
        "print(sum(stack))"
      ],
      "metadata": {
        "colab": {
          "base_uri": "https://localhost:8080/"
        },
        "id": "zN2qhQ4q-E1P",
        "outputId": "00abc192-4e98-4e0f-9a9d-35579772b5ef"
      },
      "execution_count": 4,
      "outputs": [
        {
          "output_type": "stream",
          "name": "stdout",
          "text": [
            "7\n"
          ]
        }
      ]
    },
    {
      "cell_type": "code",
      "source": [],
      "metadata": {
        "id": "WECyJbdL_H33"
      },
      "execution_count": null,
      "outputs": []
    }
  ]
}