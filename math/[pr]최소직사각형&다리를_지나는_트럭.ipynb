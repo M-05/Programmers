{
  "nbformat": 4,
  "nbformat_minor": 0,
  "metadata": {
    "colab": {
      "provenance": []
    },
    "kernelspec": {
      "name": "python3",
      "display_name": "Python 3"
    },
    "language_info": {
      "name": "python"
    }
  },
  "cells": [
    {
      "cell_type": "markdown",
      "source": [
        "# [최소직사각형](https://school.programmers.co.kr/learn/courses/30/lessons/86491#)\n",
        "### 완전탐색\n",
        "\n",
        "최소직사각형\n",
        "가로 길이와 세로 길이\n",
        "\n",
        "sizes의 길이는 1 이상 10,000 이하입니다.  \n",
        "sizes의 원소는 [w, h] 형식입니다.\n",
        "\n",
        "w는 명함의 가로 길이를 나타냅니다.\n",
        "h는 명함의 세로 길이를 나타냅니다.\n",
        "이탤릭체 텍스트\n",
        "w와 h는 1 이상 1,000 이하인 자연수입니다."
      ],
      "metadata": {
        "id": "q7LfOmpUHlIy"
      }
    },
    {
      "cell_type": "code",
      "source": [
        "sizes = [[60, 50], [30, 70], [60, 30], [80, 40]]\t # 4000\n",
        "sizes = [[10, 7], [12, 3], [8, 15], [14, 7], [5, 15]]#\t120\n",
        "sizes = [[14, 4], [19, 6], [6, 16], [18, 7], [7, 11]]#\t133"
      ],
      "metadata": {
        "id": "sYguGsh7Hlcg"
      },
      "execution_count": null,
      "outputs": []
    },
    {
      "cell_type": "code",
      "source": [
        "def solution(sizes):\n",
        "    x = list(map(lambda x: x[0], sizes))\n",
        "    y = list(map(lambda x: x[1], sizes))\n",
        "    max_value = max(x+y) # 19\n",
        "    min_value_list = [i[1] if i[0] > i[1] else i[0] for i in sizes]\n",
        "\n",
        "    return max_value * max(min_value_list)"
      ],
      "metadata": {
        "id": "0nZhnGrxHlka"
      },
      "execution_count": null,
      "outputs": []
    },
    {
      "cell_type": "code",
      "source": [
        "def solution(sizes):\n",
        "    tmp1 = [min(x) for x in sizes]\n",
        "    tmp2 = [max(x) for x in sizes]\n",
        "    return max(tmp1) * max(tmp2)"
      ],
      "metadata": {
        "id": "tCxkGVxLmqYl"
      },
      "execution_count": null,
      "outputs": []
    },
    {
      "cell_type": "code",
      "source": [
        "solution(sizes)"
      ],
      "metadata": {
        "colab": {
          "base_uri": "https://localhost:8080/"
        },
        "id": "SAdOmHXynLyH",
        "outputId": "ca6806c4-25b6-4e9b-f319-d5f61d421c95"
      },
      "execution_count": null,
      "outputs": [
        {
          "output_type": "execute_result",
          "data": {
            "text/plain": [
              "133"
            ]
          },
          "metadata": {},
          "execution_count": 80
        }
      ]
    },
    {
      "cell_type": "code",
      "source": [],
      "metadata": {
        "id": "nL-8ld4oHloZ"
      },
      "execution_count": null,
      "outputs": []
    },
    {
      "cell_type": "markdown",
      "source": [
        "# [다리를 지나는 트럭](https://school.programmers.co.kr/learn/courses/30/lessons/42583)\n",
        "### 스택, 큐\n",
        "\n",
        "트럭 여러 대가 강을 가로지르는 일차선 다리를 정해진 순으로 건너려 합니다. 모든 트럭이 다리를 건너려면 최소 몇 초가 걸리는지 알아내야 합니다. 다리에는 트럭이 최대 bridge_length대 올라갈 수 있으며, 다리는 weight 이하까지의 무게를 견딜 수 있습니다. 단, 다리에 완전히 오르지 않은 트럭의 무게는 무시합니다.\n",
        "\n",
        "예를 들어, 트럭 2대가 올라갈 수 있고 무게를 10kg까지 견디는 다리가 있습니다. 무게가 [7, 4, 5, 6]kg인 트럭이 순서대로 최단 시간 안에 다리를 건너려면 다음과 같이 건너야 합니다.\n",
        "\n",
        "---\n",
        "solution 함수의 매개변수로\n",
        "다리에 올라갈 수 있는 트럭 수 bridge_length,   \n",
        "다리가 견딜 수 있는 무게 weight,   \n",
        "트럭 별 무게 truck_weights가 주어집니다.\n",
        "\n",
        "이때 모든 트럭이 다리를 건너려면 최소 몇 초가 걸리는지 return 하도록 solution 함수를 완성하세요."
      ],
      "metadata": {
        "id": "ZjLECTKjHlo1"
      }
    },
    {
      "cell_type": "code",
      "source": [
        "from collections import deque"
      ],
      "metadata": {
        "id": "28svam86HlpS"
      },
      "execution_count": 4,
      "outputs": []
    },
    {
      "cell_type": "code",
      "source": [
        "bridge_length=100\n",
        "weight=100\n",
        "truck_weights=[10]\t#101"
      ],
      "metadata": {
        "id": "xuiZXgTYqQNz"
      },
      "execution_count": null,
      "outputs": []
    },
    {
      "cell_type": "code",
      "source": [
        "bridge_length=100\n",
        "weight=100\n",
        "truck_weights=[10,10,10,10,10,10,10,10,10,10]"
      ],
      "metadata": {
        "id": "GPyP7P6cqKTP"
      },
      "execution_count": 13,
      "outputs": []
    },
    {
      "cell_type": "code",
      "source": [],
      "metadata": {
        "id": "V73zo2rT2Mq1"
      },
      "execution_count": null,
      "outputs": []
    },
    {
      "cell_type": "code",
      "source": [
        "bridge_length = 2\n",
        "weight = 10\n",
        "truck_weights =\t[7,4,5,6]\t#8"
      ],
      "metadata": {
        "id": "8Nyc8xWhHlvS"
      },
      "execution_count": 25,
      "outputs": []
    },
    {
      "cell_type": "code",
      "source": [
        "waited_queue = truck_weights[::-1]\n",
        "# [6, 5, 4, 7]\n",
        "bridge_queue = deque([0]) * bridge_length\n",
        "# [0, 0]"
      ],
      "metadata": {
        "id": "BrEQAuvTHlvw"
      },
      "execution_count": 10,
      "outputs": []
    },
    {
      "cell_type": "code",
      "source": [
        "6, 5, 4, 7 : 0 0\n",
        "654\n",
        "7 0    1\n",
        "654\n",
        "0 7.   1 2\n",
        "65\n",
        "4 0    1 3\n",
        "6\n",
        "5 4.   1 4\n",
        "6\n",
        "0 5.   1 5\n",
        "\n",
        "6 0.   1 6\n",
        "\n",
        "0 6.   1 7\n",
        "\n",
        "0 0.   1 8"
      ],
      "metadata": {
        "id": "eyimeL_f3uON"
      },
      "execution_count": null,
      "outputs": []
    },
    {
      "cell_type": "code",
      "source": [
        "waited_queue"
      ],
      "metadata": {
        "colab": {
          "base_uri": "https://localhost:8080/"
        },
        "id": "ZmDr6Apk94qE",
        "outputId": "9a7286c2-14c8-4174-bbb6-0577cb725a7f"
      },
      "execution_count": null,
      "outputs": [
        {
          "output_type": "execute_result",
          "data": {
            "text/plain": [
              "[]"
            ]
          },
          "metadata": {},
          "execution_count": 75
        }
      ]
    },
    {
      "cell_type": "code",
      "source": [
        "bridge_queue"
      ],
      "metadata": {
        "id": "kry-cfmH-erp",
        "outputId": "334e9ec2-d2d4-4c00-87de-998a08cd9f3f",
        "colab": {
          "base_uri": "https://localhost:8080/"
        }
      },
      "execution_count": null,
      "outputs": [
        {
          "output_type": "execute_result",
          "data": {
            "text/plain": [
              "deque([6, 5])"
            ]
          },
          "metadata": {},
          "execution_count": 76
        }
      ]
    },
    {
      "cell_type": "code",
      "source": [
        "##################\n",
        "#합계: 35.7 / 100.0\n",
        "###################\n",
        "\n",
        "waited_queue = truck_weights[::-1]\n",
        "# [6, 5, 4, 7]\n",
        "bridge_queue = deque([0]) * bridge_length\n",
        "# [0, 0]\n",
        "\n",
        "cnt = 0\n",
        "while waited_queue:\n",
        "    if sum(bridge_queue) + waited_queue[-1] <= weight:\n",
        "        if bridge_queue[-1] == 0:\n",
        "            bridge_queue.rotate(1)\n",
        "            poped_data = waited_queue.pop()\n",
        "            bridge_queue[0] = poped_data\n",
        "            cnt += 1\n",
        "        else:\n",
        "            bridge_queue[-1] = 0\n",
        "            bridge_queue.rotate(1)\n",
        "            poped_data = waited_queue.pop()\n",
        "            bridge_queue[0] = poped_data\n",
        "            cnt += 1\n",
        "    else:\n",
        "        if bridge_queue[-1] == 0:\n",
        "            bridge_queue.rotate(1)\n",
        "            cnt += 1\n",
        "        elif bridge_queue[-1] != 0:\n",
        "            bridge_queue[-1] = 0\n",
        "            bridge_queue.rotate(1)\n",
        "            poped_data = waited_queue.pop()\n",
        "            bridge_queue[0] = poped_data\n",
        "            cnt += 1\n",
        "        else:\n",
        "            bridge_queue.rotate(1)\n",
        "            cnt += 1\n",
        "cnt + bridge_length"
      ],
      "metadata": {
        "id": "3moG0phr67rP"
      },
      "execution_count": 14,
      "outputs": []
    },
    {
      "cell_type": "code",
      "source": [
        "cnt + bridge_length"
      ],
      "metadata": {
        "colab": {
          "base_uri": "https://localhost:8080/"
        },
        "id": "C6GgYqbL9xav",
        "outputId": "df5ead06-2395-4466-f330-6feab94684d9"
      },
      "execution_count": 15,
      "outputs": [
        {
          "output_type": "execute_result",
          "data": {
            "text/plain": [
              "100"
            ]
          },
          "metadata": {},
          "execution_count": 15
        }
      ]
    },
    {
      "cell_type": "code",
      "source": [],
      "metadata": {
        "id": "mpf7p2Lh97Dv"
      },
      "execution_count": null,
      "outputs": []
    },
    {
      "cell_type": "code",
      "source": [],
      "metadata": {
        "id": "NeXWDI8a97BN"
      },
      "execution_count": null,
      "outputs": []
    },
    {
      "cell_type": "code",
      "source": [
        "######################\n",
        "# 합계: 92.9 시간 초과\n",
        "######################\n",
        "from collections import deque\n",
        "\n",
        "def solution(bridge_length, weight, truck_weights):\n",
        "    waited_queue = truck_weights[::-1]\n",
        "    # [6, 5, 4, 7]\n",
        "    bridge_queue = deque([0]) * bridge_length\n",
        "\n",
        "    cnt = 0\n",
        "\n",
        "    while waited_queue: # [6, 5, 4, 7]\n",
        "        # sum(7 0) + 4 <= 10\n",
        "        if sum(bridge_queue) + waited_queue[-1] <= weight:\n",
        "            if bridge_queue[-1] != 0:\n",
        "                bridge_queue[-1] = 0\n",
        "                bridge_queue.rotate(1)\n",
        "                poped_truck = waited_queue.pop()\n",
        "                bridge_queue[0] = poped_truck\n",
        "                cnt += 1\n",
        "            else:\n",
        "                bridge_queue.rotate(1)\n",
        "                poped_truck = waited_queue.pop()\n",
        "                bridge_queue[0] = poped_truck\n",
        "                cnt += 1\n",
        "        else: # sum(7 0) + 4 > 10\n",
        "            if bridge_queue[-1] == 0:\n",
        "                bridge_queue.rotate(1)\n",
        "                cnt += 1\n",
        "            else: # sum(0 7) + 4 > 10\n",
        "                bridge_queue[-1] = 0\n",
        "                bridge_queue.rotate(1)\n",
        "                if sum(bridge_queue) + waited_queue[-1] <= weight:\n",
        "                    poped_truck = waited_queue.pop()\n",
        "                    bridge_queue[0] = poped_truck\n",
        "                    cnt += 1\n",
        "                else:\n",
        "                    cnt += 1\n",
        "\n",
        "    return cnt + bridge_length\n"
      ],
      "metadata": {
        "id": "cz4MN3YSHlwW"
      },
      "execution_count": null,
      "outputs": []
    },
    {
      "cell_type": "code",
      "source": [
        "cnt"
      ],
      "metadata": {
        "id": "x-gTjeaaHlw0",
        "colab": {
          "base_uri": "https://localhost:8080/"
        },
        "outputId": "75b261b7-c0bd-4b62-969d-c7c6d8eb308f"
      },
      "execution_count": null,
      "outputs": [
        {
          "output_type": "execute_result",
          "data": {
            "text/plain": [
              "6"
            ]
          },
          "metadata": {},
          "execution_count": 63
        }
      ]
    },
    {
      "cell_type": "code",
      "source": [
        "######################\n",
        "# 합계: 92.9 시간 초과\n",
        "######################\n",
        "from collections import deque\n",
        "\n",
        "def solution(bridge_length, weight, truck_weights):\n",
        "    waited_queue = truck_weights[::-1]\n",
        "    # [6, 5, 4, 7]\n",
        "    bridge_queue = deque([0]) * bridge_length\n",
        "\n",
        "    cnt = 0\n",
        "\n",
        "    while waited_queue: # [6, 5, 4, 7]\n",
        "        # sum(7 0) + 4 <= 10\n",
        "        if sum(bridge_queue) + waited_queue[-1] <= weight:\n",
        "            if bridge_queue[-1] != 0:\n",
        "                bridge_queue[-1] = 0\n",
        "                bridge_queue.rotate(1)\n",
        "\n",
        "                bridge_queue[0] = waited_queue.pop()\n",
        "                cnt += 1\n",
        "            else:\n",
        "                bridge_queue.rotate(1)\n",
        "\n",
        "                bridge_queue[0] = waited_queue.pop()\n",
        "                cnt += 1\n",
        "        else: # sum(7 0) + 4 > 10\n",
        "            if bridge_queue[-1] == 0:\n",
        "                bridge_queue.rotate(1)\n",
        "                cnt += 1\n",
        "            else: # sum(0 7) + 4 > 10\n",
        "                bridge_queue[-1] = 0\n",
        "                bridge_queue.rotate(1)\n",
        "                if sum(bridge_queue) + waited_queue[-1] <= weight:\n",
        "\n",
        "                    bridge_queue[0] = waited_queue.pop()\n",
        "                    cnt += 1\n",
        "                else:\n",
        "                    cnt += 1\n",
        "\n",
        "    return cnt + bridge_length"
      ],
      "metadata": {
        "id": "zoWKZlao5orW"
      },
      "execution_count": null,
      "outputs": []
    },
    {
      "cell_type": "code",
      "source": [],
      "metadata": {
        "id": "G8rxraTS-jkg"
      },
      "execution_count": null,
      "outputs": []
    },
    {
      "cell_type": "code",
      "source": [
        "######################\n",
        "# 합계: 92.9 시간 초과\n",
        "######################\n",
        "from collections import deque\n",
        "\n",
        "def solution(bridge_length, weight, truck_weights):\n",
        "    truck_queue = deque(truck_weights)\n",
        "    waited_queue = deque([0]*bridge_length)\n",
        "    current_weight = 0\n",
        "    cnt = 0\n",
        "    while waited_queue:\n",
        "        # 다음번에는 다리를 벗어나는 트럭\n",
        "        current_weight -= waited_queue.popleft()\n",
        "        if truck_queue:\n",
        "            # 다리안 트럭 무게 + 입장할 트럭무게 <= 다리 중량\n",
        "            if sum(waited_queue) + truck_queue[0] <= weight:\n",
        "                current_weight = sum(waited_queue) + truck_queue[0]\n",
        "                waited_queue.append(truck_queue.popleft())\n",
        "                cnt += 1\n",
        "            # 다리로 입장 못할 때\n",
        "            else:\n",
        "                waited_queue.append(0)\n",
        "                cnt += 1\n",
        "            # 다리 안에는 트럭이 있으나 입장할 트럭이 없을 때\n",
        "    return cnt + bridge_length"
      ],
      "metadata": {
        "id": "CDm_w81l-jnU"
      },
      "execution_count": 26,
      "outputs": []
    },
    {
      "cell_type": "code",
      "source": [
        "solution(bridge_length, weight, truck_weights)"
      ],
      "metadata": {
        "colab": {
          "base_uri": "https://localhost:8080/"
        },
        "id": "6wKnYK5LAnOd",
        "outputId": "beb8aaa1-cc01-44c7-940f-13eb203cbb9b"
      },
      "execution_count": 27,
      "outputs": [
        {
          "output_type": "execute_result",
          "data": {
            "text/plain": [
              "8"
            ]
          },
          "metadata": {},
          "execution_count": 27
        }
      ]
    },
    {
      "cell_type": "code",
      "source": [
        "######################\n",
        "# 합계: 100\n",
        "######################\n",
        "from collections import deque\n",
        "\n",
        "def solution(bridge_length, weight, truck_weights):\n",
        "    truck_queue = deque(truck_weights)\n",
        "    waited_queue = deque([0]*bridge_length)\n",
        "    current_weight = 0\n",
        "    cnt = 0\n",
        "    while waited_queue:\n",
        "        # 다음번에는 다리를 벗어나는 트럭\n",
        "        current_weight -= waited_queue.popleft()\n",
        "        if truck_queue:\n",
        "            # 현재 무게 + 입장할 트럭무게 > 다리 중량\n",
        "            if current_weight + truck_queue[0] > weight:\n",
        "                waited_queue.append(0)\n",
        "                cnt += 1\n",
        "            # 다리로 입장할 때\n",
        "            else:\n",
        "                current_weight += truck_queue[0]\n",
        "                waited_queue.append(truck_queue.popleft())\n",
        "                cnt += 1\n",
        "            # 다리 안에는 트럭이 있으나 입장할 트럭이 없을 때\n",
        "    return cnt + bridge_length"
      ],
      "metadata": {
        "id": "6JABRk7gGQwz"
      },
      "execution_count": null,
      "outputs": []
    },
    {
      "cell_type": "code",
      "source": [
        "######################\n",
        "# 합계: 100\n",
        "######################\n",
        "from collections import deque\n",
        "\n",
        "def solution(bridge_length, weight, truck_weights):\n",
        "    truck_queue = deque(truck_weights)\n",
        "    waited_queue = deque([0]*bridge_length)\n",
        "    current_weight = 0\n",
        "    cnt = 0\n",
        "    while waited_queue:\n",
        "        # 다음번에는 다리를 벗어나는 트럭\n",
        "        current_weight -= waited_queue.popleft()\n",
        "        if truck_queue:\n",
        "            # 다리안 트럭 무게 + 입장할 트럭무게 <= 다리 중량\n",
        "            if current_weight + truck_queue[0] <= weight:\n",
        "                current_weight +=  truck_queue[0]\n",
        "                waited_queue.append(truck_queue.popleft())\n",
        "                cnt += 1\n",
        "            # 다리로 입장 못할 때\n",
        "            else:\n",
        "                waited_queue.append(0)\n",
        "                cnt += 1\n",
        "            # 다리 안에는 트럭이 있으나 입장할 트럭이 없을 때\n",
        "    return cnt + bridge_length"
      ],
      "metadata": {
        "id": "Oxugyh6sJg5I"
      },
      "execution_count": null,
      "outputs": []
    }
  ]
}