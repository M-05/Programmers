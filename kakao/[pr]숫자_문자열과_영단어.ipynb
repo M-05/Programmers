{
  "nbformat": 4,
  "nbformat_minor": 0,
  "metadata": {
    "colab": {
      "provenance": []
    },
    "kernelspec": {
      "name": "python3",
      "display_name": "Python 3"
    },
    "language_info": {
      "name": "python"
    }
  },
  "cells": [
    {
      "cell_type": "markdown",
      "source": [
        "# [숫자 문자열과 영단어](https://school.programmers.co.kr/learn/courses/30/lessons/81301)\n",
        "### 2021 카카오 채용연계형 인턴십"
      ],
      "metadata": {
        "id": "U_fpOSWETSyT"
      }
    },
    {
      "cell_type": "code",
      "source": [
        "\"one4seveneight\""
      ],
      "metadata": {
        "colab": {
          "base_uri": "https://localhost:8080/",
          "height": 35
        },
        "id": "u5ouhPiHTS1N",
        "outputId": "9561dc6d-b52f-45f2-ded8-4324f3d28cdf"
      },
      "execution_count": null,
      "outputs": [
        {
          "output_type": "execute_result",
          "data": {
            "text/plain": [
              "'one4seveneight'"
            ],
            "application/vnd.google.colaboratory.intrinsic+json": {
              "type": "string"
            }
          },
          "metadata": {},
          "execution_count": 39
        }
      ]
    },
    {
      "cell_type": "code",
      "source": [
        "string = \"one4seveneight\""
      ],
      "metadata": {
        "id": "AZeFbuppTTKl"
      },
      "execution_count": null,
      "outputs": []
    },
    {
      "cell_type": "code",
      "source": [
        "numbers = {'zero':0, 'one':1, 'two':2, 'three':3, 'four':4, 'five':5, 'six':6, 'seven':7, 'eight':8, 'nine':9}"
      ],
      "metadata": {
        "id": "1OxlaXIETvd6"
      },
      "execution_count": null,
      "outputs": []
    },
    {
      "cell_type": "code",
      "source": [
        "number = []"
      ],
      "metadata": {
        "id": "4alJqxvhUKqx"
      },
      "execution_count": null,
      "outputs": []
    },
    {
      "cell_type": "code",
      "source": [
        "for i in range(len(string)):\n",
        "    for j in range(3,5+1):\n",
        "        if string[i:i+j] in numbers:\n",
        "            number.append(string[i:i+j])"
      ],
      "metadata": {
        "id": "mhspw9GWTVhO"
      },
      "execution_count": null,
      "outputs": []
    },
    {
      "cell_type": "code",
      "source": [
        "number"
      ],
      "metadata": {
        "colab": {
          "base_uri": "https://localhost:8080/"
        },
        "id": "RdbtA2s7UQXt",
        "outputId": "c686f06a-4475-43ae-fa49-eedd16111d37"
      },
      "execution_count": null,
      "outputs": [
        {
          "output_type": "execute_result",
          "data": {
            "text/plain": [
              "['one', 'seven', 'eight']"
            ]
          },
          "metadata": {},
          "execution_count": 49
        }
      ]
    },
    {
      "cell_type": "code",
      "source": [
        "for i in number:\n",
        "    string = string.replace(i, str(numbers[i]))"
      ],
      "metadata": {
        "id": "OytNlFkQUgI8"
      },
      "execution_count": null,
      "outputs": []
    },
    {
      "cell_type": "code",
      "source": [
        "int(string)"
      ],
      "metadata": {
        "colab": {
          "base_uri": "https://localhost:8080/"
        },
        "id": "OD96xc1oU8ER",
        "outputId": "9e6a2c33-dab2-4660-b6c1-94e7c13f148f"
      },
      "execution_count": null,
      "outputs": [
        {
          "output_type": "execute_result",
          "data": {
            "text/plain": [
              "1478"
            ]
          },
          "metadata": {},
          "execution_count": 56
        }
      ]
    },
    {
      "cell_type": "code",
      "source": [
        "def solution(s):\n",
        "    numbers_dict = {'zero':0, 'one':1, 'two':2, 'three':3, 'four':4, 'five':5, 'six':6, 'seven':7, 'eight':8, 'nine':9}\n",
        "    numbers = []\n",
        "    for i in range(len(s)):\n",
        "        for j in range(3,5+1):\n",
        "            if s[i:i+j] in numbers_dict:\n",
        "                numbers.append(s[i:i+j])\n",
        "    for i in numbers:\n",
        "        s = s.replace(i, str(numbers_dict[i]))\n",
        "    return int(s)"
      ],
      "metadata": {
        "id": "7j3WCkH3VBwF"
      },
      "execution_count": null,
      "outputs": []
    },
    {
      "cell_type": "code",
      "source": [
        "def solution(s):\n",
        "    numbers_dict = {'zero':0, 'one':1, 'two':2, 'three':3, 'four':4, 'five':5, 'six':6, 'seven':7, 'eight':8, 'nine':9}\n",
        "    for i in range(len(s)):\n",
        "        for j in range(3,5+1):\n",
        "            if s[i:i+j] in numbers_dict:\n",
        "                s = s.replace(s[i:i+j], str(numbers_dict[s[i:i+j]]))\n",
        "    return int(s)"
      ],
      "metadata": {
        "id": "h8etOCpgWpel"
      },
      "execution_count": null,
      "outputs": []
    },
    {
      "cell_type": "markdown",
      "source": [
        "---\n",
        "---\n",
        "---\n"
      ],
      "metadata": {
        "id": "G2FTI7rqXd1j"
      }
    },
    {
      "cell_type": "code",
      "source": [
        "num_dic = {\"zero\":\"0\", \"one\":\"1\", \"two\":\"2\", \"three\":\"3\", \"four\":\"4\", \"five\":\"5\", \"six\":\"6\", \"seven\":\"7\", \"eight\":\"8\", \"nine\":\"9\"}\n",
        "\n",
        "def solution(s):\n",
        "    answer = s\n",
        "    for key, value in num_dic.items():\n",
        "        answer = answer.replace(key, value)\n",
        "    return int(answer)"
      ],
      "metadata": {
        "id": "inSoFGz-Xez-"
      },
      "execution_count": null,
      "outputs": []
    },
    {
      "cell_type": "code",
      "source": [],
      "metadata": {
        "id": "4iPPkIIHXp2u"
      },
      "execution_count": null,
      "outputs": []
    },
    {
      "cell_type": "code",
      "source": [
        "def solution(s):\n",
        "    words = ['zero', 'one', 'two', 'three', 'four', 'five', 'six', 'seven', 'eight', 'nine']\n",
        "\n",
        "    for i in range(len(words)):\n",
        "        s = s.replace(words[i], str(i))\n",
        "\n",
        "    return int(s)"
      ],
      "metadata": {
        "id": "fTQYpp2xXp90"
      },
      "execution_count": null,
      "outputs": []
    },
    {
      "cell_type": "code",
      "source": [],
      "metadata": {
        "id": "-8Oy5SydXvSE"
      },
      "execution_count": null,
      "outputs": []
    },
    {
      "cell_type": "code",
      "source": [
        "import re\n",
        "def solution(s):\n",
        "    s = re.sub('zero', '0', s)\n",
        "    s = re.sub('one', '1', s)\n",
        "    s = re.sub('two', '2', s)\n",
        "    s = re.sub('three', '3', s)\n",
        "    s = re.sub('four', '4', s)\n",
        "    s = re.sub('five', '5', s)\n",
        "    s = re.sub('six', '6', s)\n",
        "    s = re.sub('seven', '7', s)\n",
        "    s = re.sub('eight', '8', s)\n",
        "    s = re.sub('nine', '9', s)\n",
        "    return int(s)"
      ],
      "metadata": {
        "id": "PIW72nQNXvUn"
      },
      "execution_count": null,
      "outputs": []
    }
  ]
}