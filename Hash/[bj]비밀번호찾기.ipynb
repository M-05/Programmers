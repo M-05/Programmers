{
  "nbformat": 4,
  "nbformat_minor": 0,
  "metadata": {
    "colab": {
      "provenance": []
    },
    "kernelspec": {
      "name": "python3",
      "display_name": "Python 3"
    },
    "language_info": {
      "name": "python"
    }
  },
  "cells": [
    {
      "cell_type": "markdown",
      "source": [
        "https://www.acmicpc.net/problem/17219\n",
        "\n",
        "2019 HEPC - MAVEN League의 \"비밀번호 만들기\"와 같은 방식으로 비밀번호를 만든 경민이는 한 가지 문제점을 발견하였다.  \n",
        "비밀번호가 랜덤으로 만들어져서 기억을 못 한다는 것이었다!  \n",
        "그래서 경민이는 __메모장에 사이트의 주소와 비밀번호를 저장__해두기로 했다.  \n",
        "하지만 컴맹인 경민이는 메모장에서 찾기 기능을 활용하지 못하고 직접 눈으로 사이트의 주소와 비밀번호를 찾았다.  \n",
        "메모장에 저장된 __사이트의 수가 늘어나면서 경민이는 비밀번호를 찾는 일에 시간을 너무 많이 쓰게 되었다.__\n",
        "\n",
        " 이를 딱하게 여긴 문석이는 경민이를 위해 메모장에서 비밀번호를 찾는 프로그램을 만들기로 결심하였다!  \n",
        " 문석이를 도와 경민이의 메모장에서 비밀번호를 찾아주는 프로그램을 만들어보자."
      ],
      "metadata": {
        "id": "xP6wVg_RVszJ"
      }
    },
    {
      "cell_type": "markdown",
      "source": [
        "첫째 줄에  \n",
        "저장된 사이트 주소의 수 N(1 ≤ N ≤ 100,000)과  \n",
        "비밀번호를 찾으려는 사이트 주소의 수 M(1 ≤ M ≤ 100,000)이 주어진다.\n",
        "\n",
        "두번째 줄부터  \n",
        "N개의 줄에 걸쳐 각 줄에 사이트 주소와 비밀번호가 `공백`으로 구분되어 주어진다.  \n",
        "`사이트 주소`는 `알파벳 소문자, 알파벳 대문자, 대시('-'), 마침표('.')`로 이루어져 있고, `중복되지 않는다.`\n",
        "\n",
        " `비밀번호`는 알파벳 `대문자`로만 이루어져 있다. 모두 길이는 `최대 20자`이다.\n",
        "\n",
        "`N + 2번째` 줄부터 `M개의 줄`에 걸쳐 비밀번호를 찾으려는 `사이트 주소가 한줄에 하나씩 입력`된다.  \n",
        "이때, 반드시 이미 저장된 사이트 주소가 입력된다."
      ],
      "metadata": {
        "id": "b572wJOobNri"
      }
    },
    {
      "cell_type": "code",
      "source": [
        "# 첫 번째 줄부터 M개의 줄에 걸쳐\n",
        "# 비밀번호를 찾으려는 사이트 주소의 비밀번호를 차례대로\n",
        "# 각 줄에 하나씩 출력한다."
      ],
      "metadata": {
        "id": "wBZq1KAsbPQk"
      },
      "execution_count": null,
      "outputs": []
    },
    {
      "cell_type": "code",
      "source": [
        "temp = ['16', '4',\n",
        "'noj.am', 'IU', #  사이트 주소와 비밀번호가 공백으로 구분\n",
        "'acmicpc.net', 'UAENA', # 비밀번호는 알파벳 대문자, 최대 20자\n",
        "'startlink.io', 'THEKINGOD',\n",
        "'google.com', 'ZEZE',\n",
        "'nate.com', 'VOICEMAIL',\n",
        "'naver.com', 'REDQUEEN',\n",
        "'daum.net', 'MODERNTIMES',\n",
        "'utube.com', 'BLACKOUT',\n",
        "'zum.com', 'LASTFANTASY',\n",
        "'dreamwiz.com', 'RAINDROP',\n",
        "'hanyang.ac.kr', 'SOMEDAY',\n",
        "'dhlottery.co.kr', 'BOO',\n",
        "'duksoo.hs.kr', 'HAVANA',\n",
        "'hanyang-u.ms.kr', 'OBLIVIATE',\n",
        "'yd.es.kr', 'LOVEATTACK',\n",
        "'mcc.hanyang.ac.kr', 'ADREAMER',\n",
        "'startlink.io', # N + 2 = 18 비밀번호를 찾으려는 사이트 주소\n",
        "'acmicpc.net',\n",
        "'noj.am',\n",
        "'mcc.hanyang.ac.kr']"
      ],
      "metadata": {
        "id": "FQRBoTE2bPUi"
      },
      "execution_count": null,
      "outputs": []
    },
    {
      "cell_type": "code",
      "source": [],
      "metadata": {
        "id": "nA2gg25ujH3J"
      },
      "execution_count": null,
      "outputs": []
    },
    {
      "cell_type": "code",
      "source": [
        "#######################\n",
        "# input --> EOF Error\n",
        "#######################\n",
        "\n",
        "from time import time\n",
        "\n",
        "input_data = []\n",
        "\n",
        "while True:\n",
        "    input_line = input()\n",
        "    if input_line:\n",
        "        input_data += input_line.split()\n",
        "    else:\n",
        "        break\n",
        "\n",
        "start = time()\n",
        "\n",
        "data_dict = {}\n",
        "\n",
        "n, m = int(input_data[0]), int(input_data[1])\n",
        "for i in range(2, n *2 +2, 2):\n",
        "    data_dict[input_data[i]] = input_data[i+1]\n",
        "\n",
        "for i in range(n *2 +2, len(input_data)):\n",
        "    print(data_dict[input_data[i]])\n",
        "\n",
        "print(time() - start, 'seconds')"
      ],
      "metadata": {
        "colab": {
          "base_uri": "https://localhost:8080/"
        },
        "id": "02eX-e5eXRZ_",
        "outputId": "2fc8475a-8eef-40eb-a3b5-3aa4cee74a41"
      },
      "execution_count": 112,
      "outputs": [
        {
          "output_type": "stream",
          "name": "stdout",
          "text": [
            "16 4\n",
            "noj.am IU\n",
            "acmicpc.net UAENA\n",
            "startlink.io THEKINGOD\n",
            "google.com ZEZE\n",
            "nate.com VOICEMAIL\n",
            "naver.com REDQUEEN\n",
            "daum.net MODERNTIMES\n",
            "utube.com BLACKOUT\n",
            "zum.com LASTFANTASY\n",
            "dreamwiz.com RAINDROP\n",
            "hanyang.ac.kr SOMEDAY\n",
            "dhlottery.co.kr BOO\n",
            "duksoo.hs.kr HAVANA\n",
            "hanyang-u.ms.kr OBLIVIATE\n",
            "yd.es.kr LOVEATTACK\n",
            "mcc.hanyang.ac.kr ADREAMER\n",
            "startlink.io\n",
            "acmicpc.net\n",
            "noj.am\n",
            "mcc.hanyang.ac.kr\n",
            "\n",
            "THEKINGOD\n",
            "UAENA\n",
            "IU\n",
            "ADREAMER\n",
            "0.003040790557861328 seconds\n"
          ]
        }
      ]
    },
    {
      "cell_type": "code",
      "source": [
        "#######################\n",
        "# sys.stdin.readline() 시간 초과\n",
        "#######################\n",
        "\n",
        "from time import time\n",
        "import sys\n",
        "\n",
        "input_data = []\n",
        "\n",
        "while True:\n",
        "    input_line = sys.stdin.readline()\n",
        "    try :\n",
        "        input_data += input_line.split()\n",
        "    except EOFError:\n",
        "        break\n",
        "\n",
        "start = time()\n",
        "\n",
        "data_dict = {}\n",
        "\n",
        "n, m = int(input_data[0]), int(input_data[1])\n",
        "for i in range(2, n *2 +2, 2):\n",
        "    data_dict[input_data[i]] = input_data[i+1]\n",
        "\n",
        "for i in range(n *2 +2, len(input_data)):\n",
        "    print(data_dict[input_data[i]])\n",
        "\n",
        "print(time() - start, 'seconds')"
      ],
      "metadata": {
        "id": "KxgWbpCwg62Q"
      },
      "execution_count": null,
      "outputs": []
    },
    {
      "cell_type": "code",
      "source": [
        "print('THEKINGOD')"
      ],
      "metadata": {
        "colab": {
          "base_uri": "https://localhost:8080/"
        },
        "id": "NHo1-zXRn02N",
        "outputId": "5ec4cd29-7d90-4ed3-e723-23b8f4f20863"
      },
      "execution_count": 117,
      "outputs": [
        {
          "output_type": "stream",
          "name": "stdout",
          "text": [
            "THEKINGOD\n"
          ]
        }
      ]
    },
    {
      "cell_type": "code",
      "source": [
        "#######################\n",
        "# answer = '' 시간 초과\n",
        "#######################\n",
        "\n",
        "# from time import time\n",
        "import sys\n",
        "\n",
        "input_data = []\n",
        "\n",
        "while True:\n",
        "    input_line = sys.stdin.readline()\n",
        "    try :\n",
        "        input_data += input_line.split()\n",
        "    except EOFError:\n",
        "        break\n",
        "\n",
        "# start = time()\n",
        "\n",
        "data_dict = {}\n",
        "answer = ''\n",
        "n, m = int(input_data[0]), int(input_data[1])\n",
        "for i in range(2, n *2 +2, 2):\n",
        "    data_dict[input_data[i]] = input_data[i+1]\n",
        "\n",
        "for i in range(n *2 +2, len(input_data)):\n",
        "    answer += data_dict[input_data[i]]\n",
        "print(answer)\n",
        "\n",
        "# print(time() - start, 'seconds')"
      ],
      "metadata": {
        "id": "3wWKWOa8oD-p"
      },
      "execution_count": null,
      "outputs": []
    },
    {
      "cell_type": "code",
      "source": [
        "#######################\n",
        "# input -> EOFError\n",
        "#######################\n",
        "\n",
        "data_dict = {}\n",
        "data_list = []\n",
        "\n",
        "while True:\n",
        "    data = input().split()\n",
        "    if not data:\n",
        "        break\n",
        "    if len(data) == 2:\n",
        "        data_dict[data[0]] = data[1]\n",
        "    else:\n",
        "        data_list += data\n",
        "\n",
        "m = int(data_dict[list(data_dict.keys())[0]])\n",
        "\n",
        "answer = ''\n",
        "for i in range(m):\n",
        "    answer += data_dict[data_list[i]] + '\\n'\n",
        "print(answer)"
      ],
      "metadata": {
        "id": "MJhnd6My0GCm"
      },
      "execution_count": null,
      "outputs": []
    },
    {
      "cell_type": "code",
      "source": [
        "#######################\n",
        "# 60,444 kb, 4120ms\n",
        "#######################\n",
        "\n",
        "import sys\n",
        "\n",
        "data_dict = {}\n",
        "data_list = []\n",
        "\n",
        "while True:\n",
        "    data = sys.stdin.readline().split()\n",
        "    # ['16', '5']\n",
        "    # ['noj.am', 'IU']\n",
        "    if not data:\n",
        "        break\n",
        "    if len(data) == 2:\n",
        "        data_dict[data[0]] = data[1]\n",
        "        # data_dict['16'] = '5'\n",
        "        # data_dict['noj.am'] = 'IU'\n",
        "    else:\n",
        "        data_list += data\n",
        "        # ['noj.am', 'nate.com']\n",
        "\n",
        "m = int(data_dict[list(data_dict.keys())[0]])\n",
        "# ['16', 'noj.am'][0]\n",
        "\n",
        "answer = ''\n",
        "for i in range(m): # range(5)\n",
        "    answer += data_dict[data_list[i]] + '\\n'\n",
        "    # data_dict['noj.am'] + \\n\n",
        "print(answer) # IU"
      ],
      "metadata": {
        "id": "7gOngC8G0GER"
      },
      "execution_count": null,
      "outputs": []
    },
    {
      "cell_type": "markdown",
      "source": [
        "---\n",
        "---\n",
        "---"
      ],
      "metadata": {
        "id": "gxXuKskt_9iO"
      }
    },
    {
      "cell_type": "code",
      "source": [
        "from sys import stdin, stdout\n",
        "from itertools import islice\n",
        "\n",
        "n, m = map(int, stdin.readline().split()) # 16, 5\n",
        "\n",
        "#splitlines() 메서드는 문자열을 줄 바꿈 문자(\\n)를 기준으로 분할하여 각 줄을 리스트의 요소로 저장\n",
        "arr = stdin.read().splitlines() # 문자\n",
        "\n",
        "# islice(arr, n)는 arr 리스트의 처음부터 n개의 요소를 추출하는 것\n",
        "passwords = dict(map(lambda x: x.split(), islice(arr, n)))\n",
        "ans = [passwords[i] for i in islice(arr, n, None)]\n",
        "\n",
        "stdout.write(\"\\n\".join(ans))"
      ],
      "metadata": {
        "id": "vaFzQKLt_9j7"
      },
      "execution_count": null,
      "outputs": []
    },
    {
      "cell_type": "code",
      "source": [
        "# islice(iterable, start, stop[, step])\n",
        "# iterable = arr\n",
        "# start = n\n",
        "# stop = None -> 끝까지"
      ],
      "metadata": {
        "id": "_3ybogh2SwIf"
      },
      "execution_count": null,
      "outputs": []
    },
    {
      "cell_type": "code",
      "source": [
        "from sys import stdin, stdout\n",
        "\n",
        "stdout.write('ho')"
      ],
      "metadata": {
        "colab": {
          "base_uri": "https://localhost:8080/"
        },
        "id": "cHAyZa28Olvb",
        "outputId": "7644d73c-1287-4156-b637-b2acaeac63c6"
      },
      "execution_count": 173,
      "outputs": [
        {
          "output_type": "stream",
          "name": "stdout",
          "text": [
            "ho"
          ]
        }
      ]
    },
    {
      "cell_type": "code",
      "source": [
        "stdout.write('ho')\n",
        "\n",
        "# print() 문은 개행문자를 자동 삽입하여 좀 더 느리다.\n",
        "\n",
        "# write()를 쓰더라도 개행을 추가 할 수 있으니 이것을 쓰는 것이 좋다 ."
      ],
      "metadata": {
        "colab": {
          "base_uri": "https://localhost:8080/"
        },
        "id": "S4bKrHlhTskv",
        "outputId": "88605c22-97a2-4c52-844c-ed75a88c073f"
      },
      "execution_count": 197,
      "outputs": [
        {
          "output_type": "stream",
          "name": "stdout",
          "text": [
            "ho"
          ]
        }
      ]
    },
    {
      "cell_type": "code",
      "source": [
        "print('ho\\n')"
      ],
      "metadata": {
        "colab": {
          "base_uri": "https://localhost:8080/"
        },
        "id": "qkuotpshTw-y",
        "outputId": "9d4eeb05-95ed-4fde-9c00-262065a567af"
      },
      "execution_count": 194,
      "outputs": [
        {
          "output_type": "stream",
          "name": "stdout",
          "text": [
            "ho\n",
            "\n"
          ]
        }
      ]
    },
    {
      "cell_type": "code",
      "source": [
        "n, m = map(int, input().split())\n",
        "arr = []\n",
        "for _ in range(n):\n",
        "    arr.append(input())\n",
        "    # ['yd.es.kr LOVEATTACK',\n",
        "    #  'mcc.hanyang.ac.kr ADREAMER',\n",
        "    #  'startlink.io THEKINGOD',\n",
        "    #  'noj.am IU',\n",
        "    #  'startlink.io',\n",
        "passwords = {}\n",
        "for line in arr[:n]: # ['yd.es.kr LOVEATTACK',\n",
        "    id, pw = line.split() # ['yd.es.kr', 'LOVEATTACK']\n",
        "    passwords[id] = pw # {'yd.es.kr'} = 'LOVEATTACK'\n",
        "ans = [passwords[i] for i in arr[n:]] # ['noj.am IU', 'startlink.io',\n",
        "print(\"\\n\".join(ans))"
      ],
      "metadata": {
        "colab": {
          "base_uri": "https://localhost:8080/",
          "height": 715
        },
        "id": "yK3E9w8lPYrH",
        "outputId": "c870b357-e33b-4e55-8b3d-28634e432458"
      },
      "execution_count": 179,
      "outputs": [
        {
          "name": "stdout",
          "output_type": "stream",
          "text": [
            "16 5\n",
            "yd.es.kr LOVEATTACK\n",
            "mcc.hanyang.ac.kr ADREAMER\n",
            "startlink.io THEKINGOD\n",
            "noj.am IU\n",
            "startlink.io\n",
            "noj.am\n",
            "\n",
            "\n",
            "\n",
            "\n",
            "\n",
            "\n",
            "\n",
            "\n",
            " \n"
          ]
        },
        {
          "output_type": "error",
          "ename": "KeyboardInterrupt",
          "evalue": "ignored",
          "traceback": [
            "\u001b[0;31m---------------------------------------------------------------------------\u001b[0m",
            "\u001b[0;31mKeyboardInterrupt\u001b[0m                         Traceback (most recent call last)",
            "\u001b[0;32m<ipython-input-179-b1998e555d05>\u001b[0m in \u001b[0;36m<cell line: 3>\u001b[0;34m()\u001b[0m\n\u001b[1;32m      2\u001b[0m \u001b[0marr\u001b[0m \u001b[0;34m=\u001b[0m \u001b[0;34m[\u001b[0m\u001b[0;34m]\u001b[0m\u001b[0;34m\u001b[0m\u001b[0;34m\u001b[0m\u001b[0m\n\u001b[1;32m      3\u001b[0m \u001b[0;32mfor\u001b[0m \u001b[0m_\u001b[0m \u001b[0;32min\u001b[0m \u001b[0mrange\u001b[0m\u001b[0;34m(\u001b[0m\u001b[0mn\u001b[0m\u001b[0;34m)\u001b[0m\u001b[0;34m:\u001b[0m\u001b[0;34m\u001b[0m\u001b[0;34m\u001b[0m\u001b[0m\n\u001b[0;32m----> 4\u001b[0;31m     \u001b[0marr\u001b[0m\u001b[0;34m.\u001b[0m\u001b[0mappend\u001b[0m\u001b[0;34m(\u001b[0m\u001b[0minput\u001b[0m\u001b[0;34m(\u001b[0m\u001b[0;34m)\u001b[0m\u001b[0;34m)\u001b[0m\u001b[0;34m\u001b[0m\u001b[0;34m\u001b[0m\u001b[0m\n\u001b[0m\u001b[1;32m      5\u001b[0m \u001b[0mpasswords\u001b[0m \u001b[0;34m=\u001b[0m \u001b[0;34m{\u001b[0m\u001b[0;34m}\u001b[0m\u001b[0;34m\u001b[0m\u001b[0;34m\u001b[0m\u001b[0m\n\u001b[1;32m      6\u001b[0m \u001b[0;32mfor\u001b[0m \u001b[0mline\u001b[0m \u001b[0;32min\u001b[0m \u001b[0marr\u001b[0m\u001b[0;34m[\u001b[0m\u001b[0;34m:\u001b[0m\u001b[0mn\u001b[0m\u001b[0;34m]\u001b[0m\u001b[0;34m:\u001b[0m\u001b[0;34m\u001b[0m\u001b[0;34m\u001b[0m\u001b[0m\n",
            "\u001b[0;32m/usr/local/lib/python3.10/dist-packages/ipykernel/kernelbase.py\u001b[0m in \u001b[0;36mraw_input\u001b[0;34m(self, prompt)\u001b[0m\n\u001b[1;32m    849\u001b[0m                 \u001b[0;34m\"raw_input was called, but this frontend does not support input requests.\"\u001b[0m\u001b[0;34m\u001b[0m\u001b[0;34m\u001b[0m\u001b[0m\n\u001b[1;32m    850\u001b[0m             )\n\u001b[0;32m--> 851\u001b[0;31m         return self._input_request(str(prompt),\n\u001b[0m\u001b[1;32m    852\u001b[0m             \u001b[0mself\u001b[0m\u001b[0;34m.\u001b[0m\u001b[0m_parent_ident\u001b[0m\u001b[0;34m,\u001b[0m\u001b[0;34m\u001b[0m\u001b[0;34m\u001b[0m\u001b[0m\n\u001b[1;32m    853\u001b[0m             \u001b[0mself\u001b[0m\u001b[0;34m.\u001b[0m\u001b[0m_parent_header\u001b[0m\u001b[0;34m,\u001b[0m\u001b[0;34m\u001b[0m\u001b[0;34m\u001b[0m\u001b[0m\n",
            "\u001b[0;32m/usr/local/lib/python3.10/dist-packages/ipykernel/kernelbase.py\u001b[0m in \u001b[0;36m_input_request\u001b[0;34m(self, prompt, ident, parent, password)\u001b[0m\n\u001b[1;32m    893\u001b[0m             \u001b[0;32mexcept\u001b[0m \u001b[0mKeyboardInterrupt\u001b[0m\u001b[0;34m:\u001b[0m\u001b[0;34m\u001b[0m\u001b[0;34m\u001b[0m\u001b[0m\n\u001b[1;32m    894\u001b[0m                 \u001b[0;31m# re-raise KeyboardInterrupt, to truncate traceback\u001b[0m\u001b[0;34m\u001b[0m\u001b[0;34m\u001b[0m\u001b[0m\n\u001b[0;32m--> 895\u001b[0;31m                 \u001b[0;32mraise\u001b[0m \u001b[0mKeyboardInterrupt\u001b[0m\u001b[0;34m(\u001b[0m\u001b[0;34m\"Interrupted by user\"\u001b[0m\u001b[0;34m)\u001b[0m \u001b[0;32mfrom\u001b[0m \u001b[0;32mNone\u001b[0m\u001b[0;34m\u001b[0m\u001b[0;34m\u001b[0m\u001b[0m\n\u001b[0m\u001b[1;32m    896\u001b[0m             \u001b[0;32mexcept\u001b[0m \u001b[0mException\u001b[0m \u001b[0;32mas\u001b[0m \u001b[0me\u001b[0m\u001b[0;34m:\u001b[0m\u001b[0;34m\u001b[0m\u001b[0;34m\u001b[0m\u001b[0m\n\u001b[1;32m    897\u001b[0m                 \u001b[0mself\u001b[0m\u001b[0;34m.\u001b[0m\u001b[0mlog\u001b[0m\u001b[0;34m.\u001b[0m\u001b[0mwarning\u001b[0m\u001b[0;34m(\u001b[0m\u001b[0;34m\"Invalid Message:\"\u001b[0m\u001b[0;34m,\u001b[0m \u001b[0mexc_info\u001b[0m\u001b[0;34m=\u001b[0m\u001b[0;32mTrue\u001b[0m\u001b[0;34m)\u001b[0m\u001b[0;34m\u001b[0m\u001b[0;34m\u001b[0m\u001b[0m\n",
            "\u001b[0;31mKeyboardInterrupt\u001b[0m: Interrupted by user"
          ]
        }
      ]
    },
    {
      "cell_type": "code",
      "source": [],
      "metadata": {
        "id": "VUNjdjDGAYFQ"
      },
      "execution_count": null,
      "outputs": []
    }
  ]
}