{
  "nbformat": 4,
  "nbformat_minor": 0,
  "metadata": {
    "colab": {
      "provenance": []
    },
    "kernelspec": {
      "name": "python3",
      "display_name": "Python 3"
    },
    "language_info": {
      "name": "python"
    }
  },
  "cells": [
    {
      "cell_type": "markdown",
      "source": [
        "# [스택수열 1874](https://www.acmicpc.net/problem/1874)\n",
        "\n",
        "> n (1 ≤ n ≤ 100,000)\n",
        "\n",
        "- 자료 구조\n",
        "- 스택\n",
        "\n",
        "push하는 순서는 반드시 오름차순을 지키도록 한다고 하자  \n",
        "\n",
        "return  \n",
        "push연산은 +로,  \n",
        "pop 연산은 -로 표현하도록 한다.  \n",
        "불가능한 경우 NO를 출력"
      ],
      "metadata": {
        "id": "72K2FjWMga1U"
      }
    },
    {
      "cell_type": "code",
      "execution_count": 2,
      "metadata": {
        "id": "5A6r_w2JgZ52"
      },
      "outputs": [],
      "source": [
        "import sys\n",
        "\n",
        "with open('./bj.txt', 'w') as f:\n",
        "#     f.write('''8\n",
        "# 4\n",
        "# 3\n",
        "# 6\n",
        "# 8\n",
        "# 7\n",
        "# 5\n",
        "# 2\n",
        "# 1''')\n",
        "    f.write('''5\n",
        "1\n",
        "2\n",
        "5\n",
        "3\n",
        "4''')\n",
        "\n",
        "sys.stdin = open('./bj.txt', 'r')\n",
        "input = sys.stdin.readline\n",
        "\n",
        "n = int(input())\n",
        "datas = [int(input()) for _ in range(n)]"
      ]
    },
    {
      "cell_type": "code",
      "source": [
        "datas"
      ],
      "metadata": {
        "colab": {
          "base_uri": "https://localhost:8080/"
        },
        "id": "6Tusw_ebZmOE",
        "outputId": "991a454d-c24e-4d85-d771-43eae86d5fdc"
      },
      "execution_count": 7,
      "outputs": [
        {
          "output_type": "execute_result",
          "data": {
            "text/plain": [
              "[4, 3, 6, 8, 7, 5, 2, 1]"
            ]
          },
          "metadata": {},
          "execution_count": 7
        }
      ]
    },
    {
      "cell_type": "code",
      "source": [
        "stack = []\n",
        "cnt = 1\n",
        "answer = []\n",
        "\n",
        "for target in datas: # [4, 3, 6, 8, 7, 5, 2, 1]\n",
        "    while cnt <= target: # 타켓 번호 까지 cnt 증가.\n",
        "        stack.append(cnt)\n",
        "        cnt +=1\n",
        "        answer.append('+')\n",
        "\n",
        "    if stack[-1] == target:\n",
        "        stack.pop()\n",
        "        answer.append('-')\n",
        "\n",
        "    else:\n",
        "        print('NO')\n",
        "        exit() # 성공\n",
        "\n",
        "print('\\n'.join(answer))\n"
      ],
      "metadata": {
        "colab": {
          "base_uri": "https://localhost:8080/"
        },
        "id": "VPfvanQYOG_2",
        "outputId": "bbcf243c-983f-47bc-a6ab-94d4052fa83c"
      },
      "execution_count": 9,
      "outputs": [
        {
          "output_type": "stream",
          "name": "stdout",
          "text": [
            "+\n",
            "+\n",
            "+\n",
            "+\n",
            "-\n",
            "-\n",
            "+\n",
            "+\n",
            "-\n",
            "+\n",
            "+\n",
            "-\n",
            "-\n",
            "-\n",
            "-\n",
            "-\n"
          ]
        }
      ]
    },
    {
      "cell_type": "code",
      "source": [
        "stack = []\n",
        "cnt = 1\n",
        "answer = []\n",
        "\n",
        "for target in datas: # [4, 3, 6, 8, 7, 5, 2, 1]\n",
        "    while cnt <= target: # 타켓 번호 까지 cnt 증가.\n",
        "        stack.append(cnt)\n",
        "        cnt +=1\n",
        "        answer.append('+')\n",
        "\n",
        "    if stack[-1] == target:\n",
        "        stack.pop()\n",
        "        answer.append('-')\n",
        "\n",
        "    else:\n",
        "        print('NO')\n",
        "        exit(0)\n",
        "\n",
        "print('\\n'.join(answer))"
      ],
      "metadata": {
        "colab": {
          "base_uri": "https://localhost:8080/"
        },
        "id": "_K71qhaBwwC7",
        "outputId": "ba5a2cf0-db6d-46a9-c99a-adce59e4d9c7"
      },
      "execution_count": 3,
      "outputs": [
        {
          "output_type": "stream",
          "name": "stdout",
          "text": [
            "NO\n",
            "+\n",
            "-\n",
            "+\n",
            "-\n",
            "+\n",
            "+\n",
            "+\n",
            "-\n",
            "-\n"
          ]
        }
      ]
    },
    {
      "cell_type": "markdown",
      "source": [
        "---\n",
        "---\n"
      ],
      "metadata": {
        "id": "jn_UnDfKdWte"
      }
    },
    {
      "cell_type": "code",
      "source": [],
      "metadata": {
        "id": "rflYpw8vgrIN"
      },
      "execution_count": null,
      "outputs": []
    },
    {
      "cell_type": "code",
      "source": [
        "import sys\n",
        "\n",
        "def solution():\n",
        "    n, *nums = map(int, sys.stdin.buffer.read().splitlines())\n",
        "    stack, answer = [], []\n",
        "    now = 1\n",
        "    for num in nums:\n",
        "        while now <= num:\n",
        "            stack.append(now)\n",
        "            answer.append('+')\n",
        "            now += 1\n",
        "        if stack.pop() != num:\n",
        "            return 'NO'\n",
        "            break\n",
        "        answer.append('-')\n",
        "    return '\\n'.join(answer)\n",
        "\n",
        "print(solution())"
      ],
      "metadata": {
        "id": "C6JTxtongb5_"
      },
      "execution_count": null,
      "outputs": []
    }
  ]
}