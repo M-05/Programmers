{
  "nbformat": 4,
  "nbformat_minor": 0,
  "metadata": {
    "colab": {
      "provenance": []
    },
    "kernelspec": {
      "name": "python3",
      "display_name": "Python 3"
    },
    "language_info": {
      "name": "python"
    }
  },
  "cells": [
    {
      "cell_type": "markdown",
      "source": [
        "# [1260 DFS와 BFS](https://www.acmicpc.net/problem/1260)\n",
        "\n",
        "그래프를 DFS로 탐색한 결과와 BFS로 탐색한 결과를 출력하는 프로그램을 작성하시오.  \n",
        "단, 방문할 수 있는 정점이 여러 개인 경우에는 `정점 번호가 작은 것을 먼저 방문`하고,  \n",
        "더 이상 방문할 수 있는 점이 없는 경우 종료한다. 정점 번호는 1번부터 N번까지이다.\n",
        "\n",
        "첫째 줄에  \n",
        "`정점의 개수 N(1 ≤ N ≤ 1,000)`,\n",
        "\n",
        " `간선의 개수 M(1 ≤ M ≤ 10,000)`, 탐색을 시작할 정점의 번호 V가 주어진다.  \n",
        " 다음 M개의 줄에는 간선이 연결하는 두 정점의 번호가 주어진다.  \n",
        " 어떤 두 정점 사이에 여러 개의 간선이 있을 수 있다.  \n",
        " 입력으로 주어지는 `간선은 양방향`이다.\n",
        "\n",
        "첫째 줄에 DFS를 수행한 결과를, 그 다음 줄에는 BFS를 수행한 결과를 출력한다. V부터 방문된 점을 순서대로 출력하면 된다."
      ],
      "metadata": {
        "id": "arIlxNZVWUiL"
      }
    },
    {
      "cell_type": "code",
      "source": [
        "# Depth-First Search\n",
        "# Breadth-first search"
      ],
      "metadata": {
        "id": "poj_e_jKXeDV"
      },
      "execution_count": null,
      "outputs": []
    },
    {
      "cell_type": "code",
      "source": [
        "from time import time\n",
        "import sys\n",
        "import os\n",
        "\n",
        "with open('./bj.txt', 'w') as f:\n",
        "    f.write('''5 5 3\n",
        "5 4\n",
        "5 2\n",
        "1 2\n",
        "3 4\n",
        "3 1''')"
      ],
      "metadata": {
        "id": "lat0fTiXZgzW"
      },
      "execution_count": 48,
      "outputs": []
    },
    {
      "cell_type": "code",
      "source": [
        "import sys\n",
        "sys.stdin = open('./bj.txt')\n",
        "n, m, v =map(int, sys.stdin.readlines()[0].split())\n",
        "\n",
        "matrix = [[0] * (n+1) for _ in range(n+1)]\n",
        "\n",
        "sys.stdin = open('./bj.txt')\n",
        "inputs = sys.stdin.readlines()\n",
        "\n",
        "for i in range(1, m +1):\n",
        "    j, k = map(int, inputs[i].split())\n",
        "    matrix[j][k] = matrix[k][j] = 1\n",
        "\n",
        "visited = [False] * (n+1)\n",
        "dfs_stack = [v]\n",
        "\n",
        "def dfs(x):\n",
        "    visited[x] = True\n",
        "    for i in range(m+1):\n",
        "        if not visited[i] and (matrix[x][i] == 1):\n",
        "            dfs_stack.append(i)\n",
        "            dfs(i)\n",
        "dfs(v)\n",
        "\n",
        "bfs_stack = [v]\n",
        "\n",
        "def bfs(v):\n",
        "    for i in range(1, m+1):\n",
        "        if (i not in bfs_stack) and (matrix[v][i] == 1):\n",
        "            bfs_stack.append(i)\n",
        "            bfs(i)\n",
        "\n",
        "bfs(v)\n",
        "\n",
        "print(' '.join(map(str, dfs_stack)))\n",
        "print(' '.join(map(str, bfs_stack)))"
      ],
      "metadata": {
        "colab": {
          "base_uri": "https://localhost:8080/"
        },
        "id": "gvWIkduLkkwj",
        "outputId": "30ba686e-d46a-423f-be55-109bac72d54f"
      },
      "execution_count": 94,
      "outputs": [
        {
          "output_type": "stream",
          "name": "stdout",
          "text": [
            "3 1 2 5 4\n",
            "3 1 2 5 4\n"
          ]
        }
      ]
    },
    {
      "cell_type": "code",
      "source": [],
      "metadata": {
        "id": "jtu6wrstknAu"
      },
      "execution_count": null,
      "outputs": []
    },
    {
      "cell_type": "code",
      "source": [
        "sys.stdin = open('./bj.txt')\n",
        "n, m, v =map(int, sys.stdin.readlines()[0].split())"
      ],
      "metadata": {
        "id": "9gnDLhAfAj26"
      },
      "execution_count": 95,
      "outputs": []
    },
    {
      "cell_type": "code",
      "source": [
        "# n = 최대 숫자\n",
        "# m = 깊이\n",
        "# v = root 번호\n",
        "n, m, v"
      ],
      "metadata": {
        "colab": {
          "base_uri": "https://localhost:8080/"
        },
        "id": "T7cZzoQlXinR",
        "outputId": "9cc565f5-d304-4e68-dc75-cadc6b00f0ff"
      },
      "execution_count": 50,
      "outputs": [
        {
          "output_type": "execute_result",
          "data": {
            "text/plain": [
              "(5, 5, 3)"
            ]
          },
          "metadata": {},
          "execution_count": 50
        }
      ]
    },
    {
      "cell_type": "code",
      "source": [
        "matrix = [[0] * (n+1) for _ in range(n+1)]\n",
        "visited = [False] * (n+1)"
      ],
      "metadata": {
        "id": "j9GnpW4XloSu"
      },
      "execution_count": 96,
      "outputs": []
    },
    {
      "cell_type": "code",
      "source": [
        "for i in range(1, m +1):\n",
        "    sys.stdin = open('./bj.txt')\n",
        "    j, k = map(int, sys.stdin.readlines()[i].split())\n",
        "    matrix[j][k] = matrix[k][j] = 1"
      ],
      "metadata": {
        "id": "19qOHoOUYvdz"
      },
      "execution_count": 97,
      "outputs": []
    },
    {
      "cell_type": "code",
      "source": [
        "matrix"
      ],
      "metadata": {
        "colab": {
          "base_uri": "https://localhost:8080/"
        },
        "id": "k5rZkE_bmddk",
        "outputId": "d910d203-76bf-4566-a5c9-6882305e5c33"
      },
      "execution_count": 98,
      "outputs": [
        {
          "output_type": "execute_result",
          "data": {
            "text/plain": [
              "[[0, 0, 0, 0, 0, 0],\n",
              " [0, 0, 1, 1, 0, 0],\n",
              " [0, 1, 0, 0, 0, 1],\n",
              " [0, 1, 0, 0, 1, 0],\n",
              " [0, 0, 0, 1, 0, 1],\n",
              " [0, 0, 1, 0, 1, 0]]"
            ]
          },
          "metadata": {},
          "execution_count": 98
        }
      ]
    },
    {
      "cell_type": "code",
      "source": [
        "from collections import deque\n",
        "\n",
        "queue = deque()\n",
        "\n",
        "temp = []\n",
        "stack = []"
      ],
      "metadata": {
        "id": "j-Z8AhkLK-1I"
      },
      "execution_count": 42,
      "outputs": []
    },
    {
      "cell_type": "code",
      "source": [
        "matrix"
      ],
      "metadata": {
        "colab": {
          "base_uri": "https://localhost:8080/"
        },
        "id": "3W4wM9fnQG_a",
        "outputId": "0de888c3-2c54-4340-b6ce-07b8056c6061"
      },
      "execution_count": 41,
      "outputs": [
        {
          "output_type": "execute_result",
          "data": {
            "text/plain": [
              "[[0, 0, 0, 0, 0, 0],\n",
              " [0, 0, 1, 1, 0, 0],\n",
              " [0, 1, 0, 0, 0, 1],\n",
              " [0, 1, 0, 0, 1, 0],\n",
              " [0, 0, 0, 1, 0, 1],\n",
              " [0, 0, 1, 0, 1, 0]]"
            ]
          },
          "metadata": {},
          "execution_count": 41
        }
      ]
    },
    {
      "cell_type": "code",
      "source": [
        "stack = [v]\n",
        "stack"
      ],
      "metadata": {
        "colab": {
          "base_uri": "https://localhost:8080/"
        },
        "id": "OvrPYhPtTDdJ",
        "outputId": "62aa191f-6da2-42e5-c3ea-341ead226668"
      },
      "execution_count": 54,
      "outputs": [
        {
          "output_type": "execute_result",
          "data": {
            "text/plain": [
              "[3]"
            ]
          },
          "metadata": {},
          "execution_count": 54
        }
      ]
    },
    {
      "cell_type": "code",
      "source": [
        "visited"
      ],
      "metadata": {
        "colab": {
          "base_uri": "https://localhost:8080/"
        },
        "id": "6f-VcN8fXSdv",
        "outputId": "565def52-05a2-4856-bcf0-c0e834d0cacc"
      },
      "execution_count": 55,
      "outputs": [
        {
          "output_type": "execute_result",
          "data": {
            "text/plain": [
              "[False, False, False, False, False, False]"
            ]
          },
          "metadata": {},
          "execution_count": 55
        }
      ]
    },
    {
      "cell_type": "code",
      "source": [
        "def dfs(x):\n",
        "    visited[x] = True\n",
        "    for i in range(m+1):\n",
        "        if not visited[i] and (matrix[x][i] == 1):\n",
        "            stack.append(i)\n",
        "            dfs(i)\n",
        "dfs(v)"
      ],
      "metadata": {
        "id": "1qAwr-xUH0cw"
      },
      "execution_count": 58,
      "outputs": []
    },
    {
      "cell_type": "code",
      "source": [
        "stack"
      ],
      "metadata": {
        "colab": {
          "base_uri": "https://localhost:8080/"
        },
        "id": "Rc8T4Ve8PEJh",
        "outputId": "68912e90-5b4e-4b9a-8120-3b221e56b4dd"
      },
      "execution_count": 59,
      "outputs": [
        {
          "output_type": "execute_result",
          "data": {
            "text/plain": [
              "[3, 1, 2, 5, 4]"
            ]
          },
          "metadata": {},
          "execution_count": 59
        }
      ]
    },
    {
      "cell_type": "code",
      "source": [
        "visited = [False] * (n +1)\n",
        "stack = [v]"
      ],
      "metadata": {
        "id": "VhkoO8DZcrAU"
      },
      "execution_count": 130,
      "outputs": []
    },
    {
      "cell_type": "code",
      "source": [
        "def bfs(v):\n",
        "    visited[v] = True\n",
        "    temp = []\n",
        "    for i in range(1, m + 1):\n",
        "        if (not visited[i]) and (matrix[v][i] == 1):\n",
        "            stack.append(i)\n",
        "            temp.append(i)\n",
        "        if len(stack) == m:\n",
        "            return\n",
        "    for i in range(len(temp)):\n",
        "        bfs(temp[i])\n",
        "\n",
        "bfs(v)"
      ],
      "metadata": {
        "id": "EJBtAo23qX6T"
      },
      "execution_count": 131,
      "outputs": []
    },
    {
      "cell_type": "code",
      "source": [
        "stack"
      ],
      "metadata": {
        "colab": {
          "base_uri": "https://localhost:8080/"
        },
        "id": "YalU8SbGqmA7",
        "outputId": "39cfa96c-cee3-4f02-8dd5-4c9d22b2d6ee"
      },
      "execution_count": 132,
      "outputs": [
        {
          "output_type": "execute_result",
          "data": {
            "text/plain": [
              "[3, 1, 4, 2, 5]"
            ]
          },
          "metadata": {},
          "execution_count": 132
        }
      ]
    },
    {
      "cell_type": "code",
      "source": [
        "#\n",
        "# 틀렸다.\n",
        "#\n",
        "\n",
        "import sys\n",
        "n, m, v =map(int, input().split())\n",
        "\n",
        "matrix = [[0] * (n+1) for _ in range(n+1)]\n",
        "\n",
        "for i in range(m):\n",
        "    j, k = map(int, input().split())\n",
        "    matrix[j][k] = matrix[k][j] = 1\n",
        "#\n",
        "visited = [False] * (n+1)\n",
        "dfs_stack = [v]\n",
        "def dfs(x):\n",
        "    visited[x] = True\n",
        "    for i in range(n+1):\n",
        "        if (not visited[i]) and (matrix[x][i] == 1):\n",
        "            dfs_stack.append(i)\n",
        "            dfs(i)\n",
        "dfs(v)\n",
        "#\n",
        "visited = [False] * (n+1)\n",
        "bfs_stack = [v]\n",
        "def bfs(v):\n",
        "    visited[v] = True\n",
        "    temp = []\n",
        "    for i in range(1, n + 1):\n",
        "        if (not visited[i]) and (matrix[v][i] == 1):\n",
        "            bfs_stack.append(i)\n",
        "            temp.append(i)\n",
        "        if len(bfs_stack) == n: # 이게 문제점인듯.\n",
        "            return\n",
        "    for i in range(len(temp)):\n",
        "        bfs(temp[i])\n",
        "bfs(v)\n",
        "\n",
        "print(' '.join(map(str, dfs_stack)))\n",
        "print(' '.join(map(str, bfs_stack)))"
      ],
      "metadata": {
        "id": "uciacGHuwpbf"
      },
      "execution_count": null,
      "outputs": []
    },
    {
      "cell_type": "code",
      "source": [
        "##################\n",
        "# 38,396 kb, 552ms\n",
        "###################\n",
        "\n",
        "import sys\n",
        "n, m, v =map(int, input().split())\n",
        "\n",
        "matrix = [[0] * (n+1) for _ in range(n+1)]\n",
        "\n",
        "for i in range(m):\n",
        "    j, k = map(int, input().split())\n",
        "    matrix[j][k] = matrix[k][j] = 1\n",
        "#\n",
        "visited = [False] * (n+1)\n",
        "dfs_stack = [v]\n",
        "def dfs(x):\n",
        "    visited[x] = True\n",
        "    for i in range(n+1):\n",
        "        if (not visited[i]) and (matrix[x][i] == 1):\n",
        "            dfs_stack.append(i)\n",
        "            dfs(i)\n",
        "dfs(v)\n",
        "#\n",
        "bfs_stack = []\n",
        "visited = [False] * (n+1)\n",
        "def bfs(v):\n",
        "\t# 시작 노드 큐에 추가\n",
        "    queue = [v]\n",
        "    # 방문 노드 체크\n",
        "    visited[v] = True\n",
        "    # 큐가 빌때까지 반복\n",
        "    while (queue):\n",
        "    \t# 시작 노드 추출\n",
        "        v = queue[0]\n",
        "        bfs_stack.append(v)\n",
        "        # 시작 노드 제거\n",
        "        del queue[0]\n",
        "        for i in range(1, n + 1):\n",
        "        \t# 방문한적 없는 인접 노드 방문\n",
        "            if visited[i] == False and matrix[v][i] == 1:\n",
        "                queue.append(i)\n",
        "                visited[i] = True\n",
        "bfs(v)\n",
        "\n",
        "print(' '.join(map(str, dfs_stack)))\n",
        "print(' '.join(map(str, bfs_stack)))"
      ],
      "metadata": {
        "colab": {
          "base_uri": "https://localhost:8080/"
        },
        "id": "DREPf-c9xcLN",
        "outputId": "fa463f3c-24ae-4413-fd78-0e857757dc29"
      },
      "execution_count": 154,
      "outputs": [
        {
          "output_type": "stream",
          "name": "stdout",
          "text": [
            "4 5 1\n",
            "1 2\n",
            "1 3\n",
            "1 4\n",
            "2 4\n",
            "3 4\n",
            "1 2 4 3\n",
            "1 2 3 4\n"
          ]
        }
      ]
    },
    {
      "cell_type": "code",
      "source": [
        "##################\n",
        "# 39,552 kb, 144ms\n",
        "###################\n",
        "\n",
        "import sys\n",
        "n, m, v =map(int, input().split())\n",
        "\n",
        "matrix = [[0] * (n+1) for _ in range(n+1)]\n",
        "\n",
        "inputs = sys.stdin.readlines()\n",
        "\n",
        "for line in inputs:\n",
        "    j, k = map(int, line.split())\n",
        "    matrix[j][k] = matrix[k][j] = 1\n",
        "#\n",
        "visited = [False] * (n+1)\n",
        "dfs_stack = [v]\n",
        "def dfs(x):\n",
        "    visited[x] = True\n",
        "    for i in range(n+1):\n",
        "        if (not visited[i]) and (matrix[x][i] == 1):\n",
        "            dfs_stack.append(i)\n",
        "            dfs(i)\n",
        "dfs(v)\n",
        "#\n",
        "bfs_stack = [] # 3 + 1 + 4 + 2 + 5\n",
        "visited = [False] * (n+1)\n",
        "def bfs(v):\n",
        "\t# 시작 노드 큐에 추가\n",
        "    queue = [v]  # 3 -> 1, 4 -> 4, 2 -> 2, 5 -> 5\n",
        "    visited[v] = True\n",
        "    # 큐가 빌때까지 반복\n",
        "    while (queue):\n",
        "        v = queue[0]\n",
        "        bfs_stack.append(v)\n",
        "        # 시작 노드 제거\n",
        "        del queue[0]\n",
        "\n",
        "        for i in range(1, n + 1):\n",
        "        \t# 방문한적 없는 인접 노드 방문\n",
        "            if visited[i] == False and matrix[v][i] == 1:\n",
        "                queue.append(i)\n",
        "                visited[i] = True\n",
        "bfs(v)\n",
        "\n",
        "print(' '.join(map(str, dfs_stack)))\n",
        "print(' '.join(map(str, bfs_stack)))"
      ],
      "metadata": {
        "id": "pNfWCAPqyl2Z"
      },
      "execution_count": null,
      "outputs": []
    }
  ]
}