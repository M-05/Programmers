{
  "nbformat": 4,
  "nbformat_minor": 0,
  "metadata": {
    "colab": {
      "provenance": []
    },
    "kernelspec": {
      "name": "python3",
      "display_name": "Python 3"
    },
    "language_info": {
      "name": "python"
    }
  },
  "cells": [
    {
      "cell_type": "markdown",
      "source": [
        "# [개인정보 수집 유효기간](https://school.programmers.co.kr/learn/courses/30/lessons/150370)\n",
        "\n"
      ],
      "metadata": {
        "id": "tK7x_ngxmGGK"
      }
    },
    {
      "cell_type": "code",
      "source": [
        "today=\"2022.05.19\"\n",
        "terms= [\"A 6\", \"B 12\", \"C 3\"]\n",
        "privacies=[\"2021.05.02 A\", \"2021.07.01 B\", \"2022.02.19 C\", \"2022.02.20 C\"]\n",
        "# [1, 3]\n",
        "\n",
        "today=\"2020.01.01\"\n",
        "terms= [\"Z 3\", \"D 5\"]\n",
        "privacies= [\"2019.01.01 D\", \"2019.11.15 Z\", \"2019.08.02 D\", \"2019.07.01 D\", \"2018.12.28 Z\"]\n",
        "# [1, 4, 5]"
      ],
      "metadata": {
        "id": "JtZOX3ndidXL"
      },
      "execution_count": null,
      "outputs": []
    },
    {
      "cell_type": "code",
      "source": [
        "#####\n",
        "# 5점\n",
        "#####\n",
        "def solution(today, terms, privacies):\n",
        "    answer = []\n",
        "\n",
        "    today = list(map(int, today.split('.'))) # 2022, 5, 19\n",
        "    # today = ''.join(today.split('.')) + '>'\n",
        "    # print(today)\n",
        "    term_dict = {}\n",
        "\n",
        "    for term in terms:\n",
        "        term = term.split()\n",
        "        term_dict[term[0]] = int(term[-1])\n",
        "    # print(term_dict) # 'A' : 6\n",
        "\n",
        "    for idx, pr in enumerate(privacies, start=1):\n",
        "        pr = pr.split()\n",
        "        prs = list(map(int, pr[0].split('.')))\n",
        "\n",
        "        prs[1] += term_dict[pr[-1]] # month\n",
        "        prs[2] -= 1 #day\n",
        "\n",
        "        if prs[2] == 0: # 0이면 28로\n",
        "            prs[2] = 28\n",
        "\n",
        "        if prs[1] > 12: # 12월 초과시.\n",
        "            prs[0] += prs[1] // 12 # + year\n",
        "            prs[1] = prs[1] % 12 # month\n",
        "\n",
        "\n",
        "       # 오늘 날짜보다 작을 경우 idx 추가.\n",
        "        if (today[0] > prs[0]):\n",
        "            answer.append(idx)\n",
        "        elif (today[1] > prs[1]):\n",
        "            answer.append(idx)\n",
        "        elif (today[2] > prs[2]):\n",
        "            answer.append(idx)\n",
        "\n",
        "\n",
        "    return answer"
      ],
      "metadata": {
        "id": "PG0AEt_hidUd"
      },
      "execution_count": null,
      "outputs": []
    },
    {
      "cell_type": "code",
      "source": [
        "####\n",
        "# 30\n",
        "####\n",
        "from datetime import datetime\n",
        "\n",
        "def solution(today, terms, privacies):\n",
        "    answer = []\n",
        "\n",
        "    today = datetime.strptime(today, '%Y.%m.%d').strftime('%Y-%m-%d')\n",
        "\n",
        "    term_dict = {}\n",
        "\n",
        "    for term in terms:\n",
        "        term = term.split()\n",
        "        term_dict[term[0]] = int(term[-1])\n",
        "    # print(term_dict) # 'A' : 6\n",
        "\n",
        "    for idx, pr in enumerate(privacies, start=1):\n",
        "        pr = pr.split()\n",
        "        prs = list(map(int, pr[0].split('.')))\n",
        "\n",
        "        prs[1] += term_dict[pr[-1]] # month\n",
        "        prs[2] -= 1 #day\n",
        "\n",
        "        if prs[2] == 0: # 0이면 28로\n",
        "            prs[2] = 28\n",
        "\n",
        "        if prs[1] > 12: # 12월 초과시.\n",
        "            prs[0] += prs[1] // 12 # + year\n",
        "            prs[1] = prs[1] % 12 # month\n",
        "\n",
        "\n",
        "        prs = datetime(prs[0], prs[1], prs[2]).strftime('%Y-%m-%d')\n",
        "\n",
        "        # print(prs)\n",
        "\n",
        "        if today > prs:\n",
        "            answer.append(idx)\n",
        "\n",
        "\n",
        "    return answer"
      ],
      "metadata": {
        "id": "e7dIQYNLvPrY"
      },
      "execution_count": null,
      "outputs": []
    },
    {
      "cell_type": "code",
      "source": [
        "####\n",
        "# 90\n",
        "####\n",
        "def solution(today, terms, privacies):\n",
        "    answer = []\n",
        "\n",
        "    today = list(map(int, today.split('.'))) # 2022, 5, 19\n",
        "    # print(today)\n",
        "    term_dict = {}\n",
        "\n",
        "    for term in terms:\n",
        "        term = term.split()\n",
        "        term_dict[term[0]] = int(term[-1])\n",
        "    # print(term_dict) # 'A' : 6\n",
        "\n",
        "    for idx, pr in enumerate(privacies, start=1):\n",
        "        pr = pr.split()\n",
        "        prs = list(map(int, pr[0].split('.')))\n",
        "\n",
        "        prs[1] += term_dict[pr[-1]] # month\n",
        "        prs[2] -= 1 #day\n",
        "\n",
        "        if prs[2] == 0: # 0이면 28로\n",
        "            prs[2] = 28\n",
        "\n",
        "        if prs[1] > 12: # 12월 초과시.\n",
        "            prs[0] += prs[1] // 12 # + year\n",
        "            prs[1] = prs[1] % 12 # month\n",
        "\n",
        "\n",
        "       # 오늘 날짜보다 작을 경우 idx 추가.\n",
        "        if (today[0] > prs[0]):\n",
        "            answer.append(idx)\n",
        "        elif (today[0] == prs[0]) and (today[1] > prs[1]):\n",
        "            answer.append(idx)\n",
        "        elif (today[0] == prs[0]) and (today[1] == prs[1]) and (today[2] > prs[2]):\n",
        "            answer.append(idx)\n",
        "\n",
        "\n",
        "    return answer"
      ],
      "metadata": {
        "id": "y6lFmrNOvPoN"
      },
      "execution_count": 26,
      "outputs": []
    },
    {
      "cell_type": "code",
      "source": [
        "#####\n",
        "# 100\n",
        "#####\n",
        "def solution(today, terms, privacies):\n",
        "    answer = []\n",
        "\n",
        "    today = list(map(int, today.split('.'))) # 2022, 5, 19\n",
        "    # print(today)\n",
        "    term_dict = {}\n",
        "\n",
        "    for term in terms:\n",
        "        term = term.split()\n",
        "        term_dict[term[0]] = int(term[-1])\n",
        "    # print(term_dict) # 'A' : 6\n",
        "\n",
        "    for idx, pr in enumerate(privacies, start=1):\n",
        "        pr = pr.split()\n",
        "        prs = list(map(int, pr[0].split('.')))\n",
        "\n",
        "        prs[0] += term_dict[pr[-1]] // 12\n",
        "        prs[1] += term_dict[pr[-1]] % 12 # month\n",
        "        prs[2] -= 1 #day\n",
        "\n",
        "        if prs[2] == 0: # 0이면 28로\n",
        "            prs[1] -=1\n",
        "            prs[2] = 28\n",
        "\n",
        "        if prs[1] > 12: # 12월 초과시.\n",
        "            prs[0] += prs[1] // 12 # + year\n",
        "            prs[1] = prs[1] % 12 # month\n",
        "\n",
        "\n",
        "       # 오늘 날짜보다 작을 경우 idx 추가.\n",
        "        if (today[0] > prs[0]):\n",
        "            answer.append(idx)\n",
        "        elif (today[0] == prs[0]) and (today[1] > prs[1]):\n",
        "            answer.append(idx)\n",
        "        elif (today[0] == prs[0]) and (today[1] == prs[1]) and (today[2] > prs[2]):\n",
        "            answer.append(idx)\n",
        "\n",
        "\n",
        "    return answer"
      ],
      "metadata": {
        "id": "MBjHNJAA0vqW"
      },
      "execution_count": null,
      "outputs": []
    },
    {
      "cell_type": "code",
      "source": [],
      "metadata": {
        "id": "R75eLy6I1AfR"
      },
      "execution_count": null,
      "outputs": []
    },
    {
      "cell_type": "code",
      "source": [
        "######\n",
        "# 100\n",
        "# days로 바꿔서 풀다.\n",
        "######\n",
        "\n",
        "def solution(today, terms, privacies):\n",
        "    answer = []\n",
        "    today = list(map(int, today.split('.'))) # 2022, 5, 19\n",
        "    # print(today)\n",
        "    today = (today[0] - 2000) * 12 * 28 + (today[1] * 28) + today[2] # 7551\n",
        "    # print(today)\n",
        "\n",
        "    term_dict = {}\n",
        "    for term in terms:\n",
        "        term = term.split()\n",
        "        term_dict[term[0]] = int(term[1]) * 28 # 'A':168\n",
        "    # print(term_dict)\n",
        "\n",
        "    for idx, pr in enumerate(privacies, start=1):\n",
        "        pr = pr.split()\n",
        "        prs = pr[0].split('.')\n",
        "        pri = ((int(prs[0]) - 2000) * 12 * 28) + (int(prs[1]) * 28) + int(prs[2]) + term_dict[pr[-1]]\n",
        "        # print(term_dict[pr[-1]])\n",
        "\n",
        "        # print(f'today : {today}')\n",
        "        # print(f'pri : {pri}')\n",
        "        if today >= pri:\n",
        "            answer.append(idx)\n",
        "\n",
        "    return answer"
      ],
      "metadata": {
        "id": "r2CrPMBlhf8c"
      },
      "execution_count": null,
      "outputs": []
    },
    {
      "cell_type": "markdown",
      "source": [
        "---\n",
        "---\n",
        "---"
      ],
      "metadata": {
        "id": "PXXvlcSOyotm"
      }
    },
    {
      "cell_type": "code",
      "source": [
        "def solution(today, terms, privacies):\n",
        "    answer = []\n",
        "    con = {}\n",
        "    todaydate = list(map(int, today.split(\".\")))\n",
        "    for i in terms:\n",
        "        alphabet, month = i.split()\n",
        "        con[alphabet] = int(month)\n",
        "\n",
        "    for i in range(len(privacies)):\n",
        "        date, kind = privacies[i].split()\n",
        "        dates = list(map(int, date.split(\".\")))\n",
        "        until = [dates[0] + con[kind]//12, dates[1] + con[kind]%12, dates[2] -1]\n",
        "        if until[2] == 0:\n",
        "            until[1] -=1\n",
        "            until[2] = 28\n",
        "        if until[1] > 12:\n",
        "            until[0] += until[1]//12\n",
        "            until[1] = until[1]%12\n",
        "        if todaydate[0] > until[0]:\n",
        "            answer.append(i+1)\n",
        "        elif todaydate[0] == until[0] and todaydate[1]>until[1]:\n",
        "            answer.append(i+1)\n",
        "        elif todaydate[0]==until[0] and todaydate[1]==until[1] and todaydate[2]>until[2]:\n",
        "            answer.append(i+1)\n",
        "    return answer"
      ],
      "metadata": {
        "id": "IynsLygxyoxf"
      },
      "execution_count": null,
      "outputs": []
    },
    {
      "cell_type": "code",
      "source": [
        "def to_days(date):\n",
        "    year, month, day = map(int, date.split(\".\"))\n",
        "    return year * 28 * 12 + month * 28 + day\n",
        "\n",
        "def solution(today, terms, privacies):\n",
        "    months = {v[0]: int(v[2:]) * 28 for v in terms}\n",
        "    today = to_days(today)\n",
        "    expire = [\n",
        "        i + 1 for i, privacy in enumerate(privacies)\n",
        "        if to_days(privacy[:-2]) + months[privacy[-1]] <= today\n",
        "    ]\n",
        "    return expire\n"
      ],
      "metadata": {
        "id": "tdkEFgOQ1_0M"
      },
      "execution_count": null,
      "outputs": []
    }
  ]
}