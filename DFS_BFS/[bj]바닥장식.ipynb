{
  "nbformat": 4,
  "nbformat_minor": 0,
  "metadata": {
    "colab": {
      "provenance": []
    },
    "kernelspec": {
      "name": "python3",
      "display_name": "Python 3"
    },
    "language_info": {
      "name": "python"
    }
  },
  "cells": [
    {
      "cell_type": "markdown",
      "source": [
        "# [바닥 장식 1388](https://www.acmicpc.net/problem/1388)"
      ],
      "metadata": {
        "id": "MTWyPVTps9cC"
      }
    },
    {
      "cell_type": "code",
      "source": [
        "with open('./bj.txt', 'w') as f:\n",
        "    f.write('''6 9\n",
        "-||--||--\n",
        "--||--||-\n",
        "|--||--||\n",
        "||--||--|\n",
        "-||--||--\n",
        "--||--||-''')"
      ],
      "metadata": {
        "id": "Ll01p-8wtBum"
      },
      "execution_count": null,
      "outputs": []
    },
    {
      "cell_type": "code",
      "source": [
        "import sys\n",
        "sys.stdin = open('./bj.txt', 'r')\n",
        "# input = sys.stdin.readline\n",
        "input = sys.stdin.readline\n",
        "r, c = map(int, input().split())\n",
        "\n",
        "graph = [list(map(str, input().strip())) for _ in range(r)]\n",
        "\n",
        "visited = [[False] * c for _ in range(r)]\n",
        "# bfs_visited = [[False] * c for _ in range(r)]\n",
        "# dfs_visited = [[False] * c for _ in range(r)]"
      ],
      "metadata": {
        "id": "YXm4tG81tB9K"
      },
      "execution_count": null,
      "outputs": []
    },
    {
      "cell_type": "code",
      "source": [
        "r, c"
      ],
      "metadata": {
        "colab": {
          "base_uri": "https://localhost:8080/"
        },
        "id": "M_370M0stB_L",
        "outputId": "fb284e8a-a3d2-4b69-e61f-5b2af773c69e"
      },
      "execution_count": null,
      "outputs": [
        {
          "output_type": "execute_result",
          "data": {
            "text/plain": [
              "(6, 9)"
            ]
          },
          "metadata": {},
          "execution_count": 9
        }
      ]
    },
    {
      "cell_type": "code",
      "source": [
        "graph"
      ],
      "metadata": {
        "colab": {
          "base_uri": "https://localhost:8080/"
        },
        "id": "73kf1pHjuWSB",
        "outputId": "e54d2e15-323a-41ca-a2c8-059e8e2d2e65"
      },
      "execution_count": null,
      "outputs": [
        {
          "output_type": "execute_result",
          "data": {
            "text/plain": [
              "[['-', '|', '|', '-', '-', '|', '|', '-', '-'],\n",
              " ['-', '-', '|', '|', '-', '-', '|', '|', '-'],\n",
              " ['|', '-', '-', '|', '|', '-', '-', '|', '|'],\n",
              " ['|', '|', '-', '-', '|', '|', '-', '-', '|'],\n",
              " ['-', '|', '|', '-', '-', '|', '|', '-', '-'],\n",
              " ['-', '-', '|', '|', '-', '-', '|', '|', '-']]"
            ]
          },
          "metadata": {},
          "execution_count": 11
        }
      ]
    },
    {
      "cell_type": "code",
      "source": [
        "from collections import deque"
      ],
      "metadata": {
        "id": "9pzpmJGgx5YI"
      },
      "execution_count": null,
      "outputs": []
    },
    {
      "cell_type": "code",
      "source": [
        "# 31120KB\t56ms\n",
        "\n",
        "import sys\n",
        "# sys.stdin = open('./bj.txt', 'r')\n",
        "# input = sys.stdin.readline\n",
        "input = sys.stdin.readline\n",
        "r, c = map(int, input().split())\n",
        "\n",
        "graph = [list(map(str, input().strip())) for _ in range(r)]\n",
        "\n",
        "visited = [[False] * c for _ in range(r)]\n",
        "\n",
        "def bfs_dfs(x, y):\n",
        "    dy = y + 1 # 다음 방문할 colum 미리 준비\n",
        "    if graph[x][y] == '-' and visited[x][y] is False:\n",
        "        visited[x][y] = True\n",
        "        if c > dy and graph[x][dy] == '-' and visited[x][dy] is False:\n",
        "            bfs_dfs(x, dy)\n",
        "\n",
        "    dx = x + 1 # 다음 방문할 row 미리 준비\n",
        "    if graph[x][y] == '|' and visited[x][y] is False:\n",
        "        visited[x][y] = True\n",
        "        if r > dx and graph[dx][y] == '|' and visited[dx][y] is False:\n",
        "            bfs_dfs(dx ,y)\n",
        "\n",
        "cnt = 0\n",
        "for x in range(r):\n",
        "    for y in range(c):\n",
        "        if visited[x][y] is False: # 방문 안 했다면\n",
        "            bfs_dfs(x, y)\n",
        "            cnt +=1\n",
        "\n",
        "print(cnt)"
      ],
      "metadata": {
        "id": "Uwnkuoz9NYek"
      },
      "execution_count": null,
      "outputs": []
    },
    {
      "cell_type": "code",
      "source": [
        "# 31120KB\t44ms\n",
        "\n",
        "import sys\n",
        "sys.stdin = open('./bj.txt', 'r')\n",
        "# input = sys.stdin.readline\n",
        "input = sys.stdin.readline\n",
        "r, c = map(int, input().split())\n",
        "\n",
        "graph = [list(map(str, input().strip())) for _ in range(r)]\n",
        "\n",
        "visited = [[False] * c for _ in range(r)]\n",
        "\n",
        "def bfs_dfs(x, y):\n",
        "    dy = y + 1 # 다음 방문할 colum 미리 준비\n",
        "    if graph[x][y] == '-':\n",
        "        visited[x][y] = True\n",
        "        if c > dy and graph[x][dy] == '-' and visited[x][dy] is False:\n",
        "            bfs_dfs(x, dy)\n",
        "\n",
        "    dx = x + 1 # 다음 방문할 row 미리 준비\n",
        "    if graph[x][y] == '|':\n",
        "        visited[x][y] = True\n",
        "        if r > dx and graph[dx][y] == '|' and visited[dx][y] is False:\n",
        "            bfs_dfs(dx ,y)\n",
        "\n",
        "cnt = 0\n",
        "for x in range(r):\n",
        "    for y in range(c):\n",
        "        if visited[x][y] is False: # 방문 안 했다면\n",
        "            bfs_dfs(x, y)\n",
        "            cnt +=1\n",
        "\n",
        "print(cnt)"
      ],
      "metadata": {
        "colab": {
          "base_uri": "https://localhost:8080/"
        },
        "id": "klpszVlqOL2U",
        "outputId": "56b86a4b-36f9-424c-c507-a7403f9dde96"
      },
      "execution_count": null,
      "outputs": [
        {
          "output_type": "stream",
          "name": "stdout",
          "text": [
            "31\n"
          ]
        }
      ]
    },
    {
      "cell_type": "code",
      "source": [],
      "metadata": {
        "id": "VslG1sP2OLy-"
      },
      "execution_count": null,
      "outputs": []
    },
    {
      "cell_type": "code",
      "source": [
        "with open('./bj.txt', 'w') as f:\n",
        "    f.write('''10 10\n",
        "||-||-|||-\n",
        "||--||||||\n",
        "-|-|||||||\n",
        "-|-||-||-|\n",
        "||--|-||||\n",
        "||||||-||-\n",
        "|-||||||||\n",
        "||||||||||\n",
        "||---|--||\n",
        "-||-||||||''')"
      ],
      "metadata": {
        "id": "eOQIwA9JQzgX"
      },
      "execution_count": 15,
      "outputs": []
    },
    {
      "cell_type": "code",
      "source": [
        "################\n",
        "# 31252KB\t48ms\n",
        "################\n",
        "\n",
        "import sys\n",
        "sys.stdin = open('./bj.txt', 'r')\n",
        "# input = sys.stdin.readline\n",
        "input = sys.stdin.readline\n",
        "r, c = map(int, input().split())\n",
        "\n",
        "graph = [list(map(str, input().strip())) for _ in range(r)]\n",
        "\n",
        "visited = [[False] * c for _ in range(r)]\n",
        "\n",
        "\n",
        "def bfs(x, y):\n",
        "    dy = y + 1 # 다음 column 미리 준비\n",
        "    if visited[x][y] is False:\n",
        "        visited[x][y] = True\n",
        "        if c > dy and graph[x][dy] == '-' and visited[x][dy] is False:\n",
        "            bfs(x, dy)\n",
        "        return 1\n",
        "    return 0\n",
        "\n",
        "def dfs(x ,y):\n",
        "    dx = x + 1 # 다음 row 미리 준비\n",
        "    if visited[x][y] is False:\n",
        "        visited[x][y] = True\n",
        "        if r > dx and graph[dx][y] == '|' and visited[dx][y] is False:\n",
        "            dfs(dx ,y)\n",
        "        return 1 # 방문 했다면\n",
        "    return 0 # 방문 안 했다면\n",
        "\n",
        "cnt = 0\n",
        "for x in range(r):\n",
        "    for y in range(c):\n",
        "        if graph[x][y] == '-':\n",
        "            temp_cntB = bfs(x, y)\n",
        "            cnt += temp_cntB\n",
        "\n",
        "        elif graph[x][y] == '|':\n",
        "            temp_cntD = dfs(x, y)\n",
        "            cnt += temp_cntD\n",
        "\n",
        "print(cnt)"
      ],
      "metadata": {
        "colab": {
          "base_uri": "https://localhost:8080/"
        },
        "id": "9fTHnBLVtCDW",
        "outputId": "88f386ea-e592-401d-b2b2-88dd29f65300"
      },
      "execution_count": 16,
      "outputs": [
        {
          "output_type": "stream",
          "name": "stdout",
          "text": [
            "41\n"
          ]
        }
      ]
    },
    {
      "cell_type": "code",
      "source": [],
      "metadata": {
        "id": "j4p7H7i7tCFh"
      },
      "execution_count": null,
      "outputs": []
    },
    {
      "cell_type": "code",
      "source": [],
      "metadata": {
        "id": "qi958lNp4C_a"
      },
      "execution_count": null,
      "outputs": []
    },
    {
      "cell_type": "code",
      "source": [],
      "metadata": {
        "id": "0tqHX1vnBjer"
      },
      "execution_count": null,
      "outputs": []
    }
  ]
}