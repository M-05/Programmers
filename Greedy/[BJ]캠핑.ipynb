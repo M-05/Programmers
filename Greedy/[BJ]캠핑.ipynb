{
  "nbformat": 4,
  "nbformat_minor": 0,
  "metadata": {
    "colab": {
      "provenance": []
    },
    "kernelspec": {
      "name": "python3",
      "display_name": "Python 3"
    },
    "language_info": {
      "name": "python"
    }
  },
  "cells": [
    {
      "cell_type": "markdown",
      "source": [
        "# [캠핑 4796](https://www.acmicpc.net/problem/4796)"
      ],
      "metadata": {
        "id": "ntPbTAERvBqF"
      }
    },
    {
      "cell_type": "markdown",
      "source": [
        "- 연속하는 P일 중, L일동안만 사용\n",
        "\n",
        "- 제 막 V일짜리 휴가를 시작했다.\n",
        "\n",
        "- 강산이가 캠핑장을 최대 며칠동안 사용할 수 있을까? (1 < L < P < V)\n",
        "\n",
        "\n",
        "> L, P, V를 순서대로  \n",
        "> 마지막 줄에는 0이 3개"
      ],
      "metadata": {
        "id": "M7okRp-nvS9Y"
      }
    },
    {
      "cell_type": "code",
      "source": [
        "import sys\n",
        "\n",
        "with open('./bj.txt', 'w') as f:\n",
        "    f.write('''5 8 20\n",
        "5 8 17\n",
        "0 0 0''')\n",
        "\n",
        "sys.stdin = open('./bj.txt', 'r')\n",
        "input = sys.stdin.readline"
      ],
      "metadata": {
        "id": "6y2EssCwm7SI"
      },
      "execution_count": 13,
      "outputs": []
    },
    {
      "cell_type": "code",
      "source": [
        "data = [list(map(int, input().split()))]\n",
        "while data[-1].count(0) != 3:\n",
        "    data.append(list(map(int, input().split())))"
      ],
      "metadata": {
        "id": "Fgx7OF97x3sy"
      },
      "execution_count": 14,
      "outputs": []
    },
    {
      "cell_type": "code",
      "source": [
        "data"
      ],
      "metadata": {
        "colab": {
          "base_uri": "https://localhost:8080/"
        },
        "id": "FaQDyVqFycmI",
        "outputId": "e6a0bad1-595b-4d4d-bcef-09d99d6a71c2"
      },
      "execution_count": 15,
      "outputs": [
        {
          "output_type": "execute_result",
          "data": {
            "text/plain": [
              "[[5, 8, 20], [5, 8, 17], [0, 0, 0]]"
            ]
          },
          "metadata": {},
          "execution_count": 15
        }
      ]
    },
    {
      "cell_type": "code",
      "source": [
        "data[:-1]"
      ],
      "metadata": {
        "colab": {
          "base_uri": "https://localhost:8080/"
        },
        "id": "vtl30BuV1FHs",
        "outputId": "efa544e3-329c-49e6-fc52-56c5221e4b81"
      },
      "execution_count": 25,
      "outputs": [
        {
          "output_type": "execute_result",
          "data": {
            "text/plain": [
              "[[5, 8, 20], [5, 8, 17]]"
            ]
          },
          "metadata": {},
          "execution_count": 25
        }
      ]
    },
    {
      "cell_type": "code",
      "source": [
        "for idx, (L, P, V) in enumerate(data[:-1], start=1):\n",
        "    days = (V % P) + ( V // P * L)\n",
        "    print(f'Case {idx}: {days}')"
      ],
      "metadata": {
        "colab": {
          "base_uri": "https://localhost:8080/"
        },
        "id": "QYf_DC8czN3S",
        "outputId": "b2b72f76-bafd-484f-91ae-4d2995c1ba3e"
      },
      "execution_count": 26,
      "outputs": [
        {
          "output_type": "stream",
          "name": "stdout",
          "text": [
            "Case 1: 14\n",
            "Case 2: 11\n"
          ]
        }
      ]
    },
    {
      "cell_type": "code",
      "source": [],
      "metadata": {
        "id": "BVMBACwZ0QyZ"
      },
      "execution_count": null,
      "outputs": []
    },
    {
      "cell_type": "code",
      "source": [
        "#\n",
        "# 성공.\n",
        "#\n",
        "\n",
        "import sys\n",
        "\n",
        "with open('./bj.txt', 'w') as f:\n",
        "    f.write('''5 8 20\n",
        "5 8 17\n",
        "0 0 0''')\n",
        "\n",
        "sys.stdin = open('./bj.txt', 'r')\n",
        "\n",
        "input = sys.stdin.readline\n",
        "\n",
        "data = [list(map(int, input().split()))]\n",
        "\n",
        "while data[-1].count(0) != 3:\n",
        "    data.append(list(map(int, input().split())))\n",
        "\n",
        "for idx, (L, P, V) in enumerate(data[:-1], start=1):\n",
        "    if V % P <= L: # 전체 요일 % 연속으로 가능 요일 <= 내가 가능 요일\n",
        "        days = (V % P) + ( V // P * L)\n",
        "        #  20 % 8 + 20 // 8 * 5\n",
        "        print(f'Case {idx}: {days}')\n",
        "    else:  # 전체 요일 % 연속으로 가능 요일 > 내가 가능 요일\n",
        "        days = (L) + ( V // P * L)\n",
        "        #  20 % 8 + 20 // 8 * 5\n",
        "        print(f'Case {idx}: {days}')"
      ],
      "metadata": {
        "colab": {
          "base_uri": "https://localhost:8080/"
        },
        "id": "6iFIlL5tu_jv",
        "outputId": "6c542105-8099-4656-97e4-7b4a0ac1eac5"
      },
      "execution_count": 28,
      "outputs": [
        {
          "output_type": "stream",
          "name": "stdout",
          "text": [
            "Case 1: 14\n",
            "Case 2: 11\n"
          ]
        }
      ]
    },
    {
      "cell_type": "code",
      "source": [
        "# 1 20 39\n",
        "# 0 0 0\n",
        "# output = 2"
      ],
      "metadata": {
        "id": "oHy7fuv77vFR"
      },
      "execution_count": null,
      "outputs": []
    }
  ]
}