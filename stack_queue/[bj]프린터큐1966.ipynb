{
  "nbformat": 4,
  "nbformat_minor": 0,
  "metadata": {
    "colab": {
      "provenance": []
    },
    "kernelspec": {
      "name": "python3",
      "display_name": "Python 3"
    },
    "language_info": {
      "name": "python"
    }
  },
  "cells": [
    {
      "cell_type": "markdown",
      "source": [
        "# [프린터 큐 1966](https://www.acmicpc.net/problem/1966)\n",
        "\n",
        "- 구현\n",
        "- 자료 구조\n",
        "- 시뮬레이션\n",
        "- 큐\n",
        "\n",
        "> 첫 번째 줄에는 문서의 개수 N(1 ≤ N ≤ 100)  \n",
        "> 몇 번째로 인쇄되었는지 궁금한 문서가 현재 Queue에서 몇 번째에 놓여 있는지를 나타내는 정수 M(0 ≤ M < N)\n",
        "\n",
        "`맨 왼쪽은 0번째`  \n",
        "`중요도는 1 이상 9 이하의 정수`\n",
        "\n",
        "return  \n",
        "각 테스트 케이스에 대해 문서가 몇 번째로 인쇄되는지 출력"
      ],
      "metadata": {
        "id": "R907n-gsiHui"
      }
    },
    {
      "cell_type": "code",
      "source": [
        "import sys\n",
        "\n",
        "with open('./bj.txt', 'w') as f:\n",
        "    f.write('''3\n",
        "1 0\n",
        "5\n",
        "4 2\n",
        "1 2 3 4\n",
        "6 0\n",
        "1 1 9 1 1 1''')\n",
        "# 1\n",
        "# 2\n",
        "# 5\n",
        "\n",
        "sys.stdin = open('./bj.txt', 'r')\n",
        "input = sys.stdin.readline"
      ],
      "metadata": {
        "id": "7izTBaioiLWp"
      },
      "execution_count": null,
      "outputs": []
    },
    {
      "cell_type": "code",
      "source": [
        "from collections import deque\n",
        "\n",
        "test_case = int(input())\n",
        "\n",
        "for _ in range(test_case):\n",
        "    n, location = map(int, input().split())\n",
        "    numbers = list(map(int, input().split()))\n",
        "\n",
        "    nums = [(num, idx) for idx, num in enumerate(numbers)]\n",
        "\n",
        "    target = nums[location]\n",
        "\n",
        "    nums = deque(nums)\n",
        "    cnt = 1\n",
        "\n",
        "    while True:\n",
        "        if max(nums)[0] == nums[0][0]:\n",
        "            # if max(nums)[1] == target[1]: error\n",
        "            if nums[0][1] == target[1]:\n",
        "                print(cnt)\n",
        "                break\n",
        "            else:\n",
        "                nums.popleft()\n",
        "                cnt += 1\n",
        "\n",
        "        else:\n",
        "            nums.rotate(-1)"
      ],
      "metadata": {
        "colab": {
          "base_uri": "https://localhost:8080/"
        },
        "id": "5iNYXj_0tMry",
        "outputId": "5907868a-cc77-4aa8-e31a-9124c43c959f"
      },
      "execution_count": null,
      "outputs": [
        {
          "output_type": "stream",
          "name": "stdout",
          "text": [
            "1\n",
            "2\n",
            "5\n"
          ]
        }
      ]
    },
    {
      "cell_type": "code",
      "source": [],
      "metadata": {
        "id": "vHkqU9HMtMoj"
      },
      "execution_count": null,
      "outputs": []
    },
    {
      "cell_type": "code",
      "source": [
        "from collections import deque\n",
        "\n",
        "test_case = int(input())\n",
        "\n",
        "for _ in range(test_case):\n",
        "    n, m = map(int, input().split())\n",
        "    data = list(map(int, input().split()))\n",
        "    # target = data[m]\n",
        "    queue = deque(data)\n",
        "    target = queue[m] # 3\n",
        "    cnt = 1\n",
        "\n",
        "    mq = max(queue) # 4\n",
        "    while mq != target:\n",
        "        if mq == queue[0]:\n",
        "            queue.popleft()\n",
        "            mq = max(queue)\n",
        "            cnt +=1\n",
        "        queue.rotate(-1)\n",
        "\n",
        "    print(cnt)"
      ],
      "metadata": {
        "colab": {
          "base_uri": "https://localhost:8080/"
        },
        "id": "AZLFE9pmidbi",
        "outputId": "87046f09-1557-448f-c8f3-d759f67aae17"
      },
      "execution_count": null,
      "outputs": [
        {
          "output_type": "stream",
          "name": "stdout",
          "text": [
            "1\n",
            "2\n",
            "2\n"
          ]
        }
      ]
    },
    {
      "cell_type": "code",
      "source": [],
      "metadata": {
        "id": "ECymhXU1ti75"
      },
      "execution_count": null,
      "outputs": []
    },
    {
      "cell_type": "code",
      "source": [
        "from collections import deque\n",
        "\n",
        "test_case = int(input())\n",
        "\n",
        "for _ in range(test_case):\n",
        "    n, m = map(int, input().split())\n",
        "    data = list(map(int, input().split()))\n",
        "    data = [(i, idx) for idx, i in enumerate(data)]\n",
        "    # target = data[m]\n",
        "    queue = deque(data)\n",
        "    target = queue[m] # 3\n",
        "    cnt = 1\n",
        "\n",
        "    # mq = max(queue) # 4\n",
        "    while queue:\n",
        "        if max(queue) == queue[0]:\n",
        "            if target == queue[0]:\n",
        "                print(cnt)\n",
        "                break\n",
        "            queue.popleft()\n",
        "            cnt +=1\n",
        "\n",
        "        queue.rotate(-1)"
      ],
      "metadata": {
        "colab": {
          "base_uri": "https://localhost:8080/"
        },
        "id": "uXuxceAeqRBp",
        "outputId": "36e28b1c-7046-4d07-bfb6-a109861ebcf1"
      },
      "execution_count": null,
      "outputs": [
        {
          "output_type": "stream",
          "name": "stdout",
          "text": [
            "1\n",
            "2\n",
            "6\n"
          ]
        }
      ]
    },
    {
      "cell_type": "code",
      "source": [],
      "metadata": {
        "id": "VWYwt5AEtjtH"
      },
      "execution_count": null,
      "outputs": []
    },
    {
      "cell_type": "code",
      "source": [
        "######\n",
        "# 통과!\n",
        "######\n",
        "\n",
        "from collections import deque\n",
        "import sys\n",
        "input = sys.stdin.readline\n",
        "\n",
        "test_case = int(input())\n",
        "\n",
        "for _ in range(test_case):\n",
        "    n, m = map(int, input().split())\n",
        "    data = list(map(int, input().split()))\n",
        "    data = [(i, idx) for idx, i in enumerate(data)]\n",
        "    # data = sorted(data, key=(lambda x: x[0]), reverse=True)\n",
        "    queue = deque(data)\n",
        "    target = queue[m] # 3\n",
        "    cnt = 1\n",
        "\n",
        "    # mq = max(queue) # 4\n",
        "    while True:\n",
        "        if max(queue)[0] == queue[0][0]: # 값 비교\n",
        "\n",
        "            if target[1] == queue[0][1]: # 인덱스 값 비교\n",
        "                print(cnt)\n",
        "                break\n",
        "            else:\n",
        "                queue.popleft()\n",
        "                cnt +=1\n",
        "        else:\n",
        "            queue.rotate(-1)\n",
        "\n"
      ],
      "metadata": {
        "colab": {
          "base_uri": "https://localhost:8080/"
        },
        "id": "JaS7LrEJpl9m",
        "outputId": "97ae9230-8a9a-4813-e52b-ce77e00e16b1"
      },
      "execution_count": null,
      "outputs": [
        {
          "output_type": "stream",
          "name": "stdout",
          "text": [
            "1\n",
            "2\n",
            "5\n"
          ]
        }
      ]
    },
    {
      "cell_type": "code",
      "source": [],
      "metadata": {
        "id": "nl3hfmrnpl6D"
      },
      "execution_count": null,
      "outputs": []
    },
    {
      "cell_type": "code",
      "source": [
        "n, m = 4, 2\n",
        "data = [1, 2, 3, 4]\n",
        "data = [(i, idx) for idx, i in enumerate(data)]"
      ],
      "metadata": {
        "id": "SHYTQxuatkQi"
      },
      "execution_count": null,
      "outputs": []
    },
    {
      "cell_type": "code",
      "source": [
        "data"
      ],
      "metadata": {
        "colab": {
          "base_uri": "https://localhost:8080/"
        },
        "id": "Msd-TfHJttXS",
        "outputId": "3afc193b-6258-40c4-bed5-1f45cef58fb6"
      },
      "execution_count": null,
      "outputs": [
        {
          "output_type": "execute_result",
          "data": {
            "text/plain": [
              "[(1, 0), (2, 1), (3, 2), (4, 3)]"
            ]
          },
          "metadata": {},
          "execution_count": 12
        }
      ]
    },
    {
      "cell_type": "code",
      "source": [
        "data[0]"
      ],
      "metadata": {
        "colab": {
          "base_uri": "https://localhost:8080/"
        },
        "id": "JZd7VgSAttpd",
        "outputId": "66f35df1-0bb3-4e2c-91c9-5ffab9b40649"
      },
      "execution_count": null,
      "outputs": [
        {
          "output_type": "execute_result",
          "data": {
            "text/plain": [
              "(1, 0)"
            ]
          },
          "metadata": {},
          "execution_count": 7
        }
      ]
    },
    {
      "cell_type": "code",
      "source": [
        "max(data)"
      ],
      "metadata": {
        "colab": {
          "base_uri": "https://localhost:8080/"
        },
        "id": "QTLeQyJutuqd",
        "outputId": "5228fe64-09b9-4993-8e9b-61754ece43cc"
      },
      "execution_count": null,
      "outputs": [
        {
          "output_type": "execute_result",
          "data": {
            "text/plain": [
              "(4, 3)"
            ]
          },
          "metadata": {},
          "execution_count": 13
        }
      ]
    },
    {
      "cell_type": "code",
      "source": [],
      "metadata": {
        "id": "uBuyywedtxM-"
      },
      "execution_count": null,
      "outputs": []
    }
  ]
}