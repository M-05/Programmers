{
  "nbformat": 4,
  "nbformat_minor": 0,
  "metadata": {
    "colab": {
      "provenance": []
    },
    "kernelspec": {
      "name": "python3",
      "display_name": "Python 3"
    },
    "language_info": {
      "name": "python"
    }
  },
  "cells": [
    {
      "cell_type": "markdown",
      "source": [
        "# [블랙잭 2798](https://www.acmicpc.net/problem/2798)\n",
        "\n",
        "- 브루트포스 알고리즘\n",
        "\n",
        "> N(3 ≤ N ≤ 100)  \n",
        "> M(10 ≤ M ≤ 300,000)\n",
        "\n",
        "return M을 넘지 않으면서 M에 최대한 가까운 카드 3장의 합을 출력"
      ],
      "metadata": {
        "id": "9V0rL8hkUKwl"
      }
    },
    {
      "cell_type": "code",
      "source": [
        "# 경우의 수\n",
        "from math import factorial\n",
        "n = 100\n",
        "(n*(n -1)*(n -2)) / factorial(3)"
      ],
      "metadata": {
        "colab": {
          "base_uri": "https://localhost:8080/"
        },
        "id": "aiM9424XXd-x",
        "outputId": "28edb5fe-3773-4d29-bc28-46fa5f3113c3"
      },
      "execution_count": null,
      "outputs": [
        {
          "output_type": "execute_result",
          "data": {
            "text/plain": [
              "161700.0"
            ]
          },
          "metadata": {},
          "execution_count": 29
        }
      ]
    },
    {
      "cell_type": "code",
      "source": [],
      "metadata": {
        "id": "8q6T3PlUXZhb"
      },
      "execution_count": null,
      "outputs": []
    },
    {
      "cell_type": "code",
      "execution_count": null,
      "metadata": {
        "id": "rB3MOl2jUHdR"
      },
      "outputs": [],
      "source": [
        "import sys\n",
        "\n",
        "with open('./bj.txt', 'w') as f:\n",
        "#     f.write('''5 21\n",
        "# 5 6 7 8 9''') # 21\n",
        "    f.write('''10 500\n",
        "93 181 245 214 315 36 185 138 216 295''')\n",
        "\n",
        "sys.stdin = open('./bj.txt', 'r')\n",
        "input = sys.stdin.readline\n",
        "\n",
        "n, target = map(int, input().split())\n",
        "numbers = list(map(int, input().split()))"
      ]
    },
    {
      "cell_type": "code",
      "source": [
        "from itertools import combinations"
      ],
      "metadata": {
        "id": "JRtjoYemU9dr"
      },
      "execution_count": null,
      "outputs": []
    },
    {
      "cell_type": "code",
      "source": [
        "for i in combinations(numbers, 3):\n",
        "    print(i)"
      ],
      "metadata": {
        "colab": {
          "base_uri": "https://localhost:8080/"
        },
        "id": "iU5MPfaqVHSB",
        "outputId": "c00450a5-3cdf-4422-cf5a-6b375a1f3d29"
      },
      "execution_count": null,
      "outputs": [
        {
          "output_type": "stream",
          "name": "stdout",
          "text": [
            "(5, 6, 7)\n",
            "(5, 6, 8)\n",
            "(5, 6, 9)\n",
            "(5, 7, 8)\n",
            "(5, 7, 9)\n",
            "(5, 8, 9)\n",
            "(6, 7, 8)\n",
            "(6, 7, 9)\n",
            "(6, 8, 9)\n",
            "(7, 8, 9)\n"
          ]
        }
      ]
    },
    {
      "cell_type": "code",
      "source": [
        "# 성공 92ms\n",
        "\n",
        "from itertools import combinations\n",
        "import sys\n",
        "\n",
        "input = sys.stdin.readline\n",
        "\n",
        "n, target = map(int, input().split())\n",
        "numbers = list(map(int, input().split()))\n",
        "\n",
        "answer = []\n",
        "for cards in combinations(numbers, 3):\n",
        "    num = sum(cards)\n",
        "    if num <= target:\n",
        "        answer.append(num)\n",
        "\n",
        "print(max(answer))"
      ],
      "metadata": {
        "colab": {
          "base_uri": "https://localhost:8080/"
        },
        "id": "6o1E5b1MWCTF",
        "outputId": "80a52c34-b8bc-4619-dbf0-c9a111758f74"
      },
      "execution_count": null,
      "outputs": [
        {
          "output_type": "stream",
          "name": "stdout",
          "text": [
            "497\n"
          ]
        }
      ]
    },
    {
      "cell_type": "code",
      "source": [
        "# 성공 104ms\n",
        "import sys\n",
        "\n",
        "input = sys.stdin.readline\n",
        "\n",
        "n, target = map(int, input().split())\n",
        "numbers = list(map(int, input().split()))\n",
        "\n",
        "answer = 0\n",
        "for i in range(n):\n",
        "    for j in range(i+1, n):\n",
        "        for k in range(j+1, n):\n",
        "            total = numbers[i] + numbers[j] + numbers[k]\n",
        "            if total <= target:\n",
        "                answer = max(answer, total)\n",
        "print(answer)"
      ],
      "metadata": {
        "colab": {
          "base_uri": "https://localhost:8080/"
        },
        "id": "QtjraECMYU96",
        "outputId": "01ee639e-97fc-4329-e0f2-48ddf4a4a944"
      },
      "execution_count": null,
      "outputs": [
        {
          "output_type": "stream",
          "name": "stdout",
          "text": [
            "497\n"
          ]
        }
      ]
    },
    {
      "cell_type": "code",
      "source": [
        "# 성공, 112ms\n",
        "from itertools import combinations\n",
        "import sys\n",
        "\n",
        "input = sys.stdin.readline\n",
        "\n",
        "n, target = map(int, input().split())\n",
        "numbers = list(map(int, input().split()))\n",
        "\n",
        "answer = 0\n",
        "for cards in combinations(numbers, 3):\n",
        "    num = sum(cards)\n",
        "    if num <= target:\n",
        "        answer = max(answer, num)\n",
        "\n",
        "print(answer)"
      ],
      "metadata": {
        "id": "erS7iqjcYxhV"
      },
      "execution_count": null,
      "outputs": []
    },
    {
      "cell_type": "code",
      "source": [],
      "metadata": {
        "id": "DRfyR3CCYxjB"
      },
      "execution_count": null,
      "outputs": []
    }
  ]
}