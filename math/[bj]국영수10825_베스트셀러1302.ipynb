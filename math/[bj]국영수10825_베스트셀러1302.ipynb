{
  "nbformat": 4,
  "nbformat_minor": 0,
  "metadata": {
    "colab": {
      "provenance": []
    },
    "kernelspec": {
      "name": "python3",
      "display_name": "Python 3"
    },
    "language_info": {
      "name": "python"
    }
  },
  "cells": [
    {
      "cell_type": "markdown",
      "source": [
        "# [국영수 10825](https://www.acmicpc.net/problem/10825)"
      ],
      "metadata": {
        "id": "alzJXTKtQSVv"
      }
    },
    {
      "cell_type": "code",
      "source": [
        "국어 점수가 감소하는 순서로\n",
        "국어 점수가 같으면 영어 점수가 증가하는 순서로\n",
        "국어 점수와 영어 점수가 같으면 수학 점수가 감소하는 순서로\n",
        "모든 점수가 같으면 이름이 사전 순으로 증가하는 순서로\n",
        "(단, 아스키 코드에서 대문자는 소문자보다 작으므로 사전순으로 앞에 온다.)"
      ],
      "metadata": {
        "id": "oy7T-VM_QvOO"
      },
      "execution_count": null,
      "outputs": []
    },
    {
      "cell_type": "code",
      "source": [
        "# N (1 ≤ N ≤ 100,000)\n",
        "#  학생 이름, 국어, 영어, 수학 점수\n",
        "# 1 <= score <= 100\n",
        "# 알파벳 대소문자로 이루어진 문자열이고\n",
        "# 길이는 10자리를 넘지 않는다\n",
        "\n",
        "# return\n",
        "정렬 기준으로 정렬한 후\n",
        "N개의 줄에 걸쳐 각 학생의 이름을 출력"
      ],
      "metadata": {
        "id": "_WwYG26ORICl"
      },
      "execution_count": null,
      "outputs": []
    },
    {
      "cell_type": "code",
      "source": [
        "import sys\n",
        "with open('./bj.txt', 'w') as f:\n",
        "    f.write('''12\n",
        "Junkyu 50 60 100\n",
        "Sangkeun 80 60 50\n",
        "Sunyoung 80 70 100\n",
        "Soong 50 60 90\n",
        "Haebin 50 60 100\n",
        "Kangsoo 60 80 100\n",
        "Donghyuk 80 60 100\n",
        "Sei 70 70 70\n",
        "Wonseob 70 70 90\n",
        "Sanghyun 70 70 80\n",
        "nsj 80 80 80\n",
        "Taewhan 50 60 90''')\n",
        "\n",
        "sys.stdin = open('./bj.txt', 'r')\n",
        "\n",
        "input = sys.stdin.readline\n",
        "N = int(input())"
      ],
      "metadata": {
        "id": "voCUMEWwQfIP"
      },
      "execution_count": 9,
      "outputs": []
    },
    {
      "cell_type": "code",
      "source": [
        "arr = [input().split() for _ in range(N)]\n",
        "arr"
      ],
      "metadata": {
        "colab": {
          "base_uri": "https://localhost:8080/"
        },
        "id": "qvYYiTy4QtPk",
        "outputId": "00ed5e0e-53c4-4295-89f5-6490268ea3cb"
      },
      "execution_count": 10,
      "outputs": [
        {
          "output_type": "execute_result",
          "data": {
            "text/plain": [
              "[['Junkyu', '50', '60', '100'],\n",
              " ['Sangkeun', '80', '60', '50'],\n",
              " ['Sunyoung', '80', '70', '100'],\n",
              " ['Soong', '50', '60', '90'],\n",
              " ['Haebin', '50', '60', '100'],\n",
              " ['Kangsoo', '60', '80', '100'],\n",
              " ['Donghyuk', '80', '60', '100'],\n",
              " ['Sei', '70', '70', '70'],\n",
              " ['Wonseob', '70', '70', '90'],\n",
              " ['Sanghyun', '70', '70', '80'],\n",
              " ['nsj', '80', '80', '80'],\n",
              " ['Taewhan', '50', '60', '90']]"
            ]
          },
          "metadata": {},
          "execution_count": 10
        }
      ]
    },
    {
      "cell_type": "code",
      "source": [
        "sorted(arr, key=lambda x: (-int(x[1]), x[2], -int(x[3]), x[0]))"
      ],
      "metadata": {
        "colab": {
          "base_uri": "https://localhost:8080/"
        },
        "id": "SHPBt6uvR3lV",
        "outputId": "1a71c3b3-ecdd-43dd-a3b9-535738b52033"
      },
      "execution_count": 14,
      "outputs": [
        {
          "output_type": "execute_result",
          "data": {
            "text/plain": [
              "[['Donghyuk', '80', '60', '100'],\n",
              " ['Sangkeun', '80', '60', '50'],\n",
              " ['Sunyoung', '80', '70', '100'],\n",
              " ['nsj', '80', '80', '80'],\n",
              " ['Wonseob', '70', '70', '90'],\n",
              " ['Sanghyun', '70', '70', '80'],\n",
              " ['Sei', '70', '70', '70'],\n",
              " ['Kangsoo', '60', '80', '100'],\n",
              " ['Haebin', '50', '60', '100'],\n",
              " ['Junkyu', '50', '60', '100'],\n",
              " ['Soong', '50', '60', '90'],\n",
              " ['Taewhan', '50', '60', '90']]"
            ]
          },
          "metadata": {},
          "execution_count": 14
        }
      ]
    },
    {
      "cell_type": "code",
      "source": [
        "answer = []\n",
        "for d in sorted(arr, key=lambda x: (-int(x[1]), x[2], -int(x[3]), x[0])):\n",
        "    answer.append(d[0])\n",
        "print(*answer, sep='\\n')"
      ],
      "metadata": {
        "colab": {
          "base_uri": "https://localhost:8080/"
        },
        "id": "JK-GVZmJT5iS",
        "outputId": "9a2b74e3-d763-4c1e-e93a-945649224a5e"
      },
      "execution_count": 15,
      "outputs": [
        {
          "output_type": "stream",
          "name": "stdout",
          "text": [
            "Donghyuk\n",
            "Sangkeun\n",
            "Sunyoung\n",
            "nsj\n",
            "Wonseob\n",
            "Sanghyun\n",
            "Sei\n",
            "Kangsoo\n",
            "Haebin\n",
            "Junkyu\n",
            "Soong\n",
            "Taewhan\n"
          ]
        }
      ]
    },
    {
      "cell_type": "code",
      "source": [
        "import sys\n",
        "\n",
        "input = sys.stdin.readline\n",
        "N = int(input())\n",
        "\n",
        "arr = [input().split() for _ in range(N)]\n",
        "answer = []\n",
        "for d in sorted(arr, key=lambda x: (-int(x[1]), int(x[2]), -int(x[3]), x[0])):\n",
        "    answer.append(d[0])\n",
        "print(*answer, sep='\\n')"
      ],
      "metadata": {
        "colab": {
          "base_uri": "https://localhost:8080/"
        },
        "id": "XQy-RwKmVSbC",
        "outputId": "3bdb7193-e331-44fb-93aa-6edb217ac723"
      },
      "execution_count": 17,
      "outputs": [
        {
          "output_type": "stream",
          "name": "stdout",
          "text": [
            "Donghyuk\n",
            "Sangkeun\n",
            "Sunyoung\n",
            "nsj\n",
            "Wonseob\n",
            "Sanghyun\n",
            "Sei\n",
            "Kangsoo\n",
            "Haebin\n",
            "Junkyu\n",
            "Soong\n",
            "Taewhan\n"
          ]
        }
      ]
    },
    {
      "cell_type": "markdown",
      "source": [
        "# [베스트셀러 1302](https://www.acmicpc.net/problem/1302)"
      ],
      "metadata": {
        "id": "sKx_nyvWVk6L"
      }
    },
    {
      "cell_type": "code",
      "source": [
        "# return\n",
        "가장 많이 팔린 책의 제목을 출력\n",
        "만약 가장 많이 팔린 책이 여러 개일 경우에는\n",
        "사전 순으로 가장 앞서는 제목"
      ],
      "metadata": {
        "id": "xBk1nIBGWY3V"
      },
      "execution_count": null,
      "outputs": []
    },
    {
      "cell_type": "code",
      "source": [
        "import sys\n",
        "with open('./bj.txt', 'w') as f:\n",
        "    f.write('''7\n",
        "chair\n",
        "table\n",
        "lamp\n",
        "door\n",
        "lamp\n",
        "table\n",
        "chair''')\n",
        "\n",
        "sys.stdin = open('./bj.txt', 'r')\n",
        "\n",
        "input = sys.stdin.readline\n",
        "\n",
        "N = int(input())"
      ],
      "metadata": {
        "id": "1h_mKVlMWNGd"
      },
      "execution_count": 43,
      "outputs": []
    },
    {
      "cell_type": "code",
      "source": [
        "book = {}\n",
        "\n",
        "for _ in range(N):\n",
        "    name = input().strip()\n",
        "    if name not in book:\n",
        "        book[name] = 1\n",
        "    else:\n",
        "        book[name] += 1"
      ],
      "metadata": {
        "id": "2aAW1EB7WUfb"
      },
      "execution_count": 44,
      "outputs": []
    },
    {
      "cell_type": "code",
      "source": [
        "book"
      ],
      "metadata": {
        "colab": {
          "base_uri": "https://localhost:8080/"
        },
        "id": "z-vF_y8UZrPl",
        "outputId": "1552aa17-17ee-49dd-be5a-c67888dca56a"
      },
      "execution_count": 30,
      "outputs": [
        {
          "output_type": "execute_result",
          "data": {
            "text/plain": [
              "{'chair': 2, 'table': 2, 'lamp': 2, 'door': 1}"
            ]
          },
          "metadata": {},
          "execution_count": 30
        }
      ]
    },
    {
      "cell_type": "code",
      "source": [
        "max(book.values())"
      ],
      "metadata": {
        "colab": {
          "base_uri": "https://localhost:8080/"
        },
        "id": "y8F6ACQeaKdS",
        "outputId": "830683cc-3ed9-4ac7-f0c5-e0dd1482da3d"
      },
      "execution_count": 39,
      "outputs": [
        {
          "output_type": "execute_result",
          "data": {
            "text/plain": [
              "2"
            ]
          },
          "metadata": {},
          "execution_count": 39
        }
      ]
    },
    {
      "cell_type": "code",
      "source": [
        "answer = []\n",
        "max_num = max(book.values())\n",
        "\n",
        "for k, v in book.items():\n",
        "    if v == max_num:\n",
        "        answer.append(k)\n",
        "print(sorted(answer)[0])"
      ],
      "metadata": {
        "colab": {
          "base_uri": "https://localhost:8080/"
        },
        "id": "Fj9cC8uhbgpq",
        "outputId": "e1d5653e-7a20-4f46-a4a4-5d5e79713c53"
      },
      "execution_count": 41,
      "outputs": [
        {
          "output_type": "stream",
          "name": "stdout",
          "text": [
            "chair\n"
          ]
        }
      ]
    },
    {
      "cell_type": "code",
      "source": [
        "import sys\n",
        "input = sys.stdin.readline\n",
        "\n",
        "N = int(input())\n",
        "\n",
        "book = {}\n",
        "\n",
        "for _ in range(N):\n",
        "    name = input().strip()\n",
        "    if name not in book:\n",
        "        book[name] = 1\n",
        "    else:\n",
        "        book[name] += 1\n",
        "\n",
        "answer = []\n",
        "max_num = max(book.values())\n",
        "\n",
        "for k, v in book.items():\n",
        "    if v == max_num:\n",
        "        answer.append(k)\n",
        "print(sorted(answer)[0])"
      ],
      "metadata": {
        "id": "uVK73eWxctpm"
      },
      "execution_count": null,
      "outputs": []
    },
    {
      "cell_type": "code",
      "source": [
        "import sys\n",
        "input = sys.stdin.readline\n",
        "\n",
        "N = int(input())\n",
        "\n",
        "book = {}\n",
        "\n",
        "for _ in range(N):\n",
        "    name = input().strip()\n",
        "    if name not in book:\n",
        "        book[name] = 1\n",
        "    else:\n",
        "        book[name] += 1\n",
        "\n",
        "print(sorted(book, key=lambda x:( -book[x], x))[0])\n",
        "# ['chair', 'lamp', 'table', 'door']"
      ],
      "metadata": {
        "id": "V3aP_oUldfRB"
      },
      "execution_count": null,
      "outputs": []
    }
  ]
}