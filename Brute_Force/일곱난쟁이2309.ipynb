{
  "nbformat": 4,
  "nbformat_minor": 0,
  "metadata": {
    "colab": {
      "provenance": []
    },
    "kernelspec": {
      "name": "python3",
      "display_name": "Python 3"
    },
    "language_info": {
      "name": "python"
    }
  },
  "cells": [
    {
      "cell_type": "markdown",
      "source": [
        "# [일곱 난쟁이 2309]()"
      ],
      "metadata": {
        "id": "8wTU73XxohiV"
      }
    },
    {
      "cell_type": "code",
      "source": [
        "# 성공\n",
        "\n",
        "import sys\n",
        "input = sys.stdin.readline\n",
        "heights = [int(input()) for _ in range(9)]\n",
        "heights.sort() # 정렬\n",
        "\n",
        "heights_sum = sum(heights)\n",
        "remove_list = []\n",
        "\n",
        "for fixed in range(9-1,-1,-1): # 8 7 ~ 0\n",
        "    temp_sum= heights_sum - heights[fixed]\n",
        "    for i in range(9): # 0 ~ 8\n",
        "        if (temp_sum - heights[i] == 100) and (fixed != i):\n",
        "            remove_list.append(heights[fixed])\n",
        "            remove_list.append(heights[i])\n",
        "\n",
        "heights.remove(remove_list[0])\n",
        "heights.remove(remove_list[1])\n",
        "\n",
        "for i in heights:\n",
        "    print(i)"
      ],
      "metadata": {
        "id": "ZAcW3YfVzHTP"
      },
      "execution_count": null,
      "outputs": []
    },
    {
      "cell_type": "code",
      "source": [
        "# 성공\n",
        "\n",
        "import sys\n",
        "input = sys.stdin.readline\n",
        "heights = [int(input()) for _ in range(9)]\n",
        "heights.sort() # 정렬\n",
        "\n",
        "heights_sum = sum(heights)\n",
        "\n",
        "for fixed in range(9-1,-1,-1): # 8 7 ~ 0\n",
        "    if len(heights) == 7:\n",
        "        break\n",
        "    temp_sum= heights_sum - heights[fixed]\n",
        "\n",
        "    for i in range(9): # 0 ~ 8\n",
        "        if (temp_sum - heights[i] == 100) and (fixed != i):\n",
        "            heights.remove(heights[fixed])\n",
        "            heights.remove(heights[i])\n",
        "            break\n",
        "\n",
        "for i in heights:\n",
        "    print(i)"
      ],
      "metadata": {
        "colab": {
          "base_uri": "https://localhost:8080/"
        },
        "id": "BG-P7VWU2Dtq",
        "outputId": "286c1780-45c8-4d67-a4c9-b0cc114bddd0"
      },
      "execution_count": 52,
      "outputs": [
        {
          "output_type": "stream",
          "name": "stdout",
          "text": [
            "7\n",
            "8\n",
            "10\n",
            "13\n",
            "19\n",
            "20\n",
            "23\n"
          ]
        }
      ]
    },
    {
      "cell_type": "code",
      "source": [
        "import sys\n",
        "\n",
        "with open('./bj.txt', 'w') as f:\n",
        "    f.write('''20\n",
        "7\n",
        "23\n",
        "19\n",
        "10\n",
        "15\n",
        "25\n",
        "8\n",
        "13''')\n",
        "\n",
        "sys.stdin = open('./bj.txt', 'r')\n",
        "\n",
        "input = sys.stdin.readline"
      ],
      "metadata": {
        "id": "sxbiBD8moynQ"
      },
      "execution_count": 51,
      "outputs": []
    },
    {
      "cell_type": "code",
      "source": [
        "heights = [int(input()) for _ in range(9)]\n",
        "heights"
      ],
      "metadata": {
        "colab": {
          "base_uri": "https://localhost:8080/"
        },
        "id": "noRRm8zYpD-s",
        "outputId": "35a816c8-1014-4f0f-d5c1-96989c04650a"
      },
      "execution_count": 40,
      "outputs": [
        {
          "output_type": "execute_result",
          "data": {
            "text/plain": [
              "[20, 7, 23, 19, 10, 15, 25, 8, 13]"
            ]
          },
          "metadata": {},
          "execution_count": 40
        }
      ]
    },
    {
      "cell_type": "code",
      "source": [
        "sum(heights)"
      ],
      "metadata": {
        "colab": {
          "base_uri": "https://localhost:8080/"
        },
        "id": "fiFV6zSvreUK",
        "outputId": "b171073d-34b7-4693-c205-1d1321a3c7f5"
      },
      "execution_count": 4,
      "outputs": [
        {
          "output_type": "execute_result",
          "data": {
            "text/plain": [
              "140"
            ]
          },
          "metadata": {},
          "execution_count": 4
        }
      ]
    },
    {
      "cell_type": "code",
      "source": [
        "heights.sort()\n",
        "heights"
      ],
      "metadata": {
        "colab": {
          "base_uri": "https://localhost:8080/"
        },
        "id": "b5HGmn39saJh",
        "outputId": "17aded01-d382-44a6-d6c2-d3729f4df180"
      },
      "execution_count": 41,
      "outputs": [
        {
          "output_type": "execute_result",
          "data": {
            "text/plain": [
              "[7, 8, 10, 13, 15, 19, 20, 23, 25]"
            ]
          },
          "metadata": {},
          "execution_count": 41
        }
      ]
    },
    {
      "cell_type": "code",
      "source": [
        "heights"
      ],
      "metadata": {
        "colab": {
          "base_uri": "https://localhost:8080/"
        },
        "id": "WgGR09hlxD8Z",
        "outputId": "c944fd35-e497-4e4a-c58a-dba2578b4d9a"
      },
      "execution_count": 26,
      "outputs": [
        {
          "output_type": "execute_result",
          "data": {
            "text/plain": [
              "[7, 8, 10, 13, 19, 20, 23]"
            ]
          },
          "metadata": {},
          "execution_count": 26
        }
      ]
    },
    {
      "cell_type": "code",
      "source": [
        "for i in range(9-1,-1,-1):\n",
        "    i\n",
        "print(i)"
      ],
      "metadata": {
        "colab": {
          "base_uri": "https://localhost:8080/"
        },
        "id": "hb9fNe6xw8wN",
        "outputId": "97bd4384-7957-4116-fc89-38b9bf4cbcbf"
      },
      "execution_count": 28,
      "outputs": [
        {
          "output_type": "stream",
          "name": "stdout",
          "text": [
            "0\n"
          ]
        }
      ]
    },
    {
      "cell_type": "code",
      "source": [
        "heights_sum = sum(heights)\n",
        "remove_list = []\n",
        "\n",
        "for fixed in range(9-1,-1,-1):\n",
        "    temp_sum= heights_sum - heights[fixed]\n",
        "    for i in range(9):\n",
        "        if (temp_sum - heights[i] == 100) and (fixed != i):\n",
        "            remove_list.append(heights[fixed])\n",
        "            remove_list.append(heights[i])\n",
        "\n",
        "heights.remove(remove_list[0])\n",
        "heights.remove(remove_list[1])\n",
        "\n",
        "for i in heights:\n",
        "    print(i)"
      ],
      "metadata": {
        "colab": {
          "base_uri": "https://localhost:8080/"
        },
        "id": "-ZtkxgMUt1Fn",
        "outputId": "b541e337-c558-4287-8ded-680ea6271e47"
      },
      "execution_count": 42,
      "outputs": [
        {
          "output_type": "stream",
          "name": "stdout",
          "text": [
            "7\n",
            "8\n",
            "10\n",
            "13\n",
            "19\n",
            "20\n",
            "23\n"
          ]
        }
      ]
    },
    {
      "cell_type": "code",
      "source": [
        "remove_list"
      ],
      "metadata": {
        "colab": {
          "base_uri": "https://localhost:8080/"
        },
        "id": "-0QBxsNwy3dc",
        "outputId": "ffe0c167-3025-4358-c9ed-be05f9d98b28"
      },
      "execution_count": 43,
      "outputs": [
        {
          "output_type": "execute_result",
          "data": {
            "text/plain": [
              "[25, 15, 15, 25]"
            ]
          },
          "metadata": {},
          "execution_count": 43
        }
      ]
    },
    {
      "cell_type": "code",
      "source": [
        "아이디어\n",
        "1.\n",
        "[-1] 팝\n",
        "[:-2] 팝 하나씩\n",
        "합이 100이면 리스트 출력\n",
        "\n",
        "한 바퀴 돌았다.\n",
        "다시 heights 넣고\n",
        "[-2] 팝\n",
        "[:-3] 팝 하나씩\n",
        "\n",
        "2.\n",
        "total 합을 구하고\n",
        "[-1] 빼기\n",
        "[:-2] 빼기\n",
        "합이 100이면\n",
        "해당 값 remove\n",
        "\n",
        "출력."
      ],
      "metadata": {
        "id": "EH1FbQ_Sq7YR"
      },
      "execution_count": null,
      "outputs": []
    },
    {
      "cell_type": "code",
      "source": [
        "키height를 ASC오름차순으로 출력한다.\n",
        "\n",
        "일곱 난쟁이를 찾을 수 없는 경우는 없다 !"
      ],
      "metadata": {
        "id": "P1XLUIuipIsg"
      },
      "execution_count": null,
      "outputs": []
    },
    {
      "cell_type": "code",
      "source": [
        "아홉 명\n",
        "\n",
        "\n",
        "일곱 난쟁이의 키의 합이 100\n",
        "\n",
        "가능한 정답이 여러 가지인 경우에는 아무거나 출력한다"
      ],
      "metadata": {
        "id": "4-wKmlBFpqc3"
      },
      "execution_count": null,
      "outputs": []
    },
    {
      "cell_type": "markdown",
      "source": [
        "---\n",
        "---\n",
        "---"
      ],
      "metadata": {
        "id": "wcn0psay03xV"
      }
    },
    {
      "cell_type": "code",
      "source": [
        "n=9\n",
        "i = 0\n",
        "lis = []\n",
        "while i != n :\n",
        "    lis.append(int(input()))\n",
        "    i+=1"
      ],
      "metadata": {
        "id": "R-5YVyHH0Rou"
      },
      "execution_count": null,
      "outputs": []
    },
    {
      "cell_type": "code",
      "source": [
        "heights = [int(input()) for _ in range(9)]\n",
        "\n",
        "from itertools import combinations\n",
        "\n",
        "comb_list = list(combinations(heights, 7)) # O(2^N) -> 36가지"
      ],
      "metadata": {
        "id": "3cunO3yS0Rrw"
      },
      "execution_count": 45,
      "outputs": []
    },
    {
      "cell_type": "code",
      "source": [
        "comb_list"
      ],
      "metadata": {
        "colab": {
          "base_uri": "https://localhost:8080/"
        },
        "id": "uacykjdt0egO",
        "outputId": "158db67f-b964-4f93-ab12-0c3bc97a3da3"
      },
      "execution_count": 46,
      "outputs": [
        {
          "output_type": "execute_result",
          "data": {
            "text/plain": [
              "[(20, 7, 23, 19, 10, 15, 25),\n",
              " (20, 7, 23, 19, 10, 15, 8),\n",
              " (20, 7, 23, 19, 10, 15, 13),\n",
              " (20, 7, 23, 19, 10, 25, 8),\n",
              " (20, 7, 23, 19, 10, 25, 13),\n",
              " (20, 7, 23, 19, 10, 8, 13),\n",
              " (20, 7, 23, 19, 15, 25, 8),\n",
              " (20, 7, 23, 19, 15, 25, 13),\n",
              " (20, 7, 23, 19, 15, 8, 13),\n",
              " (20, 7, 23, 19, 25, 8, 13),\n",
              " (20, 7, 23, 10, 15, 25, 8),\n",
              " (20, 7, 23, 10, 15, 25, 13),\n",
              " (20, 7, 23, 10, 15, 8, 13),\n",
              " (20, 7, 23, 10, 25, 8, 13),\n",
              " (20, 7, 23, 15, 25, 8, 13),\n",
              " (20, 7, 19, 10, 15, 25, 8),\n",
              " (20, 7, 19, 10, 15, 25, 13),\n",
              " (20, 7, 19, 10, 15, 8, 13),\n",
              " (20, 7, 19, 10, 25, 8, 13),\n",
              " (20, 7, 19, 15, 25, 8, 13),\n",
              " (20, 7, 10, 15, 25, 8, 13),\n",
              " (20, 23, 19, 10, 15, 25, 8),\n",
              " (20, 23, 19, 10, 15, 25, 13),\n",
              " (20, 23, 19, 10, 15, 8, 13),\n",
              " (20, 23, 19, 10, 25, 8, 13),\n",
              " (20, 23, 19, 15, 25, 8, 13),\n",
              " (20, 23, 10, 15, 25, 8, 13),\n",
              " (20, 19, 10, 15, 25, 8, 13),\n",
              " (7, 23, 19, 10, 15, 25, 8),\n",
              " (7, 23, 19, 10, 15, 25, 13),\n",
              " (7, 23, 19, 10, 15, 8, 13),\n",
              " (7, 23, 19, 10, 25, 8, 13),\n",
              " (7, 23, 19, 15, 25, 8, 13),\n",
              " (7, 23, 10, 15, 25, 8, 13),\n",
              " (7, 19, 10, 15, 25, 8, 13),\n",
              " (23, 19, 10, 15, 25, 8, 13)]"
            ]
          },
          "metadata": {},
          "execution_count": 46
        }
      ]
    },
    {
      "cell_type": "code",
      "source": [
        "for sample in comb_list: # O(7 * 36) = O(252)\n",
        "    if sum(sample) == 100:\n",
        "        for i in sorted(sample):\n",
        "            print(i)\n",
        "        break"
      ],
      "metadata": {
        "colab": {
          "base_uri": "https://localhost:8080/"
        },
        "id": "t0iUozIw0fdl",
        "outputId": "e547a9e2-7b07-4c7e-bbd8-e7d7fea4fd60"
      },
      "execution_count": 47,
      "outputs": [
        {
          "output_type": "stream",
          "name": "stdout",
          "text": [
            "7\n",
            "8\n",
            "10\n",
            "13\n",
            "19\n",
            "20\n",
            "23\n"
          ]
        }
      ]
    },
    {
      "cell_type": "code",
      "source": [
        "from math import factorial as f\n",
        "\n",
        "조합수 = f(9) / (f(7) * f(9-7))\n",
        "조합수"
      ],
      "metadata": {
        "colab": {
          "base_uri": "https://localhost:8080/"
        },
        "id": "75c0VrV_4EpW",
        "outputId": "cf4b6383-7694-45ef-9ce3-44f5e6761e06"
      },
      "execution_count": 55,
      "outputs": [
        {
          "output_type": "execute_result",
          "data": {
            "text/plain": [
              "36.0"
            ]
          },
          "metadata": {},
          "execution_count": 55
        }
      ]
    },
    {
      "cell_type": "code",
      "source": [
        "len(comb_list)"
      ],
      "metadata": {
        "colab": {
          "base_uri": "https://localhost:8080/"
        },
        "id": "MuSmPF8S4kKc",
        "outputId": "38c42be9-3daa-420d-e538-a8addacef27c"
      },
      "execution_count": 56,
      "outputs": [
        {
          "output_type": "execute_result",
          "data": {
            "text/plain": [
              "36"
            ]
          },
          "metadata": {},
          "execution_count": 56
        }
      ]
    },
    {
      "cell_type": "code",
      "source": [],
      "metadata": {
        "id": "pNGYsDtU4k5s"
      },
      "execution_count": null,
      "outputs": []
    }
  ]
}