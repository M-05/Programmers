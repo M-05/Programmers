{
  "nbformat": 4,
  "nbformat_minor": 0,
  "metadata": {
    "colab": {
      "provenance": []
    },
    "kernelspec": {
      "name": "python3",
      "display_name": "Python 3"
    },
    "language_info": {
      "name": "python"
    }
  },
  "cells": [
    {
      "cell_type": "markdown",
      "source": [
        "# [크레인 인형뽑기 게임](https://school.programmers.co.kr/learn/courses/30/lessons/64061)"
      ],
      "metadata": {
        "id": "Yf_McBjLWLbi"
      }
    },
    {
      "cell_type": "code",
      "source": [
        "#############\n",
        "# 성공\n",
        "#############\n",
        "def solution(board, moves):\n",
        "    answer = 0\n",
        "    bins = []\n",
        "\n",
        "    for i in moves: # 1 5 3\n",
        "        for j in range(len(board)): # 0, 5\n",
        "            if board[j][i-1] != 0: # board[1 -1][0]\n",
        "                bins.append(board[j][i-1])\n",
        "                board[j][i-1] = 0\n",
        "\n",
        "                if len(bins) >1:\n",
        "                    if bins[-1] == bins[-2]:\n",
        "                        bins.pop()\n",
        "                        bins.pop()\n",
        "                        answer += 2\n",
        "                break\n",
        "\n",
        "    return answer"
      ],
      "metadata": {
        "id": "22PlooWsa0qn"
      },
      "execution_count": null,
      "outputs": []
    },
    {
      "cell_type": "code",
      "source": [
        "board = [[0,0,0,0,0],[0,0,1,0,3],[0,2,5,0,1],[4,2,4,4,2],[3,5,1,3,1]]\n",
        "moves = [1,5,3,5,1,2,1,4]\n",
        "\n",
        "solution(board, moves)"
      ],
      "metadata": {
        "colab": {
          "base_uri": "https://localhost:8080/"
        },
        "id": "Zh7zlwQq4INZ",
        "outputId": "338869e8-a32c-4b89-b2d5-adf4146a5654"
      },
      "execution_count": null,
      "outputs": [
        {
          "output_type": "execute_result",
          "data": {
            "text/plain": [
              "4"
            ]
          },
          "metadata": {},
          "execution_count": 92
        }
      ]
    },
    {
      "cell_type": "code",
      "source": [
        "#############\n",
        "# 성공\n",
        "#############\n",
        "def solution(board, moves):\n",
        "    answer = 0\n",
        "    bins = []\n",
        "\n",
        "    for i in moves: # 1 5 3\n",
        "        for j in range(len(board)): # 0, 5\n",
        "            if board[j][i-1] != 0: # board[1 -1][0]\n",
        "                if bins and bins[-1] == board[j][i-1]:\n",
        "                    bins.pop()\n",
        "                    board[j][i-1] = 0\n",
        "                    answer += 2\n",
        "                else:\n",
        "                    bins.append(board[j][i-1])\n",
        "                    board[j][i-1] = 0\n",
        "                break\n",
        "\n",
        "    return answer"
      ],
      "metadata": {
        "id": "7Zt5V0VI4Ssc"
      },
      "execution_count": null,
      "outputs": []
    },
    {
      "cell_type": "code",
      "source": [
        "board = [[0,0,0,0,0],[0,0,1,0,3],[0,2,5,0,1],[4,2,4,4,2],[3,5,1,3,1]]\n",
        "moves = [1,5,3,5,1,2,1,4]\n",
        "\n",
        "solution(board, moves)"
      ],
      "metadata": {
        "colab": {
          "base_uri": "https://localhost:8080/"
        },
        "id": "9_vU8jQ75eRC",
        "outputId": "85395166-91a0-41ae-d468-2e567d3a8584"
      },
      "execution_count": null,
      "outputs": [
        {
          "output_type": "execute_result",
          "data": {
            "text/plain": [
              "4"
            ]
          },
          "metadata": {},
          "execution_count": 98
        }
      ]
    },
    {
      "cell_type": "code",
      "source": [
        "#############\n",
        "# 성공\n",
        "#############\n",
        "def solution(board, moves):\n",
        "    answer = 0\n",
        "    bins = []\n",
        "\n",
        "    for i in moves: # 1 5 3\n",
        "        for j in range(len(board)): # 0, 5\n",
        "            if board[j][i-1] != 0: # board[1 -1][0]\n",
        "                if bins:\n",
        "                    if bins[-1] == board[j][i-1]:\n",
        "                        bins.pop()\n",
        "                        board[j][i-1] = 0\n",
        "                        answer += 2\n",
        "                    else:\n",
        "                        bins.append(board[j][i-1])\n",
        "                        board[j][i-1] = 0\n",
        "\n",
        "                else:\n",
        "                    bins.append(board[j][i-1])\n",
        "                    board[j][i-1] = 0\n",
        "                break\n",
        "    return answer"
      ],
      "metadata": {
        "id": "-JGEdZl06I08"
      },
      "execution_count": null,
      "outputs": []
    },
    {
      "cell_type": "code",
      "source": [
        "board = [[0,0,0,0,0],[0,0,1,0,3],[0,2,5,0,1],[4,2,4,4,2],[3,5,1,3,1]]\n",
        "moves = [1,5,3,5,1,2,1,4]\n",
        "\n",
        "solution(board, moves)"
      ],
      "metadata": {
        "colab": {
          "base_uri": "https://localhost:8080/"
        },
        "id": "_4e84Qsn6IoT",
        "outputId": "6f383e9b-58f3-4204-cde3-a35ed22178f2"
      },
      "execution_count": null,
      "outputs": [
        {
          "output_type": "execute_result",
          "data": {
            "text/plain": [
              "4"
            ]
          },
          "metadata": {},
          "execution_count": 100
        }
      ]
    },
    {
      "cell_type": "code",
      "source": [
        "def solution(board, moves):\n",
        "    answer = 0\n",
        "    bins = []\n",
        "\n",
        "    for i in moves: # 1 5 3\n",
        "        for j in range(len(board)): # 0, 5\n",
        "            if board[j][i-1] != 0: # board[1 -1][0]\n",
        "                if bins:\n",
        "                    if bins[-1] == board[j][i-1]:\n",
        "                        bins.pop()\n",
        "\n",
        "                        answer += 2\n",
        "                    else:\n",
        "                        bins.append(board[j][i-1])\n",
        "\n",
        "                    board[j][i-1] = 0\n",
        "                else:\n",
        "                    bins.append(board[j][i-1])\n",
        "\n",
        "                board[j][i-1] = 0\n",
        "                break\n",
        "    # print(board)\n",
        "    return answer"
      ],
      "metadata": {
        "id": "waBeT5yS7Dsw"
      },
      "execution_count": null,
      "outputs": []
    }
  ]
}