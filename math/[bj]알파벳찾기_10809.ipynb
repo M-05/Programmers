{
  "nbformat": 4,
  "nbformat_minor": 0,
  "metadata": {
    "colab": {
      "provenance": []
    },
    "kernelspec": {
      "name": "python3",
      "display_name": "Python 3"
    },
    "language_info": {
      "name": "python"
    }
  },
  "cells": [
    {
      "cell_type": "markdown",
      "source": [
        "# [알파벳 찾기 10809](https://www.acmicpc.net/problem/10809)\n",
        "\n",
        "- 구현\n",
        "- 문자열"
      ],
      "metadata": {
        "id": "3QDoWr5oTSmA"
      }
    },
    {
      "cell_type": "code",
      "source": [
        "import string\n",
        "\n",
        "s = 'baekjoon'\n",
        "\n",
        "alphabet = string.ascii_lowercase\n",
        "alphabet"
      ],
      "metadata": {
        "colab": {
          "base_uri": "https://localhost:8080/",
          "height": 34
        },
        "id": "oamJqKSXTQC-",
        "outputId": "d028e06b-f220-4649-ea51-81e41a7d175e"
      },
      "execution_count": 2,
      "outputs": [
        {
          "output_type": "execute_result",
          "data": {
            "text/plain": [
              "'abcdefghijklmnopqrstuvwxyz'"
            ],
            "application/vnd.google.colaboratory.intrinsic+json": {
              "type": "string"
            }
          },
          "metadata": {},
          "execution_count": 2
        }
      ]
    },
    {
      "cell_type": "code",
      "source": [
        "answer = []\n",
        "\n",
        "for a in alphabet:\n",
        "    if a in s:\n",
        "        answer.append(s.index(a))\n",
        "    else:\n",
        "        answer.append(-1)\n",
        "print(*answer)"
      ],
      "metadata": {
        "colab": {
          "base_uri": "https://localhost:8080/"
        },
        "id": "aT2dzof8TSDA",
        "outputId": "540b0617-8121-41c6-bc7f-b256560df983"
      },
      "execution_count": 3,
      "outputs": [
        {
          "output_type": "stream",
          "name": "stdout",
          "text": [
            "1 0 -1 -1 2 -1 -1 -1 -1 4 3 -1 -1 7 5 -1 -1 -1 -1 -1 -1 -1 -1 -1 -1 -1\n"
          ]
        }
      ]
    },
    {
      "cell_type": "code",
      "execution_count": 1,
      "metadata": {
        "colab": {
          "base_uri": "https://localhost:8080/"
        },
        "id": "ojnmdRT5TJNc",
        "outputId": "38a22778-81c5-4c61-853e-6cc39caa9d22"
      },
      "outputs": [
        {
          "output_type": "stream",
          "name": "stdout",
          "text": [
            "baekjoon\n",
            "1 0 -1 -1 2 -1 -1 -1 -1 4 3 -1 -1 7 5 -1 -1 -1 -1 -1 -1 -1 -1 -1 -1 -1\n"
          ]
        }
      ],
      "source": [
        "import string\n",
        "\n",
        "s = input() #'baekjoon'\n",
        "alphabet = string.ascii_lowercase\n",
        "\n",
        "answer = [s.index(a) if a in s else -1 for a in alphabet]\n",
        "print(*answer)"
      ]
    },
    {
      "cell_type": "markdown",
      "source": [
        "---"
      ],
      "metadata": {
        "id": "ryvd1Ea3TLcp"
      }
    },
    {
      "cell_type": "code",
      "source": [
        "word = 'baekjoon'\n",
        "answer = [-1] * 26\n",
        "\n",
        "for i in range(len(word)):\n",
        "    index = ord(word[i]) - ord('a')\n",
        "    print(index) # alphabet의 위치\n",
        "\n",
        "    if answer[index] == -1:\n",
        "        answer[index] = i # 단어의 위치\n",
        "print(*answer)"
      ],
      "metadata": {
        "colab": {
          "base_uri": "https://localhost:8080/"
        },
        "id": "4RAD5j0cTwBZ",
        "outputId": "2af4bb99-77b2-48bc-d1ad-6f818256fa5c"
      },
      "execution_count": 12,
      "outputs": [
        {
          "output_type": "stream",
          "name": "stdout",
          "text": [
            "1\n",
            "0\n",
            "4\n",
            "10\n",
            "9\n",
            "14\n",
            "14\n",
            "13\n",
            "1 0 -1 -1 2 -1 -1 -1 -1 4 3 -1 -1 7 5 -1 -1 -1 -1 -1 -1 -1 -1 -1 -1 -1\n"
          ]
        }
      ]
    },
    {
      "cell_type": "code",
      "source": [],
      "metadata": {
        "id": "UoMO-toUVK26"
      },
      "execution_count": null,
      "outputs": []
    }
  ]
}