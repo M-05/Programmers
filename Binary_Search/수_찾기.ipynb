{
  "nbformat": 4,
  "nbformat_minor": 0,
  "metadata": {
    "colab": {
      "provenance": []
    },
    "kernelspec": {
      "name": "python3",
      "display_name": "Python 3"
    },
    "language_info": {
      "name": "python"
    }
  },
  "cells": [
    {
      "cell_type": "markdown",
      "source": [
        "# [수 찾기 1920](https://www.acmicpc.net/problem/1920)\n",
        "\n",
        "- 자료 구조\n",
        "- 정렬\n",
        "- 이분 탐색\n",
        "\n",
        "N, M = 10 ** 5"
      ],
      "metadata": {
        "id": "d3tRIUgSfnzV"
      }
    },
    {
      "cell_type": "code",
      "source": [
        "2 **31"
      ],
      "metadata": {
        "colab": {
          "base_uri": "https://localhost:8080/"
        },
        "id": "QAqlL050hSk1",
        "outputId": "41c28a83-e327-492c-b777-e398b5c757a6"
      },
      "execution_count": 5,
      "outputs": [
        {
          "output_type": "execute_result",
          "data": {
            "text/plain": [
              "2147483648"
            ]
          },
          "metadata": {},
          "execution_count": 5
        }
      ]
    },
    {
      "cell_type": "code",
      "execution_count": 1,
      "metadata": {
        "id": "chrl4OhafGIx"
      },
      "outputs": [],
      "source": [
        "import sys\n",
        "\n",
        "with open('./bj.txt', 'w') as f:\n",
        "    f.write('''5\n",
        "4 1 5 2 3\n",
        "5\n",
        "1 3 7 9 5''')\n",
        "\n",
        "sys.stdin = open('./bj.txt', 'r')\n",
        "\n",
        "input = sys.stdin.readline"
      ]
    },
    {
      "cell_type": "code",
      "source": [
        "N = int(input())\n",
        "listN = sorted(list(map(int, input().split())))\n",
        "M = int(input())\n",
        "listM = list(map(int, input().split()))\n",
        "# M 개의 줄 출력"
      ],
      "metadata": {
        "id": "_V0OPuLLg0Hp"
      },
      "execution_count": 2,
      "outputs": []
    },
    {
      "cell_type": "code",
      "source": [
        "listN"
      ],
      "metadata": {
        "colab": {
          "base_uri": "https://localhost:8080/"
        },
        "id": "uXc83aRsg0Ks",
        "outputId": "8a32c644-b436-4125-be24-b6a2ac8a8331"
      },
      "execution_count": 23,
      "outputs": [
        {
          "output_type": "execute_result",
          "data": {
            "text/plain": [
              "[4, 1, 5, 2, 3]"
            ]
          },
          "metadata": {},
          "execution_count": 23
        }
      ]
    },
    {
      "cell_type": "code",
      "source": [
        "listM"
      ],
      "metadata": {
        "colab": {
          "base_uri": "https://localhost:8080/"
        },
        "id": "fDp_Wi3zpsxS",
        "outputId": "e59454ca-cd6e-439f-abf2-c150bb8f9057"
      },
      "execution_count": 22,
      "outputs": [
        {
          "output_type": "execute_result",
          "data": {
            "text/plain": [
              "[1, 3, 7, 9, 5]"
            ]
          },
          "metadata": {},
          "execution_count": 22
        }
      ]
    },
    {
      "cell_type": "code",
      "source": [],
      "metadata": {
        "id": "xoBmwsZitY0y"
      },
      "execution_count": null,
      "outputs": []
    },
    {
      "cell_type": "code",
      "source": [
        "dictM = {m:0 for m in listM}"
      ],
      "metadata": {
        "id": "-Bxg8y9Rg0TS"
      },
      "execution_count": 10,
      "outputs": []
    },
    {
      "cell_type": "code",
      "source": [
        "for n in listN:\n",
        "    if n in dictM:\n",
        "        dictM[n] += 1"
      ],
      "metadata": {
        "id": "6_NkJWbYg0WJ"
      },
      "execution_count": 11,
      "outputs": []
    },
    {
      "cell_type": "code",
      "source": [
        "for i in dictM.values():\n",
        "    print(i)"
      ],
      "metadata": {
        "colab": {
          "base_uri": "https://localhost:8080/"
        },
        "id": "fHlf2Vmjg0fV",
        "outputId": "58fa2d2b-0f03-4479-d59a-7b6e12d25dd2"
      },
      "execution_count": 13,
      "outputs": [
        {
          "output_type": "stream",
          "name": "stdout",
          "text": [
            "1\n",
            "1\n",
            "0\n",
            "0\n",
            "1\n"
          ]
        }
      ]
    },
    {
      "cell_type": "code",
      "source": [
        "###################\n",
        "# 틀렸다\n",
        "###################\n",
        "import sys\n",
        "input = sys.stdin.readline\n",
        "\n",
        "N = int(input())\n",
        "listN = sorted(list(map(int, input().split())))\n",
        "M = int(input())\n",
        "listM = list(map(int, input().split()))\n",
        "\n",
        "dictM = {m:0 for m in listM}\n",
        "for n in listN:\n",
        "    if n in dictM:\n",
        "        dictM[n] += 1\n",
        "\n",
        "for i in dictM.values():\n",
        "    print(i)"
      ],
      "metadata": {
        "colab": {
          "base_uri": "https://localhost:8080/"
        },
        "id": "QCg0d-BZj6Jo",
        "outputId": "5e4e2ade-4014-4304-b6d7-656343bc945c"
      },
      "execution_count": 15,
      "outputs": [
        {
          "output_type": "stream",
          "name": "stdout",
          "text": [
            "1\n",
            "1\n",
            "0\n",
            "0\n",
            "1\n"
          ]
        }
      ]
    },
    {
      "cell_type": "code",
      "source": [
        "# start, end = 0, M-1\n",
        "# answer = []\n",
        "\n",
        "for m in listM:\n",
        "    start, end = 0, M -1\n",
        "    answer = 0\n",
        "    while start <=end:\n",
        "        middle = (start + end) // 2\n",
        "        if listN[middle] < m:\n",
        "            start = middle +1\n",
        "\n",
        "        elif listN[middle] > m:\n",
        "            end = middle -1\n",
        "\n",
        "        else:\n",
        "            answer = 1\n",
        "            break\n",
        "\n",
        "    print(answer)"
      ],
      "metadata": {
        "colab": {
          "base_uri": "https://localhost:8080/"
        },
        "id": "rYEtCe412bku",
        "outputId": "d2c9ba33-127a-446d-99c7-ad423416e798"
      },
      "execution_count": 98,
      "outputs": [
        {
          "output_type": "stream",
          "name": "stdout",
          "text": [
            "1\n",
            "1\n",
            "0\n",
            "0\n",
            "1\n"
          ]
        }
      ]
    },
    {
      "cell_type": "code",
      "source": [
        "######\n",
        "# pass\n",
        "######\n",
        "def binary_search(array, target, start, end):\n",
        "    if start > end:\n",
        "        return 0\n",
        "    middle = (start+end) // 2\n",
        "\n",
        "    if array[middle] == target:\n",
        "        return 1\n",
        "\n",
        "    elif array[middle] > target:\n",
        "        return binary_search(array, target, start, middle-1)\n",
        "    elif array[middle] < target:\n",
        "        return binary_search(array, target, middle+1, end)\n",
        "\n",
        "\n",
        "for m in listM:\n",
        "    print(binary_search(listN, m, 0, N-1))"
      ],
      "metadata": {
        "colab": {
          "base_uri": "https://localhost:8080/"
        },
        "id": "G0qt_03qQBdL",
        "outputId": "51ed9e46-99d1-4d42-f58d-22da1f15a651"
      },
      "execution_count": 28,
      "outputs": [
        {
          "output_type": "stream",
          "name": "stdout",
          "text": [
            "1\n",
            "1\n",
            "0\n",
            "0\n",
            "1\n"
          ]
        }
      ]
    },
    {
      "cell_type": "code",
      "source": [],
      "metadata": {
        "id": "sBS2BDRVQBaN"
      },
      "execution_count": null,
      "outputs": []
    },
    {
      "cell_type": "code",
      "source": [
        "N개의 정수 A[1], A[2], …, A[N]이 주어져 있을 때,\n",
        "A = [_, 4 1 5 2 3]\n",
        "이 안에 X라는 정수가 존재하는지 알아내는 프로그램을 작성하시오.\n",
        "X라는 정수?\n",
        "\n",
        "\n",
        "입력\n",
        "첫째 줄에 자연수 N(1 ≤ N ≤ 100,000)이 주어진다.\n",
        "5\n",
        "다음 줄에는 N개의 정수 A[1], A[2], …, A[N]이 주어진다.\n",
        "A = [_, 4 1 5 2 3]\n",
        "다음 줄에는 M(1 ≤ M ≤ 100,000)이 주어진다.\n",
        "5\n",
        "다음 줄에는 M개의 수들이 주어지는데, 이 수들이 A안에 존재하는지 알아내면 된다.\n",
        "[1 3, 7, 9, 5] 해당 수들이 A 안에 들어가있냐\n",
        "\n",
        "모든 정수의 범위는 -231 보다 크거나 같고 231보다 작다.\n",
        "\n",
        "출력\n",
        "M개의 줄에 답을 출력한다.\n",
        "존재하면 1을, 존재하지 않으면 0을 출력한다.\n",
        "\n"
      ],
      "metadata": {
        "id": "jhdWL8bJwhFm"
      },
      "execution_count": null,
      "outputs": []
    },
    {
      "cell_type": "code",
      "source": [
        "print(*listM, sep='\\n')"
      ],
      "metadata": {
        "colab": {
          "base_uri": "https://localhost:8080/"
        },
        "id": "75lPj-4JyVWo",
        "outputId": "42912292-8a3b-4a25-96f2-f6dd6ac027c3"
      },
      "execution_count": 41,
      "outputs": [
        {
          "output_type": "stream",
          "name": "stdout",
          "text": [
            "1\n",
            "3\n",
            "7\n",
            "9\n",
            "5\n"
          ]
        }
      ]
    },
    {
      "cell_type": "code",
      "source": [],
      "metadata": {
        "id": "L4N-qFo7RecE"
      },
      "execution_count": null,
      "outputs": []
    },
    {
      "cell_type": "code",
      "source": [
        "# Fail\n",
        "\n",
        "import sys\n",
        "input = sys.stdin.readline\n",
        "\n",
        "N = int(input())\n",
        "setN = set(map(int, input().split()))\n",
        "M = int(input())\n",
        "listM = list(map(int, input().split()))\n",
        "\n",
        "answer = []\n",
        "for m in listM:\n",
        "    if m in setN:\n",
        "        answer.append(1)\n",
        "    else:\n",
        "        answer.append(0)\n",
        "print(answer, sep='\\n') ###"
      ],
      "metadata": {
        "colab": {
          "base_uri": "https://localhost:8080/"
        },
        "id": "8r53-cG8Reeh",
        "outputId": "4cc79079-457c-4de5-dcf8-1d9017ba353c"
      },
      "execution_count": 89,
      "outputs": [
        {
          "output_type": "stream",
          "name": "stdout",
          "text": [
            "[1, 1, 0, 0, 1]\n"
          ]
        }
      ]
    },
    {
      "cell_type": "code",
      "source": [
        "######\n",
        "# pass\n",
        "######\n",
        "\n",
        "import sys\n",
        "input = sys.stdin.readline\n",
        "\n",
        "N = int(input())\n",
        "setN = set(map(int, input().split()))\n",
        "M = int(input())\n",
        "listM = list(map(int, input().split()))\n",
        "\n",
        "answer = []\n",
        "for m in listM:\n",
        "    if m in setN:\n",
        "        print(1) ###\n",
        "    else:\n",
        "        print(0) ###\n",
        "# print(answer, sep='\\n')"
      ],
      "metadata": {
        "id": "urrH3VvJRguO"
      },
      "execution_count": null,
      "outputs": []
    },
    {
      "cell_type": "code",
      "source": [],
      "metadata": {
        "id": "-xWMigpIN5Mh"
      },
      "execution_count": null,
      "outputs": []
    },
    {
      "cell_type": "markdown",
      "source": [
        "---\n"
      ],
      "metadata": {
        "id": "V1CagG8YOj8K"
      }
    },
    {
      "cell_type": "code",
      "source": [
        "A = list(map(int, stdin.readline().split()))\n",
        "M = stdin.readline()\n",
        "data = list(map(int, stdin.readline().split()))\n",
        "\n",
        "hash_table = dict()\n",
        "\n",
        "for a in A:\n",
        "    hash_table[a] = True\n",
        "\n",
        "result = list()\n",
        "\n",
        "for d in data:\n",
        "    if hash_table.get(d):\n",
        "        result.append('1')\n",
        "    else:\n",
        "        result.append('0')\n",
        "\n",
        "print('\\n'.join(result))"
      ],
      "metadata": {
        "id": "pRUHjQQ5Omk4"
      },
      "execution_count": null,
      "outputs": []
    },
    {
      "cell_type": "code",
      "source": [
        "listN, listM"
      ],
      "metadata": {
        "colab": {
          "base_uri": "https://localhost:8080/"
        },
        "id": "6D2v7JYkN5TW",
        "outputId": "0f93c052-25ee-498c-ff0f-b7aed8702955"
      },
      "execution_count": 7,
      "outputs": [
        {
          "output_type": "execute_result",
          "data": {
            "text/plain": [
              "([1, 2, 3, 4, 5], [1, 3, 7, 9, 5])"
            ]
          },
          "metadata": {},
          "execution_count": 7
        }
      ]
    },
    {
      "cell_type": "code",
      "source": [
        "temp = {n:True for n in listN}"
      ],
      "metadata": {
        "id": "6dUbht4_OLbW"
      },
      "execution_count": 8,
      "outputs": []
    },
    {
      "cell_type": "code",
      "source": [
        "temp.get(9)"
      ],
      "metadata": {
        "id": "WrSLDEG5OLd2"
      },
      "execution_count": 10,
      "outputs": []
    },
    {
      "cell_type": "code",
      "source": [
        "temp[9]"
      ],
      "metadata": {
        "colab": {
          "base_uri": "https://localhost:8080/",
          "height": 169
        },
        "id": "ecW01leqOLg6",
        "outputId": "bb5ae478-c52e-4aa9-fd3b-7bfc23d6bf43"
      },
      "execution_count": 13,
      "outputs": [
        {
          "output_type": "error",
          "ename": "KeyError",
          "evalue": "ignored",
          "traceback": [
            "\u001b[0;31m---------------------------------------------------------------------------\u001b[0m",
            "\u001b[0;31mKeyError\u001b[0m                                  Traceback (most recent call last)",
            "\u001b[0;32m<ipython-input-13-2ea3fc7121f9>\u001b[0m in \u001b[0;36m<cell line: 1>\u001b[0;34m()\u001b[0m\n\u001b[0;32m----> 1\u001b[0;31m \u001b[0mtemp\u001b[0m\u001b[0;34m[\u001b[0m\u001b[0;36m9\u001b[0m\u001b[0;34m]\u001b[0m\u001b[0;34m\u001b[0m\u001b[0;34m\u001b[0m\u001b[0m\n\u001b[0m",
            "\u001b[0;31mKeyError\u001b[0m: 9"
          ]
        }
      ]
    },
    {
      "cell_type": "code",
      "source": [
        "temp.get(1)"
      ],
      "metadata": {
        "colab": {
          "base_uri": "https://localhost:8080/"
        },
        "id": "4L-llKcqOZm1",
        "outputId": "5e71eb5f-0432-43a6-e497-e385fbc2fe36"
      },
      "execution_count": 14,
      "outputs": [
        {
          "output_type": "execute_result",
          "data": {
            "text/plain": [
              "True"
            ]
          },
          "metadata": {},
          "execution_count": 14
        }
      ]
    },
    {
      "cell_type": "code",
      "source": [
        "temp[1]"
      ],
      "metadata": {
        "colab": {
          "base_uri": "https://localhost:8080/"
        },
        "id": "xuAL8QbNOidu",
        "outputId": "f0af50cd-743b-40a7-98b9-df82c6bcec60"
      },
      "execution_count": 15,
      "outputs": [
        {
          "output_type": "execute_result",
          "data": {
            "text/plain": [
              "True"
            ]
          },
          "metadata": {},
          "execution_count": 15
        }
      ]
    },
    {
      "cell_type": "markdown",
      "source": [
        "---"
      ],
      "metadata": {
        "id": "2lIg9-LsOjBE"
      }
    },
    {
      "cell_type": "code",
      "source": [],
      "metadata": {
        "id": "2tr2UyZaVcG2"
      },
      "execution_count": null,
      "outputs": []
    }
  ]
}