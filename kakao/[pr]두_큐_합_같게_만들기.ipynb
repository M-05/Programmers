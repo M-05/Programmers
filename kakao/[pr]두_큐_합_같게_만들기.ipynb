{
  "nbformat": 4,
  "nbformat_minor": 0,
  "metadata": {
    "colab": {
      "provenance": []
    },
    "kernelspec": {
      "name": "python3",
      "display_name": "Python 3"
    },
    "language_info": {
      "name": "python"
    }
  },
  "cells": [
    {
      "cell_type": "markdown",
      "source": [
        "# [두 큐 합 같게 만들기](https://school.programmers.co.kr/learn/courses/30/lessons/118667)"
      ],
      "metadata": {
        "id": "N_RnXUO4FG5i"
      }
    },
    {
      "cell_type": "code",
      "source": [
        "######\n",
        "# 53.3\n",
        "# 3개 실패, 나머지 시간초과\n",
        "######\n",
        "\n",
        "from collections import deque\n",
        "\n",
        "def solution(queue1, queue2):\n",
        "\n",
        "    q1 = deque(queue1)\n",
        "    q2 = deque(queue2)\n",
        "    total_sum = sum(q1) + sum(q2)\n",
        "    cnt = 0\n",
        "    side_sum = total_sum // 2\n",
        "\n",
        "    if total_sum % 2 != 0: # 짝수가 아니면 -1 출력.\n",
        "        return -1\n",
        "    elif max(queue1 + queue2) > side_sum:\n",
        "        return -1\n",
        "\n",
        "    for _ in range(len(queue1) * 2):\n",
        "        if sum(q1) > sum(q2):\n",
        "            q2.append(q1.popleft())\n",
        "        else:\n",
        "            q1.append(q2.popleft())\n",
        "        cnt += 1\n",
        "\n",
        "        if sum(q1) == side_sum:\n",
        "            break\n",
        "\n",
        "    return cnt"
      ],
      "metadata": {
        "id": "mHAtKncIf8L1"
      },
      "execution_count": null,
      "outputs": []
    },
    {
      "cell_type": "code",
      "source": [
        "####################\n",
        "# 합계: 83.3 / 100.0\n",
        "# sum 함수 없이 for loop\n",
        "####################\n",
        "\n",
        "from collections import deque\n",
        "\n",
        "def solution(queue1, queue2):\n",
        "\n",
        "    q1 = deque(queue1)\n",
        "    q2 = deque(queue2)\n",
        "\n",
        "    left_q_sum = sum(q1)\n",
        "    right_q_sum = sum(q2)\n",
        "\n",
        "    total_sum = left_q_sum + right_q_sum\n",
        "    cnt = 0\n",
        "    side_sum = total_sum // 2\n",
        "\n",
        "    if total_sum % 2 != 0: # 짝수가 아니면 -1 출력.\n",
        "        return -1\n",
        "    elif max(queue1 + queue2) > side_sum:\n",
        "        return -1\n",
        "\n",
        "\n",
        "\n",
        "    for _ in range(len(queue1) * 2):\n",
        "        if left_q_sum > right_q_sum:\n",
        "            temp_q = q1.popleft()\n",
        "            q2.append(temp_q)\n",
        "            left_q_sum -= temp_q\n",
        "            right_q_sum += temp_q\n",
        "\n",
        "        else:\n",
        "            temp_q = q2.popleft()\n",
        "            q1.append(temp_q)\n",
        "            left_q_sum += temp_q\n",
        "            right_q_sum -= temp_q\n",
        "\n",
        "        cnt += 1\n",
        "        if left_q_sum == right_q_sum:\n",
        "            break\n",
        "\n",
        "    return cnt"
      ],
      "metadata": {
        "id": "ovJggxSwf8Iu"
      },
      "execution_count": null,
      "outputs": []
    },
    {
      "cell_type": "code",
      "source": [
        "####################################\n",
        "# 86.7\n",
        "# -1 을 출력을 위한 예외 처리 없애기.\n",
        "\n",
        "from collections import deque\n",
        "\n",
        "def solution(queue1, queue2):\n",
        "\n",
        "    q1 = deque(queue1)\n",
        "    q2 = deque(queue2)\n",
        "\n",
        "    left_q_sum = sum(q1)\n",
        "    right_q_sum = sum(q2)\n",
        "\n",
        "    cnt = 0\n",
        "\n",
        "    for i in range(len(queue1) * 2):\n",
        "        if left_q_sum > right_q_sum:\n",
        "            temp_q = q1.popleft()\n",
        "            q2.append(temp_q)\n",
        "            left_q_sum -= temp_q\n",
        "            right_q_sum += temp_q\n",
        "\n",
        "        else:\n",
        "            temp_q = q2.popleft()\n",
        "            q1.append(temp_q)\n",
        "            left_q_sum += temp_q\n",
        "            right_q_sum -= temp_q\n",
        "\n",
        "\n",
        "        if left_q_sum == right_q_sum:\n",
        "            cnt = i\n",
        "            break\n",
        "    if cnt == 0:\n",
        "        return -1\n",
        "    else:\n",
        "        return cnt + 1"
      ],
      "metadata": {
        "id": "oNhG0kJDmAKX"
      },
      "execution_count": null,
      "outputs": []
    },
    {
      "cell_type": "code",
      "source": [
        "####################################\n",
        "# 90\n",
        "# left_sum == right_sum 미리 비\n",
        "\n",
        "from collections import deque\n",
        "\n",
        "def solution(queue1, queue2):\n",
        "    # queue로 변환\n",
        "    left_q = deque(queue1)\n",
        "    right_q = deque(queue2)\n",
        "    # 미리 sum 만들기. -> 시간 초과 방지.\n",
        "    left_sum = sum(left_q)\n",
        "    right_sum = sum(right_q)\n",
        "    # queue의 길이 만큼 2번만 돌면 원위치.\n",
        "    cnt = 0\n",
        "    for i in range(len(left_q) *2):\n",
        "        if left_sum == right_sum:\n",
        "            cnt = i\n",
        "            break\n",
        "\n",
        "        if left_sum > right_sum:\n",
        "            temp_q = left_q.popleft()\n",
        "            right_q.append(temp_q)\n",
        "            left_sum -= temp_q\n",
        "            right_sum += temp_q\n",
        "        else:\n",
        "            temp_q = right_q.popleft()\n",
        "            left_q.append(temp_q)\n",
        "            left_sum += temp_q\n",
        "            right_sum -= temp_q\n",
        "\n",
        "    if cnt == 0:\n",
        "        return -1\n",
        "    else:\n",
        "        return cnt"
      ],
      "metadata": {
        "id": "0p-ZOMblulDo"
      },
      "execution_count": null,
      "outputs": []
    },
    {
      "cell_type": "code",
      "source": [
        "a = [1, 2, 3, 4, 5]\n",
        "len_a = len(a)\n",
        "\n",
        "for i in range(len_a):\n",
        "    a.pop()\n",
        "    print(i)\n",
        "\n"
      ],
      "metadata": {
        "colab": {
          "base_uri": "https://localhost:8080/"
        },
        "id": "Kb1RofePy98T",
        "outputId": "6fd1e836-1edf-4d0a-bf1a-39b187d74b4d"
      },
      "execution_count": 2,
      "outputs": [
        {
          "output_type": "stream",
          "name": "stdout",
          "text": [
            "0\n",
            "1\n",
            "2\n",
            "3\n",
            "4\n"
          ]
        }
      ]
    },
    {
      "cell_type": "code",
      "source": [
        "a = [1, 2, 3, 4, 5]\n",
        "for i in range(len(a)):\n",
        "    a.pop()\n",
        "    print(i)"
      ],
      "metadata": {
        "colab": {
          "base_uri": "https://localhost:8080/"
        },
        "id": "qIAoLCoYzSmR",
        "outputId": "423ef877-430c-4e9b-fb1f-e2f84967dcc3"
      },
      "execution_count": 3,
      "outputs": [
        {
          "output_type": "stream",
          "name": "stdout",
          "text": [
            "0\n",
            "1\n",
            "2\n",
            "3\n",
            "4\n"
          ]
        }
      ]
    },
    {
      "cell_type": "code",
      "source": [],
      "metadata": {
        "id": "9ksMOELszWzK"
      },
      "execution_count": null,
      "outputs": []
    },
    {
      "cell_type": "code",
      "source": [
        "# 100\n",
        "#  while 이용\n",
        "\n",
        "from collections import deque\n",
        "\n",
        "def solution(queue1, queue2):\n",
        "    # queue로 변환\n",
        "    left_q = deque(queue1)\n",
        "    right_q = deque(queue2)\n",
        "    # 미리 sum 만들기. -> 시간 초과 방지.\n",
        "    left_sum = sum(left_q)\n",
        "    right_sum = sum(right_q)\n",
        "\n",
        "    # if (left_sum + right_sum) % 2 !=0:\n",
        "    #     return -1\n",
        "\n",
        "    # queue의 길이 만큼 2번만 돌면 원위치.\n",
        "    cnt = 0\n",
        "    len_q = len(left_q)\n",
        "\n",
        "    while len_q * 3 > cnt:\n",
        "    # for i in range(len_q *2): # while 아님 for loop 가능\n",
        "        if left_sum == right_sum:\n",
        "            return cnt\n",
        "\n",
        "        elif left_sum > right_sum:\n",
        "            temp_q = left_q.popleft()\n",
        "            right_q.append(temp_q)\n",
        "            left_sum -= temp_q\n",
        "            right_sum += temp_q\n",
        "        else:\n",
        "            temp_q = right_q.popleft()\n",
        "            left_q.append(temp_q)\n",
        "            left_sum += temp_q\n",
        "            right_sum -= temp_q\n",
        "        cnt += 1\n",
        "    return -1"
      ],
      "metadata": {
        "id": "Vy_mwBTnxtHJ"
      },
      "execution_count": null,
      "outputs": []
    },
    {
      "cell_type": "code",
      "source": [
        "# 100\n",
        "# for loop 이용\n",
        "\n",
        "from collections import deque\n",
        "\n",
        "def solution(queue1, queue2):\n",
        "    # queue로 변환\n",
        "    left_q = deque(queue1)\n",
        "    right_q = deque(queue2)\n",
        "    # 미리 sum 만들기. -> 시간 초과 방지.\n",
        "    left_sum = sum(left_q)\n",
        "    right_sum = sum(right_q)\n",
        "\n",
        "    # if (left_sum + right_sum) % 2 !=0:\n",
        "    #     return -1\n",
        "\n",
        "    # queue의 길이 만큼 2번만 돌면 원위치.\n",
        "    # cnt = 0\n",
        "    len_q = len(left_q)\n",
        "\n",
        "    # while len_q * 3 > cnt:\n",
        "    for cnt in range(len(left_q) *3): # while 아님 for loop 가능\n",
        "        if left_sum == right_sum:\n",
        "            return cnt\n",
        "\n",
        "        elif left_sum > right_sum:\n",
        "            temp_q = left_q.popleft()\n",
        "            right_q.append(temp_q)\n",
        "            left_sum -= temp_q\n",
        "            right_sum += temp_q\n",
        "        else:\n",
        "            temp_q = right_q.popleft()\n",
        "            left_q.append(temp_q)\n",
        "            left_sum += temp_q\n",
        "            right_sum -= temp_q\n",
        "        cnt += 1\n",
        "    return -1"
      ],
      "metadata": {
        "id": "9QgACVHAyl_Q"
      },
      "execution_count": null,
      "outputs": []
    },
    {
      "cell_type": "markdown",
      "source": [
        "---\n",
        "---\n",
        "---"
      ],
      "metadata": {
        "id": "oTyJrE0Hc1MS"
      }
    },
    {
      "cell_type": "code",
      "source": [
        "def solution(queue1, queue2):\n",
        "    q = queue1 + queue2  # [3, 2, 7, 2, 4, 6, 5, 1]\n",
        "    target = sum(q) // 2 # 15\n",
        "\n",
        "    i, j = 0, len(queue1)-1 # 4-1\n",
        "    curr = sum(queue1)   # 14\n",
        "    count = 0\n",
        "\n",
        "    while i < len(q) and j < len(q): # 0 < 8 and 3 < 8\n",
        "        if curr == target: # 14 != 15\n",
        "            return count\n",
        "\n",
        "        elif curr < target and j < len(q)-1: # 14 < 15 and 3 < 7\n",
        "            j += 1\n",
        "            curr += q[j] # q[4] -> 14 + 4\n",
        "\n",
        "        else:\n",
        "            curr -= q[i] # q[0] -> 18 - 3\n",
        "            i += 1\n",
        "\n",
        "        count += 1 # 1\n",
        "\n",
        "    return -1\n",
        "\n",
        "queue1=[3, 2, 7, 2]\n",
        "queue2=[4, 6, 5, 1]\n",
        "solution(queue1, queue2)"
      ],
      "metadata": {
        "id": "t8uF6wQKdBOJ"
      },
      "execution_count": null,
      "outputs": []
    }
  ]
}