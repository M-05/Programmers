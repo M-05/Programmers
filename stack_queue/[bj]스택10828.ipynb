{
  "nbformat": 4,
  "nbformat_minor": 0,
  "metadata": {
    "colab": {
      "provenance": []
    },
    "kernelspec": {
      "name": "python3",
      "display_name": "Python 3"
    },
    "language_info": {
      "name": "python"
    }
  },
  "cells": [
    {
      "cell_type": "markdown",
      "source": [
        "# [스택 10828](https://www.acmicpc.net/problem/10828)\n",
        "\n",
        "- 구현\n",
        "- 자료 구조\n",
        "- 스택\n",
        "\n",
        "> push X: 정수 X를 스택에 넣는 연산\n",
        "\n",
        "> pop: 스택에서 가장 위에 있는 정수를 빼고, 그 수를 출력한다. 만약 스택에 들어있는 정수가 없는 경우에는 -1을 출력  \n",
        "\n",
        "> size: 스택에 들어있는 정수의 개수  \n",
        "\n",
        "> empty: 스택이 비어있으면 1, 아니면 0을 출력  \n",
        "\n",
        "> top: 스택의 가장 위에 있는 정수를 출력한다. 만약 스택에 들어있는 정수가 없는 경우에는 -1  \n",
        "\n",
        ">  N (1 ≤ N ≤ 10,000)\n",
        "\n",
        "`return`  \n",
        "출력해야하는 명령이 주어질 때마다, 한 줄에 하나씩 출력"
      ],
      "metadata": {
        "id": "_hnxJkKRu0lK"
      }
    },
    {
      "cell_type": "code",
      "execution_count": 27,
      "metadata": {
        "id": "ngIileUluj30"
      },
      "outputs": [],
      "source": [
        "import sys\n",
        "\n",
        "with open('./bj.txt', 'w') as f:\n",
        "    f.write('''14\n",
        "push 1\n",
        "push 2\n",
        "top\n",
        "size\n",
        "empty\n",
        "pop\n",
        "pop\n",
        "pop\n",
        "size\n",
        "empty\n",
        "pop\n",
        "push 3\n",
        "empty\n",
        "top''')\n",
        "# 2\n",
        "# 2\n",
        "# 0\n",
        "# 2\n",
        "# 1\n",
        "# -1\n",
        "# 0\n",
        "# 1\n",
        "# -1\n",
        "# 0\n",
        "# 3\n",
        "#     f.write('''7\n",
        "# pop\n",
        "# top\n",
        "# push 123\n",
        "# top\n",
        "# pop\n",
        "# top\n",
        "# pop''')\n",
        "\n",
        "sys.stdin = open('./bj.txt', 'r')\n",
        "input = sys.stdin.readline"
      ]
    },
    {
      "cell_type": "code",
      "source": [
        "n = int(input())\n",
        "\n",
        "stack = []\n",
        "answer = []\n",
        "for _ in range(n):\n",
        "    data = input().strip()\n",
        "    if data[-1].isdigit():\n",
        "        p, num = data.split()\n",
        "        stack.append(int(num))\n",
        "\n",
        "    elif data == 'pop':\n",
        "        if len(stack) == 0 or stack[-1] == 0:\n",
        "            # print(-1)\n",
        "            answer.append(\"-1\")\n",
        "        else:\n",
        "            # print(stack.pop())\n",
        "            answer.append(str(stack.pop()))\n",
        "\n",
        "    elif data == 'size':\n",
        "        # print(len(stack))\n",
        "        answer.append(str(len(stack)))\n",
        "\n",
        "    elif data == 'empty':\n",
        "        if len(stack) == 0:\n",
        "            # print(0)\n",
        "            answer.append('1')\n",
        "        else:\n",
        "            # print(0)\n",
        "            answer.append('0')\n",
        "\n",
        "    elif data == 'top':\n",
        "        if len(stack) == 0 or stack[-1] == 0:\n",
        "            # print(-1)\n",
        "            answer.append('-1')\n",
        "        else:\n",
        "            # print(stack[-1])\n",
        "            answer.append(str(stack[-1]))\n",
        "\n",
        "print('\\n'.join(answer))"
      ],
      "metadata": {
        "colab": {
          "base_uri": "https://localhost:8080/"
        },
        "id": "bWvOzZFzvf71",
        "outputId": "941e89e2-06f0-4cd6-f427-e566dcc9f6be"
      },
      "execution_count": 26,
      "outputs": [
        {
          "output_type": "stream",
          "name": "stdout",
          "text": [
            "2\n",
            "2\n",
            "0\n",
            "2\n",
            "1\n",
            "-1\n",
            "0\n",
            "1\n",
            "-1\n",
            "0\n",
            "3\n"
          ]
        }
      ]
    },
    {
      "cell_type": "code",
      "source": [
        "n = int(input())\n",
        "\n",
        "stack = []\n",
        "for _ in range(n):\n",
        "    data = input().strip().split(' ')\n",
        "    if data[0] == 'push':\n",
        "        stack.append(data[1])\n",
        "\n",
        "    elif data[0] == 'pop':\n",
        "        if len(stack) == 0 or stack[-1] == 0:\n",
        "            print(-1)\n",
        "        else:\n",
        "            print(stack.pop())\n",
        "\n",
        "    elif data[0] == 'size':\n",
        "        print(len(stack))\n",
        "\n",
        "    elif data[0] == 'empty':\n",
        "        if len(stack) == 0:\n",
        "            print(1)\n",
        "        else:\n",
        "            print(0)\n",
        "\n",
        "    elif data[0] == 'top':\n",
        "        if len(stack) == 0 or stack[-1] == 0:\n",
        "            print(-1)\n",
        "        else:\n",
        "            print(stack[-1])"
      ],
      "metadata": {
        "colab": {
          "base_uri": "https://localhost:8080/"
        },
        "id": "68ilKlnH6oAw",
        "outputId": "64883f64-d130-4443-e567-ccb6e523961a"
      },
      "execution_count": 28,
      "outputs": [
        {
          "output_type": "stream",
          "name": "stdout",
          "text": [
            "2\n",
            "2\n",
            "0\n",
            "2\n",
            "1\n",
            "-1\n",
            "0\n",
            "1\n",
            "-1\n",
            "0\n",
            "3\n"
          ]
        }
      ]
    }
  ]
}